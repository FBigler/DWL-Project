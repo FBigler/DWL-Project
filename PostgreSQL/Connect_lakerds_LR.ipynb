{
 "cells": [
  {
   "cell_type": "code",
   "execution_count": 1,
   "id": "ccd79fd0",
   "metadata": {},
   "outputs": [],
   "source": [
    "#pip install psycopg2"
   ]
  },
  {
   "cell_type": "code",
   "execution_count": 2,
   "id": "2df4d390",
   "metadata": {},
   "outputs": [],
   "source": [
    "import psycopg2\n",
    "import config_lake as creds\n",
    "import pandas as pd\n",
    "import matplotlib.pyplot as plt"
   ]
  },
  {
   "cell_type": "code",
   "execution_count": 3,
   "id": "bb54e38a",
   "metadata": {},
   "outputs": [],
   "source": [
    "def connect():\n",
    "    \n",
    "    # Set up a connection to the postgres server.\n",
    "    conn_string = \"host=\"+ creds.PGHOST +\" port=\"+ \"5432\" +\" dbname=\"+ creds.PGDATABASE +\" user=\" + creds.PGUSER \\\n",
    "                  +\" password=\"+ creds.PGPASSWORD\n",
    "    \n",
    "    conn = psycopg2.connect(conn_string)\n",
    "    print(\"Connected!\")\n",
    "\n",
    "    # Create a cursor object\n",
    "    cursor = conn.cursor()\n",
    "    \n",
    "    return conn, cursor"
   ]
  },
  {
   "cell_type": "code",
   "execution_count": 4,
   "id": "c79f8310",
   "metadata": {},
   "outputs": [
    {
     "name": "stdout",
     "output_type": "stream",
     "text": [
      "Connected!\n"
     ]
    },
    {
     "data": {
      "text/plain": "(<connection object at 0x000002A6912A48C0; dsn: 'user=TeamX password=xxx dbname=postgres host=lakerds.czuthh2ifupq.us-east-1.rds.amazonaws.com port=5432', closed: 0>,\n <cursor object at 0x000002A69129E9E0; closed: 0>)"
     },
     "execution_count": 4,
     "metadata": {},
     "output_type": "execute_result"
    }
   ],
   "source": [
    "connect()"
   ]
  },
  {
   "cell_type": "code",
   "execution_count": 5,
   "id": "fa24f08a",
   "metadata": {},
   "outputs": [],
   "source": [
    "# Select data \n",
    "conn_string = \"host=\"+ creds.PGHOST +\" port=\"+ \"5432\" +\" dbname=\"+ creds.PGDATABASE +\" user=\" + creds.PGUSER \\\n",
    "                  +\" password=\"+ creds.PGPASSWORD\n",
    "conn = psycopg2.connect(conn_string)\n",
    "cur = conn.cursor()"
   ]
  },
  {
   "cell_type": "code",
   "execution_count": 6,
   "id": "461821f8",
   "metadata": {},
   "outputs": [
    {
     "name": "stdout",
     "output_type": "stream",
     "text": [
      "Selecting rows from table using cursor.fetchall\n"
     ]
    }
   ],
   "source": [
    "postgreSQL_select_Query = \"select * from ElectricityProductionPlants\"\n",
    "\n",
    "cur.execute(postgreSQL_select_Query)\n",
    "print(\"Selecting rows from table using cursor.fetchall\")\n",
    "df_records = cur.fetchall()"
   ]
  },
  {
   "cell_type": "code",
   "execution_count": 7,
   "id": "8b3ad8ac",
   "metadata": {},
   "outputs": [
    {
     "data": {
      "text/plain": "   xtf_id  PostCode Municipality Canton  BeginningOfOperation  \\\n0   14727      4147     Aesch BL     BL                  2009   \n1   14728      5082      Kaisten     AG                  2011   \n2   10164      3114    Wichtrach     BE                  2008   \n3   10794      3753          Oey     BE                  2008   \n4    9476      8340       Hinwil     ZH                  2006   \n\n               MainCategory   SubCategory  InitialPower  TotalPower  \n0  Other renewable energies  Photovoltaic         14.65       18.81  \n1  Other renewable energies  Photovoltaic          5.80        5.80  \n2  Other renewable energies  Photovoltaic          3.00        3.00  \n3  Other renewable energies  Photovoltaic          8.40        8.40  \n4  Other renewable energies  Photovoltaic          4.80        4.80  ",
      "text/html": "<div>\n<style scoped>\n    .dataframe tbody tr th:only-of-type {\n        vertical-align: middle;\n    }\n\n    .dataframe tbody tr th {\n        vertical-align: top;\n    }\n\n    .dataframe thead th {\n        text-align: right;\n    }\n</style>\n<table border=\"1\" class=\"dataframe\">\n  <thead>\n    <tr style=\"text-align: right;\">\n      <th></th>\n      <th>xtf_id</th>\n      <th>PostCode</th>\n      <th>Municipality</th>\n      <th>Canton</th>\n      <th>BeginningOfOperation</th>\n      <th>MainCategory</th>\n      <th>SubCategory</th>\n      <th>InitialPower</th>\n      <th>TotalPower</th>\n    </tr>\n  </thead>\n  <tbody>\n    <tr>\n      <th>0</th>\n      <td>14727</td>\n      <td>4147</td>\n      <td>Aesch BL</td>\n      <td>BL</td>\n      <td>2009</td>\n      <td>Other renewable energies</td>\n      <td>Photovoltaic</td>\n      <td>14.65</td>\n      <td>18.81</td>\n    </tr>\n    <tr>\n      <th>1</th>\n      <td>14728</td>\n      <td>5082</td>\n      <td>Kaisten</td>\n      <td>AG</td>\n      <td>2011</td>\n      <td>Other renewable energies</td>\n      <td>Photovoltaic</td>\n      <td>5.80</td>\n      <td>5.80</td>\n    </tr>\n    <tr>\n      <th>2</th>\n      <td>10164</td>\n      <td>3114</td>\n      <td>Wichtrach</td>\n      <td>BE</td>\n      <td>2008</td>\n      <td>Other renewable energies</td>\n      <td>Photovoltaic</td>\n      <td>3.00</td>\n      <td>3.00</td>\n    </tr>\n    <tr>\n      <th>3</th>\n      <td>10794</td>\n      <td>3753</td>\n      <td>Oey</td>\n      <td>BE</td>\n      <td>2008</td>\n      <td>Other renewable energies</td>\n      <td>Photovoltaic</td>\n      <td>8.40</td>\n      <td>8.40</td>\n    </tr>\n    <tr>\n      <th>4</th>\n      <td>9476</td>\n      <td>8340</td>\n      <td>Hinwil</td>\n      <td>ZH</td>\n      <td>2006</td>\n      <td>Other renewable energies</td>\n      <td>Photovoltaic</td>\n      <td>4.80</td>\n      <td>4.80</td>\n    </tr>\n  </tbody>\n</table>\n</div>"
     },
     "execution_count": 7,
     "metadata": {},
     "output_type": "execute_result"
    }
   ],
   "source": [
    "df = pd.DataFrame(df_records, columns = ['xtf_id','PostCode','Municipality', 'Canton', 'BeginningOfOperation',\n",
    "                                         'MainCategory', 'SubCategory', 'InitialPower','TotalPower'])\n",
    "df.head()"
   ]
  },
  {
   "cell_type": "code",
   "execution_count": 8,
   "outputs": [
    {
     "name": "stdout",
     "output_type": "stream",
     "text": [
      "<class 'pandas.core.frame.DataFrame'>\n",
      "RangeIndex: 141188 entries, 0 to 141187\n",
      "Data columns (total 9 columns):\n",
      " #   Column                Non-Null Count   Dtype  \n",
      "---  ------                --------------   -----  \n",
      " 0   xtf_id                141188 non-null  int64  \n",
      " 1   PostCode              141188 non-null  int64  \n",
      " 2   Municipality          141188 non-null  object \n",
      " 3   Canton                141188 non-null  object \n",
      " 4   BeginningOfOperation  141188 non-null  int64  \n",
      " 5   MainCategory          141188 non-null  object \n",
      " 6   SubCategory           141188 non-null  object \n",
      " 7   InitialPower          141188 non-null  float64\n",
      " 8   TotalPower            141188 non-null  float64\n",
      "dtypes: float64(2), int64(3), object(4)\n",
      "memory usage: 9.7+ MB\n",
      "Unique ids: 141188 Length df ids: 141188\n",
      "Unique cantons: 26\n",
      "Unique Post codes: 3230 ; Swiss total: 4405 (2019) ; Unique Municipalities: 6528 ; Discrepancy due to small villages without own post code (e.g 6204)\n",
      "Unique Main categories: 4 Unique Sub categories: 8\n"
     ]
    }
   ],
   "source": [
    "# Data Quality\n",
    "df.info()\n",
    "# Checking uniqueness of ids etc.\n",
    "print('Unique ids:', df['xtf_id'].nunique(), 'Length df ids:', len(df['xtf_id']))\n",
    "print('Unique cantons:', df['Canton'].nunique())\n",
    "print('Unique Post codes:', df['PostCode'].nunique(), '; Swiss total: 4405 (2019)', '; Unique Municipalities:', df['Municipality'].nunique(), '; Discrepancy due to small villages without own post code (e.g 6204)')\n",
    "print('Unique Main categories:', df['MainCategory'].nunique(), 'Unique Sub categories:', df['SubCategory'].nunique())"
   ],
   "metadata": {
    "collapsed": false,
    "pycharm": {
     "name": "#%%\n"
    }
   }
  },
  {
   "cell_type": "code",
   "execution_count": 61,
   "outputs": [
    {
     "data": {
      "text/plain": "        xtf_id  PostCode  Municipality Canton  BeginningOfOperation  \\\n136288    5936      8192      Zweidlen     ZH                  1920   \n136291    5816      8754       Netstal     GL                  1908   \n136294    5802      5312     Döttingen     AG                  1902   \n136295    5751      5313      Klingnau     AG                  1902   \n136306    5727      7744  Campocologno     GR                  1907   \n...        ...       ...           ...    ...                   ...   \n140988   10048      8782          Rüti     GL                  1918   \n141013   10092      3048    Worblaufen     BE                  1900   \n141015   10095      3452    Grünenmatt     BE                  1905   \n141016   10097      3557      Fankhaus     BE                  1905   \n141132   12365      8620      Wetzikon     ZH                  1900   \n\n               MainCategory          SubCategory  InitialPower  TotalPower  \n136288  Hydroelectric power  Hydroelectric power       45220.0     45220.0  \n136291  Hydroelectric power  Hydroelectric power       60000.0     60000.0  \n136294  Hydroelectric power  Hydroelectric power       19250.0     19250.0  \n136295  Hydroelectric power  Hydroelectric power       40950.0     40950.0  \n136306  Hydroelectric power  Hydroelectric power       55000.0     55000.0  \n...                     ...                  ...           ...         ...  \n140988  Hydroelectric power  Hydroelectric power         168.0       168.0  \n141013  Hydroelectric power  Hydroelectric power          15.0        15.0  \n141015  Hydroelectric power  Hydroelectric power           4.0         4.0  \n141016  Hydroelectric power  Hydroelectric power           3.0         3.0  \n141132  Hydroelectric power  Hydroelectric power         170.0       170.0  \n\n[72 rows x 9 columns]",
      "text/html": "<div>\n<style scoped>\n    .dataframe tbody tr th:only-of-type {\n        vertical-align: middle;\n    }\n\n    .dataframe tbody tr th {\n        vertical-align: top;\n    }\n\n    .dataframe thead th {\n        text-align: right;\n    }\n</style>\n<table border=\"1\" class=\"dataframe\">\n  <thead>\n    <tr style=\"text-align: right;\">\n      <th></th>\n      <th>xtf_id</th>\n      <th>PostCode</th>\n      <th>Municipality</th>\n      <th>Canton</th>\n      <th>BeginningOfOperation</th>\n      <th>MainCategory</th>\n      <th>SubCategory</th>\n      <th>InitialPower</th>\n      <th>TotalPower</th>\n    </tr>\n  </thead>\n  <tbody>\n    <tr>\n      <th>136288</th>\n      <td>5936</td>\n      <td>8192</td>\n      <td>Zweidlen</td>\n      <td>ZH</td>\n      <td>1920</td>\n      <td>Hydroelectric power</td>\n      <td>Hydroelectric power</td>\n      <td>45220.0</td>\n      <td>45220.0</td>\n    </tr>\n    <tr>\n      <th>136291</th>\n      <td>5816</td>\n      <td>8754</td>\n      <td>Netstal</td>\n      <td>GL</td>\n      <td>1908</td>\n      <td>Hydroelectric power</td>\n      <td>Hydroelectric power</td>\n      <td>60000.0</td>\n      <td>60000.0</td>\n    </tr>\n    <tr>\n      <th>136294</th>\n      <td>5802</td>\n      <td>5312</td>\n      <td>Döttingen</td>\n      <td>AG</td>\n      <td>1902</td>\n      <td>Hydroelectric power</td>\n      <td>Hydroelectric power</td>\n      <td>19250.0</td>\n      <td>19250.0</td>\n    </tr>\n    <tr>\n      <th>136295</th>\n      <td>5751</td>\n      <td>5313</td>\n      <td>Klingnau</td>\n      <td>AG</td>\n      <td>1902</td>\n      <td>Hydroelectric power</td>\n      <td>Hydroelectric power</td>\n      <td>40950.0</td>\n      <td>40950.0</td>\n    </tr>\n    <tr>\n      <th>136306</th>\n      <td>5727</td>\n      <td>7744</td>\n      <td>Campocologno</td>\n      <td>GR</td>\n      <td>1907</td>\n      <td>Hydroelectric power</td>\n      <td>Hydroelectric power</td>\n      <td>55000.0</td>\n      <td>55000.0</td>\n    </tr>\n    <tr>\n      <th>...</th>\n      <td>...</td>\n      <td>...</td>\n      <td>...</td>\n      <td>...</td>\n      <td>...</td>\n      <td>...</td>\n      <td>...</td>\n      <td>...</td>\n      <td>...</td>\n    </tr>\n    <tr>\n      <th>140988</th>\n      <td>10048</td>\n      <td>8782</td>\n      <td>Rüti</td>\n      <td>GL</td>\n      <td>1918</td>\n      <td>Hydroelectric power</td>\n      <td>Hydroelectric power</td>\n      <td>168.0</td>\n      <td>168.0</td>\n    </tr>\n    <tr>\n      <th>141013</th>\n      <td>10092</td>\n      <td>3048</td>\n      <td>Worblaufen</td>\n      <td>BE</td>\n      <td>1900</td>\n      <td>Hydroelectric power</td>\n      <td>Hydroelectric power</td>\n      <td>15.0</td>\n      <td>15.0</td>\n    </tr>\n    <tr>\n      <th>141015</th>\n      <td>10095</td>\n      <td>3452</td>\n      <td>Grünenmatt</td>\n      <td>BE</td>\n      <td>1905</td>\n      <td>Hydroelectric power</td>\n      <td>Hydroelectric power</td>\n      <td>4.0</td>\n      <td>4.0</td>\n    </tr>\n    <tr>\n      <th>141016</th>\n      <td>10097</td>\n      <td>3557</td>\n      <td>Fankhaus</td>\n      <td>BE</td>\n      <td>1905</td>\n      <td>Hydroelectric power</td>\n      <td>Hydroelectric power</td>\n      <td>3.0</td>\n      <td>3.0</td>\n    </tr>\n    <tr>\n      <th>141132</th>\n      <td>12365</td>\n      <td>8620</td>\n      <td>Wetzikon</td>\n      <td>ZH</td>\n      <td>1900</td>\n      <td>Hydroelectric power</td>\n      <td>Hydroelectric power</td>\n      <td>170.0</td>\n      <td>170.0</td>\n    </tr>\n  </tbody>\n</table>\n<p>72 rows × 9 columns</p>\n</div>"
     },
     "execution_count": 61,
     "metadata": {},
     "output_type": "execute_result"
    }
   ],
   "source": [
    "# Checking year of Beginning of operation\n",
    "list_years = sorted(list(df['BeginningOfOperation'].drop_duplicates()))\n",
    "list_years\n",
    "df_19xx = df.loc[df['BeginningOfOperation'] <= 1920]\n",
    "df_19xx"
   ],
   "metadata": {
    "collapsed": false,
    "pycharm": {
     "name": "#%%\n"
    }
   }
  },
  {
   "cell_type": "code",
   "execution_count": 10,
   "outputs": [
    {
     "data": {
      "text/plain": "['Fossil fuel',\n 'Hydroelectric power',\n 'Nuclear energy',\n 'Other renewable energies']"
     },
     "execution_count": 10,
     "metadata": {},
     "output_type": "execute_result"
    }
   ],
   "source": [
    "# Main categories\n",
    "list_MainCategory = sorted(list(df['MainCategory'].drop_duplicates()))\n",
    "list_MainCategory"
   ],
   "metadata": {
    "collapsed": false,
    "pycharm": {
     "name": "#%%\n"
    }
   }
  },
  {
   "cell_type": "code",
   "execution_count": 62,
   "outputs": [
    {
     "data": {
      "text/plain": "['Biomass',\n 'Crude oil',\n 'Hydroelectric power',\n 'Natural gas',\n 'Nuclear energy',\n 'Photovoltaic',\n 'Waste',\n 'Wind energy']"
     },
     "execution_count": 62,
     "metadata": {},
     "output_type": "execute_result"
    }
   ],
   "source": [
    "# Sub categories\n",
    "list_SubCategory = sorted(list(df['SubCategory'].drop_duplicates()))\n",
    "list_SubCategory"
   ],
   "metadata": {
    "collapsed": false,
    "pycharm": {
     "name": "#%%\n"
    }
   }
  },
  {
   "cell_type": "code",
   "execution_count": 11,
   "outputs": [
    {
     "data": {
      "text/plain": "[('TotalPower', 'sum'), ('TotalPower', 'mean')]"
     },
     "execution_count": 11,
     "metadata": {},
     "output_type": "execute_result"
    }
   ],
   "source": [
    "# Plotting energy production by year / Total power / MainCategory\n",
    "# Set up\n",
    "list_years = sorted(list(df['BeginningOfOperation'].drop_duplicates()))\n",
    "Hydro = df.loc[df['MainCategory'] == 'Hydroelectric power'].groupby('BeginningOfOperation').agg({'TotalPower': ['sum', 'mean']})\n",
    "Renewable = df.loc[df['MainCategory'] == 'Other renewable energies'].groupby('BeginningOfOperation').agg({'TotalPower': ['sum', 'mean']})\n",
    "Fossil = df.loc[df['MainCategory'] == 'Fossil fuel'].groupby('BeginningOfOperation').agg({'TotalPower': ['sum', 'mean']})\n",
    "Nuclear = df.loc[df['MainCategory'] == 'Nuclear energy'].groupby('BeginningOfOperation').agg({'TotalPower': ['sum', 'mean']})\n",
    "list(Hydro.columns)"
   ],
   "metadata": {
    "collapsed": false,
    "pycharm": {
     "name": "#%%\n"
    }
   }
  },
  {
   "cell_type": "code",
   "execution_count": 42,
   "outputs": [
    {
     "data": {
      "text/plain": "<AxesSubplot:xlabel='BeginningOfOperation'>"
     },
     "execution_count": 42,
     "metadata": {},
     "output_type": "execute_result"
    },
    {
     "data": {
      "text/plain": "<Figure size 432x288 with 1 Axes>",
      "image/png": "[encoded data removed]"
     },
     "metadata": {
      "needs_background": "light"
     },
     "output_type": "display_data"
    }
   ],
   "source": [
    "Hydro[('TotalPower', 'sum')].plot()"
   ],
   "metadata": {
    "collapsed": false,
    "pycharm": {
     "name": "#%%\n"
    }
   }
  },
  {
   "cell_type": "code",
   "execution_count": 60,
   "outputs": [],
   "source": [
    "# Means\n",
    "Hydro_means = list(Hydro['TotalPower', 'mean'])\n",
    "Renewable_means = list(Renewable['TotalPower', 'mean'])\n",
    "Fossil_means = Fossil['TotalPower', 'mean']\n",
    "Nuclear_means = Nuclear['TotalPower', 'mean']\n",
    "# Sums\n",
    "Hydro_sum = list(Hydro['TotalPower', 'sum'])\n",
    "Renewable_sum = list(Renewable['TotalPower', 'sum'])\n",
    "Fossil_sum = Fossil['TotalPower', 'sum']\n",
    "Nuclear_sum = Nuclear['TotalPower', 'sum']"
   ],
   "metadata": {
    "collapsed": false,
    "pycharm": {
     "name": "#%%\n"
    }
   }
  },
  {
   "cell_type": "code",
   "execution_count": 59,
   "outputs": [],
   "source": [],
   "metadata": {
    "collapsed": false,
    "pycharm": {
     "name": "#%%\n"
    }
   }
  },
  {
   "cell_type": "code",
   "execution_count": 59,
   "outputs": [],
   "source": [],
   "metadata": {
    "collapsed": false,
    "pycharm": {
     "name": "#%%\n"
    }
   }
  },
  {
   "cell_type": "code",
   "execution_count": null,
   "outputs": [],
   "source": [],
   "metadata": {
    "collapsed": false,
    "pycharm": {
     "name": "#%%\n"
    }
   }
  },
  {
   "cell_type": "code",
   "execution_count": null,
   "outputs": [],
   "source": [],
   "metadata": {
    "collapsed": false,
    "pycharm": {
     "name": "#%%\n"
    }
   }
  }
 ],
 "metadata": {
  "kernelspec": {
   "display_name": "Python 3",
   "language": "python",
   "name": "python3"
  },
  "language_info": {
   "codemirror_mode": {
    "name": "ipython",
    "version": 3
   },
   "file_extension": ".py",
   "mimetype": "text/x-python",
   "name": "python",
   "nbconvert_exporter": "python",
   "pygments_lexer": "ipython3",
   "version": "3.8.8"
  }
 },
 "nbformat": 4,
 "nbformat_minor": 5
}