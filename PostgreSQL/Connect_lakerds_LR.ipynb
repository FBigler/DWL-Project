{
 "cells": [
  {
   "cell_type": "code",
   "execution_count": 1,
   "id": "ccd79fd0",
   "metadata": {},
   "outputs": [
    {
     "name": "stdout",
     "output_type": "stream",
     "text": [
      "Requirement already satisfied: psycopg2 in c:\\users\\levin\\anaconda3\\lib\\site-packages (2.9.5)\n",
      "Note: you may need to restart the kernel to use updated packages.\n"
     ]
    }
   ],
   "source": [
    "#pip install psycopg2"
   ]
  },
  {
   "cell_type": "code",
   "execution_count": 3,
   "id": "2df4d390",
   "metadata": {},
   "outputs": [],
   "source": [
    "import psycopg2\n",
    "import config_lake as creds\n",
    "import pandas as pd"
   ]
  },
  {
   "cell_type": "code",
   "execution_count": 4,
   "id": "bb54e38a",
   "metadata": {},
   "outputs": [],
   "source": [
    "def connect():\n",
    "    \n",
    "    # Set up a connection to the postgres server.\n",
    "    conn_string = \"host=\"+ creds.PGHOST +\" port=\"+ \"5432\" +\" dbname=\"+ creds.PGDATABASE +\" user=\" + creds.PGUSER \\\n",
    "                  +\" password=\"+ creds.PGPASSWORD\n",
    "    \n",
    "    conn = psycopg2.connect(conn_string)\n",
    "    print(\"Connected!\")\n",
    "\n",
    "    # Create a cursor object\n",
    "    cursor = conn.cursor()\n",
    "    \n",
    "    return conn, cursor"
   ]
  },
  {
   "cell_type": "code",
   "execution_count": 5,
   "id": "c79f8310",
   "metadata": {},
   "outputs": [
    {
     "name": "stdout",
     "output_type": "stream",
     "text": [
      "Connected!\n"
     ]
    },
    {
     "data": {
      "text/plain": "(<connection object at 0x0000020B068678C0; dsn: 'user=TeamX password=xxx dbname=postgres host=lakerds.czuthh2ifupq.us-east-1.rds.amazonaws.com port=5432', closed: 0>,\n <cursor object at 0x0000020B04716660; closed: 0>)"
     },
     "execution_count": 5,
     "metadata": {},
     "output_type": "execute_result"
    }
   ],
   "source": [
    "connect()"
   ]
  },
  {
   "cell_type": "code",
   "execution_count": 6,
   "id": "fa24f08a",
   "metadata": {},
   "outputs": [],
   "source": [
    "# Select data \n",
    "conn_string = \"host=\"+ creds.PGHOST +\" port=\"+ \"5432\" +\" dbname=\"+ creds.PGDATABASE +\" user=\" + creds.PGUSER \\\n",
    "                  +\" password=\"+ creds.PGPASSWORD\n",
    "conn = psycopg2.connect(conn_string)\n",
    "cur = conn.cursor()"
   ]
  },
  {
   "cell_type": "code",
   "execution_count": 7,
   "id": "461821f8",
   "metadata": {},
   "outputs": [
    {
     "name": "stdout",
     "output_type": "stream",
     "text": [
      "Selecting rows from table using cursor.fetchall\n"
     ]
    }
   ],
   "source": [
    "postgreSQL_select_Query = \"select * from ElectricityProductionPlants\"\n",
    "\n",
    "cur.execute(postgreSQL_select_Query)\n",
    "print(\"Selecting rows from table using cursor.fetchall\")\n",
    "df_records = cur.fetchall()"
   ]
  },
  {
   "cell_type": "code",
   "execution_count": 10,
   "id": "8b3ad8ac",
   "metadata": {},
   "outputs": [
    {
     "data": {
      "text/plain": "   xtf_id  PostCode Municipality Canton  BeginningOfOperation  \\\n0   14727      4147     Aesch BL     BL                  2009   \n1   14728      5082      Kaisten     AG                  2011   \n2   10164      3114    Wichtrach     BE                  2008   \n3   10794      3753          Oey     BE                  2008   \n4    9476      8340       Hinwil     ZH                  2006   \n\n               MainCategory   SubCategory  InitialPower  TotalPower  \n0  Other renewable energies  Photovoltaic         14.65       18.81  \n1  Other renewable energies  Photovoltaic          5.80        5.80  \n2  Other renewable energies  Photovoltaic          3.00        3.00  \n3  Other renewable energies  Photovoltaic          8.40        8.40  \n4  Other renewable energies  Photovoltaic          4.80        4.80  ",
      "text/html": "<div>\n<style scoped>\n    .dataframe tbody tr th:only-of-type {\n        vertical-align: middle;\n    }\n\n    .dataframe tbody tr th {\n        vertical-align: top;\n    }\n\n    .dataframe thead th {\n        text-align: right;\n    }\n</style>\n<table border=\"1\" class=\"dataframe\">\n  <thead>\n    <tr style=\"text-align: right;\">\n      <th></th>\n      <th>xtf_id</th>\n      <th>PostCode</th>\n      <th>Municipality</th>\n      <th>Canton</th>\n      <th>BeginningOfOperation</th>\n      <th>MainCategory</th>\n      <th>SubCategory</th>\n      <th>InitialPower</th>\n      <th>TotalPower</th>\n    </tr>\n  </thead>\n  <tbody>\n    <tr>\n      <th>0</th>\n      <td>14727</td>\n      <td>4147</td>\n      <td>Aesch BL</td>\n      <td>BL</td>\n      <td>2009</td>\n      <td>Other renewable energies</td>\n      <td>Photovoltaic</td>\n      <td>14.65</td>\n      <td>18.81</td>\n    </tr>\n    <tr>\n      <th>1</th>\n      <td>14728</td>\n      <td>5082</td>\n      <td>Kaisten</td>\n      <td>AG</td>\n      <td>2011</td>\n      <td>Other renewable energies</td>\n      <td>Photovoltaic</td>\n      <td>5.80</td>\n      <td>5.80</td>\n    </tr>\n    <tr>\n      <th>2</th>\n      <td>10164</td>\n      <td>3114</td>\n      <td>Wichtrach</td>\n      <td>BE</td>\n      <td>2008</td>\n      <td>Other renewable energies</td>\n      <td>Photovoltaic</td>\n      <td>3.00</td>\n      <td>3.00</td>\n    </tr>\n    <tr>\n      <th>3</th>\n      <td>10794</td>\n      <td>3753</td>\n      <td>Oey</td>\n      <td>BE</td>\n      <td>2008</td>\n      <td>Other renewable energies</td>\n      <td>Photovoltaic</td>\n      <td>8.40</td>\n      <td>8.40</td>\n    </tr>\n    <tr>\n      <th>4</th>\n      <td>9476</td>\n      <td>8340</td>\n      <td>Hinwil</td>\n      <td>ZH</td>\n      <td>2006</td>\n      <td>Other renewable energies</td>\n      <td>Photovoltaic</td>\n      <td>4.80</td>\n      <td>4.80</td>\n    </tr>\n  </tbody>\n</table>\n</div>"
     },
     "execution_count": 10,
     "metadata": {},
     "output_type": "execute_result"
    }
   ],
   "source": [
    "df = pd.DataFrame(df_records, columns = ['xtf_id','PostCode','Municipality', 'Canton', 'BeginningOfOperation',\n",
    "                                         'MainCategory', 'SubCategory', 'InitialPower','TotalPower'])\n",
    "df.head()"
   ]
  },
  {
   "cell_type": "code",
   "execution_count": null,
   "outputs": [],
   "source": [],
   "metadata": {
    "collapsed": false,
    "pycharm": {
     "name": "#%%\n"
    }
   }
  },
  {
   "cell_type": "code",
   "execution_count": null,
   "outputs": [],
   "source": [],
   "metadata": {
    "collapsed": false,
    "pycharm": {
     "name": "#%%\n"
    }
   }
  },
  {
   "cell_type": "code",
   "execution_count": null,
   "outputs": [],
   "source": [],
   "metadata": {
    "collapsed": false,
    "pycharm": {
     "name": "#%%\n"
    }
   }
  },
  {
   "cell_type": "code",
   "execution_count": null,
   "outputs": [],
   "source": [],
   "metadata": {
    "collapsed": false,
    "pycharm": {
     "name": "#%%\n"
    }
   }
  },
  {
   "cell_type": "code",
   "execution_count": null,
   "outputs": [],
   "source": [],
   "metadata": {
    "collapsed": false,
    "pycharm": {
     "name": "#%%\n"
    }
   }
  },
  {
   "cell_type": "code",
   "execution_count": null,
   "outputs": [],
   "source": [],
   "metadata": {
    "collapsed": false,
    "pycharm": {
     "name": "#%%\n"
    }
   }
  }
 ],
 "metadata": {
  "kernelspec": {
   "display_name": "Python 3",
   "language": "python",
   "name": "python3"
  },
  "language_info": {
   "codemirror_mode": {
    "name": "ipython",
    "version": 3
   },
   "file_extension": ".py",
   "mimetype": "text/x-python",
   "name": "python",
   "nbconvert_exporter": "python",
   "pygments_lexer": "ipython3",
   "version": "3.8.8"
  }
 },
 "nbformat": 4,
 "nbformat_minor": 5
}