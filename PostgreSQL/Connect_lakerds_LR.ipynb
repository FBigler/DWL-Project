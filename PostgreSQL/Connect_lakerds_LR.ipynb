{
 "cells": [
  {
   "cell_type": "code",
   "execution_count": 1,
   "id": "ccd79fd0",
   "metadata": {},
   "outputs": [
    {
     "name": "stdout",
     "output_type": "stream",
     "text": [
      "Requirement already satisfied: psycopg2 in c:\\users\\levin\\anaconda3\\lib\\site-packages (2.9.5)\n",
      "Note: you may need to restart the kernel to use updated packages.\n"
     ]
    }
   ],
   "source": [
    "#pip install psycopg2"
   ]
  },
  {
   "cell_type": "code",
   "execution_count": 50,
   "id": "2df4d390",
   "metadata": {},
   "outputs": [],
   "source": [
    "import psycopg2\n",
    "import config_lake as creds\n",
    "import pandas as pd\n",
    "import matplotlib.pyplot as plt"
   ]
  },
  {
   "cell_type": "code",
   "execution_count": 4,
   "id": "bb54e38a",
   "metadata": {},
   "outputs": [],
   "source": [
    "def connect():\n",
    "    \n",
    "    # Set up a connection to the postgres server.\n",
    "    conn_string = \"host=\"+ creds.PGHOST +\" port=\"+ \"5432\" +\" dbname=\"+ creds.PGDATABASE +\" user=\" + creds.PGUSER \\\n",
    "                  +\" password=\"+ creds.PGPASSWORD\n",
    "    \n",
    "    conn = psycopg2.connect(conn_string)\n",
    "    print(\"Connected!\")\n",
    "\n",
    "    # Create a cursor object\n",
    "    cursor = conn.cursor()\n",
    "    \n",
    "    return conn, cursor"
   ]
  },
  {
   "cell_type": "code",
   "execution_count": 5,
   "id": "c79f8310",
   "metadata": {},
   "outputs": [
    {
     "name": "stdout",
     "output_type": "stream",
     "text": [
      "Connected!\n"
     ]
    },
    {
     "data": {
      "text/plain": "(<connection object at 0x0000020B068678C0; dsn: 'user=TeamX password=xxx dbname=postgres host=lakerds.czuthh2ifupq.us-east-1.rds.amazonaws.com port=5432', closed: 0>,\n <cursor object at 0x0000020B04716660; closed: 0>)"
     },
     "execution_count": 5,
     "metadata": {},
     "output_type": "execute_result"
    }
   ],
   "source": [
    "connect()"
   ]
  },
  {
   "cell_type": "code",
   "execution_count": 6,
   "id": "fa24f08a",
   "metadata": {},
   "outputs": [],
   "source": [
    "# Select data \n",
    "conn_string = \"host=\"+ creds.PGHOST +\" port=\"+ \"5432\" +\" dbname=\"+ creds.PGDATABASE +\" user=\" + creds.PGUSER \\\n",
    "                  +\" password=\"+ creds.PGPASSWORD\n",
    "conn = psycopg2.connect(conn_string)\n",
    "cur = conn.cursor()"
   ]
  },
  {
   "cell_type": "code",
   "execution_count": 7,
   "id": "461821f8",
   "metadata": {},
   "outputs": [
    {
     "name": "stdout",
     "output_type": "stream",
     "text": [
      "Selecting rows from table using cursor.fetchall\n"
     ]
    }
   ],
   "source": [
    "postgreSQL_select_Query = \"select * from ElectricityProductionPlants\"\n",
    "\n",
    "cur.execute(postgreSQL_select_Query)\n",
    "print(\"Selecting rows from table using cursor.fetchall\")\n",
    "df_records = cur.fetchall()"
   ]
  },
  {
   "cell_type": "code",
   "execution_count": 10,
   "id": "8b3ad8ac",
   "metadata": {},
   "outputs": [
    {
     "data": {
      "text/plain": "   xtf_id  PostCode Municipality Canton  BeginningOfOperation  \\\n0   14727      4147     Aesch BL     BL                  2009   \n1   14728      5082      Kaisten     AG                  2011   \n2   10164      3114    Wichtrach     BE                  2008   \n3   10794      3753          Oey     BE                  2008   \n4    9476      8340       Hinwil     ZH                  2006   \n\n               MainCategory   SubCategory  InitialPower  TotalPower  \n0  Other renewable energies  Photovoltaic         14.65       18.81  \n1  Other renewable energies  Photovoltaic          5.80        5.80  \n2  Other renewable energies  Photovoltaic          3.00        3.00  \n3  Other renewable energies  Photovoltaic          8.40        8.40  \n4  Other renewable energies  Photovoltaic          4.80        4.80  ",
      "text/html": "<div>\n<style scoped>\n    .dataframe tbody tr th:only-of-type {\n        vertical-align: middle;\n    }\n\n    .dataframe tbody tr th {\n        vertical-align: top;\n    }\n\n    .dataframe thead th {\n        text-align: right;\n    }\n</style>\n<table border=\"1\" class=\"dataframe\">\n  <thead>\n    <tr style=\"text-align: right;\">\n      <th></th>\n      <th>xtf_id</th>\n      <th>PostCode</th>\n      <th>Municipality</th>\n      <th>Canton</th>\n      <th>BeginningOfOperation</th>\n      <th>MainCategory</th>\n      <th>SubCategory</th>\n      <th>InitialPower</th>\n      <th>TotalPower</th>\n    </tr>\n  </thead>\n  <tbody>\n    <tr>\n      <th>0</th>\n      <td>14727</td>\n      <td>4147</td>\n      <td>Aesch BL</td>\n      <td>BL</td>\n      <td>2009</td>\n      <td>Other renewable energies</td>\n      <td>Photovoltaic</td>\n      <td>14.65</td>\n      <td>18.81</td>\n    </tr>\n    <tr>\n      <th>1</th>\n      <td>14728</td>\n      <td>5082</td>\n      <td>Kaisten</td>\n      <td>AG</td>\n      <td>2011</td>\n      <td>Other renewable energies</td>\n      <td>Photovoltaic</td>\n      <td>5.80</td>\n      <td>5.80</td>\n    </tr>\n    <tr>\n      <th>2</th>\n      <td>10164</td>\n      <td>3114</td>\n      <td>Wichtrach</td>\n      <td>BE</td>\n      <td>2008</td>\n      <td>Other renewable energies</td>\n      <td>Photovoltaic</td>\n      <td>3.00</td>\n      <td>3.00</td>\n    </tr>\n    <tr>\n      <th>3</th>\n      <td>10794</td>\n      <td>3753</td>\n      <td>Oey</td>\n      <td>BE</td>\n      <td>2008</td>\n      <td>Other renewable energies</td>\n      <td>Photovoltaic</td>\n      <td>8.40</td>\n      <td>8.40</td>\n    </tr>\n    <tr>\n      <th>4</th>\n      <td>9476</td>\n      <td>8340</td>\n      <td>Hinwil</td>\n      <td>ZH</td>\n      <td>2006</td>\n      <td>Other renewable energies</td>\n      <td>Photovoltaic</td>\n      <td>4.80</td>\n      <td>4.80</td>\n    </tr>\n  </tbody>\n</table>\n</div>"
     },
     "execution_count": 10,
     "metadata": {},
     "output_type": "execute_result"
    }
   ],
   "source": [
    "df = pd.DataFrame(df_records, columns = ['xtf_id','PostCode','Municipality', 'Canton', 'BeginningOfOperation',\n",
    "                                         'MainCategory', 'SubCategory', 'InitialPower','TotalPower'])\n",
    "df.head()"
   ]
  },
  {
   "cell_type": "code",
   "execution_count": 39,
   "outputs": [
    {
     "name": "stdout",
     "output_type": "stream",
     "text": [
      "<class 'pandas.core.frame.DataFrame'>\n",
      "RangeIndex: 141188 entries, 0 to 141187\n",
      "Data columns (total 9 columns):\n",
      " #   Column                Non-Null Count   Dtype  \n",
      "---  ------                --------------   -----  \n",
      " 0   xtf_id                141188 non-null  int64  \n",
      " 1   PostCode              141188 non-null  int64  \n",
      " 2   Municipality          141188 non-null  object \n",
      " 3   Canton                141188 non-null  object \n",
      " 4   BeginningOfOperation  141188 non-null  int64  \n",
      " 5   MainCategory          141188 non-null  object \n",
      " 6   SubCategory           141188 non-null  object \n",
      " 7   InitialPower          141188 non-null  float64\n",
      " 8   TotalPower            141188 non-null  float64\n",
      "dtypes: float64(2), int64(3), object(4)\n",
      "memory usage: 9.7+ MB\n",
      "Unique ids: 141188 Length df ids: 141188\n",
      "Unique cantons: 26\n",
      "Unique Post codes: 3230 ; Swiss total: 4405 (2019) ; Unique Municipalities: 6528 ; Discrepancy due to small villages without own post code (e.g 6204)\n",
      "Unique Main categories: 4 Unique Sub categories: 8\n"
     ]
    }
   ],
   "source": [
    "# Data Quality\n",
    "df.info()\n",
    "# Checking uniqueness of ids etc.\n",
    "print('Unique ids:', df['xtf_id'].nunique(), 'Length df ids:', len(df['xtf_id']))\n",
    "print('Unique cantons:', df['Canton'].nunique())\n",
    "print('Unique Post codes:', df['PostCode'].nunique(), '; Swiss total: 4405 (2019)', '; Unique Municipalities:', df['Municipality'].nunique(), '; Discrepancy due to small villages without own post code (e.g 6204)')\n",
    "print('Unique Main categories:', df['MainCategory'].nunique(), 'Unique Sub categories:', df['SubCategory'].nunique())"
   ],
   "metadata": {
    "collapsed": false,
    "pycharm": {
     "name": "#%%\n"
    }
   }
  },
  {
   "cell_type": "code",
   "execution_count": 48,
   "outputs": [
    {
     "data": {
      "text/plain": "        xtf_id  PostCode          Municipality Canton  BeginningOfOperation  \\\n136635   58160      6014                Littau     LU                  1886   \n136656   60031      5000                 Aarau     AG                  1894   \n136684   60501      6370              Oberdorf     NW                  1890   \n136697   61012      1352                 Agiez     VD                  1895   \n136715   61130      8762             Schwanden     GL                  1899   \n136719   61183      6817              Maroggia     TI                  1894   \n136722   61213      6340                  Baar     ZG                  1891   \n136723   61215      6340                  Baar     ZG                  1897   \n136736   61270      2340              La Goule     JU                  1894   \n139960   51290      1669             Montbovon     FR                  1896   \n139976   64181      9240        Niederglatt SG     SG                  1894   \n140053    8144      8722             Kaltbrunn     SG                  1899   \n140057    8153      8887                  Mels     SG                  1893   \n140172    8245      5415  Rieden b. Nussbaumen     AG                  1892   \n140219    8602      3422             Kirchberg     BE                  1888   \n140262    8362      4542             Luterbach     SO                  1888   \n140292    8623      6260                Reiden     LU                  1863   \n140430    9178      6203       Sempach Station     LU                  1898   \n\n               MainCategory          SubCategory  InitialPower  TotalPower  \n136635  Hydroelectric power  Hydroelectric power         740.0       740.0  \n136656  Hydroelectric power  Hydroelectric power       16000.0     16000.0  \n136684  Hydroelectric power  Hydroelectric power         240.0       240.0  \n136697  Hydroelectric power  Hydroelectric power        2220.0      2220.0  \n136715  Hydroelectric power  Hydroelectric power        2400.0      2400.0  \n136719  Hydroelectric power  Hydroelectric power         950.0       950.0  \n136722  Hydroelectric power  Hydroelectric power        5315.0      5315.0  \n136723  Hydroelectric power  Hydroelectric power        1747.0      1747.0  \n136736  Hydroelectric power  Hydroelectric power        5000.0      5000.0  \n139960  Hydroelectric power  Hydroelectric power       27800.0     27800.0  \n139976  Hydroelectric power  Hydroelectric power         300.0       300.0  \n140053  Hydroelectric power  Hydroelectric power         150.0       150.0  \n140057  Hydroelectric power  Hydroelectric power         550.0       550.0  \n140172  Hydroelectric power  Hydroelectric power         120.0       120.0  \n140219  Hydroelectric power  Hydroelectric power         120.0       120.0  \n140262  Hydroelectric power  Hydroelectric power         240.0       240.0  \n140292  Hydroelectric power  Hydroelectric power         200.0       200.0  \n140430  Hydroelectric power  Hydroelectric power         100.0       100.0  ",
      "text/html": "<div>\n<style scoped>\n    .dataframe tbody tr th:only-of-type {\n        vertical-align: middle;\n    }\n\n    .dataframe tbody tr th {\n        vertical-align: top;\n    }\n\n    .dataframe thead th {\n        text-align: right;\n    }\n</style>\n<table border=\"1\" class=\"dataframe\">\n  <thead>\n    <tr style=\"text-align: right;\">\n      <th></th>\n      <th>xtf_id</th>\n      <th>PostCode</th>\n      <th>Municipality</th>\n      <th>Canton</th>\n      <th>BeginningOfOperation</th>\n      <th>MainCategory</th>\n      <th>SubCategory</th>\n      <th>InitialPower</th>\n      <th>TotalPower</th>\n    </tr>\n  </thead>\n  <tbody>\n    <tr>\n      <th>136635</th>\n      <td>58160</td>\n      <td>6014</td>\n      <td>Littau</td>\n      <td>LU</td>\n      <td>1886</td>\n      <td>Hydroelectric power</td>\n      <td>Hydroelectric power</td>\n      <td>740.0</td>\n      <td>740.0</td>\n    </tr>\n    <tr>\n      <th>136656</th>\n      <td>60031</td>\n      <td>5000</td>\n      <td>Aarau</td>\n      <td>AG</td>\n      <td>1894</td>\n      <td>Hydroelectric power</td>\n      <td>Hydroelectric power</td>\n      <td>16000.0</td>\n      <td>16000.0</td>\n    </tr>\n    <tr>\n      <th>136684</th>\n      <td>60501</td>\n      <td>6370</td>\n      <td>Oberdorf</td>\n      <td>NW</td>\n      <td>1890</td>\n      <td>Hydroelectric power</td>\n      <td>Hydroelectric power</td>\n      <td>240.0</td>\n      <td>240.0</td>\n    </tr>\n    <tr>\n      <th>136697</th>\n      <td>61012</td>\n      <td>1352</td>\n      <td>Agiez</td>\n      <td>VD</td>\n      <td>1895</td>\n      <td>Hydroelectric power</td>\n      <td>Hydroelectric power</td>\n      <td>2220.0</td>\n      <td>2220.0</td>\n    </tr>\n    <tr>\n      <th>136715</th>\n      <td>61130</td>\n      <td>8762</td>\n      <td>Schwanden</td>\n      <td>GL</td>\n      <td>1899</td>\n      <td>Hydroelectric power</td>\n      <td>Hydroelectric power</td>\n      <td>2400.0</td>\n      <td>2400.0</td>\n    </tr>\n    <tr>\n      <th>136719</th>\n      <td>61183</td>\n      <td>6817</td>\n      <td>Maroggia</td>\n      <td>TI</td>\n      <td>1894</td>\n      <td>Hydroelectric power</td>\n      <td>Hydroelectric power</td>\n      <td>950.0</td>\n      <td>950.0</td>\n    </tr>\n    <tr>\n      <th>136722</th>\n      <td>61213</td>\n      <td>6340</td>\n      <td>Baar</td>\n      <td>ZG</td>\n      <td>1891</td>\n      <td>Hydroelectric power</td>\n      <td>Hydroelectric power</td>\n      <td>5315.0</td>\n      <td>5315.0</td>\n    </tr>\n    <tr>\n      <th>136723</th>\n      <td>61215</td>\n      <td>6340</td>\n      <td>Baar</td>\n      <td>ZG</td>\n      <td>1897</td>\n      <td>Hydroelectric power</td>\n      <td>Hydroelectric power</td>\n      <td>1747.0</td>\n      <td>1747.0</td>\n    </tr>\n    <tr>\n      <th>136736</th>\n      <td>61270</td>\n      <td>2340</td>\n      <td>La Goule</td>\n      <td>JU</td>\n      <td>1894</td>\n      <td>Hydroelectric power</td>\n      <td>Hydroelectric power</td>\n      <td>5000.0</td>\n      <td>5000.0</td>\n    </tr>\n    <tr>\n      <th>139960</th>\n      <td>51290</td>\n      <td>1669</td>\n      <td>Montbovon</td>\n      <td>FR</td>\n      <td>1896</td>\n      <td>Hydroelectric power</td>\n      <td>Hydroelectric power</td>\n      <td>27800.0</td>\n      <td>27800.0</td>\n    </tr>\n    <tr>\n      <th>139976</th>\n      <td>64181</td>\n      <td>9240</td>\n      <td>Niederglatt SG</td>\n      <td>SG</td>\n      <td>1894</td>\n      <td>Hydroelectric power</td>\n      <td>Hydroelectric power</td>\n      <td>300.0</td>\n      <td>300.0</td>\n    </tr>\n    <tr>\n      <th>140053</th>\n      <td>8144</td>\n      <td>8722</td>\n      <td>Kaltbrunn</td>\n      <td>SG</td>\n      <td>1899</td>\n      <td>Hydroelectric power</td>\n      <td>Hydroelectric power</td>\n      <td>150.0</td>\n      <td>150.0</td>\n    </tr>\n    <tr>\n      <th>140057</th>\n      <td>8153</td>\n      <td>8887</td>\n      <td>Mels</td>\n      <td>SG</td>\n      <td>1893</td>\n      <td>Hydroelectric power</td>\n      <td>Hydroelectric power</td>\n      <td>550.0</td>\n      <td>550.0</td>\n    </tr>\n    <tr>\n      <th>140172</th>\n      <td>8245</td>\n      <td>5415</td>\n      <td>Rieden b. Nussbaumen</td>\n      <td>AG</td>\n      <td>1892</td>\n      <td>Hydroelectric power</td>\n      <td>Hydroelectric power</td>\n      <td>120.0</td>\n      <td>120.0</td>\n    </tr>\n    <tr>\n      <th>140219</th>\n      <td>8602</td>\n      <td>3422</td>\n      <td>Kirchberg</td>\n      <td>BE</td>\n      <td>1888</td>\n      <td>Hydroelectric power</td>\n      <td>Hydroelectric power</td>\n      <td>120.0</td>\n      <td>120.0</td>\n    </tr>\n    <tr>\n      <th>140262</th>\n      <td>8362</td>\n      <td>4542</td>\n      <td>Luterbach</td>\n      <td>SO</td>\n      <td>1888</td>\n      <td>Hydroelectric power</td>\n      <td>Hydroelectric power</td>\n      <td>240.0</td>\n      <td>240.0</td>\n    </tr>\n    <tr>\n      <th>140292</th>\n      <td>8623</td>\n      <td>6260</td>\n      <td>Reiden</td>\n      <td>LU</td>\n      <td>1863</td>\n      <td>Hydroelectric power</td>\n      <td>Hydroelectric power</td>\n      <td>200.0</td>\n      <td>200.0</td>\n    </tr>\n    <tr>\n      <th>140430</th>\n      <td>9178</td>\n      <td>6203</td>\n      <td>Sempach Station</td>\n      <td>LU</td>\n      <td>1898</td>\n      <td>Hydroelectric power</td>\n      <td>Hydroelectric power</td>\n      <td>100.0</td>\n      <td>100.0</td>\n    </tr>\n  </tbody>\n</table>\n</div>"
     },
     "execution_count": 48,
     "metadata": {},
     "output_type": "execute_result"
    }
   ],
   "source": [
    "# Checking year of Beginning of operation\n",
    "list_years = sorted(list(df['BeginningOfOperation'].drop_duplicates()))\n",
    "list_years\n",
    "df_18xx = df.loc[df['BeginningOfOperation'] <= 1899]\n",
    "df_18xx"
   ],
   "metadata": {
    "collapsed": false,
    "pycharm": {
     "name": "#%%\n"
    }
   }
  },
  {
   "cell_type": "code",
   "execution_count": 56,
   "outputs": [
    {
     "data": {
      "text/plain": "['Fossil fuel',\n 'Hydroelectric power',\n 'Nuclear energy',\n 'Other renewable energies']"
     },
     "execution_count": 56,
     "metadata": {},
     "output_type": "execute_result"
    }
   ],
   "source": [
    "# Main categories\n",
    "list_MainCategory = sorted(list(df['MainCategory'].drop_duplicates()))\n",
    "list_MainCategory"
   ],
   "metadata": {
    "collapsed": false,
    "pycharm": {
     "name": "#%%\n"
    }
   }
  },
  {
   "cell_type": "code",
   "execution_count": 65,
   "outputs": [
    {
     "data": {
      "text/plain": "[('TotalPower', 'sum'), ('TotalPower', 'mean')]"
     },
     "execution_count": 65,
     "metadata": {},
     "output_type": "execute_result"
    }
   ],
   "source": [
    "# Plotting energy production by year / Total power / MainCategory\n",
    "# Set up\n",
    "list_years = sorted(list(df['BeginningOfOperation'].drop_duplicates()))\n",
    "Hydro = df.loc[df['MainCategory'] == 'Hydroelectric power'].groupby('BeginningOfOperation').agg({'TotalPower': ['sum', 'mean']})\n",
    "Renewable = df.loc[df['MainCategory'] == 'Other renewable energies'].groupby('BeginningOfOperation').agg({'TotalPower': ['sum', 'mean']})\n",
    "Fossil = df.loc[df['MainCategory'] == 'Fossil fuel'].groupby('BeginningOfOperation').agg({'TotalPower': ['sum', 'mean']})\n",
    "Nuclear = df.loc[df['MainCategory'] == 'Nuclear energy'].groupby('BeginningOfOperation').agg({'TotalPower': ['sum', 'mean']})\n",
    "list(Hydro.columns)"
   ],
   "metadata": {
    "collapsed": false,
    "pycharm": {
     "name": "#%%\n"
    }
   }
  },
  {
   "cell_type": "code",
   "execution_count": 71,
   "outputs": [
    {
     "data": {
      "text/plain": "BeginningOfOperation\n1863     200.000000\n1886     740.000000\n1888     180.000000\n1890     240.000000\n1891    5315.000000\n           ...     \n2018    1293.729412\n2019    1045.421053\n2020    1622.483182\n2021    2435.636364\n2022     230.250000\nName: (TotalPower, mean), Length: 130, dtype: float64"
     },
     "execution_count": 71,
     "metadata": {},
     "output_type": "execute_result"
    }
   ],
   "source": [
    "Hydro_means = Hydro['TotalPower', 'mean']\n",
    "Hydro_means"
   ],
   "metadata": {
    "collapsed": false,
    "pycharm": {
     "name": "#%%\n"
    }
   }
  },
  {
   "cell_type": "code",
   "execution_count": 72,
   "outputs": [
    {
     "data": {
      "text/plain": "pandas.core.series.Series"
     },
     "execution_count": 72,
     "metadata": {},
     "output_type": "execute_result"
    }
   ],
   "source": [
    "type(Hydro_means)"
   ],
   "metadata": {
    "collapsed": false,
    "pycharm": {
     "name": "#%%\n"
    }
   }
  },
  {
   "cell_type": "code",
   "execution_count": 66,
   "outputs": [
    {
     "ename": "ValueError",
     "evalue": "shape mismatch: objects cannot be broadcast to a single shape",
     "output_type": "error",
     "traceback": [
      "\u001B[1;31m---------------------------------------------------------------------------\u001B[0m",
      "\u001B[1;31mValueError\u001B[0m                                Traceback (most recent call last)",
      "\u001B[1;32m<ipython-input-66-4d5705502ced>\u001B[0m in \u001B[0;36m<module>\u001B[1;34m\u001B[0m\n\u001B[0;32m     10\u001B[0m \u001B[0mfig\u001B[0m\u001B[1;33m,\u001B[0m \u001B[0max\u001B[0m \u001B[1;33m=\u001B[0m \u001B[0mplt\u001B[0m\u001B[1;33m.\u001B[0m\u001B[0msubplots\u001B[0m\u001B[1;33m(\u001B[0m\u001B[1;33m)\u001B[0m\u001B[1;33m\u001B[0m\u001B[1;33m\u001B[0m\u001B[0m\n\u001B[0;32m     11\u001B[0m \u001B[1;33m\u001B[0m\u001B[0m\n\u001B[1;32m---> 12\u001B[1;33m \u001B[0max\u001B[0m\u001B[1;33m.\u001B[0m\u001B[0mbar\u001B[0m\u001B[1;33m(\u001B[0m\u001B[0mlabels\u001B[0m\u001B[1;33m,\u001B[0m \u001B[0mmen_means\u001B[0m\u001B[1;33m,\u001B[0m \u001B[0mwidth\u001B[0m\u001B[1;33m,\u001B[0m \u001B[0myerr\u001B[0m\u001B[1;33m=\u001B[0m\u001B[0mmen_std\u001B[0m\u001B[1;33m,\u001B[0m \u001B[0mlabel\u001B[0m\u001B[1;33m=\u001B[0m\u001B[1;34m'Men'\u001B[0m\u001B[1;33m)\u001B[0m\u001B[1;33m\u001B[0m\u001B[1;33m\u001B[0m\u001B[0m\n\u001B[0m\u001B[0;32m     13\u001B[0m ax.bar(labels, women_means, width, yerr=women_std, bottom=men_means,\n\u001B[0;32m     14\u001B[0m        label='Women')\n",
      "\u001B[1;32m~\\anaconda3\\lib\\site-packages\\matplotlib\\__init__.py\u001B[0m in \u001B[0;36minner\u001B[1;34m(ax, data, *args, **kwargs)\u001B[0m\n\u001B[0;32m   1445\u001B[0m     \u001B[1;32mdef\u001B[0m \u001B[0minner\u001B[0m\u001B[1;33m(\u001B[0m\u001B[0max\u001B[0m\u001B[1;33m,\u001B[0m \u001B[1;33m*\u001B[0m\u001B[0margs\u001B[0m\u001B[1;33m,\u001B[0m \u001B[0mdata\u001B[0m\u001B[1;33m=\u001B[0m\u001B[1;32mNone\u001B[0m\u001B[1;33m,\u001B[0m \u001B[1;33m**\u001B[0m\u001B[0mkwargs\u001B[0m\u001B[1;33m)\u001B[0m\u001B[1;33m:\u001B[0m\u001B[1;33m\u001B[0m\u001B[1;33m\u001B[0m\u001B[0m\n\u001B[0;32m   1446\u001B[0m         \u001B[1;32mif\u001B[0m \u001B[0mdata\u001B[0m \u001B[1;32mis\u001B[0m \u001B[1;32mNone\u001B[0m\u001B[1;33m:\u001B[0m\u001B[1;33m\u001B[0m\u001B[1;33m\u001B[0m\u001B[0m\n\u001B[1;32m-> 1447\u001B[1;33m             \u001B[1;32mreturn\u001B[0m \u001B[0mfunc\u001B[0m\u001B[1;33m(\u001B[0m\u001B[0max\u001B[0m\u001B[1;33m,\u001B[0m \u001B[1;33m*\u001B[0m\u001B[0mmap\u001B[0m\u001B[1;33m(\u001B[0m\u001B[0msanitize_sequence\u001B[0m\u001B[1;33m,\u001B[0m \u001B[0margs\u001B[0m\u001B[1;33m)\u001B[0m\u001B[1;33m,\u001B[0m \u001B[1;33m**\u001B[0m\u001B[0mkwargs\u001B[0m\u001B[1;33m)\u001B[0m\u001B[1;33m\u001B[0m\u001B[1;33m\u001B[0m\u001B[0m\n\u001B[0m\u001B[0;32m   1448\u001B[0m \u001B[1;33m\u001B[0m\u001B[0m\n\u001B[0;32m   1449\u001B[0m         \u001B[0mbound\u001B[0m \u001B[1;33m=\u001B[0m \u001B[0mnew_sig\u001B[0m\u001B[1;33m.\u001B[0m\u001B[0mbind\u001B[0m\u001B[1;33m(\u001B[0m\u001B[0max\u001B[0m\u001B[1;33m,\u001B[0m \u001B[1;33m*\u001B[0m\u001B[0margs\u001B[0m\u001B[1;33m,\u001B[0m \u001B[1;33m**\u001B[0m\u001B[0mkwargs\u001B[0m\u001B[1;33m)\u001B[0m\u001B[1;33m\u001B[0m\u001B[1;33m\u001B[0m\u001B[0m\n",
      "\u001B[1;32m~\\anaconda3\\lib\\site-packages\\matplotlib\\axes\\_axes.py\u001B[0m in \u001B[0;36mbar\u001B[1;34m(self, x, height, width, bottom, align, **kwargs)\u001B[0m\n\u001B[0;32m   2428\u001B[0m                 \u001B[0myerr\u001B[0m \u001B[1;33m=\u001B[0m \u001B[0mself\u001B[0m\u001B[1;33m.\u001B[0m\u001B[0m_convert_dx\u001B[0m\u001B[1;33m(\u001B[0m\u001B[0myerr\u001B[0m\u001B[1;33m,\u001B[0m \u001B[0my0\u001B[0m\u001B[1;33m,\u001B[0m \u001B[0my\u001B[0m\u001B[1;33m,\u001B[0m \u001B[0mself\u001B[0m\u001B[1;33m.\u001B[0m\u001B[0mconvert_yunits\u001B[0m\u001B[1;33m)\u001B[0m\u001B[1;33m\u001B[0m\u001B[1;33m\u001B[0m\u001B[0m\n\u001B[0;32m   2429\u001B[0m \u001B[1;33m\u001B[0m\u001B[0m\n\u001B[1;32m-> 2430\u001B[1;33m         x, height, width, y, linewidth = np.broadcast_arrays(\n\u001B[0m\u001B[0;32m   2431\u001B[0m             \u001B[1;31m# Make args iterable too.\u001B[0m\u001B[1;33m\u001B[0m\u001B[1;33m\u001B[0m\u001B[1;33m\u001B[0m\u001B[0m\n\u001B[0;32m   2432\u001B[0m             np.atleast_1d(x), height, width, y, linewidth)\n",
      "\u001B[1;32m<__array_function__ internals>\u001B[0m in \u001B[0;36mbroadcast_arrays\u001B[1;34m(*args, **kwargs)\u001B[0m\n",
      "\u001B[1;32m~\\anaconda3\\lib\\site-packages\\numpy\\lib\\stride_tricks.py\u001B[0m in \u001B[0;36mbroadcast_arrays\u001B[1;34m(subok, *args)\u001B[0m\n\u001B[0;32m    536\u001B[0m     \u001B[0margs\u001B[0m \u001B[1;33m=\u001B[0m \u001B[1;33m[\u001B[0m\u001B[0mnp\u001B[0m\u001B[1;33m.\u001B[0m\u001B[0marray\u001B[0m\u001B[1;33m(\u001B[0m\u001B[0m_m\u001B[0m\u001B[1;33m,\u001B[0m \u001B[0mcopy\u001B[0m\u001B[1;33m=\u001B[0m\u001B[1;32mFalse\u001B[0m\u001B[1;33m,\u001B[0m \u001B[0msubok\u001B[0m\u001B[1;33m=\u001B[0m\u001B[0msubok\u001B[0m\u001B[1;33m)\u001B[0m \u001B[1;32mfor\u001B[0m \u001B[0m_m\u001B[0m \u001B[1;32min\u001B[0m \u001B[0margs\u001B[0m\u001B[1;33m]\u001B[0m\u001B[1;33m\u001B[0m\u001B[1;33m\u001B[0m\u001B[0m\n\u001B[0;32m    537\u001B[0m \u001B[1;33m\u001B[0m\u001B[0m\n\u001B[1;32m--> 538\u001B[1;33m     \u001B[0mshape\u001B[0m \u001B[1;33m=\u001B[0m \u001B[0m_broadcast_shape\u001B[0m\u001B[1;33m(\u001B[0m\u001B[1;33m*\u001B[0m\u001B[0margs\u001B[0m\u001B[1;33m)\u001B[0m\u001B[1;33m\u001B[0m\u001B[1;33m\u001B[0m\u001B[0m\n\u001B[0m\u001B[0;32m    539\u001B[0m \u001B[1;33m\u001B[0m\u001B[0m\n\u001B[0;32m    540\u001B[0m     \u001B[1;32mif\u001B[0m \u001B[0mall\u001B[0m\u001B[1;33m(\u001B[0m\u001B[0marray\u001B[0m\u001B[1;33m.\u001B[0m\u001B[0mshape\u001B[0m \u001B[1;33m==\u001B[0m \u001B[0mshape\u001B[0m \u001B[1;32mfor\u001B[0m \u001B[0marray\u001B[0m \u001B[1;32min\u001B[0m \u001B[0margs\u001B[0m\u001B[1;33m)\u001B[0m\u001B[1;33m:\u001B[0m\u001B[1;33m\u001B[0m\u001B[1;33m\u001B[0m\u001B[0m\n",
      "\u001B[1;32m~\\anaconda3\\lib\\site-packages\\numpy\\lib\\stride_tricks.py\u001B[0m in \u001B[0;36m_broadcast_shape\u001B[1;34m(*args)\u001B[0m\n\u001B[0;32m    418\u001B[0m     \u001B[1;31m# use the old-iterator because np.nditer does not handle size 0 arrays\u001B[0m\u001B[1;33m\u001B[0m\u001B[1;33m\u001B[0m\u001B[1;33m\u001B[0m\u001B[0m\n\u001B[0;32m    419\u001B[0m     \u001B[1;31m# consistently\u001B[0m\u001B[1;33m\u001B[0m\u001B[1;33m\u001B[0m\u001B[1;33m\u001B[0m\u001B[0m\n\u001B[1;32m--> 420\u001B[1;33m     \u001B[0mb\u001B[0m \u001B[1;33m=\u001B[0m \u001B[0mnp\u001B[0m\u001B[1;33m.\u001B[0m\u001B[0mbroadcast\u001B[0m\u001B[1;33m(\u001B[0m\u001B[1;33m*\u001B[0m\u001B[0margs\u001B[0m\u001B[1;33m[\u001B[0m\u001B[1;33m:\u001B[0m\u001B[1;36m32\u001B[0m\u001B[1;33m]\u001B[0m\u001B[1;33m)\u001B[0m\u001B[1;33m\u001B[0m\u001B[1;33m\u001B[0m\u001B[0m\n\u001B[0m\u001B[0;32m    421\u001B[0m     \u001B[1;31m# unfortunately, it cannot handle 32 or more arguments directly\u001B[0m\u001B[1;33m\u001B[0m\u001B[1;33m\u001B[0m\u001B[1;33m\u001B[0m\u001B[0m\n\u001B[0;32m    422\u001B[0m     \u001B[1;32mfor\u001B[0m \u001B[0mpos\u001B[0m \u001B[1;32min\u001B[0m \u001B[0mrange\u001B[0m\u001B[1;33m(\u001B[0m\u001B[1;36m32\u001B[0m\u001B[1;33m,\u001B[0m \u001B[0mlen\u001B[0m\u001B[1;33m(\u001B[0m\u001B[0margs\u001B[0m\u001B[1;33m)\u001B[0m\u001B[1;33m,\u001B[0m \u001B[1;36m31\u001B[0m\u001B[1;33m)\u001B[0m\u001B[1;33m:\u001B[0m\u001B[1;33m\u001B[0m\u001B[1;33m\u001B[0m\u001B[0m\n",
      "\u001B[1;31mValueError\u001B[0m: shape mismatch: objects cannot be broadcast to a single shape"
     ]
    },
    {
     "data": {
      "text/plain": "<Figure size 432x288 with 1 Axes>",
      "image/png": "[encoded data removed]"
     },
     "metadata": {
      "needs_background": "light"
     },
     "output_type": "display_data"
    }
   ],
   "source": [
    "# Plot\n",
    "labels = list_years\n",
    "Hydro_means = Hydro['TotalPower', 'sum']\n",
    "Renewable_means = [25, 32, 34, 20, 25]\n",
    "\n",
    "men_std = [2, 3, 4, 1, 2]\n",
    "women_std = [3, 5, 2, 3, 3]\n",
    "width = 0.35       # the width of the bars: can also be len(x) sequence\n",
    "\n",
    "fig, ax = plt.subplots()\n",
    "\n",
    "ax.bar(labels, men_means, width, yerr=men_std, label='Men')\n",
    "ax.bar(labels, women_means, width, yerr=women_std, bottom=men_means,\n",
    "       label='Women')\n",
    "\n",
    "ax.set_ylabel('Scores')\n",
    "ax.set_title('Scores by group and gender')\n",
    "ax.legend()\n",
    "\n",
    "plt.show()"
   ],
   "metadata": {
    "collapsed": false,
    "pycharm": {
     "name": "#%%\n"
    }
   }
  },
  {
   "cell_type": "code",
   "execution_count": 58,
   "outputs": [
    {
     "data": {
      "text/plain": "<Figure size 432x288 with 1 Axes>",
      "image/png": "[encoded data removed]"
     },
     "metadata": {
      "needs_background": "light"
     },
     "output_type": "display_data"
    }
   ],
   "source": [
    "# Plot\n",
    "labels = ['G1', 'G2', 'G3', 'G4', 'G5']\n",
    "men_means = [20, 35, 30, 35, 27]\n",
    "women_means = [25, 32, 34, 20, 25]\n",
    "men_std = [2, 3, 4, 1, 2]\n",
    "women_std = [3, 5, 2, 3, 3]\n",
    "width = 0.35       # the width of the bars: can also be len(x) sequence\n",
    "\n",
    "fig, ax = plt.subplots()\n",
    "\n",
    "ax.bar(labels, men_means, width, yerr=men_std, label='Men')\n",
    "ax.bar(labels, women_means, width, yerr=women_std, bottom=men_means,\n",
    "       label='Women')\n",
    "\n",
    "ax.set_ylabel('Scores')\n",
    "ax.set_title('Scores by group and gender')\n",
    "ax.legend()\n",
    "\n",
    "plt.show()"
   ],
   "metadata": {
    "collapsed": false,
    "pycharm": {
     "name": "#%%\n"
    }
   }
  },
  {
   "cell_type": "code",
   "execution_count": null,
   "outputs": [],
   "source": [],
   "metadata": {
    "collapsed": false,
    "pycharm": {
     "name": "#%%\n"
    }
   }
  },
  {
   "cell_type": "code",
   "execution_count": null,
   "outputs": [],
   "source": [],
   "metadata": {
    "collapsed": false,
    "pycharm": {
     "name": "#%%\n"
    }
   }
  }
 ],
 "metadata": {
  "kernelspec": {
   "display_name": "Python 3",
   "language": "python",
   "name": "python3"
  },
  "language_info": {
   "codemirror_mode": {
    "name": "ipython",
    "version": 3
   },
   "file_extension": ".py",
   "mimetype": "text/x-python",
   "name": "python",
   "nbconvert_exporter": "python",
   "pygments_lexer": "ipython3",
   "version": "3.8.8"
  }
 },
 "nbformat": 4,
 "nbformat_minor": 5
}