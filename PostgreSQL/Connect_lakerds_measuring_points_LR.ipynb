{
 "cells": [
  {
   "cell_type": "code",
   "execution_count": 1,
   "id": "ccd79fd0",
   "metadata": {},
   "outputs": [],
   "source": [
    "#pip install psycopg2"
   ]
  },
  {
   "cell_type": "code",
   "execution_count": 2,
   "id": "2df4d390",
   "metadata": {},
   "outputs": [],
   "source": [
    "import psycopg2\n",
    "import config_lake as creds\n",
    "import pandas as pd\n",
    "import matplotlib.pyplot as plt"
   ]
  },
  {
   "cell_type": "code",
   "execution_count": 3,
   "id": "bb54e38a",
   "metadata": {},
   "outputs": [],
   "source": [
    "def connect():\n",
    "    \n",
    "    # Set up a connection to the postgres server.\n",
    "    conn_string = \"host=\"+ creds.PGHOST +\" port=\"+ \"5432\" +\" dbname=\"+ creds.PGDATABASE +\" user=\" + creds.PGUSER \\\n",
    "                  +\" password=\"+ creds.PGPASSWORD\n",
    "    \n",
    "    conn = psycopg2.connect(conn_string)\n",
    "    print(\"Connected!\")\n",
    "\n",
    "    # Create a cursor object\n",
    "    cursor = conn.cursor()\n",
    "    \n",
    "    return conn, cursor"
   ]
  },
  {
   "cell_type": "code",
   "execution_count": 4,
   "id": "c79f8310",
   "metadata": {},
   "outputs": [
    {
     "name": "stdout",
     "output_type": "stream",
     "text": [
      "Connected!\n"
     ]
    },
    {
     "data": {
      "text/plain": "(<connection object at 0x00000204199358C0; dsn: 'user=TeamX password=xxx dbname=postgres host=lakerds.czuthh2ifupq.us-east-1.rds.amazonaws.com port=5432', closed: 0>,\n <cursor object at 0x0000020416B2E2E0; closed: 0>)"
     },
     "execution_count": 4,
     "metadata": {},
     "output_type": "execute_result"
    }
   ],
   "source": [
    "connect()"
   ]
  },
  {
   "cell_type": "code",
   "execution_count": 5,
   "id": "fa24f08a",
   "metadata": {},
   "outputs": [],
   "source": [
    "# Select data \n",
    "conn_string = \"host=\"+ creds.PGHOST +\" port=\"+ \"5432\" +\" dbname=\"+ creds.PGDATABASE +\" user=\" + creds.PGUSER \\\n",
    "                  +\" password=\"+ creds.PGPASSWORD\n",
    "conn = psycopg2.connect(conn_string)\n",
    "cur = conn.cursor()"
   ]
  },
  {
   "cell_type": "code",
   "execution_count": 6,
   "id": "461821f8",
   "metadata": {},
   "outputs": [
    {
     "name": "stdout",
     "output_type": "stream",
     "text": [
      "Selecting rows from table using cursor.fetchall\n"
     ]
    }
   ],
   "source": [
    "postgreSQL_select_Query = \"select * from MeasuringPointsCoordinates\"\n",
    "\n",
    "cur.execute(postgreSQL_select_Query)\n",
    "print(\"Selecting rows from table using cursor.fetchall\")\n",
    "df_records = cur.fetchall()"
   ]
  },
  {
   "cell_type": "code",
   "execution_count": 7,
   "id": "8b3ad8ac",
   "metadata": {},
   "outputs": [
    {
     "data": {
      "text/plain": "   Nr  Status_BGDI              Measuring_Point Canton Street  \\\n0   2            1               CHALET-A-GOBET     VD    H 1   \n1   3            1                   BRISSAGO S     TI   H 13   \n2   5            1                  SCHWANDEN N     GL   H 17   \n3   6            1  MUTTENZ, A2/ZUBR. SCHAENZLI     BL   H 18   \n4   9            1               BRUENIG, LETZI     OW    A 8   \n\n   Coordinate_East  Coordinate_Nord                   Status  \\\n0          2545269          1158463               in Betrieb   \n1          2697383          1106719                Baustelle   \n2          2724500          1206725               in Betrieb   \n3          2613975          1265100  ausser Betrieb (defekt)   \n4          2653895          1180111               in Betrieb   \n\n  Type_Measuring_Point  Number_of_Lanes  \n0     Online+Statistik                2  \n1     Online+Statistik                2  \n2     Online+Statistik                2  \n3     Online+Statistik                4  \n4     Online+Statistik                2  ",
      "text/html": "<div>\n<style scoped>\n    .dataframe tbody tr th:only-of-type {\n        vertical-align: middle;\n    }\n\n    .dataframe tbody tr th {\n        vertical-align: top;\n    }\n\n    .dataframe thead th {\n        text-align: right;\n    }\n</style>\n<table border=\"1\" class=\"dataframe\">\n  <thead>\n    <tr style=\"text-align: right;\">\n      <th></th>\n      <th>Nr</th>\n      <th>Status_BGDI</th>\n      <th>Measuring_Point</th>\n      <th>Canton</th>\n      <th>Street</th>\n      <th>Coordinate_East</th>\n      <th>Coordinate_Nord</th>\n      <th>Status</th>\n      <th>Type_Measuring_Point</th>\n      <th>Number_of_Lanes</th>\n    </tr>\n  </thead>\n  <tbody>\n    <tr>\n      <th>0</th>\n      <td>2</td>\n      <td>1</td>\n      <td>CHALET-A-GOBET</td>\n      <td>VD</td>\n      <td>H 1</td>\n      <td>2545269</td>\n      <td>1158463</td>\n      <td>in Betrieb</td>\n      <td>Online+Statistik</td>\n      <td>2</td>\n    </tr>\n    <tr>\n      <th>1</th>\n      <td>3</td>\n      <td>1</td>\n      <td>BRISSAGO S</td>\n      <td>TI</td>\n      <td>H 13</td>\n      <td>2697383</td>\n      <td>1106719</td>\n      <td>Baustelle</td>\n      <td>Online+Statistik</td>\n      <td>2</td>\n    </tr>\n    <tr>\n      <th>2</th>\n      <td>5</td>\n      <td>1</td>\n      <td>SCHWANDEN N</td>\n      <td>GL</td>\n      <td>H 17</td>\n      <td>2724500</td>\n      <td>1206725</td>\n      <td>in Betrieb</td>\n      <td>Online+Statistik</td>\n      <td>2</td>\n    </tr>\n    <tr>\n      <th>3</th>\n      <td>6</td>\n      <td>1</td>\n      <td>MUTTENZ, A2/ZUBR. SCHAENZLI</td>\n      <td>BL</td>\n      <td>H 18</td>\n      <td>2613975</td>\n      <td>1265100</td>\n      <td>ausser Betrieb (defekt)</td>\n      <td>Online+Statistik</td>\n      <td>4</td>\n    </tr>\n    <tr>\n      <th>4</th>\n      <td>9</td>\n      <td>1</td>\n      <td>BRUENIG, LETZI</td>\n      <td>OW</td>\n      <td>A 8</td>\n      <td>2653895</td>\n      <td>1180111</td>\n      <td>in Betrieb</td>\n      <td>Online+Statistik</td>\n      <td>2</td>\n    </tr>\n  </tbody>\n</table>\n</div>"
     },
     "execution_count": 7,
     "metadata": {},
     "output_type": "execute_result"
    }
   ],
   "source": [
    " df = pd.DataFrame(df_records, columns = ['Nr','Status_BGDI','Measuring_Point', 'Canton',\n",
    "                                          'Street', 'Coordinate_East', 'Coordinate_Nord', 'Status',\n",
    "                                          'Type_Measuring_Point', 'Number_of_Lanes'])\n",
    "df.head()"
   ]
  },
  {
   "cell_type": "code",
   "execution_count": 8,
   "outputs": [
    {
     "name": "stdout",
     "output_type": "stream",
     "text": [
      "<class 'pandas.core.frame.DataFrame'>\n",
      "RangeIndex: 517 entries, 0 to 516\n",
      "Data columns (total 10 columns):\n",
      " #   Column                Non-Null Count  Dtype \n",
      "---  ------                --------------  ----- \n",
      " 0   Nr                    517 non-null    int64 \n",
      " 1   Status_BGDI           517 non-null    int64 \n",
      " 2   Measuring_Point       517 non-null    object\n",
      " 3   Canton                517 non-null    object\n",
      " 4   Street                517 non-null    object\n",
      " 5   Coordinate_East       517 non-null    int64 \n",
      " 6   Coordinate_Nord       517 non-null    int64 \n",
      " 7   Status                517 non-null    object\n",
      " 8   Type_Measuring_Point  517 non-null    object\n",
      " 9   Number_of_Lanes       517 non-null    int64 \n",
      "dtypes: int64(5), object(5)\n",
      "memory usage: 40.5+ KB\n",
      "Unique nrs: 517 Length df nrs: 517\n",
      "Unique cantons: 25\n",
      "Unique street: 81\n",
      "Unique measuring points: 514 None\n"
     ]
    }
   ],
   "source": [
    "# Data Quality\n",
    "df.info()\n",
    "# Checking uniqueness of ids etc.\n",
    "print('Unique nrs:', df['Nr'].nunique(), 'Length df nrs:', len(df['Nr']))\n",
    "print('Unique cantons:', df['Canton'].nunique())\n",
    "print('Unique measuring points:', df['Measuring_Point'].nunique(),\n",
    "print('Unique street:', df['Street'].nunique()))"
   ],
   "metadata": {
    "collapsed": false,
    "pycharm": {
     "name": "#%%\n"
    }
   }
  },
  {
   "cell_type": "code",
   "execution_count": 9,
   "outputs": [
    {
     "data": {
      "text/plain": "A 1      87\nA 2      54\nA 3      50\nA 4      48\nA 9      27\n         ..\nH 142     1\nH 566     1\nH 394     1\nH 340     1\nH 509     1\nName: Street, Length: 81, dtype: int64"
     },
     "execution_count": 9,
     "metadata": {},
     "output_type": "execute_result"
    }
   ],
   "source": [
    "# Streets\n",
    "list_Streets = sorted(list(df['Street'].drop_duplicates()))\n",
    "df['Street']. value_counts()"
   ],
   "metadata": {
    "collapsed": false,
    "pycharm": {
     "name": "#%%\n"
    }
   }
  },
  {
   "cell_type": "code",
   "execution_count": 10,
   "outputs": [
    {
     "data": {
      "text/plain": "ZH    78\nBE    56\nAG    49\nVD    37\nGR    33\nSG    29\nTI    26\nVS    25\nUR    24\nNE    21\nFR    20\nSO    14\nLU    14\nBL    12\nTG    11\nZG    10\nNW     9\nSH     9\nSZ     8\nGL     8\nJU     7\nBS     7\nGE     5\nOW     4\nAR     1\nName: Canton, dtype: int64"
     },
     "execution_count": 10,
     "metadata": {},
     "output_type": "execute_result"
    }
   ],
   "source": [
    "# Cantons\n",
    "list_Cantons = sorted(list(df['Canton'].drop_duplicates()))\n",
    "df['Canton']. value_counts()"
   ],
   "metadata": {
    "collapsed": false,
    "pycharm": {
     "name": "#%%\n"
    }
   }
  },
  {
   "cell_type": "code",
   "execution_count": 11,
   "outputs": [
    {
     "data": {
      "text/plain": "JULIER, LA VEDUTA                     2\nMARIN EST (AB)                        2\nMARIN OUEST (AB)                      2\nSTEINHAUSEN E (AB)                    1\nFRAUENFELD W, KEFIKON (AB)            1\n                                     ..\nZERNEZ N, PRASCHITSCH - GR336         1\nINTRAGNA-CENTOVALLI                   1\nECHANGEUR GD.ST.BERNARD OUEST (AR)    1\nBRUENIG, LETZI                        1\nENNEY N, SAUSSIVUE                    1\nName: Measuring_Point, Length: 514, dtype: int64"
     },
     "execution_count": 11,
     "metadata": {},
     "output_type": "execute_result"
    }
   ],
   "source": [
    "df['Measuring_Point']. value_counts()"
   ],
   "metadata": {
    "collapsed": false,
    "pycharm": {
     "name": "#%%\n"
    }
   }
  },
  {
   "cell_type": "code",
   "execution_count": 12,
   "outputs": [
    {
     "data": {
      "text/plain": "in Betrieb                      466\nausser Betrieb (Bauarbeiten)     22\nZählstelle geplant               17\nausser Betrieb (defekt)          11\nBaustelle                         1\nName: Status, dtype: int64"
     },
     "execution_count": 12,
     "metadata": {},
     "output_type": "execute_result"
    }
   ],
   "source": [
    "df['Status']. value_counts()"
   ],
   "metadata": {
    "collapsed": false,
    "pycharm": {
     "name": "#%%\n"
    }
   }
  },
  {
   "cell_type": "code",
   "execution_count": 14,
   "outputs": [
    {
     "data": {
      "text/plain": "4    206\n2    163\n6     65\n5     23\n8     22\n7     19\n3     16\n9      3\nName: Number_of_Lanes, dtype: int64"
     },
     "execution_count": 14,
     "metadata": {},
     "output_type": "execute_result"
    }
   ],
   "source": [
    "df['Number_of_Lanes']. value_counts()"
   ],
   "metadata": {
    "collapsed": false,
    "pycharm": {
     "name": "#%%\n"
    }
   }
  },
  {
   "cell_type": "code",
   "execution_count": 15,
   "outputs": [
    {
     "data": {
      "text/plain": "Online+Statistik    413\nnur Online           58\nnur Statistik        46\nName: Type_Measuring_Point, dtype: int64"
     },
     "execution_count": 15,
     "metadata": {},
     "output_type": "execute_result"
    }
   ],
   "source": [
    "df['Type_Measuring_Point']. value_counts()"
   ],
   "metadata": {
    "collapsed": false,
    "pycharm": {
     "name": "#%%\n"
    }
   }
  },
  {
   "cell_type": "code",
   "execution_count": 11,
   "outputs": [],
   "source": [],
   "metadata": {
    "collapsed": false,
    "pycharm": {
     "name": "#%%\n"
    }
   }
  },
  {
   "cell_type": "code",
   "execution_count": 11,
   "outputs": [],
   "source": [],
   "metadata": {
    "collapsed": false,
    "pycharm": {
     "name": "#%%\n"
    }
   }
  },
  {
   "cell_type": "code",
   "execution_count": 11,
   "outputs": [],
   "source": [],
   "metadata": {
    "collapsed": false,
    "pycharm": {
     "name": "#%%\n"
    }
   }
  },
  {
   "cell_type": "code",
   "execution_count": 11,
   "outputs": [],
   "source": [],
   "metadata": {
    "collapsed": false,
    "pycharm": {
     "name": "#%%\n"
    }
   }
  },
  {
   "cell_type": "code",
   "execution_count": 11,
   "outputs": [],
   "source": [],
   "metadata": {
    "collapsed": false,
    "pycharm": {
     "name": "#%%\n"
    }
   }
  },
  {
   "cell_type": "code",
   "execution_count": 11,
   "outputs": [],
   "source": [],
   "metadata": {
    "collapsed": false,
    "pycharm": {
     "name": "#%%\n"
    }
   }
  }
 ],
 "metadata": {
  "kernelspec": {
   "display_name": "Python 3",
   "language": "python",
   "name": "python3"
  },
  "language_info": {
   "codemirror_mode": {
    "name": "ipython",
    "version": 3
   },
   "file_extension": ".py",
   "mimetype": "text/x-python",
   "name": "python",
   "nbconvert_exporter": "python",
   "pygments_lexer": "ipython3",
   "version": "3.8.8"
  }
 },
 "nbformat": 4,
 "nbformat_minor": 5
}