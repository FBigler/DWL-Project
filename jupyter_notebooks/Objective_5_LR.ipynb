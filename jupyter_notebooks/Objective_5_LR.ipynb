{
 "cells": [
  {
   "cell_type": "code",
   "execution_count": 1,
   "outputs": [],
   "source": [
    "import psycopg2\n",
    "import psycopg2.extras as extras\n",
    "import config_warehouse as creds\n",
    "import config_lake as creds_lake\n",
    "import pandas as pd\n",
    "import numpy as np"
   ],
   "metadata": {
    "collapsed": false,
    "pycharm": {
     "name": "#%%\n"
    }
   }
  },
  {
   "cell_type": "code",
   "execution_count": 2,
   "outputs": [
    {
     "name": "stdout",
     "output_type": "stream",
     "text": [
      "Connected!\n"
     ]
    }
   ],
   "source": [
    "# Set up a connection to the warehouse\n",
    "conn_string = \"host=\"+ creds.PGHOST +\" port=\"+ \"5432\" +\" dbname=\"+ creds.PGDATABASE +\" user=\" + creds.PGUSER \\\n",
    "          +\" password=\"+ creds.PGPASSWORD\n",
    "\n",
    "conn = psycopg2.connect(conn_string)\n",
    "print(\"Connected!\")\n",
    "\n",
    "# Create a cursor object\n",
    "cursor = conn.cursor()\n",
    "\n",
    "# Select table measuring points\n",
    "cursor.execute((\"\"\" SELECT * FROM measuring_points \"\"\"))\n",
    "df_records = pd.DataFrame(cursor.fetchall())\n",
    "df_measuring_points = pd.DataFrame(df_records)\n",
    "colnames = [desc[0] for desc in cursor.description]\n",
    "#print(colnames)\n",
    "df_measuring_points.columns = colnames\n",
    "\n",
    "# Select table measuring points location\n",
    "cursor.execute((\"\"\" SELECT * FROM measuring_points_coordinates \"\"\"))\n",
    "df_records = pd.DataFrame(cursor.fetchall())\n",
    "df_measuring_points_coordinates = pd.DataFrame(df_records)\n",
    "colnames = [desc[0] for desc in cursor.description]\n",
    "df_measuring_points_coordinates.columns = colnames\n",
    "\n",
    "# Select table traffic measurement\n",
    "cursor.execute((\"\"\" SELECT * FROM traffic_measurement_21 \"\"\"))\n",
    "df_records = pd.DataFrame(cursor.fetchall())\n",
    "df_traffic_21 = pd.DataFrame(df_records)\n",
    "colnames = [desc[0] for desc in cursor.description]\n",
    "df_traffic_21.columns = colnames\n",
    "\n",
    "# Select table charging_stations_static\n",
    "cursor.execute((\"\"\" SELECT * FROM charging_stations_static \"\"\"))\n",
    "df_records = pd.DataFrame(cursor.fetchall())\n",
    "df_charging_stations_static = pd.DataFrame(df_records)\n",
    "colnames = [desc[0] for desc in cursor.description]\n",
    "df_charging_stations_static.columns = colnames\n",
    "\n",
    "# Select table charging_stations_location\n",
    "cursor.execute((\"\"\" SELECT * FROM charging_stations_location \"\"\"))\n",
    "df_records = pd.DataFrame(cursor.fetchall())\n",
    "df_charging_stations_location = pd.DataFrame(df_records)\n",
    "colnames = [desc[0] for desc in cursor.description]\n",
    "df_charging_stations_location.columns = colnames\n",
    "\n",
    "conn.close()"
   ],
   "metadata": {
    "collapsed": false,
    "pycharm": {
     "name": "#%%\n"
    }
   }
  },
  {
   "cell_type": "code",
   "execution_count": 3,
   "outputs": [],
   "source": [
    "# # Overview\n",
    "# print(df_measuring_points.head(),'\\n',\n",
    "# df_measuring_points_coordinates.head(), '\\n',\n",
    "# df_traffic_21.head(), '\\n',\n",
    "# df_charging_stations_static.head(), '\\n',\n",
    "# df_charging_stations_location.head())"
   ],
   "metadata": {
    "collapsed": false,
    "pycharm": {
     "name": "#%%\n"
    }
   }
  },
  {
   "cell_type": "code",
   "execution_count": 4,
   "outputs": [
    {
     "name": "stdout",
     "output_type": "stream",
     "text": [
      "Lenght dataframes:  459 , 918 , 386\n"
     ]
    },
    {
     "data": {
      "text/plain": "     nr_measuring_point  annual_average                        point_name  \\\n0                     2               0                    CHALET-A-GOBET   \n2                     5            6918                       SCHWANDEN N   \n4                     9            7865                    BRUENIG, LETZI   \n6                    10               0         HOSPENTAL S, ST. GOTTHARD   \n8                    14            3434                 JULIER, LA VEDUTA   \n..                  ...             ...                               ...   \n762                 852               0  ECHANGEUR GD.ST.BERNARD EST (AR)   \n764                 853               0                  BIENNE NORD (AB)   \n766                 854           27123                     BENKEN N (AB)   \n768                 855           27060                     BENKEN S (AB)   \n770                 856               0                 OBEROHRINGEN (AB)   \n\n         status        type_point  road canton_abbreviation  coordinate_east  \\\n0    in Betrieb  Online+Statistik   H 1                  VD          2545269   \n2    in Betrieb  Online+Statistik  H 17                  GL          2724500   \n4    in Betrieb  Online+Statistik   A 8                  OW          2653895   \n6    in Betrieb  Online+Statistik   H 2                  UR          2686520   \n8    in Betrieb  Online+Statistik   H 3                  GR          2780967   \n..          ...               ...   ...                 ...              ...   \n762  in Betrieb  Online+Statistik   A 9                  VS          2573706   \n764  in Betrieb  Online+Statistik  A 16                  BE          2587263   \n766  in Betrieb     nur Statistik   A 4                  ZH          2690786   \n768  in Betrieb     nur Statistik   A 4                  ZH          2691429   \n770  in Betrieb     nur Statistik   A 1                  ZH          2695925   \n\n     coordinate_nord  \n0            1158463  \n2            1206725  \n4            1180111  \n6            1163452  \n8            1148640  \n..               ...  \n762          1107161  \n764          1222983  \n766          1278336  \n768          1277447  \n770          1264464  \n\n[386 rows x 9 columns]",
      "text/html": "<div>\n<style scoped>\n    .dataframe tbody tr th:only-of-type {\n        vertical-align: middle;\n    }\n\n    .dataframe tbody tr th {\n        vertical-align: top;\n    }\n\n    .dataframe thead th {\n        text-align: right;\n    }\n</style>\n<table border=\"1\" class=\"dataframe\">\n  <thead>\n    <tr style=\"text-align: right;\">\n      <th></th>\n      <th>nr_measuring_point</th>\n      <th>annual_average</th>\n      <th>point_name</th>\n      <th>status</th>\n      <th>type_point</th>\n      <th>road</th>\n      <th>canton_abbreviation</th>\n      <th>coordinate_east</th>\n      <th>coordinate_nord</th>\n    </tr>\n  </thead>\n  <tbody>\n    <tr>\n      <th>0</th>\n      <td>2</td>\n      <td>0</td>\n      <td>CHALET-A-GOBET</td>\n      <td>in Betrieb</td>\n      <td>Online+Statistik</td>\n      <td>H 1</td>\n      <td>VD</td>\n      <td>2545269</td>\n      <td>1158463</td>\n    </tr>\n    <tr>\n      <th>2</th>\n      <td>5</td>\n      <td>6918</td>\n      <td>SCHWANDEN N</td>\n      <td>in Betrieb</td>\n      <td>Online+Statistik</td>\n      <td>H 17</td>\n      <td>GL</td>\n      <td>2724500</td>\n      <td>1206725</td>\n    </tr>\n    <tr>\n      <th>4</th>\n      <td>9</td>\n      <td>7865</td>\n      <td>BRUENIG, LETZI</td>\n      <td>in Betrieb</td>\n      <td>Online+Statistik</td>\n      <td>A 8</td>\n      <td>OW</td>\n      <td>2653895</td>\n      <td>1180111</td>\n    </tr>\n    <tr>\n      <th>6</th>\n      <td>10</td>\n      <td>0</td>\n      <td>HOSPENTAL S, ST. GOTTHARD</td>\n      <td>in Betrieb</td>\n      <td>Online+Statistik</td>\n      <td>H 2</td>\n      <td>UR</td>\n      <td>2686520</td>\n      <td>1163452</td>\n    </tr>\n    <tr>\n      <th>8</th>\n      <td>14</td>\n      <td>3434</td>\n      <td>JULIER, LA VEDUTA</td>\n      <td>in Betrieb</td>\n      <td>Online+Statistik</td>\n      <td>H 3</td>\n      <td>GR</td>\n      <td>2780967</td>\n      <td>1148640</td>\n    </tr>\n    <tr>\n      <th>...</th>\n      <td>...</td>\n      <td>...</td>\n      <td>...</td>\n      <td>...</td>\n      <td>...</td>\n      <td>...</td>\n      <td>...</td>\n      <td>...</td>\n      <td>...</td>\n    </tr>\n    <tr>\n      <th>762</th>\n      <td>852</td>\n      <td>0</td>\n      <td>ECHANGEUR GD.ST.BERNARD EST (AR)</td>\n      <td>in Betrieb</td>\n      <td>Online+Statistik</td>\n      <td>A 9</td>\n      <td>VS</td>\n      <td>2573706</td>\n      <td>1107161</td>\n    </tr>\n    <tr>\n      <th>764</th>\n      <td>853</td>\n      <td>0</td>\n      <td>BIENNE NORD (AB)</td>\n      <td>in Betrieb</td>\n      <td>Online+Statistik</td>\n      <td>A 16</td>\n      <td>BE</td>\n      <td>2587263</td>\n      <td>1222983</td>\n    </tr>\n    <tr>\n      <th>766</th>\n      <td>854</td>\n      <td>27123</td>\n      <td>BENKEN N (AB)</td>\n      <td>in Betrieb</td>\n      <td>nur Statistik</td>\n      <td>A 4</td>\n      <td>ZH</td>\n      <td>2690786</td>\n      <td>1278336</td>\n    </tr>\n    <tr>\n      <th>768</th>\n      <td>855</td>\n      <td>27060</td>\n      <td>BENKEN S (AB)</td>\n      <td>in Betrieb</td>\n      <td>nur Statistik</td>\n      <td>A 4</td>\n      <td>ZH</td>\n      <td>2691429</td>\n      <td>1277447</td>\n    </tr>\n    <tr>\n      <th>770</th>\n      <td>856</td>\n      <td>0</td>\n      <td>OBEROHRINGEN (AB)</td>\n      <td>in Betrieb</td>\n      <td>nur Statistik</td>\n      <td>A 1</td>\n      <td>ZH</td>\n      <td>2695925</td>\n      <td>1264464</td>\n    </tr>\n  </tbody>\n</table>\n<p>386 rows × 9 columns</p>\n</div>"
     },
     "execution_count": 4,
     "metadata": {},
     "output_type": "execute_result"
    }
   ],
   "source": [
    "#Merge dataframes # Measuring points w/ traffic\n",
    "print('Lenght dataframes: ',\n",
    "len(df_measuring_points),',',\n",
    "len(df_measuring_points_coordinates),',',\n",
    "len(df_traffic_21))\n",
    "df1 = df_measuring_points.merge(df_measuring_points_coordinates, on = 'nr_measuring_point', how='left')\n",
    "df_points = df_traffic_21.merge(df1, on = 'nr_measuring_point', how= 'left')\n",
    "df_points.drop_duplicates(subset=['nr_measuring_point'], inplace=True)\n",
    "df_points.drop(['nr_x', 'nr_y'], axis=1, inplace=True)\n",
    "df_points"
   ],
   "metadata": {
    "collapsed": false,
    "pycharm": {
     "name": "#%%\n"
    }
   }
  },
  {
   "cell_type": "code",
   "execution_count": 5,
   "outputs": [
    {
     "data": {
      "text/plain": "False"
     },
     "execution_count": 5,
     "metadata": {},
     "output_type": "execute_result"
    }
   ],
   "source": [
    "df_points.isnull().values.any()"
   ],
   "metadata": {
    "collapsed": false,
    "pycharm": {
     "name": "#%%\n"
    }
   }
  },
  {
   "cell_type": "code",
   "execution_count": 6,
   "outputs": [
    {
     "name": "stdout",
     "output_type": "stream",
     "text": [
      "Lenght dataframes:  5050 , 3826\n"
     ]
    },
    {
     "data": {
      "text/plain": "                                evse_id                charging_station_id  \\\n0                      CH*EWD*E123*0033                   CH*EWD*E123*0033   \n1                      CH*EWD*E123*0027                   CH*EWD*E123*0027   \n2                       CH*REPE116*01*1                    CH*REPE116*01*1   \n3                       CH*REPE116*01*2                    CH*REPE116*01*1   \n4     CH*ECUEKWZFPH3QU3DLEHRXX5LBBLPNW2  CH*ECUEKWZFPH3QU3DLEHRXX5LBBLPNW2   \n...                                 ...                                ...   \n5045  CH*ECUESQTDWS8E7GCXWWNLXPGKTY7XKW  CH*ECUESQTDWS8E7GCXWWNLXPGKTY7XKW   \n5046  CH*ECUESNV3BFTL6Q2L682S7HZFMSR6TQ  CH*ECUESNV3BFTL6Q2L682S7HZFMSR6TQ   \n5047  CH*ECUELLVS9S9GYJTCYSNNLL8MBJSVYX  CH*ECUESNV3BFTL6Q2L682S7HZFMSR6TQ   \n5048  CH*ECUETWY3BAC7LALSQ3YMWE9RPWQGHX  CH*ECUETWY3BAC7LALSQ3YMWE9RPWQGHX   \n5049  CH*ECUEX7QTK73SQ246YUMVBSF65XSDGX  CH*ECUETWY3BAC7LALSQ3YMWE9RPWQGHX   \n\n     operator_id        city                   street  power  id_postal_code  \\\n0         CH*EWD       Davos           Bahnhofstrasse     22            1146   \n1         CH*EWD       Davos           Bahnhofstrasse     22            1146   \n2         CH*REP       Davos            Flüalastrasse     22            1146   \n3         CH*REP       Davos            Flüalastrasse     22            1146   \n4         CH*ECU  Davos Dorf  Hotel Inn Promenade 116     11            1146   \n...          ...         ...                      ...    ...             ...   \n5045      CH*ECU      Zürich    Reckenholzstrasse 191     22            1563   \n5046      CH*ECU   Domat/Ems             Via la Val 1     22             779   \n5047      CH*ECU   Domat/Ems             Via la Val 1     22             779   \n5048      CH*ECU      Luzern          Littauerboden 2     11            1508   \n5049      CH*ECU      Luzern          Littauerboden 2     11            1508   \n\n      coordinate_east  coordinate_nord  \n0            9.845910        46.813520  \n1            9.845860        46.813500  \n2            9.851364        46.811108  \n3            9.851364        46.811108  \n4            9.836806        46.802939  \n...               ...              ...  \n5045         8.516089        47.429032  \n5046         9.464860        46.837768  \n5047         9.464860        46.837768  \n5048         8.264859        47.061965  \n5049         8.264859        47.061965  \n\n[5050 rows x 9 columns]",
      "text/html": "<div>\n<style scoped>\n    .dataframe tbody tr th:only-of-type {\n        vertical-align: middle;\n    }\n\n    .dataframe tbody tr th {\n        vertical-align: top;\n    }\n\n    .dataframe thead th {\n        text-align: right;\n    }\n</style>\n<table border=\"1\" class=\"dataframe\">\n  <thead>\n    <tr style=\"text-align: right;\">\n      <th></th>\n      <th>evse_id</th>\n      <th>charging_station_id</th>\n      <th>operator_id</th>\n      <th>city</th>\n      <th>street</th>\n      <th>power</th>\n      <th>id_postal_code</th>\n      <th>coordinate_east</th>\n      <th>coordinate_nord</th>\n    </tr>\n  </thead>\n  <tbody>\n    <tr>\n      <th>0</th>\n      <td>CH*EWD*E123*0033</td>\n      <td>CH*EWD*E123*0033</td>\n      <td>CH*EWD</td>\n      <td>Davos</td>\n      <td>Bahnhofstrasse</td>\n      <td>22</td>\n      <td>1146</td>\n      <td>9.845910</td>\n      <td>46.813520</td>\n    </tr>\n    <tr>\n      <th>1</th>\n      <td>CH*EWD*E123*0027</td>\n      <td>CH*EWD*E123*0027</td>\n      <td>CH*EWD</td>\n      <td>Davos</td>\n      <td>Bahnhofstrasse</td>\n      <td>22</td>\n      <td>1146</td>\n      <td>9.845860</td>\n      <td>46.813500</td>\n    </tr>\n    <tr>\n      <th>2</th>\n      <td>CH*REPE116*01*1</td>\n      <td>CH*REPE116*01*1</td>\n      <td>CH*REP</td>\n      <td>Davos</td>\n      <td>Flüalastrasse</td>\n      <td>22</td>\n      <td>1146</td>\n      <td>9.851364</td>\n      <td>46.811108</td>\n    </tr>\n    <tr>\n      <th>3</th>\n      <td>CH*REPE116*01*2</td>\n      <td>CH*REPE116*01*1</td>\n      <td>CH*REP</td>\n      <td>Davos</td>\n      <td>Flüalastrasse</td>\n      <td>22</td>\n      <td>1146</td>\n      <td>9.851364</td>\n      <td>46.811108</td>\n    </tr>\n    <tr>\n      <th>4</th>\n      <td>CH*ECUEKWZFPH3QU3DLEHRXX5LBBLPNW2</td>\n      <td>CH*ECUEKWZFPH3QU3DLEHRXX5LBBLPNW2</td>\n      <td>CH*ECU</td>\n      <td>Davos Dorf</td>\n      <td>Hotel Inn Promenade 116</td>\n      <td>11</td>\n      <td>1146</td>\n      <td>9.836806</td>\n      <td>46.802939</td>\n    </tr>\n    <tr>\n      <th>...</th>\n      <td>...</td>\n      <td>...</td>\n      <td>...</td>\n      <td>...</td>\n      <td>...</td>\n      <td>...</td>\n      <td>...</td>\n      <td>...</td>\n      <td>...</td>\n    </tr>\n    <tr>\n      <th>5045</th>\n      <td>CH*ECUESQTDWS8E7GCXWWNLXPGKTY7XKW</td>\n      <td>CH*ECUESQTDWS8E7GCXWWNLXPGKTY7XKW</td>\n      <td>CH*ECU</td>\n      <td>Zürich</td>\n      <td>Reckenholzstrasse 191</td>\n      <td>22</td>\n      <td>1563</td>\n      <td>8.516089</td>\n      <td>47.429032</td>\n    </tr>\n    <tr>\n      <th>5046</th>\n      <td>CH*ECUESNV3BFTL6Q2L682S7HZFMSR6TQ</td>\n      <td>CH*ECUESNV3BFTL6Q2L682S7HZFMSR6TQ</td>\n      <td>CH*ECU</td>\n      <td>Domat/Ems</td>\n      <td>Via la Val 1</td>\n      <td>22</td>\n      <td>779</td>\n      <td>9.464860</td>\n      <td>46.837768</td>\n    </tr>\n    <tr>\n      <th>5047</th>\n      <td>CH*ECUELLVS9S9GYJTCYSNNLL8MBJSVYX</td>\n      <td>CH*ECUESNV3BFTL6Q2L682S7HZFMSR6TQ</td>\n      <td>CH*ECU</td>\n      <td>Domat/Ems</td>\n      <td>Via la Val 1</td>\n      <td>22</td>\n      <td>779</td>\n      <td>9.464860</td>\n      <td>46.837768</td>\n    </tr>\n    <tr>\n      <th>5048</th>\n      <td>CH*ECUETWY3BAC7LALSQ3YMWE9RPWQGHX</td>\n      <td>CH*ECUETWY3BAC7LALSQ3YMWE9RPWQGHX</td>\n      <td>CH*ECU</td>\n      <td>Luzern</td>\n      <td>Littauerboden 2</td>\n      <td>11</td>\n      <td>1508</td>\n      <td>8.264859</td>\n      <td>47.061965</td>\n    </tr>\n    <tr>\n      <th>5049</th>\n      <td>CH*ECUEX7QTK73SQ246YUMVBSF65XSDGX</td>\n      <td>CH*ECUETWY3BAC7LALSQ3YMWE9RPWQGHX</td>\n      <td>CH*ECU</td>\n      <td>Luzern</td>\n      <td>Littauerboden 2</td>\n      <td>11</td>\n      <td>1508</td>\n      <td>8.264859</td>\n      <td>47.061965</td>\n    </tr>\n  </tbody>\n</table>\n<p>5050 rows × 9 columns</p>\n</div>"
     },
     "execution_count": 6,
     "metadata": {},
     "output_type": "execute_result"
    }
   ],
   "source": [
    "#Merge dataframes # Chargin stations w/ location\n",
    "print('Lenght dataframes: ',\n",
    "len(df_charging_stations_static),',',\n",
    "len(df_charging_stations_location))\n",
    "df_stations = df_charging_stations_static.merge(df_charging_stations_location, on='charging_station_id',\n",
    "                                                how='left')\n",
    "df_stations"
   ],
   "metadata": {
    "collapsed": false,
    "pycharm": {
     "name": "#%%\n"
    }
   }
  },
  {
   "cell_type": "code",
   "execution_count": 7,
   "outputs": [
    {
     "data": {
      "text/plain": "False"
     },
     "execution_count": 7,
     "metadata": {},
     "output_type": "execute_result"
    }
   ],
   "source": [
    "df_stations.isnull().values.any()"
   ],
   "metadata": {
    "collapsed": false,
    "pycharm": {
     "name": "#%%\n"
    }
   }
  },
  {
   "cell_type": "code",
   "execution_count": 8,
   "outputs": [],
   "source": [
    "# Approximate Formula to transform Swiss coordinates to WGS84 coordinates, deviation in ~1-3 meters\n",
    "def lv95_to_wgs84_coordinates(y, x): # y = coordinate-east, x = coordinate-nord\n",
    "    # convert into the civilian system in the unit 1000 km\n",
    "    y = (y-2600000)/1000000\n",
    "    x = (x-1200000)/1000000\n",
    "    # Calculate longitude / latitude in the unit 10000\"\n",
    "    E = 2.6779094\\\n",
    "    + 4.728982 * y \\\n",
    "    + 0.791484 * y * x\\\n",
    "    + 0.1306 *y * x**2\\\n",
    "    - 0.0436 * y**3\n",
    "    N = 16.9023892\\\n",
    "    + 3.238272 * x \\\n",
    "    - 0.270978 * y**2\\\n",
    "    - 0.002528 * x**2\\\n",
    "    - 0.0447 * y**2 * x\\\n",
    "    - 0.0140 * x**3\n",
    "    #Convert longitude and latitude to unit °\n",
    "    E = round(E * 100/36,6)\n",
    "    N = round(N * 100/36,6)\n",
    "    return [E, N]\n",
    "\n",
    "# # Trial\n",
    "# lv95_to_wgs84_coordinates(y = 2700000,\n",
    "#                           x = 1100000)\n",
    "# lv95_to_wgs84_coordinates(y = 2545269,\n",
    "#                           x = 1158463)"
   ],
   "metadata": {
    "collapsed": false,
    "pycharm": {
     "name": "#%%\n"
    }
   }
  },
  {
   "cell_type": "code",
   "execution_count": 9,
   "outputs": [
    {
     "data": {
      "text/plain": "     nr_measuring_point  annual_average                 point_name  \\\n0                   2.0             0.0             CHALET-A-GOBET   \n2                   5.0          6918.0                SCHWANDEN N   \n4                   9.0          7865.0             BRUENIG, LETZI   \n6                  10.0             0.0  HOSPENTAL S, ST. GOTTHARD   \n8                  14.0          3434.0          JULIER, LA VEDUTA   \n..                  ...             ...                        ...   \n377                 NaN             NaN                        NaN   \n379                 NaN             NaN                        NaN   \n381                 NaN             NaN                        NaN   \n383                 NaN             NaN                        NaN   \n385                 NaN             NaN                        NaN   \n\n         status        type_point  road canton_abbreviation  coordinate_east  \\\n0    in Betrieb  Online+Statistik   H 1                  VD         6.724671   \n2    in Betrieb  Online+Statistik  H 17                  GL         8.144237   \n4    in Betrieb  Online+Statistik   A 8                  OW         9.794852   \n6    in Betrieb  Online+Statistik   H 2                  UR         8.101320   \n8    in Betrieb  Online+Statistik   H 3                  GR         8.541565   \n..          ...               ...   ...                 ...              ...   \n377         NaN               NaN   NaN                 NaN         8.622008   \n379         NaN               NaN   NaN                 NaN         8.608638   \n381         NaN               NaN   NaN                 NaN         7.098525   \n383         NaN               NaN   NaN                 NaN         8.646955   \n385         NaN               NaN   NaN                 NaN         8.712347   \n\n     coordinate_nord  \n0          46.575199  \n2          46.769994  \n4          46.464632  \n6          47.387874  \n8          47.433075  \n..               ...  \n377        47.691050  \n379        47.691239  \n381        46.115434  \n383        47.649383  \n385        47.523908  \n\n[579 rows x 9 columns]",
      "text/html": "<div>\n<style scoped>\n    .dataframe tbody tr th:only-of-type {\n        vertical-align: middle;\n    }\n\n    .dataframe tbody tr th {\n        vertical-align: top;\n    }\n\n    .dataframe thead th {\n        text-align: right;\n    }\n</style>\n<table border=\"1\" class=\"dataframe\">\n  <thead>\n    <tr style=\"text-align: right;\">\n      <th></th>\n      <th>nr_measuring_point</th>\n      <th>annual_average</th>\n      <th>point_name</th>\n      <th>status</th>\n      <th>type_point</th>\n      <th>road</th>\n      <th>canton_abbreviation</th>\n      <th>coordinate_east</th>\n      <th>coordinate_nord</th>\n    </tr>\n  </thead>\n  <tbody>\n    <tr>\n      <th>0</th>\n      <td>2.0</td>\n      <td>0.0</td>\n      <td>CHALET-A-GOBET</td>\n      <td>in Betrieb</td>\n      <td>Online+Statistik</td>\n      <td>H 1</td>\n      <td>VD</td>\n      <td>6.724671</td>\n      <td>46.575199</td>\n    </tr>\n    <tr>\n      <th>2</th>\n      <td>5.0</td>\n      <td>6918.0</td>\n      <td>SCHWANDEN N</td>\n      <td>in Betrieb</td>\n      <td>Online+Statistik</td>\n      <td>H 17</td>\n      <td>GL</td>\n      <td>8.144237</td>\n      <td>46.769994</td>\n    </tr>\n    <tr>\n      <th>4</th>\n      <td>9.0</td>\n      <td>7865.0</td>\n      <td>BRUENIG, LETZI</td>\n      <td>in Betrieb</td>\n      <td>Online+Statistik</td>\n      <td>A 8</td>\n      <td>OW</td>\n      <td>9.794852</td>\n      <td>46.464632</td>\n    </tr>\n    <tr>\n      <th>6</th>\n      <td>10.0</td>\n      <td>0.0</td>\n      <td>HOSPENTAL S, ST. GOTTHARD</td>\n      <td>in Betrieb</td>\n      <td>Online+Statistik</td>\n      <td>H 2</td>\n      <td>UR</td>\n      <td>8.101320</td>\n      <td>47.387874</td>\n    </tr>\n    <tr>\n      <th>8</th>\n      <td>14.0</td>\n      <td>3434.0</td>\n      <td>JULIER, LA VEDUTA</td>\n      <td>in Betrieb</td>\n      <td>Online+Statistik</td>\n      <td>H 3</td>\n      <td>GR</td>\n      <td>8.541565</td>\n      <td>47.433075</td>\n    </tr>\n    <tr>\n      <th>...</th>\n      <td>...</td>\n      <td>...</td>\n      <td>...</td>\n      <td>...</td>\n      <td>...</td>\n      <td>...</td>\n      <td>...</td>\n      <td>...</td>\n      <td>...</td>\n    </tr>\n    <tr>\n      <th>377</th>\n      <td>NaN</td>\n      <td>NaN</td>\n      <td>NaN</td>\n      <td>NaN</td>\n      <td>NaN</td>\n      <td>NaN</td>\n      <td>NaN</td>\n      <td>8.622008</td>\n      <td>47.691050</td>\n    </tr>\n    <tr>\n      <th>379</th>\n      <td>NaN</td>\n      <td>NaN</td>\n      <td>NaN</td>\n      <td>NaN</td>\n      <td>NaN</td>\n      <td>NaN</td>\n      <td>NaN</td>\n      <td>8.608638</td>\n      <td>47.691239</td>\n    </tr>\n    <tr>\n      <th>381</th>\n      <td>NaN</td>\n      <td>NaN</td>\n      <td>NaN</td>\n      <td>NaN</td>\n      <td>NaN</td>\n      <td>NaN</td>\n      <td>NaN</td>\n      <td>7.098525</td>\n      <td>46.115434</td>\n    </tr>\n    <tr>\n      <th>383</th>\n      <td>NaN</td>\n      <td>NaN</td>\n      <td>NaN</td>\n      <td>NaN</td>\n      <td>NaN</td>\n      <td>NaN</td>\n      <td>NaN</td>\n      <td>8.646955</td>\n      <td>47.649383</td>\n    </tr>\n    <tr>\n      <th>385</th>\n      <td>NaN</td>\n      <td>NaN</td>\n      <td>NaN</td>\n      <td>NaN</td>\n      <td>NaN</td>\n      <td>NaN</td>\n      <td>NaN</td>\n      <td>8.712347</td>\n      <td>47.523908</td>\n    </tr>\n  </tbody>\n</table>\n<p>579 rows × 9 columns</p>\n</div>"
     },
     "execution_count": 9,
     "metadata": {},
     "output_type": "execute_result"
    }
   ],
   "source": [
    "# Transform coordinates\n",
    "for row in range(0, len(df_points)):\n",
    "    east = df_points.iloc[row, 7]\n",
    "    nord = df_points.iloc[row, 8]\n",
    "    #print(nord, east)\n",
    "    coordinate_list = lv95_to_wgs84_coordinates(y = east, x = nord)\n",
    "    #print(coordinate_list)\n",
    "    df_points.loc[row, 'coordinate_east'] = coordinate_list[0]\n",
    "    df_points.loc[row, 'coordinate_nord'] = coordinate_list[1]\n",
    "df_points"
   ],
   "metadata": {
    "collapsed": false,
    "pycharm": {
     "name": "#%%\n"
    }
   }
  },
  {
   "cell_type": "code",
   "execution_count": null,
   "outputs": [],
   "source": [
    "# Number of chargin stations within 5 km = 0.045 degrees\n",
    "df_points['Charging_stations_5km'] = 0\n",
    "df_points['Charging_stations_10km'] = 0\n",
    "df_points['Charging_stations_15km'] = 0\n",
    "df_points['Charging_stations_20km'] = 0\n",
    "for row in range(0, len(df_points)):\n",
    "    station_count_5km = 0\n",
    "    station_count_10km = 0\n",
    "    station_count_15km = 0\n",
    "    station_count_20km = 0\n",
    "    point_east = df_points.iloc[row, 7]\n",
    "    point_nord = df_points.iloc[row, 8]\n",
    "    for row in range(0, len(df_stations)):\n",
    "        station_east = df_stations.iloc[row, 7]\n",
    "        station_nord = df_stations.iloc[row, 8]\n",
    "        if (point_east - station_east) <= 0.045 and \\\n",
    "                (point_nord - station_nord) <= 0.045:\n",
    "            station_count_5km = station_count_5km + 1\n",
    "        elif (point_east - station_east) <= 0.09 and \\\n",
    "                (point_nord - station_nord) <= 0.09:\n",
    "            station_count_10km = station_count_10km + 1\n",
    "        elif (point_east - station_east) <= 0.135 and \\\n",
    "                (point_nord - station_nord) <= 0.135:\n",
    "            station_count_15km = station_count_15km + 1\n",
    "        elif (point_east - station_east) <= 0.18 and \\\n",
    "                (point_nord - station_nord) <= 0.18:\n",
    "            station_count_20km = station_count_20km + 1\n",
    "        else:\n",
    "            continue\n",
    "    df_points.loc[row, 'Charging_stations_5km'] = station_count_5km\n",
    "    df_points.loc[row, 'Charging_stations_10km'] = station_count_10km\n",
    "    df_points.loc[row, 'Charging_stations_15km'] = station_count_15km\n",
    "    df_points.loc[row, 'Charging_stations_20km'] = station_count_20km\n",
    "\n",
    "df_points"
   ],
   "metadata": {
    "collapsed": false,
    "pycharm": {
     "name": "#%%\n",
     "is_executing": true
    }
   }
  },
  {
   "cell_type": "code",
   "execution_count": null,
   "outputs": [],
   "source": [],
   "metadata": {
    "collapsed": false,
    "pycharm": {
     "name": "#%%\n"
    }
   }
  },
  {
   "cell_type": "code",
   "execution_count": null,
   "outputs": [],
   "source": [],
   "metadata": {
    "collapsed": false,
    "pycharm": {
     "name": "#%%\n"
    }
   }
  },
  {
   "cell_type": "code",
   "execution_count": null,
   "outputs": [],
   "source": [],
   "metadata": {
    "collapsed": false,
    "pycharm": {
     "name": "#%%\n"
    }
   }
  },
  {
   "cell_type": "code",
   "execution_count": null,
   "outputs": [],
   "source": [],
   "metadata": {
    "collapsed": false,
    "pycharm": {
     "name": "#%%\n"
    }
   }
  },
  {
   "cell_type": "code",
   "execution_count": null,
   "outputs": [],
   "source": [],
   "metadata": {
    "collapsed": false,
    "pycharm": {
     "name": "#%%\n"
    }
   }
  }
 ],
 "metadata": {
  "kernelspec": {
   "display_name": "Python 3",
   "language": "python",
   "name": "python3"
  },
  "language_info": {
   "codemirror_mode": {
    "name": "ipython",
    "version": 2
   },
   "file_extension": ".py",
   "mimetype": "text/x-python",
   "name": "python",
   "nbconvert_exporter": "python",
   "pygments_lexer": "ipython2",
   "version": "2.7.6"
  }
 },
 "nbformat": 4,
 "nbformat_minor": 0
}