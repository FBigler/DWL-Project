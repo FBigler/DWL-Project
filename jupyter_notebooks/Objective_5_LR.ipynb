{
 "cells": [
  {
   "cell_type": "code",
   "execution_count": 1,
   "outputs": [],
   "source": [
    "import psycopg2\n",
    "import psycopg2.extras as extras\n",
    "import config_warehouse as creds\n",
    "import config_lake as creds_lake\n",
    "import pandas as pd\n",
    "from math import radians, cos, sin, asin, sqrt"
   ],
   "metadata": {
    "collapsed": false,
    "pycharm": {
     "name": "#%%\n"
    }
   }
  },
  {
   "cell_type": "code",
   "execution_count": 2,
   "outputs": [
    {
     "name": "stdout",
     "output_type": "stream",
     "text": [
      "Connected!\n"
     ]
    }
   ],
   "source": [
    "# Set up a connection to the warehouse\n",
    "conn_string = \"host=\"+ creds.PGHOST +\" port=\"+ \"5432\" +\" dbname=\"+ creds.PGDATABASE +\" user=\" + creds.PGUSER \\\n",
    "          +\" password=\"+ creds.PGPASSWORD\n",
    "\n",
    "conn = psycopg2.connect(conn_string)\n",
    "print(\"Connected!\")\n",
    "\n",
    "# Create a cursor object\n",
    "cursor = conn.cursor()\n",
    "\n",
    "# Select table measuring points\n",
    "cursor.execute((\"\"\" SELECT * FROM measuring_points \"\"\"))\n",
    "df_records = pd.DataFrame(cursor.fetchall())\n",
    "df_measuring_points = pd.DataFrame(df_records)\n",
    "colnames = [desc[0] for desc in cursor.description]\n",
    "#print(colnames)\n",
    "df_measuring_points.columns = colnames\n",
    "\n",
    "# Select table measuring points location\n",
    "cursor.execute((\"\"\" SELECT * FROM measuring_points_coordinates \"\"\"))\n",
    "df_records = pd.DataFrame(cursor.fetchall())\n",
    "df_measuring_points_coordinates = pd.DataFrame(df_records)\n",
    "colnames = [desc[0] for desc in cursor.description]\n",
    "df_measuring_points_coordinates.columns = colnames\n",
    "\n",
    "# Select table traffic measurement\n",
    "cursor.execute((\"\"\" SELECT * FROM traffic_measurement_21 \"\"\"))\n",
    "df_records = pd.DataFrame(cursor.fetchall())\n",
    "df_traffic_21 = pd.DataFrame(df_records)\n",
    "colnames = [desc[0] for desc in cursor.description]\n",
    "df_traffic_21.columns = colnames\n",
    "\n",
    "# Select table charging_stations_static\n",
    "cursor.execute((\"\"\" SELECT * FROM charging_stations_static \"\"\"))\n",
    "df_records = pd.DataFrame(cursor.fetchall())\n",
    "df_charging_stations_static = pd.DataFrame(df_records)\n",
    "colnames = [desc[0] for desc in cursor.description]\n",
    "df_charging_stations_static.columns = colnames\n",
    "\n",
    "# Select table charging_stations_location\n",
    "cursor.execute((\"\"\" SELECT * FROM charging_stations_location \"\"\"))\n",
    "df_records = pd.DataFrame(cursor.fetchall())\n",
    "df_charging_stations_location = pd.DataFrame(df_records)\n",
    "colnames = [desc[0] for desc in cursor.description]\n",
    "df_charging_stations_location.columns = colnames\n",
    "\n",
    "conn.close()"
   ],
   "metadata": {
    "collapsed": false,
    "pycharm": {
     "name": "#%%\n"
    }
   }
  },
  {
   "cell_type": "code",
   "execution_count": 3,
   "outputs": [],
   "source": [
    "# # Overview\n",
    "# print(df_measuring_points.head(),'\\n',\n",
    "# df_measuring_points_coordinates.head(), '\\n',\n",
    "# df_traffic_21.head(), '\\n',\n",
    "# df_charging_stations_static.head(), '\\n',\n",
    "# df_charging_stations_location.head())"
   ],
   "metadata": {
    "collapsed": false,
    "pycharm": {
     "name": "#%%\n"
    }
   }
  },
  {
   "cell_type": "code",
   "execution_count": 4,
   "outputs": [
    {
     "name": "stdout",
     "output_type": "stream",
     "text": [
      "Lenght dataframes:  459 , 918 , 386\n"
     ]
    },
    {
     "data": {
      "text/plain": "     nr_measuring_point  annual_average                        point_name  \\\n0                     2               0                    CHALET-A-GOBET   \n2                     5            6918                       SCHWANDEN N   \n4                     9            7865                    BRUENIG, LETZI   \n6                    10               0         HOSPENTAL S, ST. GOTTHARD   \n8                    14            3434                 JULIER, LA VEDUTA   \n..                  ...             ...                               ...   \n762                 852               0  ECHANGEUR GD.ST.BERNARD EST (AR)   \n764                 853               0                  BIENNE NORD (AB)   \n766                 854           27123                     BENKEN N (AB)   \n768                 855           27060                     BENKEN S (AB)   \n770                 856               0                 OBEROHRINGEN (AB)   \n\n         status        type_point  road canton_abbreviation  coordinate_east  \\\n0    in Betrieb  Online+Statistik   H 1                  VD          2545269   \n2    in Betrieb  Online+Statistik  H 17                  GL          2724500   \n4    in Betrieb  Online+Statistik   A 8                  OW          2653895   \n6    in Betrieb  Online+Statistik   H 2                  UR          2686520   \n8    in Betrieb  Online+Statistik   H 3                  GR          2780967   \n..          ...               ...   ...                 ...              ...   \n762  in Betrieb  Online+Statistik   A 9                  VS          2573706   \n764  in Betrieb  Online+Statistik  A 16                  BE          2587263   \n766  in Betrieb     nur Statistik   A 4                  ZH          2690786   \n768  in Betrieb     nur Statistik   A 4                  ZH          2691429   \n770  in Betrieb     nur Statistik   A 1                  ZH          2695925   \n\n     coordinate_nord  \n0            1158463  \n2            1206725  \n4            1180111  \n6            1163452  \n8            1148640  \n..               ...  \n762          1107161  \n764          1222983  \n766          1278336  \n768          1277447  \n770          1264464  \n\n[386 rows x 9 columns]",
      "text/html": "<div>\n<style scoped>\n    .dataframe tbody tr th:only-of-type {\n        vertical-align: middle;\n    }\n\n    .dataframe tbody tr th {\n        vertical-align: top;\n    }\n\n    .dataframe thead th {\n        text-align: right;\n    }\n</style>\n<table border=\"1\" class=\"dataframe\">\n  <thead>\n    <tr style=\"text-align: right;\">\n      <th></th>\n      <th>nr_measuring_point</th>\n      <th>annual_average</th>\n      <th>point_name</th>\n      <th>status</th>\n      <th>type_point</th>\n      <th>road</th>\n      <th>canton_abbreviation</th>\n      <th>coordinate_east</th>\n      <th>coordinate_nord</th>\n    </tr>\n  </thead>\n  <tbody>\n    <tr>\n      <th>0</th>\n      <td>2</td>\n      <td>0</td>\n      <td>CHALET-A-GOBET</td>\n      <td>in Betrieb</td>\n      <td>Online+Statistik</td>\n      <td>H 1</td>\n      <td>VD</td>\n      <td>2545269</td>\n      <td>1158463</td>\n    </tr>\n    <tr>\n      <th>2</th>\n      <td>5</td>\n      <td>6918</td>\n      <td>SCHWANDEN N</td>\n      <td>in Betrieb</td>\n      <td>Online+Statistik</td>\n      <td>H 17</td>\n      <td>GL</td>\n      <td>2724500</td>\n      <td>1206725</td>\n    </tr>\n    <tr>\n      <th>4</th>\n      <td>9</td>\n      <td>7865</td>\n      <td>BRUENIG, LETZI</td>\n      <td>in Betrieb</td>\n      <td>Online+Statistik</td>\n      <td>A 8</td>\n      <td>OW</td>\n      <td>2653895</td>\n      <td>1180111</td>\n    </tr>\n    <tr>\n      <th>6</th>\n      <td>10</td>\n      <td>0</td>\n      <td>HOSPENTAL S, ST. GOTTHARD</td>\n      <td>in Betrieb</td>\n      <td>Online+Statistik</td>\n      <td>H 2</td>\n      <td>UR</td>\n      <td>2686520</td>\n      <td>1163452</td>\n    </tr>\n    <tr>\n      <th>8</th>\n      <td>14</td>\n      <td>3434</td>\n      <td>JULIER, LA VEDUTA</td>\n      <td>in Betrieb</td>\n      <td>Online+Statistik</td>\n      <td>H 3</td>\n      <td>GR</td>\n      <td>2780967</td>\n      <td>1148640</td>\n    </tr>\n    <tr>\n      <th>...</th>\n      <td>...</td>\n      <td>...</td>\n      <td>...</td>\n      <td>...</td>\n      <td>...</td>\n      <td>...</td>\n      <td>...</td>\n      <td>...</td>\n      <td>...</td>\n    </tr>\n    <tr>\n      <th>762</th>\n      <td>852</td>\n      <td>0</td>\n      <td>ECHANGEUR GD.ST.BERNARD EST (AR)</td>\n      <td>in Betrieb</td>\n      <td>Online+Statistik</td>\n      <td>A 9</td>\n      <td>VS</td>\n      <td>2573706</td>\n      <td>1107161</td>\n    </tr>\n    <tr>\n      <th>764</th>\n      <td>853</td>\n      <td>0</td>\n      <td>BIENNE NORD (AB)</td>\n      <td>in Betrieb</td>\n      <td>Online+Statistik</td>\n      <td>A 16</td>\n      <td>BE</td>\n      <td>2587263</td>\n      <td>1222983</td>\n    </tr>\n    <tr>\n      <th>766</th>\n      <td>854</td>\n      <td>27123</td>\n      <td>BENKEN N (AB)</td>\n      <td>in Betrieb</td>\n      <td>nur Statistik</td>\n      <td>A 4</td>\n      <td>ZH</td>\n      <td>2690786</td>\n      <td>1278336</td>\n    </tr>\n    <tr>\n      <th>768</th>\n      <td>855</td>\n      <td>27060</td>\n      <td>BENKEN S (AB)</td>\n      <td>in Betrieb</td>\n      <td>nur Statistik</td>\n      <td>A 4</td>\n      <td>ZH</td>\n      <td>2691429</td>\n      <td>1277447</td>\n    </tr>\n    <tr>\n      <th>770</th>\n      <td>856</td>\n      <td>0</td>\n      <td>OBEROHRINGEN (AB)</td>\n      <td>in Betrieb</td>\n      <td>nur Statistik</td>\n      <td>A 1</td>\n      <td>ZH</td>\n      <td>2695925</td>\n      <td>1264464</td>\n    </tr>\n  </tbody>\n</table>\n<p>386 rows × 9 columns</p>\n</div>"
     },
     "execution_count": 4,
     "metadata": {},
     "output_type": "execute_result"
    }
   ],
   "source": [
    "#Merge dataframes # Measuring points w/ traffic\n",
    "print('Lenght dataframes: ',\n",
    "len(df_measuring_points),',',\n",
    "len(df_measuring_points_coordinates),',',\n",
    "len(df_traffic_21))\n",
    "df1 = df_measuring_points.merge(df_measuring_points_coordinates, on = 'nr_measuring_point', how='left')\n",
    "df_points = df_traffic_21.merge(df1, on = 'nr_measuring_point', how= 'left')\n",
    "df_points.drop_duplicates(subset=['nr_measuring_point'], inplace=True)\n",
    "df_points.drop(['nr_x', 'nr_y'], axis=1, inplace=True)\n",
    "df_points"
   ],
   "metadata": {
    "collapsed": false,
    "pycharm": {
     "name": "#%%\n"
    }
   }
  },
  {
   "cell_type": "code",
   "execution_count": 5,
   "outputs": [
    {
     "data": {
      "text/plain": "False"
     },
     "execution_count": 5,
     "metadata": {},
     "output_type": "execute_result"
    }
   ],
   "source": [
    "df_points.isnull().values.any()"
   ],
   "metadata": {
    "collapsed": false,
    "pycharm": {
     "name": "#%%\n"
    }
   }
  },
  {
   "cell_type": "code",
   "execution_count": 6,
   "outputs": [
    {
     "name": "stdout",
     "output_type": "stream",
     "text": [
      "Lenght dataframes:  5050 , 3826\n"
     ]
    },
    {
     "data": {
      "text/plain": "                                evse_id                charging_station_id  \\\n0                      CH*EWD*E123*0033                   CH*EWD*E123*0033   \n1                      CH*EWD*E123*0027                   CH*EWD*E123*0027   \n2                       CH*REPE116*01*1                    CH*REPE116*01*1   \n3                       CH*REPE116*01*2                    CH*REPE116*01*1   \n4     CH*ECUEKWZFPH3QU3DLEHRXX5LBBLPNW2  CH*ECUEKWZFPH3QU3DLEHRXX5LBBLPNW2   \n...                                 ...                                ...   \n5045  CH*ECUESQTDWS8E7GCXWWNLXPGKTY7XKW  CH*ECUESQTDWS8E7GCXWWNLXPGKTY7XKW   \n5046  CH*ECUESNV3BFTL6Q2L682S7HZFMSR6TQ  CH*ECUESNV3BFTL6Q2L682S7HZFMSR6TQ   \n5047  CH*ECUELLVS9S9GYJTCYSNNLL8MBJSVYX  CH*ECUESNV3BFTL6Q2L682S7HZFMSR6TQ   \n5048  CH*ECUETWY3BAC7LALSQ3YMWE9RPWQGHX  CH*ECUETWY3BAC7LALSQ3YMWE9RPWQGHX   \n5049  CH*ECUEX7QTK73SQ246YUMVBSF65XSDGX  CH*ECUETWY3BAC7LALSQ3YMWE9RPWQGHX   \n\n     operator_id        city                   street  power  id_postal_code  \\\n0         CH*EWD       Davos           Bahnhofstrasse     22            1146   \n1         CH*EWD       Davos           Bahnhofstrasse     22            1146   \n2         CH*REP       Davos            Flüalastrasse     22            1146   \n3         CH*REP       Davos            Flüalastrasse     22            1146   \n4         CH*ECU  Davos Dorf  Hotel Inn Promenade 116     11            1146   \n...          ...         ...                      ...    ...             ...   \n5045      CH*ECU      Zürich    Reckenholzstrasse 191     22            1563   \n5046      CH*ECU   Domat/Ems             Via la Val 1     22             779   \n5047      CH*ECU   Domat/Ems             Via la Val 1     22             779   \n5048      CH*ECU      Luzern          Littauerboden 2     11            1508   \n5049      CH*ECU      Luzern          Littauerboden 2     11            1508   \n\n      coordinate_east  coordinate_nord  \n0            9.845910        46.813520  \n1            9.845860        46.813500  \n2            9.851364        46.811108  \n3            9.851364        46.811108  \n4            9.836806        46.802939  \n...               ...              ...  \n5045         8.516089        47.429032  \n5046         9.464860        46.837768  \n5047         9.464860        46.837768  \n5048         8.264859        47.061965  \n5049         8.264859        47.061965  \n\n[5050 rows x 9 columns]",
      "text/html": "<div>\n<style scoped>\n    .dataframe tbody tr th:only-of-type {\n        vertical-align: middle;\n    }\n\n    .dataframe tbody tr th {\n        vertical-align: top;\n    }\n\n    .dataframe thead th {\n        text-align: right;\n    }\n</style>\n<table border=\"1\" class=\"dataframe\">\n  <thead>\n    <tr style=\"text-align: right;\">\n      <th></th>\n      <th>evse_id</th>\n      <th>charging_station_id</th>\n      <th>operator_id</th>\n      <th>city</th>\n      <th>street</th>\n      <th>power</th>\n      <th>id_postal_code</th>\n      <th>coordinate_east</th>\n      <th>coordinate_nord</th>\n    </tr>\n  </thead>\n  <tbody>\n    <tr>\n      <th>0</th>\n      <td>CH*EWD*E123*0033</td>\n      <td>CH*EWD*E123*0033</td>\n      <td>CH*EWD</td>\n      <td>Davos</td>\n      <td>Bahnhofstrasse</td>\n      <td>22</td>\n      <td>1146</td>\n      <td>9.845910</td>\n      <td>46.813520</td>\n    </tr>\n    <tr>\n      <th>1</th>\n      <td>CH*EWD*E123*0027</td>\n      <td>CH*EWD*E123*0027</td>\n      <td>CH*EWD</td>\n      <td>Davos</td>\n      <td>Bahnhofstrasse</td>\n      <td>22</td>\n      <td>1146</td>\n      <td>9.845860</td>\n      <td>46.813500</td>\n    </tr>\n    <tr>\n      <th>2</th>\n      <td>CH*REPE116*01*1</td>\n      <td>CH*REPE116*01*1</td>\n      <td>CH*REP</td>\n      <td>Davos</td>\n      <td>Flüalastrasse</td>\n      <td>22</td>\n      <td>1146</td>\n      <td>9.851364</td>\n      <td>46.811108</td>\n    </tr>\n    <tr>\n      <th>3</th>\n      <td>CH*REPE116*01*2</td>\n      <td>CH*REPE116*01*1</td>\n      <td>CH*REP</td>\n      <td>Davos</td>\n      <td>Flüalastrasse</td>\n      <td>22</td>\n      <td>1146</td>\n      <td>9.851364</td>\n      <td>46.811108</td>\n    </tr>\n    <tr>\n      <th>4</th>\n      <td>CH*ECUEKWZFPH3QU3DLEHRXX5LBBLPNW2</td>\n      <td>CH*ECUEKWZFPH3QU3DLEHRXX5LBBLPNW2</td>\n      <td>CH*ECU</td>\n      <td>Davos Dorf</td>\n      <td>Hotel Inn Promenade 116</td>\n      <td>11</td>\n      <td>1146</td>\n      <td>9.836806</td>\n      <td>46.802939</td>\n    </tr>\n    <tr>\n      <th>...</th>\n      <td>...</td>\n      <td>...</td>\n      <td>...</td>\n      <td>...</td>\n      <td>...</td>\n      <td>...</td>\n      <td>...</td>\n      <td>...</td>\n      <td>...</td>\n    </tr>\n    <tr>\n      <th>5045</th>\n      <td>CH*ECUESQTDWS8E7GCXWWNLXPGKTY7XKW</td>\n      <td>CH*ECUESQTDWS8E7GCXWWNLXPGKTY7XKW</td>\n      <td>CH*ECU</td>\n      <td>Zürich</td>\n      <td>Reckenholzstrasse 191</td>\n      <td>22</td>\n      <td>1563</td>\n      <td>8.516089</td>\n      <td>47.429032</td>\n    </tr>\n    <tr>\n      <th>5046</th>\n      <td>CH*ECUESNV3BFTL6Q2L682S7HZFMSR6TQ</td>\n      <td>CH*ECUESNV3BFTL6Q2L682S7HZFMSR6TQ</td>\n      <td>CH*ECU</td>\n      <td>Domat/Ems</td>\n      <td>Via la Val 1</td>\n      <td>22</td>\n      <td>779</td>\n      <td>9.464860</td>\n      <td>46.837768</td>\n    </tr>\n    <tr>\n      <th>5047</th>\n      <td>CH*ECUELLVS9S9GYJTCYSNNLL8MBJSVYX</td>\n      <td>CH*ECUESNV3BFTL6Q2L682S7HZFMSR6TQ</td>\n      <td>CH*ECU</td>\n      <td>Domat/Ems</td>\n      <td>Via la Val 1</td>\n      <td>22</td>\n      <td>779</td>\n      <td>9.464860</td>\n      <td>46.837768</td>\n    </tr>\n    <tr>\n      <th>5048</th>\n      <td>CH*ECUETWY3BAC7LALSQ3YMWE9RPWQGHX</td>\n      <td>CH*ECUETWY3BAC7LALSQ3YMWE9RPWQGHX</td>\n      <td>CH*ECU</td>\n      <td>Luzern</td>\n      <td>Littauerboden 2</td>\n      <td>11</td>\n      <td>1508</td>\n      <td>8.264859</td>\n      <td>47.061965</td>\n    </tr>\n    <tr>\n      <th>5049</th>\n      <td>CH*ECUEX7QTK73SQ246YUMVBSF65XSDGX</td>\n      <td>CH*ECUETWY3BAC7LALSQ3YMWE9RPWQGHX</td>\n      <td>CH*ECU</td>\n      <td>Luzern</td>\n      <td>Littauerboden 2</td>\n      <td>11</td>\n      <td>1508</td>\n      <td>8.264859</td>\n      <td>47.061965</td>\n    </tr>\n  </tbody>\n</table>\n<p>5050 rows × 9 columns</p>\n</div>"
     },
     "execution_count": 6,
     "metadata": {},
     "output_type": "execute_result"
    }
   ],
   "source": [
    "#Merge dataframes # Chargin stations w/ location\n",
    "print('Lenght dataframes: ',\n",
    "len(df_charging_stations_static),',',\n",
    "len(df_charging_stations_location))\n",
    "df_stations = df_charging_stations_static.merge(df_charging_stations_location, on='charging_station_id',\n",
    "                                                how='left')\n",
    "df_stations"
   ],
   "metadata": {
    "collapsed": false,
    "pycharm": {
     "name": "#%%\n"
    }
   }
  },
  {
   "cell_type": "code",
   "execution_count": 7,
   "outputs": [
    {
     "data": {
      "text/plain": "False"
     },
     "execution_count": 7,
     "metadata": {},
     "output_type": "execute_result"
    }
   ],
   "source": [
    "df_stations.isnull().values.any()"
   ],
   "metadata": {
    "collapsed": false,
    "pycharm": {
     "name": "#%%\n"
    }
   }
  },
  {
   "cell_type": "code",
   "execution_count": 8,
   "outputs": [],
   "source": [
    "# Approximate Formula to transform Swiss coordinates to WGS84 coordinates, deviation in ~1-3 meters\n",
    "def lv95_to_wgs84_coordinates(y, x): # y = coordinate-east, x = coordinate-nord\n",
    "    # convert into the civilian system in the unit 1000 km\n",
    "    y = (y-2600000)/1000000\n",
    "    x = (x-1200000)/1000000\n",
    "    # Calculate longitude / latitude in the unit 10000\"\n",
    "    E = 2.6779094\\\n",
    "    + 4.728982 * y \\\n",
    "    + 0.791484 * y * x\\\n",
    "    + 0.1306 *y * x**2\\\n",
    "    - 0.0436 * y**3\n",
    "    N = 16.9023892\\\n",
    "    + 3.238272 * x \\\n",
    "    - 0.270978 * y**2\\\n",
    "    - 0.002528 * x**2\\\n",
    "    - 0.0447 * y**2 * x\\\n",
    "    - 0.0140 * x**3\n",
    "    #Convert longitude and latitude to unit °\n",
    "    E = round(E * 100/36,6)\n",
    "    N = round(N * 100/36,6)\n",
    "    return [E, N]\n",
    "\n",
    "# # Trial\n",
    "# lv95_to_wgs84_coordinates(y = 2700000,\n",
    "#                           x = 1100000)\n",
    "# lv95_to_wgs84_coordinates(y = 2545269,\n",
    "#                           x = 1158463)"
   ],
   "metadata": {
    "collapsed": false,
    "pycharm": {
     "name": "#%%\n"
    }
   }
  },
  {
   "cell_type": "code",
   "execution_count": 9,
   "outputs": [
    {
     "data": {
      "text/plain": "     nr_measuring_point  annual_average                        point_name  \\\n0                     2               0                    CHALET-A-GOBET   \n2                     5            6918                       SCHWANDEN N   \n4                     9            7865                    BRUENIG, LETZI   \n6                    10               0         HOSPENTAL S, ST. GOTTHARD   \n8                    14            3434                 JULIER, LA VEDUTA   \n..                  ...             ...                               ...   \n762                 852               0  ECHANGEUR GD.ST.BERNARD EST (AR)   \n764                 853               0                  BIENNE NORD (AB)   \n766                 854           27123                     BENKEN N (AB)   \n768                 855           27060                     BENKEN S (AB)   \n770                 856               0                 OBEROHRINGEN (AB)   \n\n         status        type_point  road canton_abbreviation  coordinate_east  \\\n0    in Betrieb  Online+Statistik   H 1                  VD          2545269   \n2    in Betrieb  Online+Statistik  H 17                  GL          2724500   \n4    in Betrieb  Online+Statistik   A 8                  OW          2653895   \n6    in Betrieb  Online+Statistik   H 2                  UR          2686520   \n8    in Betrieb  Online+Statistik   H 3                  GR          2780967   \n..          ...               ...   ...                 ...              ...   \n762  in Betrieb  Online+Statistik   A 9                  VS          2573706   \n764  in Betrieb  Online+Statistik  A 16                  BE          2587263   \n766  in Betrieb     nur Statistik   A 4                  ZH          2690786   \n768  in Betrieb     nur Statistik   A 4                  ZH          2691429   \n770  in Betrieb     nur Statistik   A 1                  ZH          2695925   \n\n     coordinate_nord  \n0            1158463  \n2            1206725  \n4            1180111  \n6            1163452  \n8            1148640  \n..               ...  \n762          1107161  \n764          1222983  \n766          1278336  \n768          1277447  \n770          1264464  \n\n[386 rows x 9 columns]",
      "text/html": "<div>\n<style scoped>\n    .dataframe tbody tr th:only-of-type {\n        vertical-align: middle;\n    }\n\n    .dataframe tbody tr th {\n        vertical-align: top;\n    }\n\n    .dataframe thead th {\n        text-align: right;\n    }\n</style>\n<table border=\"1\" class=\"dataframe\">\n  <thead>\n    <tr style=\"text-align: right;\">\n      <th></th>\n      <th>nr_measuring_point</th>\n      <th>annual_average</th>\n      <th>point_name</th>\n      <th>status</th>\n      <th>type_point</th>\n      <th>road</th>\n      <th>canton_abbreviation</th>\n      <th>coordinate_east</th>\n      <th>coordinate_nord</th>\n    </tr>\n  </thead>\n  <tbody>\n    <tr>\n      <th>0</th>\n      <td>2</td>\n      <td>0</td>\n      <td>CHALET-A-GOBET</td>\n      <td>in Betrieb</td>\n      <td>Online+Statistik</td>\n      <td>H 1</td>\n      <td>VD</td>\n      <td>2545269</td>\n      <td>1158463</td>\n    </tr>\n    <tr>\n      <th>2</th>\n      <td>5</td>\n      <td>6918</td>\n      <td>SCHWANDEN N</td>\n      <td>in Betrieb</td>\n      <td>Online+Statistik</td>\n      <td>H 17</td>\n      <td>GL</td>\n      <td>2724500</td>\n      <td>1206725</td>\n    </tr>\n    <tr>\n      <th>4</th>\n      <td>9</td>\n      <td>7865</td>\n      <td>BRUENIG, LETZI</td>\n      <td>in Betrieb</td>\n      <td>Online+Statistik</td>\n      <td>A 8</td>\n      <td>OW</td>\n      <td>2653895</td>\n      <td>1180111</td>\n    </tr>\n    <tr>\n      <th>6</th>\n      <td>10</td>\n      <td>0</td>\n      <td>HOSPENTAL S, ST. GOTTHARD</td>\n      <td>in Betrieb</td>\n      <td>Online+Statistik</td>\n      <td>H 2</td>\n      <td>UR</td>\n      <td>2686520</td>\n      <td>1163452</td>\n    </tr>\n    <tr>\n      <th>8</th>\n      <td>14</td>\n      <td>3434</td>\n      <td>JULIER, LA VEDUTA</td>\n      <td>in Betrieb</td>\n      <td>Online+Statistik</td>\n      <td>H 3</td>\n      <td>GR</td>\n      <td>2780967</td>\n      <td>1148640</td>\n    </tr>\n    <tr>\n      <th>...</th>\n      <td>...</td>\n      <td>...</td>\n      <td>...</td>\n      <td>...</td>\n      <td>...</td>\n      <td>...</td>\n      <td>...</td>\n      <td>...</td>\n      <td>...</td>\n    </tr>\n    <tr>\n      <th>762</th>\n      <td>852</td>\n      <td>0</td>\n      <td>ECHANGEUR GD.ST.BERNARD EST (AR)</td>\n      <td>in Betrieb</td>\n      <td>Online+Statistik</td>\n      <td>A 9</td>\n      <td>VS</td>\n      <td>2573706</td>\n      <td>1107161</td>\n    </tr>\n    <tr>\n      <th>764</th>\n      <td>853</td>\n      <td>0</td>\n      <td>BIENNE NORD (AB)</td>\n      <td>in Betrieb</td>\n      <td>Online+Statistik</td>\n      <td>A 16</td>\n      <td>BE</td>\n      <td>2587263</td>\n      <td>1222983</td>\n    </tr>\n    <tr>\n      <th>766</th>\n      <td>854</td>\n      <td>27123</td>\n      <td>BENKEN N (AB)</td>\n      <td>in Betrieb</td>\n      <td>nur Statistik</td>\n      <td>A 4</td>\n      <td>ZH</td>\n      <td>2690786</td>\n      <td>1278336</td>\n    </tr>\n    <tr>\n      <th>768</th>\n      <td>855</td>\n      <td>27060</td>\n      <td>BENKEN S (AB)</td>\n      <td>in Betrieb</td>\n      <td>nur Statistik</td>\n      <td>A 4</td>\n      <td>ZH</td>\n      <td>2691429</td>\n      <td>1277447</td>\n    </tr>\n    <tr>\n      <th>770</th>\n      <td>856</td>\n      <td>0</td>\n      <td>OBEROHRINGEN (AB)</td>\n      <td>in Betrieb</td>\n      <td>nur Statistik</td>\n      <td>A 1</td>\n      <td>ZH</td>\n      <td>2695925</td>\n      <td>1264464</td>\n    </tr>\n  </tbody>\n</table>\n<p>386 rows × 9 columns</p>\n</div>"
     },
     "execution_count": 9,
     "metadata": {},
     "output_type": "execute_result"
    }
   ],
   "source": [
    "len(df_points)\n",
    "df_points"
   ],
   "metadata": {
    "collapsed": false,
    "pycharm": {
     "name": "#%%\n"
    }
   }
  },
  {
   "cell_type": "code",
   "execution_count": 10,
   "outputs": [
    {
     "name": "stdout",
     "output_type": "stream",
     "text": [
      "386 386\n"
     ]
    }
   ],
   "source": [
    "# Transform coordinates\n",
    "east_list = []\n",
    "nord_list = []\n",
    "for i in range(0, 386):\n",
    "    east = df_points.iloc[i, 7]\n",
    "    nord = df_points.iloc[i, 8]\n",
    "    #print(nord, east)\n",
    "    coordinate_list = lv95_to_wgs84_coordinates(y = east, x = nord)\n",
    "    east_list.append(coordinate_list[0])\n",
    "    nord_list.append(coordinate_list[1])\n",
    "    #print(coordinate_list)\n",
    "print(len(east_list), len(nord_list))\n",
    "# temp_list"
   ],
   "metadata": {
    "collapsed": false,
    "pycharm": {
     "name": "#%%\n"
    }
   }
  },
  {
   "cell_type": "code",
   "execution_count": 11,
   "outputs": [
    {
     "data": {
      "text/plain": "     nr_measuring_point  annual_average                        point_name  \\\n0                     2               0                    CHALET-A-GOBET   \n2                     5            6918                       SCHWANDEN N   \n4                     9            7865                    BRUENIG, LETZI   \n6                    10               0         HOSPENTAL S, ST. GOTTHARD   \n8                    14            3434                 JULIER, LA VEDUTA   \n..                  ...             ...                               ...   \n762                 852               0  ECHANGEUR GD.ST.BERNARD EST (AR)   \n764                 853               0                  BIENNE NORD (AB)   \n766                 854           27123                     BENKEN N (AB)   \n768                 855           27060                     BENKEN S (AB)   \n770                 856               0                 OBEROHRINGEN (AB)   \n\n         status        type_point  road canton_abbreviation  coordinate_east  \\\n0    in Betrieb  Online+Statistik   H 1                  VD         6.724671   \n2    in Betrieb  Online+Statistik  H 17                  GL         9.075686   \n4    in Betrieb  Online+Statistik   A 8                  OW         8.144237   \n6    in Betrieb  Online+Statistik   H 2                  UR         8.568181   \n8    in Betrieb  Online+Statistik   H 3                  GR         9.794852   \n..          ...               ...   ...                 ...              ...   \n762  in Betrieb  Online+Statistik   A 9                  VS         7.098525   \n764  in Betrieb  Online+Statistik  A 16                  BE         7.270677   \n766  in Betrieb     nur Statistik   A 4                  ZH         8.646955   \n768  in Betrieb     nur Statistik   A 4                  ZH         8.655328   \n770  in Betrieb     nur Statistik   A 1                  ZH         8.712347   \n\n     coordinate_nord  \n0          46.575199  \n2          46.999893  \n4          46.769994  \n6          46.616716  \n8          46.464632  \n..               ...  \n762        46.115434  \n764        47.157691  \n766        47.649383  \n768        47.641300  \n770        47.523908  \n\n[386 rows x 9 columns]",
      "text/html": "<div>\n<style scoped>\n    .dataframe tbody tr th:only-of-type {\n        vertical-align: middle;\n    }\n\n    .dataframe tbody tr th {\n        vertical-align: top;\n    }\n\n    .dataframe thead th {\n        text-align: right;\n    }\n</style>\n<table border=\"1\" class=\"dataframe\">\n  <thead>\n    <tr style=\"text-align: right;\">\n      <th></th>\n      <th>nr_measuring_point</th>\n      <th>annual_average</th>\n      <th>point_name</th>\n      <th>status</th>\n      <th>type_point</th>\n      <th>road</th>\n      <th>canton_abbreviation</th>\n      <th>coordinate_east</th>\n      <th>coordinate_nord</th>\n    </tr>\n  </thead>\n  <tbody>\n    <tr>\n      <th>0</th>\n      <td>2</td>\n      <td>0</td>\n      <td>CHALET-A-GOBET</td>\n      <td>in Betrieb</td>\n      <td>Online+Statistik</td>\n      <td>H 1</td>\n      <td>VD</td>\n      <td>6.724671</td>\n      <td>46.575199</td>\n    </tr>\n    <tr>\n      <th>2</th>\n      <td>5</td>\n      <td>6918</td>\n      <td>SCHWANDEN N</td>\n      <td>in Betrieb</td>\n      <td>Online+Statistik</td>\n      <td>H 17</td>\n      <td>GL</td>\n      <td>9.075686</td>\n      <td>46.999893</td>\n    </tr>\n    <tr>\n      <th>4</th>\n      <td>9</td>\n      <td>7865</td>\n      <td>BRUENIG, LETZI</td>\n      <td>in Betrieb</td>\n      <td>Online+Statistik</td>\n      <td>A 8</td>\n      <td>OW</td>\n      <td>8.144237</td>\n      <td>46.769994</td>\n    </tr>\n    <tr>\n      <th>6</th>\n      <td>10</td>\n      <td>0</td>\n      <td>HOSPENTAL S, ST. GOTTHARD</td>\n      <td>in Betrieb</td>\n      <td>Online+Statistik</td>\n      <td>H 2</td>\n      <td>UR</td>\n      <td>8.568181</td>\n      <td>46.616716</td>\n    </tr>\n    <tr>\n      <th>8</th>\n      <td>14</td>\n      <td>3434</td>\n      <td>JULIER, LA VEDUTA</td>\n      <td>in Betrieb</td>\n      <td>Online+Statistik</td>\n      <td>H 3</td>\n      <td>GR</td>\n      <td>9.794852</td>\n      <td>46.464632</td>\n    </tr>\n    <tr>\n      <th>...</th>\n      <td>...</td>\n      <td>...</td>\n      <td>...</td>\n      <td>...</td>\n      <td>...</td>\n      <td>...</td>\n      <td>...</td>\n      <td>...</td>\n      <td>...</td>\n    </tr>\n    <tr>\n      <th>762</th>\n      <td>852</td>\n      <td>0</td>\n      <td>ECHANGEUR GD.ST.BERNARD EST (AR)</td>\n      <td>in Betrieb</td>\n      <td>Online+Statistik</td>\n      <td>A 9</td>\n      <td>VS</td>\n      <td>7.098525</td>\n      <td>46.115434</td>\n    </tr>\n    <tr>\n      <th>764</th>\n      <td>853</td>\n      <td>0</td>\n      <td>BIENNE NORD (AB)</td>\n      <td>in Betrieb</td>\n      <td>Online+Statistik</td>\n      <td>A 16</td>\n      <td>BE</td>\n      <td>7.270677</td>\n      <td>47.157691</td>\n    </tr>\n    <tr>\n      <th>766</th>\n      <td>854</td>\n      <td>27123</td>\n      <td>BENKEN N (AB)</td>\n      <td>in Betrieb</td>\n      <td>nur Statistik</td>\n      <td>A 4</td>\n      <td>ZH</td>\n      <td>8.646955</td>\n      <td>47.649383</td>\n    </tr>\n    <tr>\n      <th>768</th>\n      <td>855</td>\n      <td>27060</td>\n      <td>BENKEN S (AB)</td>\n      <td>in Betrieb</td>\n      <td>nur Statistik</td>\n      <td>A 4</td>\n      <td>ZH</td>\n      <td>8.655328</td>\n      <td>47.641300</td>\n    </tr>\n    <tr>\n      <th>770</th>\n      <td>856</td>\n      <td>0</td>\n      <td>OBEROHRINGEN (AB)</td>\n      <td>in Betrieb</td>\n      <td>nur Statistik</td>\n      <td>A 1</td>\n      <td>ZH</td>\n      <td>8.712347</td>\n      <td>47.523908</td>\n    </tr>\n  </tbody>\n</table>\n<p>386 rows × 9 columns</p>\n</div>"
     },
     "execution_count": 11,
     "metadata": {},
     "output_type": "execute_result"
    }
   ],
   "source": [
    "df_points['coordinate_east'] = east_list\n",
    "df_points['coordinate_nord'] = nord_list\n",
    "df_points"
   ],
   "metadata": {
    "collapsed": false,
    "pycharm": {
     "name": "#%%\n"
    }
   }
  },
  {
   "cell_type": "code",
   "execution_count": 12,
   "outputs": [],
   "source": [
    "# Radius formula\n",
    "def haversine(lon1, lat1, lon2, lat2):\n",
    "    \"\"\"\n",
    "    Calculat e the great circle distance between two points\n",
    "    on the earth (specified in decimal degrees)\n",
    "    \"\"\"\n",
    "    # convert decimal degrees to radians\n",
    "    lon1, lat1, lon2, lat2 = map(radians, [lon1, lat1, lon2, lat2])\n",
    "\n",
    "    # haversine formula\n",
    "    dlon = lon2 - lon1\n",
    "    dlat = lat2 - lat1\n",
    "    a = sin(dlat/2)**2 + cos(lat1) * cos(lat2) * sin(dlon/2)**2\n",
    "    c = 2 * asin(sqrt(a))\n",
    "    r = 6371 # Radius of earth in kilometers. Use 3956 for miles\n",
    "    return c * r"
   ],
   "metadata": {
    "collapsed": false,
    "pycharm": {
     "name": "#%%\n"
    }
   }
  },
  {
   "cell_type": "code",
   "execution_count": 13,
   "outputs": [],
   "source": [
    "df_radius = df_points.copy()\n",
    "\n",
    "# Number of chargin stations within radius of 1,2,5 km\n",
    "df_radius['Charging_stations_1km'] = 0\n",
    "df_radius['Charging_stations_1-2km'] = 0\n",
    "df_radius['Charging_stations_2-5km'] = 0\n",
    "df_radius['Charging_stations_5-10km'] = 0\n",
    "temp_1km_list = []\n",
    "temp_2km_list = []\n",
    "temp_5km_list = []\n",
    "temp_10km_list = []\n",
    "\n",
    "for row in range(0, 386):\n",
    "    station_count_1km = 0\n",
    "    station_count_2km = 0\n",
    "    station_count_5km = 0\n",
    "    station_count_10km = 0\n",
    "    point_east = df_points.iloc[row, 7]\n",
    "    point_nord = df_points.iloc[row, 8]\n",
    "    for row_2 in range(0, 386):\n",
    "        station_east = df_stations.iloc[row_2, 7]\n",
    "        station_nord = df_stations.iloc[row_2, 8]\n",
    "        distance = haversine(point_east, point_nord, station_east, station_nord)\n",
    "        # stations within 1km\n",
    "        if distance <= 1:\n",
    "             station_count_1km = station_count_1km + 1\n",
    "        # stations within 2km\n",
    "        if distance <= 2:\n",
    "             station_count_2km = station_count_2km + 1\n",
    "        # stations within 5km\n",
    "        if distance <= 5:\n",
    "             station_count_5km = station_count_5km + 1\n",
    "        # stations within 10km\n",
    "        if distance <= 10:\n",
    "             station_count_10km = station_count_10km + 1\n",
    "        else:\n",
    "            continue\n",
    "    temp_1km_list.append(station_count_1km)\n",
    "    temp_2km_list.append(station_count_2km)\n",
    "    temp_5km_list.append(station_count_5km)\n",
    "    temp_10km_list.append(station_count_10km)\n",
    "\n",
    "df_radius['Charging_stations_1km'] = temp_1km_list\n",
    "df_radius['Charging_stations_1-2km'] = [temp_2km_list[i]-temp_1km_list[i] for i in range(0, 386)]\n",
    "df_radius['Charging_stations_2-5km'] = [temp_5km_list[i]-temp_2km_list[i] for i in range(0, 386)]\n",
    "df_radius['Charging_stations_5-10km'] = [temp_10km_list[i]-temp_5km_list[i] for i in range(0, 386)]"
   ],
   "metadata": {
    "collapsed": false,
    "pycharm": {
     "name": "#%%\n"
    }
   }
  },
  {
   "cell_type": "code",
   "execution_count": 14,
   "outputs": [
    {
     "data": {
      "text/plain": "     nr_measuring_point  annual_average                        point_name  \\\n0                     2               0                    CHALET-A-GOBET   \n2                     5            6918                       SCHWANDEN N   \n4                     9            7865                    BRUENIG, LETZI   \n6                    10               0         HOSPENTAL S, ST. GOTTHARD   \n8                    14            3434                 JULIER, LA VEDUTA   \n..                  ...             ...                               ...   \n762                 852               0  ECHANGEUR GD.ST.BERNARD EST (AR)   \n764                 853               0                  BIENNE NORD (AB)   \n766                 854           27123                     BENKEN N (AB)   \n768                 855           27060                     BENKEN S (AB)   \n770                 856               0                 OBEROHRINGEN (AB)   \n\n         status        type_point  road canton_abbreviation  coordinate_east  \\\n0    in Betrieb  Online+Statistik   H 1                  VD         6.724671   \n2    in Betrieb  Online+Statistik  H 17                  GL         9.075686   \n4    in Betrieb  Online+Statistik   A 8                  OW         8.144237   \n6    in Betrieb  Online+Statistik   H 2                  UR         8.568181   \n8    in Betrieb  Online+Statistik   H 3                  GR         9.794852   \n..          ...               ...   ...                 ...              ...   \n762  in Betrieb  Online+Statistik   A 9                  VS         7.098525   \n764  in Betrieb  Online+Statistik  A 16                  BE         7.270677   \n766  in Betrieb     nur Statistik   A 4                  ZH         8.646955   \n768  in Betrieb     nur Statistik   A 4                  ZH         8.655328   \n770  in Betrieb     nur Statistik   A 1                  ZH         8.712347   \n\n     coordinate_nord  Charging_stations_1km  Charging_stations_1-2km  \\\n0          46.575199                      0                        0   \n2          46.999893                      0                        0   \n4          46.769994                      0                        0   \n6          46.616716                      0                        0   \n8          46.464632                      0                        0   \n..               ...                    ...                      ...   \n762        46.115434                      0                        1   \n764        47.157691                      0                        0   \n766        47.649383                      0                        0   \n768        47.641300                      0                        0   \n770        47.523908                      0                        0   \n\n     Charging_stations_2-5km  Charging_stations_5-10km  \n0                          0                         0  \n2                          0                         0  \n4                          0                         0  \n6                          0                         0  \n8                         12                        16  \n..                       ...                       ...  \n762                       27                         0  \n764                        0                         0  \n766                        0                        17  \n768                        0                        17  \n770                        0                         0  \n\n[386 rows x 13 columns]",
      "text/html": "<div>\n<style scoped>\n    .dataframe tbody tr th:only-of-type {\n        vertical-align: middle;\n    }\n\n    .dataframe tbody tr th {\n        vertical-align: top;\n    }\n\n    .dataframe thead th {\n        text-align: right;\n    }\n</style>\n<table border=\"1\" class=\"dataframe\">\n  <thead>\n    <tr style=\"text-align: right;\">\n      <th></th>\n      <th>nr_measuring_point</th>\n      <th>annual_average</th>\n      <th>point_name</th>\n      <th>status</th>\n      <th>type_point</th>\n      <th>road</th>\n      <th>canton_abbreviation</th>\n      <th>coordinate_east</th>\n      <th>coordinate_nord</th>\n      <th>Charging_stations_1km</th>\n      <th>Charging_stations_1-2km</th>\n      <th>Charging_stations_2-5km</th>\n      <th>Charging_stations_5-10km</th>\n    </tr>\n  </thead>\n  <tbody>\n    <tr>\n      <th>0</th>\n      <td>2</td>\n      <td>0</td>\n      <td>CHALET-A-GOBET</td>\n      <td>in Betrieb</td>\n      <td>Online+Statistik</td>\n      <td>H 1</td>\n      <td>VD</td>\n      <td>6.724671</td>\n      <td>46.575199</td>\n      <td>0</td>\n      <td>0</td>\n      <td>0</td>\n      <td>0</td>\n    </tr>\n    <tr>\n      <th>2</th>\n      <td>5</td>\n      <td>6918</td>\n      <td>SCHWANDEN N</td>\n      <td>in Betrieb</td>\n      <td>Online+Statistik</td>\n      <td>H 17</td>\n      <td>GL</td>\n      <td>9.075686</td>\n      <td>46.999893</td>\n      <td>0</td>\n      <td>0</td>\n      <td>0</td>\n      <td>0</td>\n    </tr>\n    <tr>\n      <th>4</th>\n      <td>9</td>\n      <td>7865</td>\n      <td>BRUENIG, LETZI</td>\n      <td>in Betrieb</td>\n      <td>Online+Statistik</td>\n      <td>A 8</td>\n      <td>OW</td>\n      <td>8.144237</td>\n      <td>46.769994</td>\n      <td>0</td>\n      <td>0</td>\n      <td>0</td>\n      <td>0</td>\n    </tr>\n    <tr>\n      <th>6</th>\n      <td>10</td>\n      <td>0</td>\n      <td>HOSPENTAL S, ST. GOTTHARD</td>\n      <td>in Betrieb</td>\n      <td>Online+Statistik</td>\n      <td>H 2</td>\n      <td>UR</td>\n      <td>8.568181</td>\n      <td>46.616716</td>\n      <td>0</td>\n      <td>0</td>\n      <td>0</td>\n      <td>0</td>\n    </tr>\n    <tr>\n      <th>8</th>\n      <td>14</td>\n      <td>3434</td>\n      <td>JULIER, LA VEDUTA</td>\n      <td>in Betrieb</td>\n      <td>Online+Statistik</td>\n      <td>H 3</td>\n      <td>GR</td>\n      <td>9.794852</td>\n      <td>46.464632</td>\n      <td>0</td>\n      <td>0</td>\n      <td>12</td>\n      <td>16</td>\n    </tr>\n    <tr>\n      <th>...</th>\n      <td>...</td>\n      <td>...</td>\n      <td>...</td>\n      <td>...</td>\n      <td>...</td>\n      <td>...</td>\n      <td>...</td>\n      <td>...</td>\n      <td>...</td>\n      <td>...</td>\n      <td>...</td>\n      <td>...</td>\n      <td>...</td>\n    </tr>\n    <tr>\n      <th>762</th>\n      <td>852</td>\n      <td>0</td>\n      <td>ECHANGEUR GD.ST.BERNARD EST (AR)</td>\n      <td>in Betrieb</td>\n      <td>Online+Statistik</td>\n      <td>A 9</td>\n      <td>VS</td>\n      <td>7.098525</td>\n      <td>46.115434</td>\n      <td>0</td>\n      <td>1</td>\n      <td>27</td>\n      <td>0</td>\n    </tr>\n    <tr>\n      <th>764</th>\n      <td>853</td>\n      <td>0</td>\n      <td>BIENNE NORD (AB)</td>\n      <td>in Betrieb</td>\n      <td>Online+Statistik</td>\n      <td>A 16</td>\n      <td>BE</td>\n      <td>7.270677</td>\n      <td>47.157691</td>\n      <td>0</td>\n      <td>0</td>\n      <td>0</td>\n      <td>0</td>\n    </tr>\n    <tr>\n      <th>766</th>\n      <td>854</td>\n      <td>27123</td>\n      <td>BENKEN N (AB)</td>\n      <td>in Betrieb</td>\n      <td>nur Statistik</td>\n      <td>A 4</td>\n      <td>ZH</td>\n      <td>8.646955</td>\n      <td>47.649383</td>\n      <td>0</td>\n      <td>0</td>\n      <td>0</td>\n      <td>17</td>\n    </tr>\n    <tr>\n      <th>768</th>\n      <td>855</td>\n      <td>27060</td>\n      <td>BENKEN S (AB)</td>\n      <td>in Betrieb</td>\n      <td>nur Statistik</td>\n      <td>A 4</td>\n      <td>ZH</td>\n      <td>8.655328</td>\n      <td>47.641300</td>\n      <td>0</td>\n      <td>0</td>\n      <td>0</td>\n      <td>17</td>\n    </tr>\n    <tr>\n      <th>770</th>\n      <td>856</td>\n      <td>0</td>\n      <td>OBEROHRINGEN (AB)</td>\n      <td>in Betrieb</td>\n      <td>nur Statistik</td>\n      <td>A 1</td>\n      <td>ZH</td>\n      <td>8.712347</td>\n      <td>47.523908</td>\n      <td>0</td>\n      <td>0</td>\n      <td>0</td>\n      <td>0</td>\n    </tr>\n  </tbody>\n</table>\n<p>386 rows × 13 columns</p>\n</div>"
     },
     "execution_count": 14,
     "metadata": {},
     "output_type": "execute_result"
    }
   ],
   "source": [
    "df_radius"
   ],
   "metadata": {
    "collapsed": false,
    "pycharm": {
     "name": "#%%\n"
    }
   }
  },
  {
   "cell_type": "code",
   "execution_count": 15,
   "outputs": [
    {
     "data": {
      "text/plain": "     nr_measuring_point  annual_average                          point_name  \\\n24                   25           47646                      BAD RAGAZ (AB)   \n142                 123           26963                 SCHAFFHAUSEN N (AB)   \n276                 225           61082     EGERKINGEN, VERZWEIGUNG A2 (AB)   \n278                 226               0                       CRISSIER (AR)   \n362                 286          130700                    WALLISELLEN (AB)   \n368                 290          102986  OFTRINGEN / ROTHRIST (AB) - AG1412   \n428                 328           26417             ESTAVAYER-LE-LAC E (AR)   \n646                 690           16413                       FLUEELEN (AB)   \n708                 769               0                          HERBLINGEN   \n752                 841           23192                     BUOCHS OST (AB)   \n\n                 status        type_point  road canton_abbreviation  \\\n24           in Betrieb  Online+Statistik  A 13                  SG   \n142          in Betrieb  Online+Statistik   A 4                  SH   \n276          in Betrieb  Online+Statistik   A 2                  SO   \n278          in Betrieb     nur Statistik   A 1                  VD   \n362          in Betrieb  Online+Statistik   A 1                  ZH   \n368          in Betrieb  Online+Statistik   A 1                  AG   \n428          in Betrieb  Online+Statistik   A 1                  FR   \n646          in Betrieb     nur Statistik   A 4                  UR   \n708  Zählstelle geplant     nur Statistik   A 4                  SH   \n752          in Betrieb     nur Statistik   A 2                  NW   \n\n     coordinate_east  coordinate_nord  Charging_stations_1km  \\\n24          9.505120        47.014617                     10   \n142         8.649517        47.713819                     15   \n276         7.806052        47.315939                      8   \n278         6.562186        46.558536                     16   \n362         8.616875        47.410322                      9   \n368         7.903472        47.309490                      5   \n428         6.871261        46.831485                     14   \n646         8.620923        46.894127                      1   \n708         8.668375        47.722490                      3   \n752         8.452472        46.970121                      7   \n\n     Charging_stations_1-2km  Charging_stations_2-5km  \\\n24                        14                        3   \n142                        2                        0   \n276                       10                        0   \n278                        3                        0   \n362                        0                        0   \n368                        2                       19   \n428                        7                        3   \n646                        0                        6   \n708                       14                        0   \n752                        1                        0   \n\n     Charging_stations_5-10km  \n24                          0  \n142                         0  \n276                        26  \n278                         0  \n362                         0  \n368                        18  \n428                         0  \n646                         0  \n708                         0  \n752                         0  ",
      "text/html": "<div>\n<style scoped>\n    .dataframe tbody tr th:only-of-type {\n        vertical-align: middle;\n    }\n\n    .dataframe tbody tr th {\n        vertical-align: top;\n    }\n\n    .dataframe thead th {\n        text-align: right;\n    }\n</style>\n<table border=\"1\" class=\"dataframe\">\n  <thead>\n    <tr style=\"text-align: right;\">\n      <th></th>\n      <th>nr_measuring_point</th>\n      <th>annual_average</th>\n      <th>point_name</th>\n      <th>status</th>\n      <th>type_point</th>\n      <th>road</th>\n      <th>canton_abbreviation</th>\n      <th>coordinate_east</th>\n      <th>coordinate_nord</th>\n      <th>Charging_stations_1km</th>\n      <th>Charging_stations_1-2km</th>\n      <th>Charging_stations_2-5km</th>\n      <th>Charging_stations_5-10km</th>\n    </tr>\n  </thead>\n  <tbody>\n    <tr>\n      <th>24</th>\n      <td>25</td>\n      <td>47646</td>\n      <td>BAD RAGAZ (AB)</td>\n      <td>in Betrieb</td>\n      <td>Online+Statistik</td>\n      <td>A 13</td>\n      <td>SG</td>\n      <td>9.505120</td>\n      <td>47.014617</td>\n      <td>10</td>\n      <td>14</td>\n      <td>3</td>\n      <td>0</td>\n    </tr>\n    <tr>\n      <th>142</th>\n      <td>123</td>\n      <td>26963</td>\n      <td>SCHAFFHAUSEN N (AB)</td>\n      <td>in Betrieb</td>\n      <td>Online+Statistik</td>\n      <td>A 4</td>\n      <td>SH</td>\n      <td>8.649517</td>\n      <td>47.713819</td>\n      <td>15</td>\n      <td>2</td>\n      <td>0</td>\n      <td>0</td>\n    </tr>\n    <tr>\n      <th>276</th>\n      <td>225</td>\n      <td>61082</td>\n      <td>EGERKINGEN, VERZWEIGUNG A2 (AB)</td>\n      <td>in Betrieb</td>\n      <td>Online+Statistik</td>\n      <td>A 2</td>\n      <td>SO</td>\n      <td>7.806052</td>\n      <td>47.315939</td>\n      <td>8</td>\n      <td>10</td>\n      <td>0</td>\n      <td>26</td>\n    </tr>\n    <tr>\n      <th>278</th>\n      <td>226</td>\n      <td>0</td>\n      <td>CRISSIER (AR)</td>\n      <td>in Betrieb</td>\n      <td>nur Statistik</td>\n      <td>A 1</td>\n      <td>VD</td>\n      <td>6.562186</td>\n      <td>46.558536</td>\n      <td>16</td>\n      <td>3</td>\n      <td>0</td>\n      <td>0</td>\n    </tr>\n    <tr>\n      <th>362</th>\n      <td>286</td>\n      <td>130700</td>\n      <td>WALLISELLEN (AB)</td>\n      <td>in Betrieb</td>\n      <td>Online+Statistik</td>\n      <td>A 1</td>\n      <td>ZH</td>\n      <td>8.616875</td>\n      <td>47.410322</td>\n      <td>9</td>\n      <td>0</td>\n      <td>0</td>\n      <td>0</td>\n    </tr>\n    <tr>\n      <th>368</th>\n      <td>290</td>\n      <td>102986</td>\n      <td>OFTRINGEN / ROTHRIST (AB) - AG1412</td>\n      <td>in Betrieb</td>\n      <td>Online+Statistik</td>\n      <td>A 1</td>\n      <td>AG</td>\n      <td>7.903472</td>\n      <td>47.309490</td>\n      <td>5</td>\n      <td>2</td>\n      <td>19</td>\n      <td>18</td>\n    </tr>\n    <tr>\n      <th>428</th>\n      <td>328</td>\n      <td>26417</td>\n      <td>ESTAVAYER-LE-LAC E (AR)</td>\n      <td>in Betrieb</td>\n      <td>Online+Statistik</td>\n      <td>A 1</td>\n      <td>FR</td>\n      <td>6.871261</td>\n      <td>46.831485</td>\n      <td>14</td>\n      <td>7</td>\n      <td>3</td>\n      <td>0</td>\n    </tr>\n    <tr>\n      <th>646</th>\n      <td>690</td>\n      <td>16413</td>\n      <td>FLUEELEN (AB)</td>\n      <td>in Betrieb</td>\n      <td>nur Statistik</td>\n      <td>A 4</td>\n      <td>UR</td>\n      <td>8.620923</td>\n      <td>46.894127</td>\n      <td>1</td>\n      <td>0</td>\n      <td>6</td>\n      <td>0</td>\n    </tr>\n    <tr>\n      <th>708</th>\n      <td>769</td>\n      <td>0</td>\n      <td>HERBLINGEN</td>\n      <td>Zählstelle geplant</td>\n      <td>nur Statistik</td>\n      <td>A 4</td>\n      <td>SH</td>\n      <td>8.668375</td>\n      <td>47.722490</td>\n      <td>3</td>\n      <td>14</td>\n      <td>0</td>\n      <td>0</td>\n    </tr>\n    <tr>\n      <th>752</th>\n      <td>841</td>\n      <td>23192</td>\n      <td>BUOCHS OST (AB)</td>\n      <td>in Betrieb</td>\n      <td>nur Statistik</td>\n      <td>A 2</td>\n      <td>NW</td>\n      <td>8.452472</td>\n      <td>46.970121</td>\n      <td>7</td>\n      <td>1</td>\n      <td>0</td>\n      <td>0</td>\n    </tr>\n  </tbody>\n</table>\n</div>"
     },
     "execution_count": 15,
     "metadata": {},
     "output_type": "execute_result"
    }
   ],
   "source": [
    "df_radius[df_radius['Charging_stations_1km'] != 0]"
   ],
   "metadata": {
    "collapsed": false,
    "pycharm": {
     "name": "#%%\n"
    }
   }
  },
  {
   "cell_type": "code",
   "execution_count": 16,
   "outputs": [
    {
     "data": {
      "text/plain": "     nr_measuring_point  annual_average                          point_name  \\\n24                   25           47646                      BAD RAGAZ (AB)   \n82                   73           54272                     HAERKINGEN (AB)   \n126                 114               0                BRUETTISELLEN N (AB)   \n142                 123           26963                 SCHAFFHAUSEN N (AB)   \n174                 149               0                            MEX (AR)   \n192                 165               0                     MARTIGNY N (AR)   \n228                 194           84018                         URDORF (AB)   \n276                 225           61082     EGERKINGEN, VERZWEIGUNG A2 (AB)   \n278                 226               0                       CRISSIER (AR)   \n284                 229           72543                    OFTRINGEN E (AB)   \n368                 290          102986  OFTRINGEN / ROTHRIST (AB) - AG1412   \n370                 291          101385                         RENENS (AR)   \n428                 328           26417             ESTAVAYER-LE-LAC E (AR)   \n458                 385           10785                    ALTDORF - UR6003   \n488                 510           26390                            QUARTINO   \n492                 512           65619                         DERENDINGEN   \n518                 534               0           LAUSANNE BLECHERETTE (AR)   \n690                 749            9790                          CHAMPFER S   \n708                 769               0                          HERBLINGEN   \n752                 841           23192                     BUOCHS OST (AB)   \n760                 851           40089  ECHANGEUR GD.ST.BERNARD OUEST (AR)   \n762                 852               0    ECHANGEUR GD.ST.BERNARD EST (AR)   \n\n                           status        type_point  road canton_abbreviation  \\\n24                     in Betrieb  Online+Statistik  A 13                  SG   \n82                     in Betrieb  Online+Statistik   A 1                  SO   \n126                    in Betrieb  Online+Statistik   A 1                  ZH   \n142                    in Betrieb  Online+Statistik   A 4                  SH   \n174                    in Betrieb  Online+Statistik   A 1                  VD   \n192  ausser Betrieb (Bauarbeiten)  Online+Statistik   A 9                  VS   \n228                    in Betrieb  Online+Statistik   A 3                  ZH   \n276                    in Betrieb  Online+Statistik   A 2                  SO   \n278                    in Betrieb     nur Statistik   A 1                  VD   \n284                    in Betrieb  Online+Statistik   A 1                  AG   \n368                    in Betrieb  Online+Statistik   A 1                  AG   \n370                    in Betrieb  Online+Statistik   A 1                  VD   \n428                    in Betrieb  Online+Statistik   A 1                  FR   \n458                    in Betrieb  Online+Statistik   H 2                  UR   \n488                    in Betrieb  Online+Statistik  H 13                  TI   \n492            Zählstelle geplant  Online+Statistik   A 1                  SO   \n518  ausser Betrieb (Bauarbeiten)  Online+Statistik   A 9                  VD   \n690                    in Betrieb  Online+Statistik  H 27                  GR   \n708            Zählstelle geplant     nur Statistik   A 4                  SH   \n752                    in Betrieb     nur Statistik   A 2                  NW   \n760                    in Betrieb  Online+Statistik   A 9                  VS   \n762                    in Betrieb  Online+Statistik   A 9                  VS   \n\n     coordinate_east  coordinate_nord  Charging_stations_1km  \\\n24          9.505120        47.014617                     10   \n82          7.807574        47.312220                      0   \n126         8.642871        47.423124                      0   \n142         8.649517        47.713819                     15   \n174         6.557570        46.570510                      0   \n192         7.069411        46.118770                      0   \n228         8.414773        47.390599                      0   \n276         7.806052        47.315939                      8   \n278         6.562186        46.558536                     16   \n284         7.948910        47.317609                      0   \n368         7.903472        47.309490                      5   \n370         6.569100        46.546184                      0   \n428         6.871261        46.831485                     14   \n458         8.635404        46.885493                      0   \n488         8.895127        46.153286                      0   \n492         7.599616        47.191135                      0   \n518         6.576387        46.563503                      0   \n690         9.802052        46.468758                      0   \n708         8.668375        47.722490                      3   \n752         8.452472        46.970121                      7   \n760         7.090592        46.113943                      0   \n762         7.098525        46.115434                      0   \n\n     Charging_stations_1-2km  Charging_stations_2-5km  \\\n24                        14                        3   \n82                        18                        0   \n126                        1                        8   \n142                        2                        0   \n174                       16                        3   \n192                       27                        1   \n228                        5                       28   \n276                       10                        0   \n278                        3                        0   \n284                       19                        7   \n368                        2                       19   \n370                       19                        0   \n428                        7                        3   \n458                        1                        6   \n488                        6                        0   \n492                       14                        0   \n518                       16                        3   \n690                        2                       26   \n708                       14                        0   \n752                        1                        0   \n760                        1                       27   \n762                        1                       27   \n\n     Charging_stations_5-10km  \n24                          0  \n82                         26  \n126                         0  \n142                         0  \n174                         0  \n192                         0  \n228                         0  \n276                        26  \n278                         0  \n284                         0  \n368                        18  \n370                         0  \n428                         0  \n458                         0  \n488                         0  \n492                         0  \n518                         0  \n690                         0  \n708                         0  \n752                         0  \n760                         0  \n762                         0  ",
      "text/html": "<div>\n<style scoped>\n    .dataframe tbody tr th:only-of-type {\n        vertical-align: middle;\n    }\n\n    .dataframe tbody tr th {\n        vertical-align: top;\n    }\n\n    .dataframe thead th {\n        text-align: right;\n    }\n</style>\n<table border=\"1\" class=\"dataframe\">\n  <thead>\n    <tr style=\"text-align: right;\">\n      <th></th>\n      <th>nr_measuring_point</th>\n      <th>annual_average</th>\n      <th>point_name</th>\n      <th>status</th>\n      <th>type_point</th>\n      <th>road</th>\n      <th>canton_abbreviation</th>\n      <th>coordinate_east</th>\n      <th>coordinate_nord</th>\n      <th>Charging_stations_1km</th>\n      <th>Charging_stations_1-2km</th>\n      <th>Charging_stations_2-5km</th>\n      <th>Charging_stations_5-10km</th>\n    </tr>\n  </thead>\n  <tbody>\n    <tr>\n      <th>24</th>\n      <td>25</td>\n      <td>47646</td>\n      <td>BAD RAGAZ (AB)</td>\n      <td>in Betrieb</td>\n      <td>Online+Statistik</td>\n      <td>A 13</td>\n      <td>SG</td>\n      <td>9.505120</td>\n      <td>47.014617</td>\n      <td>10</td>\n      <td>14</td>\n      <td>3</td>\n      <td>0</td>\n    </tr>\n    <tr>\n      <th>82</th>\n      <td>73</td>\n      <td>54272</td>\n      <td>HAERKINGEN (AB)</td>\n      <td>in Betrieb</td>\n      <td>Online+Statistik</td>\n      <td>A 1</td>\n      <td>SO</td>\n      <td>7.807574</td>\n      <td>47.312220</td>\n      <td>0</td>\n      <td>18</td>\n      <td>0</td>\n      <td>26</td>\n    </tr>\n    <tr>\n      <th>126</th>\n      <td>114</td>\n      <td>0</td>\n      <td>BRUETTISELLEN N (AB)</td>\n      <td>in Betrieb</td>\n      <td>Online+Statistik</td>\n      <td>A 1</td>\n      <td>ZH</td>\n      <td>8.642871</td>\n      <td>47.423124</td>\n      <td>0</td>\n      <td>1</td>\n      <td>8</td>\n      <td>0</td>\n    </tr>\n    <tr>\n      <th>142</th>\n      <td>123</td>\n      <td>26963</td>\n      <td>SCHAFFHAUSEN N (AB)</td>\n      <td>in Betrieb</td>\n      <td>Online+Statistik</td>\n      <td>A 4</td>\n      <td>SH</td>\n      <td>8.649517</td>\n      <td>47.713819</td>\n      <td>15</td>\n      <td>2</td>\n      <td>0</td>\n      <td>0</td>\n    </tr>\n    <tr>\n      <th>174</th>\n      <td>149</td>\n      <td>0</td>\n      <td>MEX (AR)</td>\n      <td>in Betrieb</td>\n      <td>Online+Statistik</td>\n      <td>A 1</td>\n      <td>VD</td>\n      <td>6.557570</td>\n      <td>46.570510</td>\n      <td>0</td>\n      <td>16</td>\n      <td>3</td>\n      <td>0</td>\n    </tr>\n    <tr>\n      <th>192</th>\n      <td>165</td>\n      <td>0</td>\n      <td>MARTIGNY N (AR)</td>\n      <td>ausser Betrieb (Bauarbeiten)</td>\n      <td>Online+Statistik</td>\n      <td>A 9</td>\n      <td>VS</td>\n      <td>7.069411</td>\n      <td>46.118770</td>\n      <td>0</td>\n      <td>27</td>\n      <td>1</td>\n      <td>0</td>\n    </tr>\n    <tr>\n      <th>228</th>\n      <td>194</td>\n      <td>84018</td>\n      <td>URDORF (AB)</td>\n      <td>in Betrieb</td>\n      <td>Online+Statistik</td>\n      <td>A 3</td>\n      <td>ZH</td>\n      <td>8.414773</td>\n      <td>47.390599</td>\n      <td>0</td>\n      <td>5</td>\n      <td>28</td>\n      <td>0</td>\n    </tr>\n    <tr>\n      <th>276</th>\n      <td>225</td>\n      <td>61082</td>\n      <td>EGERKINGEN, VERZWEIGUNG A2 (AB)</td>\n      <td>in Betrieb</td>\n      <td>Online+Statistik</td>\n      <td>A 2</td>\n      <td>SO</td>\n      <td>7.806052</td>\n      <td>47.315939</td>\n      <td>8</td>\n      <td>10</td>\n      <td>0</td>\n      <td>26</td>\n    </tr>\n    <tr>\n      <th>278</th>\n      <td>226</td>\n      <td>0</td>\n      <td>CRISSIER (AR)</td>\n      <td>in Betrieb</td>\n      <td>nur Statistik</td>\n      <td>A 1</td>\n      <td>VD</td>\n      <td>6.562186</td>\n      <td>46.558536</td>\n      <td>16</td>\n      <td>3</td>\n      <td>0</td>\n      <td>0</td>\n    </tr>\n    <tr>\n      <th>284</th>\n      <td>229</td>\n      <td>72543</td>\n      <td>OFTRINGEN E (AB)</td>\n      <td>in Betrieb</td>\n      <td>Online+Statistik</td>\n      <td>A 1</td>\n      <td>AG</td>\n      <td>7.948910</td>\n      <td>47.317609</td>\n      <td>0</td>\n      <td>19</td>\n      <td>7</td>\n      <td>0</td>\n    </tr>\n    <tr>\n      <th>368</th>\n      <td>290</td>\n      <td>102986</td>\n      <td>OFTRINGEN / ROTHRIST (AB) - AG1412</td>\n      <td>in Betrieb</td>\n      <td>Online+Statistik</td>\n      <td>A 1</td>\n      <td>AG</td>\n      <td>7.903472</td>\n      <td>47.309490</td>\n      <td>5</td>\n      <td>2</td>\n      <td>19</td>\n      <td>18</td>\n    </tr>\n    <tr>\n      <th>370</th>\n      <td>291</td>\n      <td>101385</td>\n      <td>RENENS (AR)</td>\n      <td>in Betrieb</td>\n      <td>Online+Statistik</td>\n      <td>A 1</td>\n      <td>VD</td>\n      <td>6.569100</td>\n      <td>46.546184</td>\n      <td>0</td>\n      <td>19</td>\n      <td>0</td>\n      <td>0</td>\n    </tr>\n    <tr>\n      <th>428</th>\n      <td>328</td>\n      <td>26417</td>\n      <td>ESTAVAYER-LE-LAC E (AR)</td>\n      <td>in Betrieb</td>\n      <td>Online+Statistik</td>\n      <td>A 1</td>\n      <td>FR</td>\n      <td>6.871261</td>\n      <td>46.831485</td>\n      <td>14</td>\n      <td>7</td>\n      <td>3</td>\n      <td>0</td>\n    </tr>\n    <tr>\n      <th>458</th>\n      <td>385</td>\n      <td>10785</td>\n      <td>ALTDORF - UR6003</td>\n      <td>in Betrieb</td>\n      <td>Online+Statistik</td>\n      <td>H 2</td>\n      <td>UR</td>\n      <td>8.635404</td>\n      <td>46.885493</td>\n      <td>0</td>\n      <td>1</td>\n      <td>6</td>\n      <td>0</td>\n    </tr>\n    <tr>\n      <th>488</th>\n      <td>510</td>\n      <td>26390</td>\n      <td>QUARTINO</td>\n      <td>in Betrieb</td>\n      <td>Online+Statistik</td>\n      <td>H 13</td>\n      <td>TI</td>\n      <td>8.895127</td>\n      <td>46.153286</td>\n      <td>0</td>\n      <td>6</td>\n      <td>0</td>\n      <td>0</td>\n    </tr>\n    <tr>\n      <th>492</th>\n      <td>512</td>\n      <td>65619</td>\n      <td>DERENDINGEN</td>\n      <td>Zählstelle geplant</td>\n      <td>Online+Statistik</td>\n      <td>A 1</td>\n      <td>SO</td>\n      <td>7.599616</td>\n      <td>47.191135</td>\n      <td>0</td>\n      <td>14</td>\n      <td>0</td>\n      <td>0</td>\n    </tr>\n    <tr>\n      <th>518</th>\n      <td>534</td>\n      <td>0</td>\n      <td>LAUSANNE BLECHERETTE (AR)</td>\n      <td>ausser Betrieb (Bauarbeiten)</td>\n      <td>Online+Statistik</td>\n      <td>A 9</td>\n      <td>VD</td>\n      <td>6.576387</td>\n      <td>46.563503</td>\n      <td>0</td>\n      <td>16</td>\n      <td>3</td>\n      <td>0</td>\n    </tr>\n    <tr>\n      <th>690</th>\n      <td>749</td>\n      <td>9790</td>\n      <td>CHAMPFER S</td>\n      <td>in Betrieb</td>\n      <td>Online+Statistik</td>\n      <td>H 27</td>\n      <td>GR</td>\n      <td>9.802052</td>\n      <td>46.468758</td>\n      <td>0</td>\n      <td>2</td>\n      <td>26</td>\n      <td>0</td>\n    </tr>\n    <tr>\n      <th>708</th>\n      <td>769</td>\n      <td>0</td>\n      <td>HERBLINGEN</td>\n      <td>Zählstelle geplant</td>\n      <td>nur Statistik</td>\n      <td>A 4</td>\n      <td>SH</td>\n      <td>8.668375</td>\n      <td>47.722490</td>\n      <td>3</td>\n      <td>14</td>\n      <td>0</td>\n      <td>0</td>\n    </tr>\n    <tr>\n      <th>752</th>\n      <td>841</td>\n      <td>23192</td>\n      <td>BUOCHS OST (AB)</td>\n      <td>in Betrieb</td>\n      <td>nur Statistik</td>\n      <td>A 2</td>\n      <td>NW</td>\n      <td>8.452472</td>\n      <td>46.970121</td>\n      <td>7</td>\n      <td>1</td>\n      <td>0</td>\n      <td>0</td>\n    </tr>\n    <tr>\n      <th>760</th>\n      <td>851</td>\n      <td>40089</td>\n      <td>ECHANGEUR GD.ST.BERNARD OUEST (AR)</td>\n      <td>in Betrieb</td>\n      <td>Online+Statistik</td>\n      <td>A 9</td>\n      <td>VS</td>\n      <td>7.090592</td>\n      <td>46.113943</td>\n      <td>0</td>\n      <td>1</td>\n      <td>27</td>\n      <td>0</td>\n    </tr>\n    <tr>\n      <th>762</th>\n      <td>852</td>\n      <td>0</td>\n      <td>ECHANGEUR GD.ST.BERNARD EST (AR)</td>\n      <td>in Betrieb</td>\n      <td>Online+Statistik</td>\n      <td>A 9</td>\n      <td>VS</td>\n      <td>7.098525</td>\n      <td>46.115434</td>\n      <td>0</td>\n      <td>1</td>\n      <td>27</td>\n      <td>0</td>\n    </tr>\n  </tbody>\n</table>\n</div>"
     },
     "execution_count": 16,
     "metadata": {},
     "output_type": "execute_result"
    }
   ],
   "source": [
    "df_radius[df_radius['Charging_stations_1-2km'] != 0]"
   ],
   "metadata": {
    "collapsed": false,
    "pycharm": {
     "name": "#%%\n"
    }
   }
  },
  {
   "cell_type": "code",
   "execution_count": 17,
   "outputs": [
    {
     "data": {
      "text/plain": "     nr_measuring_point  annual_average  \\\n8                    14            3434   \n24                   25           47646   \n36                   35               0   \n38                   38           15279   \n46                   43               0   \n66                   60           91017   \n70                   66           35187   \n92                   81          122161   \n116                 104               0   \n126                 114               0   \n162                 137           47689   \n166                 139           37800   \n170                 145               0   \n174                 149               0   \n180                 156           20542   \n192                 165               0   \n198                 169            2120   \n212                 180           12192   \n214                 181               0   \n228                 194           84018   \n252                 209           14827   \n254                 210               0   \n284                 229           72543   \n300                 240               0   \n302                 241           86338   \n304                 242               0   \n316                 248           24656   \n322                 251           24315   \n348                 274          118611   \n366                 289           53888   \n368                 290          102986   \n378                 297               0   \n428                 328           26417   \n436                 353           12682   \n458                 385           10785   \n502                 523           49350   \n518                 534               0   \n540                 572           58269   \n554                 591           12526   \n594                 628               0   \n600                 632            6800   \n618                 657               0   \n640                 685            7651   \n644                 687           14298   \n646                 690           16413   \n682                 739           10616   \n690                 749            9790   \n692                 757            3927   \n732                 818           46404   \n750                 840           25990   \n754                 845           16053   \n756                 846           14901   \n758                 847           20373   \n760                 851           40089   \n762                 852               0   \n\n                                 point_name                        status  \\\n8                         JULIER, LA VEDUTA                    in Betrieb   \n24                           BAD RAGAZ (AB)                    in Betrieb   \n36                         TRUEBBACH S (AB)                    in Betrieb   \n38                               STARRKIRCH                    in Betrieb   \n46                         PREVERENGES (AR)                    in Betrieb   \n66                             GUNZGEN (AB)                    in Betrieb   \n70                           SCHLIEREN (AB)                    in Betrieb   \n92                       MUTTENZ, HARD (AB)                    in Betrieb   \n116                          MURI BE S (AB)  ausser Betrieb (Bauarbeiten)   \n126                    BRUETTISELLEN N (AB)                    in Betrieb   \n162                       MONTE CENERI (AS)                    in Betrieb   \n166                          LUTERBACH (AB)                    in Betrieb   \n170                               AARBURG N                    in Betrieb   \n174                                MEX (AR)                    in Betrieb   \n180                   SEELISBERGTUNNEL (AB)                    in Betrieb   \n192                         MARTIGNY N (AR)  ausser Betrieb (Bauarbeiten)   \n198                       FLUELA, TSCHUGGEN                    in Betrieb   \n212                                THAYNGEN                    in Betrieb   \n214                       FLURLINGEN S (AB)                    in Betrieb   \n228                             URDORF (AB)                    in Betrieb   \n252                    MARTIGNY, LE BROCARD                    in Betrieb   \n254              AUGST S, VERZW. A2/A3 (AB)                    in Betrieb   \n284                        OFTRINGEN E (AB)                    in Betrieb   \n300            UMF. ZUERICH N, SEEBACH (AB)                    in Betrieb   \n302                            OPFIKON (AB)                    in Betrieb   \n304                           HEGNAU W (AB)                    in Betrieb   \n316       RHEINFELDEN, AUTOBAHNZUBRINGER A3                    in Betrieb   \n322                         ERSTFELD N (AB)                    in Betrieb   \n348                 WUERENLOS (AB) - AG1401                    in Betrieb   \n366                          CAMIGNOLO (AS)                    in Betrieb   \n368      OFTRINGEN / ROTHRIST (AB) - AG1412                    in Betrieb   \n378        BIRSFELDEN ZUBRINGER A2 - BL1101                    in Betrieb   \n428                 ESTAVAYER-LE-LAC E (AR)                    in Betrieb   \n436                                  WORB W                    in Betrieb   \n458                        ALTDORF - UR6003                    in Betrieb   \n502                         MUENSINGEN (AB)                    in Betrieb   \n518               LAUSANNE BLECHERETTE (AR)  ausser Betrieb (Bauarbeiten)   \n540     ISLISBERGTUNNEL MITTE (AB) - ZH2102                    in Betrieb   \n554          ALTDORF, SCHMIEDGASSE - UR6018                    in Betrieb   \n594  MARTIGNY-CROIX W, FORCLAZ - VS00134021                    in Betrieb   \n600                 DAVOS N, LARET - GR0237                    in Betrieb   \n618                       BUERGLEN - UR6303                    in Betrieb   \n640        ALTDORF, KLAUSENSTRASSE - UR6017                    in Betrieb   \n644       ALTDORF, GOTTHARDSTRASSE - UR6014                    in Betrieb   \n646                           FLUEELEN (AB)                    in Betrieb   \n682                           TURTMANN (AB)                    in Betrieb   \n690                              CHAMPFER S                    in Betrieb   \n692                            MITTALTUNNEL                    in Betrieb   \n732                               SOLOTHURN            Zählstelle geplant   \n750                        BUOCHS WEST (AB)                    in Betrieb   \n754     BAHNTAL GALGENBUCKTUNNEL VIRTUELL 1                    in Betrieb   \n756     BAHNTAL GALGENBUCKTUNNEL VIRTUELL 2                    in Betrieb   \n758                   ENGI GALGENBUCKTUNNEL                    in Betrieb   \n760      ECHANGEUR GD.ST.BERNARD OUEST (AR)                    in Betrieb   \n762        ECHANGEUR GD.ST.BERNARD EST (AR)                    in Betrieb   \n\n           type_point   road canton_abbreviation  coordinate_east  \\\n8    Online+Statistik    H 3                  GR         9.794852   \n24   Online+Statistik   A 13                  SG         9.505120   \n36   Online+Statistik   A 13                  SG         9.462862   \n38   Online+Statistik    H 5                  SO         7.922704   \n46   Online+Statistik    A 1                  VD         6.541364   \n66   Online+Statistik    A 1                  SO         7.820756   \n70   Online+Statistik    A 1                  ZH         8.459347   \n92   Online+Statistik    A 2                  BL         7.644802   \n116  Online+Statistik    A 6                  BE         7.506972   \n126  Online+Statistik    A 1                  ZH         8.642871   \n162  Online+Statistik    A 2                  TI         8.946918   \n166  Online+Statistik    A 5                  SO         7.596637   \n170  Online+Statistik    H 2                  AG         7.909092   \n174  Online+Statistik    A 1                  VD         6.557570   \n180  Online+Statistik    A 2                  UR         8.598006   \n192  Online+Statistik    A 9                  VS         7.069411   \n198  Online+Statistik   H 28                  GR         9.900228   \n212  Online+Statistik   H 15                  SH         8.713816   \n214     nur Statistik    A 4                  ZH         8.628395   \n228  Online+Statistik    A 3                  ZH         8.414773   \n252  Online+Statistik   H 21                  VS         7.053149   \n254  Online+Statistik    A 2                  BL         7.737409   \n284  Online+Statistik    A 1                  AG         7.948910   \n300  Online+Statistik   A 1C                  ZH         8.568711   \n302  Online+Statistik   A 11                  ZH         8.572192   \n304  Online+Statistik   A 15                  ZH         8.664057   \n316  Online+Statistik    A 3                  AG         7.759971   \n322     nur Statistik    A 2                  UR         8.634334   \n348  Online+Statistik    A 1                  AG         8.348688   \n366  Online+Statistik    A 2                  TI         8.930362   \n368  Online+Statistik    A 1                  AG         7.903472   \n378  Online+Statistik    A 2                  BL         7.631164   \n428  Online+Statistik    A 1                  FR         6.871261   \n436  Online+Statistik   H 10                  BE         7.548444   \n458  Online+Statistik    H 2                  UR         8.635404   \n502  Online+Statistik    A 6                  BE         7.547070   \n518  Online+Statistik    A 9                  VD         6.576387   \n540  Online+Statistik    A 4                  ZH         8.444681   \n554  Online+Statistik    H 2                  UR         8.643514   \n594  Online+Statistik  H 203                  VS         7.054512   \n600  Online+Statistik   H 28                  GR         9.864082   \n618  Online+Statistik    H 2                  UR         8.651345   \n640  Online+Statistik   H 17                  UR         8.652876   \n644  Online+Statistik    H 2                  UR         8.649363   \n646     nur Statistik    A 4                  UR         8.620923   \n682  Online+Statistik    A 9                  VS         7.685095   \n690  Online+Statistik   H 27                  GR         9.802052   \n692  Online+Statistik  H 509                  VS         7.757320   \n732  Online+Statistik    A 5                  SO         7.538926   \n750     nur Statistik    A 2                  NW         8.413311   \n754     nur Statistik    A 4                  SH         8.622008   \n756     nur Statistik    A 4                  SH         8.621950   \n758  Online+Statistik   H 13                  SH         8.608638   \n760  Online+Statistik    A 9                  VS         7.090592   \n762  Online+Statistik    A 9                  VS         7.098525   \n\n     coordinate_nord  Charging_stations_1km  Charging_stations_1-2km  \\\n8          46.464632                      0                        0   \n24         47.014617                     10                       14   \n36         47.038667                      0                        0   \n38         47.352135                      0                        0   \n46         46.529883                      0                        0   \n66         47.311664                      0                        0   \n70         47.405271                      0                        0   \n92         47.538702                      0                        0   \n116        46.920729                      0                        0   \n126        47.423124                      0                        1   \n162        46.144167                      0                        0   \n166        47.210028                      0                        0   \n170        47.339491                      0                        0   \n174        46.570510                      0                       16   \n180        46.889107                      0                        0   \n192        46.118770                      0                       27   \n198        46.800435                      0                        0   \n212        47.740808                      0                        0   \n214        47.676468                      0                        0   \n228        47.390599                      0                        5   \n252        46.078748                      0                        0   \n254        47.528598                      0                        0   \n284        47.317609                      0                       19   \n300        47.424205                      0                        0   \n302        47.429550                      0                        0   \n304        47.396851                      0                        0   \n316        47.541930                      0                        0   \n322        46.856860                      0                        0   \n348        47.437713                      0                        0   \n366        46.100589                      0                        0   \n368        47.309490                      5                        2   \n378        47.542962                      0                        0   \n428        46.831485                     14                        7   \n436        46.926445                      0                        0   \n458        46.885493                      0                        1   \n502        46.870063                      0                        0   \n518        46.563503                      0                       16   \n540        47.318993                      0                        0   \n554        46.880883                      0                        0   \n594        46.090726                      0                        0   \n600        46.840564                      0                        0   \n618        46.870886                      0                        0   \n640        46.874792                      0                        0   \n644        46.876062                      0                        0   \n646        46.894127                      1                        0   \n682        46.306294                      0                        0   \n690        46.468758                      0                        2   \n692        46.331023                      0                        0   \n732        47.194936                      0                        0   \n750        46.970191                      0                        0   \n754        47.691050                      0                        0   \n756        47.692004                      0                        0   \n758        47.691239                      0                        0   \n760        46.113943                      0                        1   \n762        46.115434                      0                        1   \n\n     Charging_stations_2-5km  Charging_stations_5-10km  \n8                         12                        16  \n24                         3                         0  \n36                        10                        17  \n38                        26                        10  \n46                        19                         0  \n66                        18                        26  \n70                        29                         4  \n92                        23                         0  \n116                       16                         0  \n126                        8                         0  \n162                        6                         0  \n166                       14                         0  \n170                       26                        18  \n174                        3                         0  \n180                        7                         0  \n192                        1                         0  \n198                       15                        15  \n212                        3                        14  \n214                        6                        11  \n228                       28                         0  \n252                        1                        27  \n254                       23                         0  \n284                        7                         0  \n300                        9                         0  \n302                        9                         0  \n304                        9                         0  \n316                        1                        22  \n322                        1                         6  \n348                       26                         7  \n366                        6                         0  \n368                       19                        18  \n378                       22                         1  \n428                        3                         0  \n436                       16                         0  \n458                        6                         0  \n502                       16                         0  \n518                        3                         0  \n540                        2                        18  \n554                        7                         0  \n594                       28                         0  \n600                       15                        15  \n618                        1                         6  \n640                        7                         0  \n644                        7                         0  \n646                        6                         0  \n682                        8                         0  \n690                       26                         0  \n692                        8                         0  \n732                        2                        12  \n750                        8                         0  \n754                       17                         0  \n756                       17                         0  \n758                       17                         0  \n760                       27                         0  \n762                       27                         0  ",
      "text/html": "<div>\n<style scoped>\n    .dataframe tbody tr th:only-of-type {\n        vertical-align: middle;\n    }\n\n    .dataframe tbody tr th {\n        vertical-align: top;\n    }\n\n    .dataframe thead th {\n        text-align: right;\n    }\n</style>\n<table border=\"1\" class=\"dataframe\">\n  <thead>\n    <tr style=\"text-align: right;\">\n      <th></th>\n      <th>nr_measuring_point</th>\n      <th>annual_average</th>\n      <th>point_name</th>\n      <th>status</th>\n      <th>type_point</th>\n      <th>road</th>\n      <th>canton_abbreviation</th>\n      <th>coordinate_east</th>\n      <th>coordinate_nord</th>\n      <th>Charging_stations_1km</th>\n      <th>Charging_stations_1-2km</th>\n      <th>Charging_stations_2-5km</th>\n      <th>Charging_stations_5-10km</th>\n    </tr>\n  </thead>\n  <tbody>\n    <tr>\n      <th>8</th>\n      <td>14</td>\n      <td>3434</td>\n      <td>JULIER, LA VEDUTA</td>\n      <td>in Betrieb</td>\n      <td>Online+Statistik</td>\n      <td>H 3</td>\n      <td>GR</td>\n      <td>9.794852</td>\n      <td>46.464632</td>\n      <td>0</td>\n      <td>0</td>\n      <td>12</td>\n      <td>16</td>\n    </tr>\n    <tr>\n      <th>24</th>\n      <td>25</td>\n      <td>47646</td>\n      <td>BAD RAGAZ (AB)</td>\n      <td>in Betrieb</td>\n      <td>Online+Statistik</td>\n      <td>A 13</td>\n      <td>SG</td>\n      <td>9.505120</td>\n      <td>47.014617</td>\n      <td>10</td>\n      <td>14</td>\n      <td>3</td>\n      <td>0</td>\n    </tr>\n    <tr>\n      <th>36</th>\n      <td>35</td>\n      <td>0</td>\n      <td>TRUEBBACH S (AB)</td>\n      <td>in Betrieb</td>\n      <td>Online+Statistik</td>\n      <td>A 13</td>\n      <td>SG</td>\n      <td>9.462862</td>\n      <td>47.038667</td>\n      <td>0</td>\n      <td>0</td>\n      <td>10</td>\n      <td>17</td>\n    </tr>\n    <tr>\n      <th>38</th>\n      <td>38</td>\n      <td>15279</td>\n      <td>STARRKIRCH</td>\n      <td>in Betrieb</td>\n      <td>Online+Statistik</td>\n      <td>H 5</td>\n      <td>SO</td>\n      <td>7.922704</td>\n      <td>47.352135</td>\n      <td>0</td>\n      <td>0</td>\n      <td>26</td>\n      <td>10</td>\n    </tr>\n    <tr>\n      <th>46</th>\n      <td>43</td>\n      <td>0</td>\n      <td>PREVERENGES (AR)</td>\n      <td>in Betrieb</td>\n      <td>Online+Statistik</td>\n      <td>A 1</td>\n      <td>VD</td>\n      <td>6.541364</td>\n      <td>46.529883</td>\n      <td>0</td>\n      <td>0</td>\n      <td>19</td>\n      <td>0</td>\n    </tr>\n    <tr>\n      <th>66</th>\n      <td>60</td>\n      <td>91017</td>\n      <td>GUNZGEN (AB)</td>\n      <td>in Betrieb</td>\n      <td>Online+Statistik</td>\n      <td>A 1</td>\n      <td>SO</td>\n      <td>7.820756</td>\n      <td>47.311664</td>\n      <td>0</td>\n      <td>0</td>\n      <td>18</td>\n      <td>26</td>\n    </tr>\n    <tr>\n      <th>70</th>\n      <td>66</td>\n      <td>35187</td>\n      <td>SCHLIEREN (AB)</td>\n      <td>in Betrieb</td>\n      <td>Online+Statistik</td>\n      <td>A 1</td>\n      <td>ZH</td>\n      <td>8.459347</td>\n      <td>47.405271</td>\n      <td>0</td>\n      <td>0</td>\n      <td>29</td>\n      <td>4</td>\n    </tr>\n    <tr>\n      <th>92</th>\n      <td>81</td>\n      <td>122161</td>\n      <td>MUTTENZ, HARD (AB)</td>\n      <td>in Betrieb</td>\n      <td>Online+Statistik</td>\n      <td>A 2</td>\n      <td>BL</td>\n      <td>7.644802</td>\n      <td>47.538702</td>\n      <td>0</td>\n      <td>0</td>\n      <td>23</td>\n      <td>0</td>\n    </tr>\n    <tr>\n      <th>116</th>\n      <td>104</td>\n      <td>0</td>\n      <td>MURI BE S (AB)</td>\n      <td>ausser Betrieb (Bauarbeiten)</td>\n      <td>Online+Statistik</td>\n      <td>A 6</td>\n      <td>BE</td>\n      <td>7.506972</td>\n      <td>46.920729</td>\n      <td>0</td>\n      <td>0</td>\n      <td>16</td>\n      <td>0</td>\n    </tr>\n    <tr>\n      <th>126</th>\n      <td>114</td>\n      <td>0</td>\n      <td>BRUETTISELLEN N (AB)</td>\n      <td>in Betrieb</td>\n      <td>Online+Statistik</td>\n      <td>A 1</td>\n      <td>ZH</td>\n      <td>8.642871</td>\n      <td>47.423124</td>\n      <td>0</td>\n      <td>1</td>\n      <td>8</td>\n      <td>0</td>\n    </tr>\n    <tr>\n      <th>162</th>\n      <td>137</td>\n      <td>47689</td>\n      <td>MONTE CENERI (AS)</td>\n      <td>in Betrieb</td>\n      <td>Online+Statistik</td>\n      <td>A 2</td>\n      <td>TI</td>\n      <td>8.946918</td>\n      <td>46.144167</td>\n      <td>0</td>\n      <td>0</td>\n      <td>6</td>\n      <td>0</td>\n    </tr>\n    <tr>\n      <th>166</th>\n      <td>139</td>\n      <td>37800</td>\n      <td>LUTERBACH (AB)</td>\n      <td>in Betrieb</td>\n      <td>Online+Statistik</td>\n      <td>A 5</td>\n      <td>SO</td>\n      <td>7.596637</td>\n      <td>47.210028</td>\n      <td>0</td>\n      <td>0</td>\n      <td>14</td>\n      <td>0</td>\n    </tr>\n    <tr>\n      <th>170</th>\n      <td>145</td>\n      <td>0</td>\n      <td>AARBURG N</td>\n      <td>in Betrieb</td>\n      <td>Online+Statistik</td>\n      <td>H 2</td>\n      <td>AG</td>\n      <td>7.909092</td>\n      <td>47.339491</td>\n      <td>0</td>\n      <td>0</td>\n      <td>26</td>\n      <td>18</td>\n    </tr>\n    <tr>\n      <th>174</th>\n      <td>149</td>\n      <td>0</td>\n      <td>MEX (AR)</td>\n      <td>in Betrieb</td>\n      <td>Online+Statistik</td>\n      <td>A 1</td>\n      <td>VD</td>\n      <td>6.557570</td>\n      <td>46.570510</td>\n      <td>0</td>\n      <td>16</td>\n      <td>3</td>\n      <td>0</td>\n    </tr>\n    <tr>\n      <th>180</th>\n      <td>156</td>\n      <td>20542</td>\n      <td>SEELISBERGTUNNEL (AB)</td>\n      <td>in Betrieb</td>\n      <td>Online+Statistik</td>\n      <td>A 2</td>\n      <td>UR</td>\n      <td>8.598006</td>\n      <td>46.889107</td>\n      <td>0</td>\n      <td>0</td>\n      <td>7</td>\n      <td>0</td>\n    </tr>\n    <tr>\n      <th>192</th>\n      <td>165</td>\n      <td>0</td>\n      <td>MARTIGNY N (AR)</td>\n      <td>ausser Betrieb (Bauarbeiten)</td>\n      <td>Online+Statistik</td>\n      <td>A 9</td>\n      <td>VS</td>\n      <td>7.069411</td>\n      <td>46.118770</td>\n      <td>0</td>\n      <td>27</td>\n      <td>1</td>\n      <td>0</td>\n    </tr>\n    <tr>\n      <th>198</th>\n      <td>169</td>\n      <td>2120</td>\n      <td>FLUELA, TSCHUGGEN</td>\n      <td>in Betrieb</td>\n      <td>Online+Statistik</td>\n      <td>H 28</td>\n      <td>GR</td>\n      <td>9.900228</td>\n      <td>46.800435</td>\n      <td>0</td>\n      <td>0</td>\n      <td>15</td>\n      <td>15</td>\n    </tr>\n    <tr>\n      <th>212</th>\n      <td>180</td>\n      <td>12192</td>\n      <td>THAYNGEN</td>\n      <td>in Betrieb</td>\n      <td>Online+Statistik</td>\n      <td>H 15</td>\n      <td>SH</td>\n      <td>8.713816</td>\n      <td>47.740808</td>\n      <td>0</td>\n      <td>0</td>\n      <td>3</td>\n      <td>14</td>\n    </tr>\n    <tr>\n      <th>214</th>\n      <td>181</td>\n      <td>0</td>\n      <td>FLURLINGEN S (AB)</td>\n      <td>in Betrieb</td>\n      <td>nur Statistik</td>\n      <td>A 4</td>\n      <td>ZH</td>\n      <td>8.628395</td>\n      <td>47.676468</td>\n      <td>0</td>\n      <td>0</td>\n      <td>6</td>\n      <td>11</td>\n    </tr>\n    <tr>\n      <th>228</th>\n      <td>194</td>\n      <td>84018</td>\n      <td>URDORF (AB)</td>\n      <td>in Betrieb</td>\n      <td>Online+Statistik</td>\n      <td>A 3</td>\n      <td>ZH</td>\n      <td>8.414773</td>\n      <td>47.390599</td>\n      <td>0</td>\n      <td>5</td>\n      <td>28</td>\n      <td>0</td>\n    </tr>\n    <tr>\n      <th>252</th>\n      <td>209</td>\n      <td>14827</td>\n      <td>MARTIGNY, LE BROCARD</td>\n      <td>in Betrieb</td>\n      <td>Online+Statistik</td>\n      <td>H 21</td>\n      <td>VS</td>\n      <td>7.053149</td>\n      <td>46.078748</td>\n      <td>0</td>\n      <td>0</td>\n      <td>1</td>\n      <td>27</td>\n    </tr>\n    <tr>\n      <th>254</th>\n      <td>210</td>\n      <td>0</td>\n      <td>AUGST S, VERZW. A2/A3 (AB)</td>\n      <td>in Betrieb</td>\n      <td>Online+Statistik</td>\n      <td>A 2</td>\n      <td>BL</td>\n      <td>7.737409</td>\n      <td>47.528598</td>\n      <td>0</td>\n      <td>0</td>\n      <td>23</td>\n      <td>0</td>\n    </tr>\n    <tr>\n      <th>284</th>\n      <td>229</td>\n      <td>72543</td>\n      <td>OFTRINGEN E (AB)</td>\n      <td>in Betrieb</td>\n      <td>Online+Statistik</td>\n      <td>A 1</td>\n      <td>AG</td>\n      <td>7.948910</td>\n      <td>47.317609</td>\n      <td>0</td>\n      <td>19</td>\n      <td>7</td>\n      <td>0</td>\n    </tr>\n    <tr>\n      <th>300</th>\n      <td>240</td>\n      <td>0</td>\n      <td>UMF. ZUERICH N, SEEBACH (AB)</td>\n      <td>in Betrieb</td>\n      <td>Online+Statistik</td>\n      <td>A 1C</td>\n      <td>ZH</td>\n      <td>8.568711</td>\n      <td>47.424205</td>\n      <td>0</td>\n      <td>0</td>\n      <td>9</td>\n      <td>0</td>\n    </tr>\n    <tr>\n      <th>302</th>\n      <td>241</td>\n      <td>86338</td>\n      <td>OPFIKON (AB)</td>\n      <td>in Betrieb</td>\n      <td>Online+Statistik</td>\n      <td>A 11</td>\n      <td>ZH</td>\n      <td>8.572192</td>\n      <td>47.429550</td>\n      <td>0</td>\n      <td>0</td>\n      <td>9</td>\n      <td>0</td>\n    </tr>\n    <tr>\n      <th>304</th>\n      <td>242</td>\n      <td>0</td>\n      <td>HEGNAU W (AB)</td>\n      <td>in Betrieb</td>\n      <td>Online+Statistik</td>\n      <td>A 15</td>\n      <td>ZH</td>\n      <td>8.664057</td>\n      <td>47.396851</td>\n      <td>0</td>\n      <td>0</td>\n      <td>9</td>\n      <td>0</td>\n    </tr>\n    <tr>\n      <th>316</th>\n      <td>248</td>\n      <td>24656</td>\n      <td>RHEINFELDEN, AUTOBAHNZUBRINGER A3</td>\n      <td>in Betrieb</td>\n      <td>Online+Statistik</td>\n      <td>A 3</td>\n      <td>AG</td>\n      <td>7.759971</td>\n      <td>47.541930</td>\n      <td>0</td>\n      <td>0</td>\n      <td>1</td>\n      <td>22</td>\n    </tr>\n    <tr>\n      <th>322</th>\n      <td>251</td>\n      <td>24315</td>\n      <td>ERSTFELD N (AB)</td>\n      <td>in Betrieb</td>\n      <td>nur Statistik</td>\n      <td>A 2</td>\n      <td>UR</td>\n      <td>8.634334</td>\n      <td>46.856860</td>\n      <td>0</td>\n      <td>0</td>\n      <td>1</td>\n      <td>6</td>\n    </tr>\n    <tr>\n      <th>348</th>\n      <td>274</td>\n      <td>118611</td>\n      <td>WUERENLOS (AB) - AG1401</td>\n      <td>in Betrieb</td>\n      <td>Online+Statistik</td>\n      <td>A 1</td>\n      <td>AG</td>\n      <td>8.348688</td>\n      <td>47.437713</td>\n      <td>0</td>\n      <td>0</td>\n      <td>26</td>\n      <td>7</td>\n    </tr>\n    <tr>\n      <th>366</th>\n      <td>289</td>\n      <td>53888</td>\n      <td>CAMIGNOLO (AS)</td>\n      <td>in Betrieb</td>\n      <td>Online+Statistik</td>\n      <td>A 2</td>\n      <td>TI</td>\n      <td>8.930362</td>\n      <td>46.100589</td>\n      <td>0</td>\n      <td>0</td>\n      <td>6</td>\n      <td>0</td>\n    </tr>\n    <tr>\n      <th>368</th>\n      <td>290</td>\n      <td>102986</td>\n      <td>OFTRINGEN / ROTHRIST (AB) - AG1412</td>\n      <td>in Betrieb</td>\n      <td>Online+Statistik</td>\n      <td>A 1</td>\n      <td>AG</td>\n      <td>7.903472</td>\n      <td>47.309490</td>\n      <td>5</td>\n      <td>2</td>\n      <td>19</td>\n      <td>18</td>\n    </tr>\n    <tr>\n      <th>378</th>\n      <td>297</td>\n      <td>0</td>\n      <td>BIRSFELDEN ZUBRINGER A2 - BL1101</td>\n      <td>in Betrieb</td>\n      <td>Online+Statistik</td>\n      <td>A 2</td>\n      <td>BL</td>\n      <td>7.631164</td>\n      <td>47.542962</td>\n      <td>0</td>\n      <td>0</td>\n      <td>22</td>\n      <td>1</td>\n    </tr>\n    <tr>\n      <th>428</th>\n      <td>328</td>\n      <td>26417</td>\n      <td>ESTAVAYER-LE-LAC E (AR)</td>\n      <td>in Betrieb</td>\n      <td>Online+Statistik</td>\n      <td>A 1</td>\n      <td>FR</td>\n      <td>6.871261</td>\n      <td>46.831485</td>\n      <td>14</td>\n      <td>7</td>\n      <td>3</td>\n      <td>0</td>\n    </tr>\n    <tr>\n      <th>436</th>\n      <td>353</td>\n      <td>12682</td>\n      <td>WORB W</td>\n      <td>in Betrieb</td>\n      <td>Online+Statistik</td>\n      <td>H 10</td>\n      <td>BE</td>\n      <td>7.548444</td>\n      <td>46.926445</td>\n      <td>0</td>\n      <td>0</td>\n      <td>16</td>\n      <td>0</td>\n    </tr>\n    <tr>\n      <th>458</th>\n      <td>385</td>\n      <td>10785</td>\n      <td>ALTDORF - UR6003</td>\n      <td>in Betrieb</td>\n      <td>Online+Statistik</td>\n      <td>H 2</td>\n      <td>UR</td>\n      <td>8.635404</td>\n      <td>46.885493</td>\n      <td>0</td>\n      <td>1</td>\n      <td>6</td>\n      <td>0</td>\n    </tr>\n    <tr>\n      <th>502</th>\n      <td>523</td>\n      <td>49350</td>\n      <td>MUENSINGEN (AB)</td>\n      <td>in Betrieb</td>\n      <td>Online+Statistik</td>\n      <td>A 6</td>\n      <td>BE</td>\n      <td>7.547070</td>\n      <td>46.870063</td>\n      <td>0</td>\n      <td>0</td>\n      <td>16</td>\n      <td>0</td>\n    </tr>\n    <tr>\n      <th>518</th>\n      <td>534</td>\n      <td>0</td>\n      <td>LAUSANNE BLECHERETTE (AR)</td>\n      <td>ausser Betrieb (Bauarbeiten)</td>\n      <td>Online+Statistik</td>\n      <td>A 9</td>\n      <td>VD</td>\n      <td>6.576387</td>\n      <td>46.563503</td>\n      <td>0</td>\n      <td>16</td>\n      <td>3</td>\n      <td>0</td>\n    </tr>\n    <tr>\n      <th>540</th>\n      <td>572</td>\n      <td>58269</td>\n      <td>ISLISBERGTUNNEL MITTE (AB) - ZH2102</td>\n      <td>in Betrieb</td>\n      <td>Online+Statistik</td>\n      <td>A 4</td>\n      <td>ZH</td>\n      <td>8.444681</td>\n      <td>47.318993</td>\n      <td>0</td>\n      <td>0</td>\n      <td>2</td>\n      <td>18</td>\n    </tr>\n    <tr>\n      <th>554</th>\n      <td>591</td>\n      <td>12526</td>\n      <td>ALTDORF, SCHMIEDGASSE - UR6018</td>\n      <td>in Betrieb</td>\n      <td>Online+Statistik</td>\n      <td>H 2</td>\n      <td>UR</td>\n      <td>8.643514</td>\n      <td>46.880883</td>\n      <td>0</td>\n      <td>0</td>\n      <td>7</td>\n      <td>0</td>\n    </tr>\n    <tr>\n      <th>594</th>\n      <td>628</td>\n      <td>0</td>\n      <td>MARTIGNY-CROIX W, FORCLAZ - VS00134021</td>\n      <td>in Betrieb</td>\n      <td>Online+Statistik</td>\n      <td>H 203</td>\n      <td>VS</td>\n      <td>7.054512</td>\n      <td>46.090726</td>\n      <td>0</td>\n      <td>0</td>\n      <td>28</td>\n      <td>0</td>\n    </tr>\n    <tr>\n      <th>600</th>\n      <td>632</td>\n      <td>6800</td>\n      <td>DAVOS N, LARET - GR0237</td>\n      <td>in Betrieb</td>\n      <td>Online+Statistik</td>\n      <td>H 28</td>\n      <td>GR</td>\n      <td>9.864082</td>\n      <td>46.840564</td>\n      <td>0</td>\n      <td>0</td>\n      <td>15</td>\n      <td>15</td>\n    </tr>\n    <tr>\n      <th>618</th>\n      <td>657</td>\n      <td>0</td>\n      <td>BUERGLEN - UR6303</td>\n      <td>in Betrieb</td>\n      <td>Online+Statistik</td>\n      <td>H 2</td>\n      <td>UR</td>\n      <td>8.651345</td>\n      <td>46.870886</td>\n      <td>0</td>\n      <td>0</td>\n      <td>1</td>\n      <td>6</td>\n    </tr>\n    <tr>\n      <th>640</th>\n      <td>685</td>\n      <td>7651</td>\n      <td>ALTDORF, KLAUSENSTRASSE - UR6017</td>\n      <td>in Betrieb</td>\n      <td>Online+Statistik</td>\n      <td>H 17</td>\n      <td>UR</td>\n      <td>8.652876</td>\n      <td>46.874792</td>\n      <td>0</td>\n      <td>0</td>\n      <td>7</td>\n      <td>0</td>\n    </tr>\n    <tr>\n      <th>644</th>\n      <td>687</td>\n      <td>14298</td>\n      <td>ALTDORF, GOTTHARDSTRASSE - UR6014</td>\n      <td>in Betrieb</td>\n      <td>Online+Statistik</td>\n      <td>H 2</td>\n      <td>UR</td>\n      <td>8.649363</td>\n      <td>46.876062</td>\n      <td>0</td>\n      <td>0</td>\n      <td>7</td>\n      <td>0</td>\n    </tr>\n    <tr>\n      <th>646</th>\n      <td>690</td>\n      <td>16413</td>\n      <td>FLUEELEN (AB)</td>\n      <td>in Betrieb</td>\n      <td>nur Statistik</td>\n      <td>A 4</td>\n      <td>UR</td>\n      <td>8.620923</td>\n      <td>46.894127</td>\n      <td>1</td>\n      <td>0</td>\n      <td>6</td>\n      <td>0</td>\n    </tr>\n    <tr>\n      <th>682</th>\n      <td>739</td>\n      <td>10616</td>\n      <td>TURTMANN (AB)</td>\n      <td>in Betrieb</td>\n      <td>Online+Statistik</td>\n      <td>A 9</td>\n      <td>VS</td>\n      <td>7.685095</td>\n      <td>46.306294</td>\n      <td>0</td>\n      <td>0</td>\n      <td>8</td>\n      <td>0</td>\n    </tr>\n    <tr>\n      <th>690</th>\n      <td>749</td>\n      <td>9790</td>\n      <td>CHAMPFER S</td>\n      <td>in Betrieb</td>\n      <td>Online+Statistik</td>\n      <td>H 27</td>\n      <td>GR</td>\n      <td>9.802052</td>\n      <td>46.468758</td>\n      <td>0</td>\n      <td>2</td>\n      <td>26</td>\n      <td>0</td>\n    </tr>\n    <tr>\n      <th>692</th>\n      <td>757</td>\n      <td>3927</td>\n      <td>MITTALTUNNEL</td>\n      <td>in Betrieb</td>\n      <td>Online+Statistik</td>\n      <td>H 509</td>\n      <td>VS</td>\n      <td>7.757320</td>\n      <td>46.331023</td>\n      <td>0</td>\n      <td>0</td>\n      <td>8</td>\n      <td>0</td>\n    </tr>\n    <tr>\n      <th>732</th>\n      <td>818</td>\n      <td>46404</td>\n      <td>SOLOTHURN</td>\n      <td>Zählstelle geplant</td>\n      <td>Online+Statistik</td>\n      <td>A 5</td>\n      <td>SO</td>\n      <td>7.538926</td>\n      <td>47.194936</td>\n      <td>0</td>\n      <td>0</td>\n      <td>2</td>\n      <td>12</td>\n    </tr>\n    <tr>\n      <th>750</th>\n      <td>840</td>\n      <td>25990</td>\n      <td>BUOCHS WEST (AB)</td>\n      <td>in Betrieb</td>\n      <td>nur Statistik</td>\n      <td>A 2</td>\n      <td>NW</td>\n      <td>8.413311</td>\n      <td>46.970191</td>\n      <td>0</td>\n      <td>0</td>\n      <td>8</td>\n      <td>0</td>\n    </tr>\n    <tr>\n      <th>754</th>\n      <td>845</td>\n      <td>16053</td>\n      <td>BAHNTAL GALGENBUCKTUNNEL VIRTUELL 1</td>\n      <td>in Betrieb</td>\n      <td>nur Statistik</td>\n      <td>A 4</td>\n      <td>SH</td>\n      <td>8.622008</td>\n      <td>47.691050</td>\n      <td>0</td>\n      <td>0</td>\n      <td>17</td>\n      <td>0</td>\n    </tr>\n    <tr>\n      <th>756</th>\n      <td>846</td>\n      <td>14901</td>\n      <td>BAHNTAL GALGENBUCKTUNNEL VIRTUELL 2</td>\n      <td>in Betrieb</td>\n      <td>nur Statistik</td>\n      <td>A 4</td>\n      <td>SH</td>\n      <td>8.621950</td>\n      <td>47.692004</td>\n      <td>0</td>\n      <td>0</td>\n      <td>17</td>\n      <td>0</td>\n    </tr>\n    <tr>\n      <th>758</th>\n      <td>847</td>\n      <td>20373</td>\n      <td>ENGI GALGENBUCKTUNNEL</td>\n      <td>in Betrieb</td>\n      <td>Online+Statistik</td>\n      <td>H 13</td>\n      <td>SH</td>\n      <td>8.608638</td>\n      <td>47.691239</td>\n      <td>0</td>\n      <td>0</td>\n      <td>17</td>\n      <td>0</td>\n    </tr>\n    <tr>\n      <th>760</th>\n      <td>851</td>\n      <td>40089</td>\n      <td>ECHANGEUR GD.ST.BERNARD OUEST (AR)</td>\n      <td>in Betrieb</td>\n      <td>Online+Statistik</td>\n      <td>A 9</td>\n      <td>VS</td>\n      <td>7.090592</td>\n      <td>46.113943</td>\n      <td>0</td>\n      <td>1</td>\n      <td>27</td>\n      <td>0</td>\n    </tr>\n    <tr>\n      <th>762</th>\n      <td>852</td>\n      <td>0</td>\n      <td>ECHANGEUR GD.ST.BERNARD EST (AR)</td>\n      <td>in Betrieb</td>\n      <td>Online+Statistik</td>\n      <td>A 9</td>\n      <td>VS</td>\n      <td>7.098525</td>\n      <td>46.115434</td>\n      <td>0</td>\n      <td>1</td>\n      <td>27</td>\n      <td>0</td>\n    </tr>\n  </tbody>\n</table>\n</div>"
     },
     "execution_count": 17,
     "metadata": {},
     "output_type": "execute_result"
    }
   ],
   "source": [
    "df_radius[df_radius['Charging_stations_2-5km'] != 0]"
   ],
   "metadata": {
    "collapsed": false,
    "pycharm": {
     "name": "#%%\n"
    }
   }
  },
  {
   "cell_type": "code",
   "execution_count": 18,
   "outputs": [
    {
     "data": {
      "text/plain": "     nr_measuring_point  annual_average                      point_name  \\\n8                    14            3434               JULIER, LA VEDUTA   \n16                   20          102196  UMF. ZUERICH N, AFFOLTERN (AB)   \n32                   32           82191                  DEITINGEN (AB)   \n34                   33           53412                 EPTINGEN N (AB)   \n36                   35               0                TRUEBBACH S (AB)   \n..                  ...             ...                             ...   \n732                 818           46404                       SOLOTHURN   \n738                 828           40721                TRUEBBACH N (AB)   \n748                 839           39497                 STANS NORD (AB)   \n766                 854           27123                   BENKEN N (AB)   \n768                 855           27060                   BENKEN S (AB)   \n\n                           status        type_point  road canton_abbreviation  \\\n8                      in Betrieb  Online+Statistik   H 3                  GR   \n16   ausser Betrieb (Bauarbeiten)  Online+Statistik  A 1C                  ZH   \n32                     in Betrieb  Online+Statistik   A 1                  SO   \n34                     in Betrieb  Online+Statistik   A 2                  BL   \n36                     in Betrieb  Online+Statistik  A 13                  SG   \n..                            ...               ...   ...                 ...   \n732            Zählstelle geplant  Online+Statistik   A 5                  SO   \n738                    in Betrieb  Online+Statistik  A 13                  SG   \n748                    in Betrieb     nur Statistik   A 2                  NW   \n766                    in Betrieb     nur Statistik   A 4                  ZH   \n768                    in Betrieb     nur Statistik   A 4                  ZH   \n\n     coordinate_east  coordinate_nord  Charging_stations_1km  \\\n8           9.794852        46.464632                      0   \n16          8.541565        47.433075                      0   \n32          7.612048        47.224388                      0   \n34          7.813893        47.396459                      0   \n36          9.462862        47.038667                      0   \n..               ...              ...                    ...   \n732         7.538926        47.194936                      0   \n738         9.501166        47.080807                      0   \n748         8.366854        46.966349                      0   \n766         8.646955        47.649383                      0   \n768         8.655328        47.641300                      0   \n\n     Charging_stations_1-2km  Charging_stations_2-5km  \\\n8                          0                       12   \n16                         0                        0   \n32                         0                        0   \n34                         0                        0   \n36                         0                       10   \n..                       ...                      ...   \n732                        0                        2   \n738                        0                        0   \n748                        0                        0   \n766                        0                        0   \n768                        0                        0   \n\n     Charging_stations_5-10km  \n8                          16  \n16                          9  \n32                         14  \n34                         18  \n36                         17  \n..                        ...  \n732                        12  \n738                        27  \n748                         8  \n766                        17  \n768                        17  \n\n[84 rows x 13 columns]",
      "text/html": "<div>\n<style scoped>\n    .dataframe tbody tr th:only-of-type {\n        vertical-align: middle;\n    }\n\n    .dataframe tbody tr th {\n        vertical-align: top;\n    }\n\n    .dataframe thead th {\n        text-align: right;\n    }\n</style>\n<table border=\"1\" class=\"dataframe\">\n  <thead>\n    <tr style=\"text-align: right;\">\n      <th></th>\n      <th>nr_measuring_point</th>\n      <th>annual_average</th>\n      <th>point_name</th>\n      <th>status</th>\n      <th>type_point</th>\n      <th>road</th>\n      <th>canton_abbreviation</th>\n      <th>coordinate_east</th>\n      <th>coordinate_nord</th>\n      <th>Charging_stations_1km</th>\n      <th>Charging_stations_1-2km</th>\n      <th>Charging_stations_2-5km</th>\n      <th>Charging_stations_5-10km</th>\n    </tr>\n  </thead>\n  <tbody>\n    <tr>\n      <th>8</th>\n      <td>14</td>\n      <td>3434</td>\n      <td>JULIER, LA VEDUTA</td>\n      <td>in Betrieb</td>\n      <td>Online+Statistik</td>\n      <td>H 3</td>\n      <td>GR</td>\n      <td>9.794852</td>\n      <td>46.464632</td>\n      <td>0</td>\n      <td>0</td>\n      <td>12</td>\n      <td>16</td>\n    </tr>\n    <tr>\n      <th>16</th>\n      <td>20</td>\n      <td>102196</td>\n      <td>UMF. ZUERICH N, AFFOLTERN (AB)</td>\n      <td>ausser Betrieb (Bauarbeiten)</td>\n      <td>Online+Statistik</td>\n      <td>A 1C</td>\n      <td>ZH</td>\n      <td>8.541565</td>\n      <td>47.433075</td>\n      <td>0</td>\n      <td>0</td>\n      <td>0</td>\n      <td>9</td>\n    </tr>\n    <tr>\n      <th>32</th>\n      <td>32</td>\n      <td>82191</td>\n      <td>DEITINGEN (AB)</td>\n      <td>in Betrieb</td>\n      <td>Online+Statistik</td>\n      <td>A 1</td>\n      <td>SO</td>\n      <td>7.612048</td>\n      <td>47.224388</td>\n      <td>0</td>\n      <td>0</td>\n      <td>0</td>\n      <td>14</td>\n    </tr>\n    <tr>\n      <th>34</th>\n      <td>33</td>\n      <td>53412</td>\n      <td>EPTINGEN N (AB)</td>\n      <td>in Betrieb</td>\n      <td>Online+Statistik</td>\n      <td>A 2</td>\n      <td>BL</td>\n      <td>7.813893</td>\n      <td>47.396459</td>\n      <td>0</td>\n      <td>0</td>\n      <td>0</td>\n      <td>18</td>\n    </tr>\n    <tr>\n      <th>36</th>\n      <td>35</td>\n      <td>0</td>\n      <td>TRUEBBACH S (AB)</td>\n      <td>in Betrieb</td>\n      <td>Online+Statistik</td>\n      <td>A 13</td>\n      <td>SG</td>\n      <td>9.462862</td>\n      <td>47.038667</td>\n      <td>0</td>\n      <td>0</td>\n      <td>10</td>\n      <td>17</td>\n    </tr>\n    <tr>\n      <th>...</th>\n      <td>...</td>\n      <td>...</td>\n      <td>...</td>\n      <td>...</td>\n      <td>...</td>\n      <td>...</td>\n      <td>...</td>\n      <td>...</td>\n      <td>...</td>\n      <td>...</td>\n      <td>...</td>\n      <td>...</td>\n      <td>...</td>\n    </tr>\n    <tr>\n      <th>732</th>\n      <td>818</td>\n      <td>46404</td>\n      <td>SOLOTHURN</td>\n      <td>Zählstelle geplant</td>\n      <td>Online+Statistik</td>\n      <td>A 5</td>\n      <td>SO</td>\n      <td>7.538926</td>\n      <td>47.194936</td>\n      <td>0</td>\n      <td>0</td>\n      <td>2</td>\n      <td>12</td>\n    </tr>\n    <tr>\n      <th>738</th>\n      <td>828</td>\n      <td>40721</td>\n      <td>TRUEBBACH N (AB)</td>\n      <td>in Betrieb</td>\n      <td>Online+Statistik</td>\n      <td>A 13</td>\n      <td>SG</td>\n      <td>9.501166</td>\n      <td>47.080807</td>\n      <td>0</td>\n      <td>0</td>\n      <td>0</td>\n      <td>27</td>\n    </tr>\n    <tr>\n      <th>748</th>\n      <td>839</td>\n      <td>39497</td>\n      <td>STANS NORD (AB)</td>\n      <td>in Betrieb</td>\n      <td>nur Statistik</td>\n      <td>A 2</td>\n      <td>NW</td>\n      <td>8.366854</td>\n      <td>46.966349</td>\n      <td>0</td>\n      <td>0</td>\n      <td>0</td>\n      <td>8</td>\n    </tr>\n    <tr>\n      <th>766</th>\n      <td>854</td>\n      <td>27123</td>\n      <td>BENKEN N (AB)</td>\n      <td>in Betrieb</td>\n      <td>nur Statistik</td>\n      <td>A 4</td>\n      <td>ZH</td>\n      <td>8.646955</td>\n      <td>47.649383</td>\n      <td>0</td>\n      <td>0</td>\n      <td>0</td>\n      <td>17</td>\n    </tr>\n    <tr>\n      <th>768</th>\n      <td>855</td>\n      <td>27060</td>\n      <td>BENKEN S (AB)</td>\n      <td>in Betrieb</td>\n      <td>nur Statistik</td>\n      <td>A 4</td>\n      <td>ZH</td>\n      <td>8.655328</td>\n      <td>47.641300</td>\n      <td>0</td>\n      <td>0</td>\n      <td>0</td>\n      <td>17</td>\n    </tr>\n  </tbody>\n</table>\n<p>84 rows × 13 columns</p>\n</div>"
     },
     "execution_count": 18,
     "metadata": {},
     "output_type": "execute_result"
    }
   ],
   "source": [
    "df_radius[df_radius['Charging_stations_5-10km'] != 0]"
   ],
   "metadata": {
    "collapsed": false,
    "pycharm": {
     "name": "#%%\n"
    }
   }
  },
  {
   "cell_type": "code",
   "execution_count": 19,
   "outputs": [
    {
     "data": {
      "text/plain": "   National_road  Monthly_traffic_average  Charging_stations_1km  \\\n0            A 1                  2517734                     28   \n12           A 2                  1189065                     15   \n17           A 3                  1100886                      0   \n18           A 4                   675519                     16   \n20           A 5                   565590                      0   \n..           ...                      ...                    ...   \n61         H 509                     3927                      0   \n62         H 560                     2939                      0   \n63         H 566                     2244                      0   \n58         H 416                     2022                      0   \n57         H 413                     1063                      0   \n\n    Charging_stations_1_to_2km  Charging_stations_2_to_5km  \\\n0                           79                         102   \n12                          11                          51   \n17                           5                          29   \n18                           2                          42   \n20                           0                          16   \n..                         ...                         ...   \n61                           0                           8   \n62                           0                           0   \n63                           0                           0   \n58                           0                           0   \n57                           0                           0   \n\n    Charging_stations_5_to_10km  \n0                           137  \n12                          114  \n17                          292  \n18                          105  \n20                           39  \n..                          ...  \n61                            0  \n62                            0  \n63                            0  \n58                            0  \n57                           14  \n\n[67 rows x 6 columns]",
      "text/html": "<div>\n<style scoped>\n    .dataframe tbody tr th:only-of-type {\n        vertical-align: middle;\n    }\n\n    .dataframe tbody tr th {\n        vertical-align: top;\n    }\n\n    .dataframe thead th {\n        text-align: right;\n    }\n</style>\n<table border=\"1\" class=\"dataframe\">\n  <thead>\n    <tr style=\"text-align: right;\">\n      <th></th>\n      <th>National_road</th>\n      <th>Monthly_traffic_average</th>\n      <th>Charging_stations_1km</th>\n      <th>Charging_stations_1_to_2km</th>\n      <th>Charging_stations_2_to_5km</th>\n      <th>Charging_stations_5_to_10km</th>\n    </tr>\n  </thead>\n  <tbody>\n    <tr>\n      <th>0</th>\n      <td>A 1</td>\n      <td>2517734</td>\n      <td>28</td>\n      <td>79</td>\n      <td>102</td>\n      <td>137</td>\n    </tr>\n    <tr>\n      <th>12</th>\n      <td>A 2</td>\n      <td>1189065</td>\n      <td>15</td>\n      <td>11</td>\n      <td>51</td>\n      <td>114</td>\n    </tr>\n    <tr>\n      <th>17</th>\n      <td>A 3</td>\n      <td>1100886</td>\n      <td>0</td>\n      <td>5</td>\n      <td>29</td>\n      <td>292</td>\n    </tr>\n    <tr>\n      <th>18</th>\n      <td>A 4</td>\n      <td>675519</td>\n      <td>16</td>\n      <td>2</td>\n      <td>42</td>\n      <td>105</td>\n    </tr>\n    <tr>\n      <th>20</th>\n      <td>A 5</td>\n      <td>565590</td>\n      <td>0</td>\n      <td>0</td>\n      <td>16</td>\n      <td>39</td>\n    </tr>\n    <tr>\n      <th>...</th>\n      <td>...</td>\n      <td>...</td>\n      <td>...</td>\n      <td>...</td>\n      <td>...</td>\n      <td>...</td>\n    </tr>\n    <tr>\n      <th>61</th>\n      <td>H 509</td>\n      <td>3927</td>\n      <td>0</td>\n      <td>0</td>\n      <td>8</td>\n      <td>0</td>\n    </tr>\n    <tr>\n      <th>62</th>\n      <td>H 560</td>\n      <td>2939</td>\n      <td>0</td>\n      <td>0</td>\n      <td>0</td>\n      <td>0</td>\n    </tr>\n    <tr>\n      <th>63</th>\n      <td>H 566</td>\n      <td>2244</td>\n      <td>0</td>\n      <td>0</td>\n      <td>0</td>\n      <td>0</td>\n    </tr>\n    <tr>\n      <th>58</th>\n      <td>H 416</td>\n      <td>2022</td>\n      <td>0</td>\n      <td>0</td>\n      <td>0</td>\n      <td>0</td>\n    </tr>\n    <tr>\n      <th>57</th>\n      <td>H 413</td>\n      <td>1063</td>\n      <td>0</td>\n      <td>0</td>\n      <td>0</td>\n      <td>14</td>\n    </tr>\n  </tbody>\n</table>\n<p>67 rows × 6 columns</p>\n</div>"
     },
     "execution_count": 19,
     "metadata": {},
     "output_type": "execute_result"
    }
   ],
   "source": [
    "# df_final = df_radius[(df_radius['annual_average'] != 0)]\n",
    "df_final = df_radius[df_radius['annual_average'] != 0].groupby(['road']).agg({'annual_average': 'sum',\n",
    "                                 'Charging_stations_1km' : 'sum',\n",
    "                                 'Charging_stations_1-2km' : 'sum',\n",
    "                                 'Charging_stations_2-5km' : 'sum',\n",
    "                                 'Charging_stations_5-10km' : 'sum'})\n",
    "df_final.reset_index(inplace=True)\n",
    "df_final.columns = ['National_road', 'Monthly_traffic_average', 'Charging_stations_1km',\n",
    "                     'Charging_stations_1_to_2km', 'Charging_stations_2_to_5km', 'Charging_stations_5_to_10km']\n",
    "df_final.sort_values(by = 'Monthly_traffic_average', ascending = False, inplace = True)\n",
    "df_final"
   ],
   "metadata": {
    "collapsed": false,
    "pycharm": {
     "name": "#%%\n"
    }
   }
  },
  {
   "cell_type": "code",
   "execution_count": 20,
   "outputs": [
    {
     "data": {
      "text/plain": "   National_road  Monthly_traffic_average  Charging_stations_1km  \\\n0            A 1                  2517734                     28   \n12           A 2                  1189065                     15   \n17           A 3                  1100886                      0   \n18           A 4                   675519                     16   \n20           A 5                   565590                      0   \n24           A 9                   502156                      0   \n3           A 13                   495972                     10   \n21           A 6                   169029                      0   \n1           A 11                    86338                      0   \n30          H 13                    81403                      0   \n60           H 5                    55732                      0   \n33          H 17                    50478                      0   \n27          H 10                    44938                      0   \n40           H 2                    37609                      0   \n43          H 21                    25973                      0   \n51          H 27                    19311                      0   \n32          H 15                    12192                      0   \n52          H 28                    10311                      0   \n54           H 3                    10277                      0   \n61         H 509                     3927                      0   \n\n    Charging_stations_1_to_2km  Charging_stations_2_to_5km  \\\n0                           79                         102   \n12                          11                          51   \n17                           5                          29   \n18                           2                          42   \n20                           0                          16   \n24                           1                          35   \n3                           14                           3   \n21                           0                          16   \n1                            0                           9   \n30                           6                          17   \n60                           0                          26   \n33                           0                           7   \n27                           0                          16   \n40                           1                          20   \n43                           0                           1   \n51                           2                          26   \n32                           0                           3   \n52                           0                          30   \n54                           0                          12   \n61                           0                           8   \n\n    Charging_stations_5_to_10km  \n0                           137  \n12                          114  \n17                          292  \n18                          105  \n20                           39  \n24                           19  \n3                            50  \n21                            0  \n1                             0  \n30                            6  \n60                           36  \n33                            7  \n27                            0  \n40                            0  \n43                           27  \n51                            0  \n32                           14  \n52                           30  \n54                           28  \n61                            0  ",
      "text/html": "<div>\n<style scoped>\n    .dataframe tbody tr th:only-of-type {\n        vertical-align: middle;\n    }\n\n    .dataframe tbody tr th {\n        vertical-align: top;\n    }\n\n    .dataframe thead th {\n        text-align: right;\n    }\n</style>\n<table border=\"1\" class=\"dataframe\">\n  <thead>\n    <tr style=\"text-align: right;\">\n      <th></th>\n      <th>National_road</th>\n      <th>Monthly_traffic_average</th>\n      <th>Charging_stations_1km</th>\n      <th>Charging_stations_1_to_2km</th>\n      <th>Charging_stations_2_to_5km</th>\n      <th>Charging_stations_5_to_10km</th>\n    </tr>\n  </thead>\n  <tbody>\n    <tr>\n      <th>0</th>\n      <td>A 1</td>\n      <td>2517734</td>\n      <td>28</td>\n      <td>79</td>\n      <td>102</td>\n      <td>137</td>\n    </tr>\n    <tr>\n      <th>12</th>\n      <td>A 2</td>\n      <td>1189065</td>\n      <td>15</td>\n      <td>11</td>\n      <td>51</td>\n      <td>114</td>\n    </tr>\n    <tr>\n      <th>17</th>\n      <td>A 3</td>\n      <td>1100886</td>\n      <td>0</td>\n      <td>5</td>\n      <td>29</td>\n      <td>292</td>\n    </tr>\n    <tr>\n      <th>18</th>\n      <td>A 4</td>\n      <td>675519</td>\n      <td>16</td>\n      <td>2</td>\n      <td>42</td>\n      <td>105</td>\n    </tr>\n    <tr>\n      <th>20</th>\n      <td>A 5</td>\n      <td>565590</td>\n      <td>0</td>\n      <td>0</td>\n      <td>16</td>\n      <td>39</td>\n    </tr>\n    <tr>\n      <th>24</th>\n      <td>A 9</td>\n      <td>502156</td>\n      <td>0</td>\n      <td>1</td>\n      <td>35</td>\n      <td>19</td>\n    </tr>\n    <tr>\n      <th>3</th>\n      <td>A 13</td>\n      <td>495972</td>\n      <td>10</td>\n      <td>14</td>\n      <td>3</td>\n      <td>50</td>\n    </tr>\n    <tr>\n      <th>21</th>\n      <td>A 6</td>\n      <td>169029</td>\n      <td>0</td>\n      <td>0</td>\n      <td>16</td>\n      <td>0</td>\n    </tr>\n    <tr>\n      <th>1</th>\n      <td>A 11</td>\n      <td>86338</td>\n      <td>0</td>\n      <td>0</td>\n      <td>9</td>\n      <td>0</td>\n    </tr>\n    <tr>\n      <th>30</th>\n      <td>H 13</td>\n      <td>81403</td>\n      <td>0</td>\n      <td>6</td>\n      <td>17</td>\n      <td>6</td>\n    </tr>\n    <tr>\n      <th>60</th>\n      <td>H 5</td>\n      <td>55732</td>\n      <td>0</td>\n      <td>0</td>\n      <td>26</td>\n      <td>36</td>\n    </tr>\n    <tr>\n      <th>33</th>\n      <td>H 17</td>\n      <td>50478</td>\n      <td>0</td>\n      <td>0</td>\n      <td>7</td>\n      <td>7</td>\n    </tr>\n    <tr>\n      <th>27</th>\n      <td>H 10</td>\n      <td>44938</td>\n      <td>0</td>\n      <td>0</td>\n      <td>16</td>\n      <td>0</td>\n    </tr>\n    <tr>\n      <th>40</th>\n      <td>H 2</td>\n      <td>37609</td>\n      <td>0</td>\n      <td>1</td>\n      <td>20</td>\n      <td>0</td>\n    </tr>\n    <tr>\n      <th>43</th>\n      <td>H 21</td>\n      <td>25973</td>\n      <td>0</td>\n      <td>0</td>\n      <td>1</td>\n      <td>27</td>\n    </tr>\n    <tr>\n      <th>51</th>\n      <td>H 27</td>\n      <td>19311</td>\n      <td>0</td>\n      <td>2</td>\n      <td>26</td>\n      <td>0</td>\n    </tr>\n    <tr>\n      <th>32</th>\n      <td>H 15</td>\n      <td>12192</td>\n      <td>0</td>\n      <td>0</td>\n      <td>3</td>\n      <td>14</td>\n    </tr>\n    <tr>\n      <th>52</th>\n      <td>H 28</td>\n      <td>10311</td>\n      <td>0</td>\n      <td>0</td>\n      <td>30</td>\n      <td>30</td>\n    </tr>\n    <tr>\n      <th>54</th>\n      <td>H 3</td>\n      <td>10277</td>\n      <td>0</td>\n      <td>0</td>\n      <td>12</td>\n      <td>28</td>\n    </tr>\n    <tr>\n      <th>61</th>\n      <td>H 509</td>\n      <td>3927</td>\n      <td>0</td>\n      <td>0</td>\n      <td>8</td>\n      <td>0</td>\n    </tr>\n  </tbody>\n</table>\n</div>"
     },
     "execution_count": 20,
     "metadata": {},
     "output_type": "execute_result"
    }
   ],
   "source": [
    "df_import = df_final[df_final['Charging_stations_2_to_5km'] != 0]\n",
    "df_import"
   ],
   "metadata": {
    "collapsed": false,
    "pycharm": {
     "name": "#%%\n"
    }
   }
  },
  {
   "cell_type": "code",
   "execution_count": 21,
   "outputs": [],
   "source": [
    "# Inserting dataframe into database\n",
    "def execute_values(conn, df, table):\n",
    "    # Set up a connection to the warehouse\n",
    "    conn_string = \"host=\"+ creds.PGHOST +\" port=\"+ \"5432\" +\" dbname=\"+ creds.PGDATABASE +\" user=\" + creds.PGUSER \\\n",
    "              +\" password=\"+ creds.PGPASSWORD\n",
    "\n",
    "    conn = psycopg2.connect(conn_string)\n",
    "    print(\"Connected!\")\n",
    "\n",
    "    # Create a cursor object\n",
    "    cursor = conn.cursor()\n",
    "\n",
    "    # Set up data\n",
    "    tuples = [tuple(x) for x in df.to_numpy()]\n",
    "    cols = ','.join(list(df.columns))\n",
    "    # SQL query to execute\n",
    "    query = \"INSERT INTO %s(%s) VALUES %%s\" % (table, cols)\n",
    "    cur = conn.cursor()\n",
    "    try:\n",
    "        extras.execute_values(cur, query, tuples)\n",
    "        conn.commit()\n",
    "    except (Exception, psycopg2.DatabaseError) as error:\n",
    "        print(\"Error: %s\" % error)\n",
    "        conn.rollback()\n",
    "        cur.close()\n",
    "        return\n",
    "    print(\"the dataframe is inserted\")\n",
    "    cur.close()"
   ],
   "metadata": {
    "collapsed": false,
    "pycharm": {
     "name": "#%%\n"
    }
   }
  },
  {
   "cell_type": "code",
   "execution_count": 22,
   "outputs": [
    {
     "name": "stdout",
     "output_type": "stream",
     "text": [
      "Connected!\n",
      "Tables created\n"
     ]
    }
   ],
   "source": [
    "# Creating tables\n",
    "def create_tables():\n",
    "    \"\"\" create tables in the PostgreSQL database\"\"\"\n",
    "    commands = (\n",
    "        \"\"\"\n",
    "        CREATE TABLE IF NOT EXISTS National_roads_with_charging_station_nearby (\n",
    "            ID SERIAL PRIMARY KEY,\n",
    "            National_road VARCHAR(255) NOT NULL,\n",
    "            Monthly_traffic_average INT NOT NULL,\n",
    "            Charging_stations_1km INT NOT NULL,\n",
    "            Charging_stations_1_to_2km INT NOT NULL,\n",
    "            Charging_stations_2_to_5km INT NOT NULL,\n",
    "            Charging_stations_5_to_10km INT NOT NULL\n",
    "            )\n",
    "        \"\"\",\n",
    "        \"\"\"\n",
    "        CREATE TABLE IF NOT EXISTS National_roads_with_charging_station_in_2_to_5km_radius (\n",
    "            ID SERIAL PRIMARY KEY,\n",
    "            National_road VARCHAR(255) NOT NULL,\n",
    "            Monthly_traffic_average INT NOT NULL,\n",
    "            Charging_stations_1km INT NOT NULL,\n",
    "            Charging_stations_1_to_2km INT NOT NULL,\n",
    "            Charging_stations_2_to_5km INT NOT NULL,\n",
    "            Charging_stations_5_to_10km INT NOT NULL\n",
    "            )\n",
    "        \"\"\")\n",
    "    try:\n",
    "        # Set up a connection to the postgres server.\n",
    "        conn_string = \"host=\"+ creds.PGHOST +\" port=\"+ \"5432\" +\" dbname=\"+ creds.PGDATABASE +\" user=\" + creds.PGUSER \\\n",
    "                  +\" password=\"+ creds.PGPASSWORD\n",
    "\n",
    "        conn = psycopg2.connect(conn_string)\n",
    "        print(\"Connected!\")\n",
    "\n",
    "        # Create a cursor object\n",
    "        cursor = conn.cursor()\n",
    "\n",
    "        # Create tables\n",
    "        for command in commands:\n",
    "            cursor.execute(command)\n",
    "        print('Tables created')\n",
    "\n",
    "        # close communication with the PostgreSQL database server\n",
    "        cursor.close()\n",
    "        # commit the changes\n",
    "        conn.commit()\n",
    "    except (Exception, psycopg2.DatabaseError) as error:\n",
    "        print(error)\n",
    "    finally:\n",
    "        if conn is not None:\n",
    "            conn.close()\n",
    "\n",
    "create_tables()"
   ],
   "metadata": {
    "collapsed": false,
    "pycharm": {
     "name": "#%%\n"
    }
   }
  },
  {
   "cell_type": "code",
   "execution_count": 23,
   "outputs": [
    {
     "name": "stdout",
     "output_type": "stream",
     "text": [
      "Connected!\n",
      "the dataframe is inserted\n",
      "Connected!\n",
      "the dataframe is inserted\n"
     ]
    }
   ],
   "source": [
    "# Import data from dataframe\n",
    "execute_values(conn, df_final, 'National_roads_with_charging_station_nearby')\n",
    "execute_values(conn, df_import, 'National_roads_with_charging_station_in_2_to_5km_radius')"
   ],
   "metadata": {
    "collapsed": false,
    "pycharm": {
     "name": "#%%\n"
    }
   }
  },
  {
   "cell_type": "code",
   "execution_count": 23,
   "outputs": [],
   "source": [],
   "metadata": {
    "collapsed": false,
    "pycharm": {
     "name": "#%%\n"
    }
   }
  },
  {
   "cell_type": "code",
   "execution_count": 23,
   "outputs": [],
   "source": [],
   "metadata": {
    "collapsed": false,
    "pycharm": {
     "name": "#%%\n"
    }
   }
  }
 ],
 "metadata": {
  "kernelspec": {
   "display_name": "Python 3",
   "language": "python",
   "name": "python3"
  },
  "language_info": {
   "codemirror_mode": {
    "name": "ipython",
    "version": 2
   },
   "file_extension": ".py",
   "mimetype": "text/x-python",
   "name": "python",
   "nbconvert_exporter": "python",
   "pygments_lexer": "ipython2",
   "version": "2.7.6"
  }
 },
 "nbformat": 4,
 "nbformat_minor": 0
}