{
 "cells": [
  {
   "cell_type": "code",
   "execution_count": 19,
   "outputs": [],
   "source": [
    "import psycopg2\n",
    "import psycopg2.extras as extras\n",
    "import config_warehouse as creds\n",
    "import config_lake as creds_lake\n",
    "import pandas as pd\n",
    "import numpy as np\n",
    "from psycopg2.extensions import register_adapter, AsIs\n",
    "\n",
    "psycopg2.extensions.register_adapter(np.int64, psycopg2._psycopg.AsIs) #allow int64 for db import"
   ],
   "metadata": {
    "collapsed": false,
    "pycharm": {
     "name": "#%%\n"
    }
   }
  },
  {
   "cell_type": "code",
   "execution_count": 20,
   "outputs": [
    {
     "name": "stdout",
     "output_type": "stream",
     "text": [
      "('electricityproductionplants',)\n",
      "('measuringpoints',)\n",
      "('measuringpointscoordinates',)\n",
      "('electriccars21',)\n",
      "('ZIPCode',)\n",
      "('chargingstations_static',)\n",
      "('chargingstations_locations',)\n"
     ]
    }
   ],
   "source": [
    "# Show Tables\n",
    "\n",
    "def Show_tables():\n",
    "    try:\n",
    "        # DB connection\n",
    "        conn_string = \"host=\"+ creds_lake.PGHOST +\" port=\"+ \"5432\" +\" dbname=\"+ creds_lake.PGDATABASE +\" user=\" + creds_lake.PGUSER +\" password=\"+ creds_lake.PGPASSWORD\n",
    "        conn = psycopg2.connect(conn_string)\n",
    "        cur = conn.cursor()\n",
    "        # Select data\n",
    "        cur.execute(\"\"\"SELECT table_name FROM information_schema.tables\n",
    "        WHERE table_schema = 'public'\"\"\")\n",
    "        records = cur.fetchall()\n",
    "        #print(records)\n",
    "        #print(type(records[0][0]))\n",
    "        for item in records:\n",
    "            print(item)\n",
    "    except (Exception, psycopg2.DatabaseError) as error:\n",
    "        print(error)\n",
    "    finally:\n",
    "        if conn is not None:\n",
    "            conn.close()\n",
    "\n",
    "Show_tables()"
   ],
   "metadata": {
    "collapsed": false,
    "pycharm": {
     "name": "#%%\n"
    }
   }
  },
  {
   "cell_type": "code",
   "execution_count": 24,
   "outputs": [
    {
     "name": "stdout",
     "output_type": "stream",
     "text": [
      "Connected!\n",
      "Tables created\n"
     ]
    }
   ],
   "source": [
    "def create_tables():\n",
    "    \"\"\" create tables in the PostgreSQL database\"\"\"\n",
    "    commands = (\n",
    "        \"\"\"\n",
    "        CREATE TABLE IF NOT EXISTS Electric_cars_21 (\n",
    "            ID SERIAL PRIMARY KEY,\n",
    "            Vehicle_group VARCHAR(255) NOT NULL,\n",
    "            Year_of_first_registration VARCHAR(255) NOT NULL,\n",
    "            Fuel VARCHAR(255) NOT NULL,\n",
    "            Count_2021 Int NOT NULL,\n",
    "            Canton_abbreviation VARCHAR(255) NOT NULL,\n",
    "            FOREIGN KEY (Canton_abbreviation) REFERENCES regions_and_cantons(canton_abbreviation))\n",
    "        \"\"\",\n",
    "        \"\"\"\n",
    "        CREATE TABLE IF NOT EXISTS Measuring_points (\n",
    "            Nr_measuring_point Int PRIMARY KEY,\n",
    "            Point_name VARCHAR(255) NOT NULL,\n",
    "            Status VARCHAR(255) NOT NULL,\n",
    "            Type_point VARCHAR(255) NOT NULL,\n",
    "            Road VARCHAR(255) NOT NULL,\n",
    "            Canton_abbreviation CHAR(2) NOT NULL,\n",
    "            FOREIGN KEY (Canton_abbreviation) REFERENCES regions_and_cantons(canton_abbreviation))\n",
    "        \"\"\",\n",
    "        \"\"\"\n",
    "        CREATE TABLE IF NOT EXISTS Traffic_measurement_21 (\n",
    "            Nr Int PRIMARY KEY,\n",
    "            Nr_measuring_point Int NOT NULL,\n",
    "            Annual_average Int,\n",
    "            FOREIGN KEY (Nr_measuring_point) REFERENCES Measuring_points(Nr_measuring_point))\n",
    "        \"\"\",\n",
    "        \"\"\"\n",
    "        CREATE TABLE IF NOT EXISTS Measuring_points_coordinates (\n",
    "            Nr Serial PRIMARY KEY,\n",
    "            Nr_measuring_point Int NOT NULL,\n",
    "            Coordinate_east Int NOT NULL,\n",
    "            Coordinate_nord Int NOT NULL,\n",
    "            FOREIGN KEY (Nr_measuring_point) REFERENCES Measuring_points(Nr_measuring_point))\n",
    "        \"\"\",\n",
    "        \"\"\"\n",
    "        CREATE TABLE IF NOT EXISTS Main_categories_electricity_production (\n",
    "            ID_main_category Int PRIMARY KEY,\n",
    "            Name_main_category VARCHAR(255) NOT NULL)\n",
    "        \"\"\",\n",
    "        \"\"\"\n",
    "        CREATE TABLE IF NOT EXISTS Sub_categories_electricity_production (\n",
    "            ID_sub_category Int PRIMARY KEY,\n",
    "            Name_sub_category VARCHAR(255) NOT NULL,\n",
    "            ID_main_category Int NOT NULL,\n",
    "            FOREIGN KEY (ID_main_category)\n",
    "            REFERENCES Main_categories_electricity_production(ID_main_category))\n",
    "        \"\"\",\n",
    "        \"\"\"\n",
    "        CREATE TABLE IF NOT EXISTS Electricity_production_plants (\n",
    "            xtf_id Int PRIMARY KEY,\n",
    "            ID_postal_code Int NOT NULL,\n",
    "            Municipality VARCHAR(255) NOT NULL,\n",
    "            Canton_abbreviation CHAR(2) NOT NULL,\n",
    "            ID_sub_category INT NOT NULL,\n",
    "            Total_power FLOAT NOT NULL,\n",
    "            Avg_monthly_production_kwh FLOAT,\n",
    "            FOREIGN KEY (ID_postal_code) REFERENCES Postal_codes(ID_postal_code),\n",
    "            FOREIGN KEY (Canton_abbreviation) REFERENCES regions_and_cantons(canton_abbreviation),\n",
    "            FOREIGN KEY (ID_sub_category)\n",
    "            REFERENCES Sub_categories_electricity_production(ID_sub_category))\n",
    "         \"\"\"\n",
    "        #,\n",
    "        # \"\"\"\n",
    "        # CREATE TABLE IF NOT EXISTS Operators (\n",
    "        #     Operator_ID VARCHAR(255) PRIMARY KEY,\n",
    "        #     Name_operator VARCHAR(255) NOT NULL)\n",
    "        # \"\"\",\n",
    "        # \"\"\"\n",
    "        # CREATE TABLE IF NOT EXISTS Charging_stations_static (\n",
    "        #     Evse_ID VARCHAR(255) PRIMARY KEY,\n",
    "        #     Charging_station_ID VARCHAR(255) NOT NULL,\n",
    "        #     Operator_ID VARCHAR(255) NOT NULL,\n",
    "        #     City VARCHAR(255) NOT NULL,\n",
    "        #     Street VARCHAR(255) NOT NULL,\n",
    "        #     Power INT NOT NULL,\n",
    "        #     ID_postal_code Int NOT NULL,\n",
    "        #     FOREIGN KEY (Operator_ID) REFERENCES Operators(Operator_ID),\n",
    "        #     FOREIGN KEY (ID_postal_code) REFERENCES Postal_codes(ID_postal_code))\n",
    "        # \"\"\",\n",
    "        # \"\"\"\n",
    "        # CREATE TABLE IF NOT EXISTS Charging_stations_occupancy (\n",
    "        #     Occupancy_ID SERIAL PRIMARY KEY,\n",
    "        #     Evse_ID VARCHAR(255) NOT NULL,\n",
    "        #     Daily_occupancy INT NOT NULL,\n",
    "        #     Daily_kwH FLOAT NOT NULL,\n",
    "        #     Daily_cars INT NOT NULL,\n",
    "        #     Day_id DATE NOT NULL,\n",
    "        #     FOREIGN KEY (Evse_ID) REFERENCES Charging_stations_static(Evse_ID))\n",
    "        # \"\"\",\n",
    "        # \"\"\"\n",
    "        # CREATE TABLE IF NOT EXISTS Chargin_stations_location (\n",
    "        #     Location_ID Int PRIMARY KEY,\n",
    "        #     Evse_ID VARCHAR(255) NOT NULL,\n",
    "        #     Coordinate_east Int NOT NULL,\n",
    "        #     Coordinate_nord Int NOT NULL,\n",
    "        #     FOREIGN KEY (Evse_ID) REFERENCES Charging_stations_static(Evse_ID))\n",
    "        # \"\"\"\n",
    "    )\n",
    "\n",
    "    #  PRIMARY KEY (Postal_code)\n",
    "\n",
    "    try:\n",
    "        # Set up a connection to the postgres server.\n",
    "        conn_string = \"host=\"+ creds.PGHOST +\" port=\"+ \"5432\" +\" dbname=\"+ creds.PGDATABASE +\" user=\" + creds.PGUSER \\\n",
    "                  +\" password=\"+ creds.PGPASSWORD\n",
    "\n",
    "        conn = psycopg2.connect(conn_string)\n",
    "        print(\"Connected!\")\n",
    "\n",
    "        # Create a cursor object\n",
    "        cursor = conn.cursor()\n",
    "\n",
    "        # Create tables\n",
    "        for command in commands:\n",
    "            cursor.execute(command)\n",
    "        print('Tables created')\n",
    "\n",
    "        # Import data from dataframe\n",
    "        #execute_values(conn, fetch_data_plz(), 'Postal_codes')\n",
    "\n",
    "        # close communication with the PostgreSQL database server\n",
    "        cursor.close()\n",
    "        # commit the changes\n",
    "        conn.commit()\n",
    "    except (Exception, psycopg2.DatabaseError) as error:\n",
    "        print(error)\n",
    "    finally:\n",
    "        if conn is not None:\n",
    "            conn.close()\n",
    "\n",
    "create_tables()"
   ],
   "metadata": {
    "collapsed": false,
    "pycharm": {
     "name": "#%%\n"
    }
   }
  },
  {
   "cell_type": "code",
   "execution_count": 22,
   "outputs": [],
   "source": [
    "# Inserting dataframe into database\n",
    "def execute_values(conn, df, table):\n",
    "    # Set up a connection to the warehouse\n",
    "    conn_string = \"host=\"+ creds.PGHOST +\" port=\"+ \"5432\" +\" dbname=\"+ creds.PGDATABASE +\" user=\" + creds.PGUSER \\\n",
    "              +\" password=\"+ creds.PGPASSWORD\n",
    "\n",
    "    conn = psycopg2.connect(conn_string)\n",
    "    print(\"Connected!\")\n",
    "\n",
    "    # Create a cursor object\n",
    "    cursor = conn.cursor()\n",
    "\n",
    "    # Set up data\n",
    "    tuples = [tuple(x) for x in df.to_numpy()]\n",
    "    cols = ','.join(list(df.columns))\n",
    "    # SQL query to execute\n",
    "    query = \"INSERT INTO %s(%s) VALUES %%s\" % (table, cols)\n",
    "    cur = conn.cursor()\n",
    "    try:\n",
    "        extras.execute_values(cur, query, tuples)\n",
    "        conn.commit()\n",
    "    except (Exception, psycopg2.DatabaseError) as error:\n",
    "        print(\"Error: %s\" % error)\n",
    "        conn.rollback()\n",
    "        cur.close()\n",
    "        return\n",
    "    print(\"the dataframe is inserted\")\n",
    "    cur.close()"
   ],
   "metadata": {
    "collapsed": false,
    "pycharm": {
     "name": "#%%\n"
    }
   }
  },
  {
   "cell_type": "code",
   "execution_count": 25,
   "outputs": [
    {
     "name": "stdout",
     "output_type": "stream",
     "text": [
      "['electricityproductionplants', 'measuringpoints', 'measuringpointscoordinates', 'electriccars21', 'ZIPCode', 'chargingstations_static', 'chargingstations_locations']\n"
     ]
    },
    {
     "name": "stderr",
     "output_type": "stream",
     "text": [
      "<ipython-input-25-19c1b886859b>:123: SettingWithCopyWarning: \n",
      "A value is trying to be set on a copy of a slice from a DataFrame.\n",
      "Try using .loc[row_indexer,col_indexer] = value instead\n",
      "\n",
      "See the caveats in the documentation: https://pandas.pydata.org/pandas-docs/stable/user_guide/indexing.html#returning-a-view-versus-a-copy\n",
      "  df_selected['ID_sub_category'] = df_selected['ID_sub_category'].map(dict_subcat)\n"
     ]
    },
    {
     "name": "stdout",
     "output_type": "stream",
     "text": [
      "Warehouse connected!\n",
      "Empty DataFrame\n",
      "Columns: [postal_code, Canton_abbreviation]\n",
      "Index: []\n",
      "Empty DataFrame\n",
      "Columns: [postal_code, Canton_abbreviation, id_postal_code]\n",
      "Index: []\n",
      "Connected!\n",
      "the dataframe is inserted\n",
      "         0     1   2\n",
      "0        1  5303  AG\n",
      "1        2  6452  UR\n",
      "2        3  8301  ZH\n",
      "3        4  8707  ZH\n",
      "4        5  6928  TI\n",
      "...    ...   ...  ..\n",
      "3519  3521  8079  ZH\n",
      "3520  3522  8238  SH\n",
      "3521  3523  7135  GR\n",
      "3522  3524  4008  BS\n",
      "3523  3525  6342  ZG\n",
      "\n",
      "[3524 rows x 3 columns]\n",
      "                xtf_id  id_postal_code Municipality Canton_abbreviation  \\\n",
      "id_postal_code     NaN             NaN          NaN                 NaN   \n",
      "\n",
      "                ID_sub_category  total_power  \n",
      "id_postal_code              NaN          NaN  \n",
      "before: 141189\n",
      "after: 141188\n",
      "          xtf_id  id_postal_code Municipality Canton_abbreviation  \\\n",
      "0        14727.0          4147.0     Aesch BL                  BL   \n",
      "1230     10930.0          4147.0        Aesch                  BL   \n",
      "1898      9959.0          4147.0        Aesch                  BL   \n",
      "2632      9956.0          4147.0        Aesch                  BL   \n",
      "2940     22046.0          4147.0        Aesch                  BL   \n",
      "...          ...             ...          ...                 ...   \n",
      "138807  186497.0          4147.0        Aesch                  BL   \n",
      "138808  186616.0          4147.0        Aesch                  BL   \n",
      "138833  189682.0          4147.0        Aesch                  BL   \n",
      "140394    8704.0          4147.0        Aesch                  BL   \n",
      "141180   41727.0          4147.0     Aesch BL                  BL   \n",
      "\n",
      "        ID_sub_category  total_power  \n",
      "0                   6.0        18.81  \n",
      "1230                6.0         7.84  \n",
      "1898                6.0         4.60  \n",
      "2632                6.0         4.40  \n",
      "2940                6.0       113.00  \n",
      "...                 ...          ...  \n",
      "138807              6.0         2.60  \n",
      "138808              6.0         2.20  \n",
      "138833              6.0         3.40  \n",
      "140394              6.0         1.10  \n",
      "141180              6.0         4.80  \n",
      "\n",
      "[135 rows x 6 columns]\n"
     ]
    },
    {
     "name": "stderr",
     "output_type": "stream",
     "text": [
      "C:\\Users\\levin\\anaconda3\\lib\\site-packages\\pandas\\core\\indexing.py:692: SettingWithCopyWarning: \n",
      "A value is trying to be set on a copy of a slice from a DataFrame\n",
      "\n",
      "See the caveats in the documentation: https://pandas.pydata.org/pandas-docs/stable/user_guide/indexing.html#returning-a-view-versus-a-copy\n",
      "  iloc._setitem_with_indexer(indexer, value, self.name)\n",
      "<ipython-input-25-19c1b886859b>:167: SettingWithCopyWarning: \n",
      "A value is trying to be set on a copy of a slice from a DataFrame\n",
      "\n",
      "See the caveats in the documentation: https://pandas.pydata.org/pandas-docs/stable/user_guide/indexing.html#returning-a-view-versus-a-copy\n",
      "  df_selected.dropna(inplace=True)\n",
      "C:\\Users\\levin\\anaconda3\\lib\\site-packages\\pandas\\core\\indexing.py:1597: SettingWithCopyWarning: \n",
      "A value is trying to be set on a copy of a slice from a DataFrame.\n",
      "Try using .loc[row_indexer,col_indexer] = value instead\n",
      "\n",
      "See the caveats in the documentation: https://pandas.pydata.org/pandas-docs/stable/user_guide/indexing.html#returning-a-view-versus-a-copy\n",
      "  self.obj[key] = value\n",
      "C:\\Users\\levin\\anaconda3\\lib\\site-packages\\pandas\\core\\indexing.py:1720: SettingWithCopyWarning: \n",
      "A value is trying to be set on a copy of a slice from a DataFrame.\n",
      "Try using .loc[row_indexer,col_indexer] = value instead\n",
      "\n",
      "See the caveats in the documentation: https://pandas.pydata.org/pandas-docs/stable/user_guide/indexing.html#returning-a-view-versus-a-copy\n",
      "  self._setitem_single_column(loc, value, pi)\n"
     ]
    },
    {
     "name": "stdout",
     "output_type": "stream",
     "text": [
      "Connected!\n",
      "the dataframe is inserted\n",
      "Connected!\n",
      "the dataframe is inserted\n",
      "Connected!\n",
      "Error: insert or update on table \"electricity_production_plants\" violates foreign key constraint \"electricity_production_plants_id_postal_code_fkey\"\n",
      "DETAIL:  Key (id_postal_code)=(4147) is not present in table \"postal_codes\".\n",
      "\n",
      "Connected!\n",
      "the dataframe is inserted\n",
      "Connected!\n",
      "the dataframe is inserted\n"
     ]
    },
    {
     "name": "stderr",
     "output_type": "stream",
     "text": [
      "<ipython-input-25-19c1b886859b>:79: SettingWithCopyWarning: \n",
      "A value is trying to be set on a copy of a slice from a DataFrame.\n",
      "Try using .loc[row_indexer,col_indexer] = value instead\n",
      "\n",
      "See the caveats in the documentation: https://pandas.pydata.org/pandas-docs/stable/user_guide/indexing.html#returning-a-view-versus-a-copy\n",
      "  df_selected['Canton_abbreviation'] = df_selected['Canton_abbreviation'].map(dict_cantons)\n",
      "<ipython-input-25-19c1b886859b>:80: SettingWithCopyWarning: \n",
      "A value is trying to be set on a copy of a slice from a DataFrame.\n",
      "Try using .loc[row_indexer,col_indexer] = value instead\n",
      "\n",
      "See the caveats in the documentation: https://pandas.pydata.org/pandas-docs/stable/user_guide/indexing.html#returning-a-view-versus-a-copy\n",
      "  df_selected['Canton_abbreviation'] = df_selected['Canton_abbreviation'].astype(str)\n"
     ]
    },
    {
     "name": "stdout",
     "output_type": "stream",
     "text": [
      "Connected!\n",
      "the dataframe is inserted\n"
     ]
    }
   ],
   "source": [
    "# Fetch all table's data\n",
    "\n",
    "tables_lake = ['Measuring_points_coordinates', 'postal_codes', 'charging_stations_occupancy',\n",
    "          'electric_cars_21', 'electricity_production_plants', 'measuring_points', 'charging_stations_static', 'charging_stations_locations'] #tables lake with warehouse name's!\n",
    "\n",
    "def fetch_all_data():\n",
    "    try:\n",
    "        # DB connection\n",
    "        conn_string = \"host=\"+ creds_lake.PGHOST +\" port=\"+ \"5432\" +\" dbname=\"+ creds_lake.PGDATABASE +\" user=\" + creds_lake.PGUSER +\" password=\"+ creds_lake.PGPASSWORD\n",
    "        conn = psycopg2.connect(conn_string)\n",
    "        cur = conn.cursor()\n",
    "\n",
    "        # Select table names\n",
    "        cur.execute(\"\"\"SELECT table_name FROM information_schema.tables\n",
    "        WHERE table_schema = 'public'\"\"\")\n",
    "        records = cur.fetchall()\n",
    "        records_list = []\n",
    "        for item in records:\n",
    "            item = str(item)\n",
    "            records_list.append(item[2:-3])\n",
    "        print(records_list)\n",
    "\n",
    "        # Select data\n",
    "        for table_name in range(0, len(records_list)):\n",
    "            if records_list[table_name] == 'ZIPCode' or records_list[table_name] == 'RealTimeStatus' or \\\n",
    "                records_list[table_name] == 'measuringpoints':\n",
    "                continue\n",
    "            # if records_list[table_name] != 'electricityproductionplants':\n",
    "            #     continue\n",
    "            else:\n",
    "                cur.execute((\"\"\" SELECT * FROM {}\"\"\").format(records_list[table_name])) # passing string without quotation marks\n",
    "                df_records = cur.fetchall()\n",
    "                df = pd.DataFrame(df_records)\n",
    "                #print(df)\n",
    "\n",
    "                if records_list[table_name] == 'measuringpointscoordinates':\n",
    "                    df_selected = df.copy()\n",
    "                    #Name columns\n",
    "                    df_selected.columns = ['Nr_measuring_point','Status_BGDI','Point_name',\n",
    "                                           'Canton_abbreviation','Road', 'Coordinate_East', 'Coordinate_Nord', 'Status', 'Type_Point', 'Number_of_Lanes']\n",
    "                    #Filter needed rows\n",
    "                    df_selected = df_selected.loc[df_selected['Status'] == 'in Betrieb']\n",
    "                    df_selected = df_selected.loc[df_selected['Type_Point'] != 'nur Online']\n",
    "\n",
    "                    #Dataframe Measuring_points_coordinates set up\n",
    "                    df_coordinates = df_selected[['Nr_measuring_point', 'Coordinate_East',\n",
    "                                                  'Coordinate_Nord',]]\n",
    "\n",
    "                    #Dataframe Measuring_points; Drop not needed columns\n",
    "                    df_selected.drop(['Status_BGDI','Coordinate_East','Coordinate_Nord','Number_of_Lanes'], axis=1, inplace=True)\n",
    "\n",
    "                    # import to warehouse\n",
    "                    execute_values(conn, df_selected, 'Measuring_points')\n",
    "                    execute_values(conn, df_coordinates, 'Measuring_points_coordinates')\n",
    "                    #print(df_selected)\n",
    "\n",
    "                elif records_list[table_name] == 'realtimestatus':\n",
    "                    continue\n",
    "\n",
    "                elif records_list[table_name] == 'electriccars21':\n",
    "                    #Name columns\n",
    "                    df.columns = ['id','Canton_abbreviation','Vehicle_group',\n",
    "                                           'Year_of_first_registration','Fuel', 'Count_2021']\n",
    "                    #Filter needed rows\n",
    "                    df_selected = df[(df['Canton_abbreviation'] != 'Switzerland') &\n",
    "                                     (df['Canton_abbreviation'] != 'Confederation')]\n",
    "\n",
    "                    #Map Canton names with Canton Abbreviations\n",
    "                    dict_cantons = {'Zürich' : 'ZH', 'Bern' : 'BE', 'Luzern' : 'LU', 'Uri' : 'UR',\n",
    "                                    'Schwyz' : 'SZ', 'Obwalden' : 'OW', 'Nidwalden' : 'NW',\n",
    "                                    'Glarus' : 'GL', 'Zug' : 'ZG', 'Fribourg' : 'FR',\n",
    "                                    'Solothurn' : 'SO', 'Basel-Stadt' : 'BS', 'Basel-Landschaft' : 'BL',\n",
    "                                    'Schaffhausen' : 'SH', 'Appenzell-Ausserrhoden' : 'AR',\n",
    "                                    'Appenzell-Innerrhoden' : 'AI', 'Sankt Gallen' : 'SG',\n",
    "                                    'Graubünden' : 'GR', 'Aargau' : 'AG', 'Thurgau' : 'TG',\n",
    "                                    'Ticino' : 'TI', 'Vaud' : 'VD', 'Valais' : 'VS', 'Neuchâtel' : 'NE',\n",
    "                                    'Genève' : 'GE', 'Jura' : 'JU'}\n",
    "\n",
    "                    df_selected['Canton_abbreviation'] = df_selected['Canton_abbreviation'].map(dict_cantons)\n",
    "                    df_selected['Canton_abbreviation'] = df_selected['Canton_abbreviation'].astype(str)\n",
    "                    #print(df_selected['Canton_abbreviation'])\n",
    "                    #print(df_selected.info())\n",
    "\n",
    "                    # import to warehouse\n",
    "                    execute_values(conn, df_selected, 'Electric_cars_21')\n",
    "\n",
    "                elif records_list[table_name] == 'electricityproductionplants':\n",
    "                    # DFs main/sub categories\n",
    "                    main_cat_dict = {'ID_main_category' : [1,2,3,4], 'Name_main_category' : ['Fossil fuel',\n",
    "                                                                                             'Hydroelectric power',\n",
    "                                                                                             'Nuclear energy',\n",
    "                                                                                             'Other renewable energies']}\n",
    "                    df_selected_maincat = pd.DataFrame.from_dict(main_cat_dict)\n",
    "                    sub_cat_dict = {'ID_sub_category' : [1,2,3,4,5,6,7,8], 'Name_sub_category' : ['Biomass',\n",
    "                                                                                                  'Crude oil',\n",
    "                                                                                                  'Hydroelectric power',\n",
    "                                                                                                  'Natural gas',\n",
    "                                                                                                  'Nuclear energy',\n",
    "                                                                                                  'Photovoltaic',\n",
    "                                                                                                  'Waste',\n",
    "                                                                                                  'Wind energy'],\n",
    "                                    'ID_main_category' : [4,1,2,1,3,4,4,4]}\n",
    "                    df_selected_subcat = pd.DataFrame.from_dict(sub_cat_dict)\n",
    "\n",
    "                    # DF Electricity production plants\n",
    "                    # Rename column names / select needed columns\n",
    "\n",
    "                    df.columns = ['xtf_id', 'id_postal_code', 'Municipality', 'Canton_abbreviation','BoO', 'MC',\n",
    "                                  'ID_sub_category', 'IP','total_power']\n",
    "\n",
    "\n",
    "                    df_selected = df[['xtf_id', 'id_postal_code', 'Municipality', 'Canton_abbreviation',\n",
    "                                  'ID_sub_category', 'total_power']]\n",
    "\n",
    "                    # Map subcategories\n",
    "                    dict_subcat = {'Biomass' : 1,                                                                                                'Crude oil' : 2,\n",
    "                                   'Hydroelectric power' : 3,\n",
    "                                   'Natural gas' : 4,\n",
    "                                   'Nuclear energy' : 5,\n",
    "                                   'Photovoltaic' : 6,\n",
    "                                   'Waste' : 7,\n",
    "                                   'Wind energy' : 8}\n",
    "                    df_selected['ID_sub_category'] = df_selected['ID_sub_category'].map(dict_subcat)\n",
    "\n",
    "                    # Map postal code\n",
    "                    try:\n",
    "\n",
    "                        # Set up a connection to the warehouse\n",
    "                        conn_string = \"host=\"+ creds.PGHOST +\" port=\"+ \"5432\" +\" dbname=\"+ creds.PGDATABASE +\" user=\" + creds.PGUSER \\\n",
    "                                  +\" password=\"+ creds.PGPASSWORD\n",
    "                        conn = psycopg2.connect(conn_string)\n",
    "                        print(\"Warehouse connected!\")\n",
    "\n",
    "                        # Create a cursor object\n",
    "                        cursor = conn.cursor()\n",
    "\n",
    "                        # # Catch Postal Codes\n",
    "                        cursor.execute((\"\"\" SELECT * FROM Postal_codes\"\"\"))\n",
    "                        df_records = cursor.fetchall()\n",
    "                        df_postal_codes = pd.DataFrame(df_records, dtype='int')\n",
    "\n",
    "\n",
    "                        # Append missing postal codes to relation postal_codes in warehouse\n",
    "                        missing_plz_df = df[['id_postal_code','Canton_abbreviation']][df['id_postal_code']\n",
    "                                                                                          .isin(df_postal_codes[1]) == False]\n",
    "                        # correct column names\n",
    "                        missing_plz_df.rename(columns= {'id_postal_code' : 'postal_code'}, inplace=True)\n",
    "                        print(missing_plz_df)\n",
    "                        # Add primary key column\n",
    "                        missing_plz_df['id_postal_code'] = pd.Series(dtype='int8')\n",
    "                        missing_plz_df['id_postal_code'] = [id for id in range(3489,(3489 + len(missing_plz_df)))]\n",
    "                        print(missing_plz_df)\n",
    "                        execute_values(conn, missing_plz_df, 'Postal_codes')\n",
    "\n",
    "                        # Catch Postal Codes AGAIN due to amendment\n",
    "                        cursor.execute((\"\"\" SELECT * FROM Postal_codes\"\"\"))\n",
    "                        df_records = cursor.fetchall()\n",
    "                        df_postal_codes = pd.DataFrame(df_records, dtype='int')\n",
    "                        print(df_postal_codes)\n",
    "\n",
    "                        # Mapping postal codes for electricity_production_plants\n",
    "                        dict_postal_codes = df_postal_codes.set_index([1]).to_dict()[0]\n",
    "                        df_selected.loc['id_postal_code'] = df_selected['id_postal_code'].map(dict_postal_codes)\n",
    "                        #Null values\n",
    "                        print(df_selected[df_selected['id_postal_code'].isnull() == True])\n",
    "                        print('before:', len(df_selected))\n",
    "                        df_selected.dropna(inplace=True)\n",
    "                         #(id_postal_code)=(4147)\n",
    "                        print('after:', len(df_selected))\n",
    "\n",
    "\n",
    "                        # Add column Avg_monthly_production (from kw to kwh considering average occupancy)\n",
    "                        df_selected.loc[:,'Avg_monthly_production_kwh']  = np.nan\n",
    "                        for row in range(0, len(df_selected)):\n",
    "                            if df_selected.loc[row, 'ID_sub_category'] == 3: #Hydro\n",
    "                                df_selected.loc[row, 'Avg_monthly_production_kwh']\\\n",
    "                                    = (df_selected.loc[row, 'total_power'])*24*30*0.2922\n",
    "                            elif df_selected.loc[row, 'ID_sub_category']  == 6: #Photovoltaic\n",
    "                                df_selected.loc[row, 'Avg_monthly_production_kwh'] \\\n",
    "                                    = (df_selected.loc[row, 'total_power'])*24*30*0.1005\n",
    "                            elif df_selected.loc[row, 'ID_sub_category']  == 1: #Biomass\n",
    "                                df_selected.loc[row, 'Avg_monthly_production_kwh'] \\\n",
    "                                    = (df_selected.loc[row, 'total_power'])*24*30*0.2692\n",
    "                            elif df_selected.loc[row, 'ID_sub_category']  == 8: #Wind energy\n",
    "                                df_selected.loc[row, 'Avg_monthly_production_kwh'] \\\n",
    "                                    = (df_selected.loc[row, 'total_power'])*24*30*0.1875\n",
    "                            else:\n",
    "                                continue\n",
    "\n",
    "                    except psycopg2.Error as e:\n",
    "                        print (e)\n",
    "\n",
    "                    # import to warehouse\n",
    "                    execute_values(conn, df_selected_maincat, 'Main_categories_electricity_production')\n",
    "                    execute_values(conn, df_selected_subcat, 'Sub_categories_electricity_production')\n",
    "                    execute_values(conn, df_selected, 'Electricity_production_plants')\n",
    "\n",
    "                elif records_list[table_name] == 'measuringpoints':\n",
    "                    #Keep needed columns by index\n",
    "                    df_selected = df.iloc[:,[0,1,18]]\n",
    "\n",
    "                    #Name columns\n",
    "                    df_selected.columns = ['Nr', 'Nr_measuring_point','Annual_average']\n",
    "\n",
    "                    # import to warehouse\n",
    "                    execute_values(conn, df_selected, 'Traffic_measurement_21')\n",
    "\n",
    "                elif records_list[table_name] == 'chargingstations_static':\n",
    "                    continue\n",
    "\n",
    "                elif records_list[table_name] == 'chargingstations_locations':\n",
    "                    continue\n",
    "\n",
    "                else:\n",
    "                    continue\n",
    "\n",
    "    except (Exception, psycopg2.DatabaseError) as error:\n",
    "        print(error)\n",
    "\n",
    "    finally:\n",
    "        if conn is not None:\n",
    "            conn.close()\n",
    "\n",
    "fetch_all_data()"
   ],
   "metadata": {
    "collapsed": false,
    "pycharm": {
     "name": "#%%\n"
    }
   }
  },
  {
   "cell_type": "code",
   "execution_count": 53,
   "outputs": [],
   "source": [],
   "metadata": {
    "collapsed": false,
    "pycharm": {
     "name": "#%%\n"
    }
   }
  },
  {
   "cell_type": "code",
   "execution_count": 26,
   "outputs": [
    {
     "name": "stdout",
     "output_type": "stream",
     "text": [
      "Connected!\n"
     ]
    }
   ],
   "source": [
    "# Set up a connection to the warehouse\n",
    "conn_string = \"host=\"+ creds.PGHOST +\" port=\"+ \"5432\" +\" dbname=\"+ creds.PGDATABASE +\" user=\" + creds.PGUSER \\\n",
    "          +\" password=\"+ creds.PGPASSWORD\n",
    "\n",
    "conn = psycopg2.connect(conn_string)\n",
    "print(\"Connected!\")\n",
    "\n",
    "# Create a cursor object\n",
    "cursor = conn.cursor()\n",
    "\n",
    "cursor.execute((\"\"\" SELECT * FROM Postal_codes\"\"\"))\n",
    "df_records = cursor.fetchall()\n",
    "df_postal_codes = pd.DataFrame(df_records)\n",
    "df_postal_codes\n",
    "#df_postal_codes.info()\n",
    "conn.close()"
   ],
   "metadata": {
    "collapsed": false,
    "pycharm": {
     "name": "#%%\n"
    }
   }
  },
  {
   "cell_type": "code",
   "execution_count": 27,
   "outputs": [
    {
     "name": "stdout",
     "output_type": "stream",
     "text": [
      "        xtf_id  id_postal_code Municipality Canton_abbreviation  \\\n",
      "0        14727            4147     Aesch BL                  BL   \n",
      "1        14728            5082      Kaisten                  AG   \n",
      "2        10164            3114    Wichtrach                  BE   \n",
      "3        10794            3753          Oey                  BE   \n",
      "4         9476            8340       Hinwil                  ZH   \n",
      "...        ...             ...          ...                 ...   \n",
      "141183   50526            6315    Oberägeri                  ZG   \n",
      "141184   50527            6300          Zug                  ZG   \n",
      "141185   51006            3638  Blumenstein                  BE   \n",
      "141186   15984            4125       Riehen                  BS   \n",
      "141187   10231            1862   Les Mosses                  VD   \n",
      "\n",
      "        ID_sub_category  total_power  \n",
      "0                     6        18.81  \n",
      "1                     6         5.80  \n",
      "2                     6         3.00  \n",
      "3                     6         8.40  \n",
      "4                     6         4.80  \n",
      "...                 ...          ...  \n",
      "141183                6         3.00  \n",
      "141184                6         3.00  \n",
      "141185                6         1.00  \n",
      "141186                6         4.90  \n",
      "141187                3        40.00  \n",
      "\n",
      "[141188 rows x 6 columns]\n"
     ]
    }
   ],
   "source": [
    "# Get data from lake\n",
    "# DB connection\n",
    "conn_string = \"host=\"+ creds_lake.PGHOST +\" port=\"+ \"5432\" +\" dbname=\"+ creds_lake.PGDATABASE +\" user=\" + creds_lake.PGUSER +\" password=\"+ creds_lake.PGPASSWORD\n",
    "conn = psycopg2.connect(conn_string)\n",
    "cur = conn.cursor()\n",
    "\n",
    "# Select table names\n",
    "cur.execute(\"\"\"SELECT * FROM electricityproductionplants\"\"\")\n",
    "records = cur.fetchall()\n",
    "df = pd.DataFrame(records)\n",
    "\n",
    "# print(df)\n",
    "\n",
    "df.columns = ['xtf_id', 'id_postal_code', 'Municipality', 'Canton_abbreviation','BoO', 'MC','ID_sub_category', 'IP','total_power']\n",
    "\n",
    "\n",
    "df_selected = df.loc[:,['xtf_id', 'id_postal_code', 'Municipality', 'Canton_abbreviation','ID_sub_category', 'total_power']]\n",
    "\n",
    "# Map subcategories\n",
    "dict_subcat = {'Biomass' : 1,\n",
    "               'Crude oil' : 2,\n",
    "               'Hydroelectric power' : 3,\n",
    "               'Natural gas' : 4,\n",
    "               'Nuclear energy' : 5,\n",
    "               'Photovoltaic' : 6,\n",
    "               'Waste' : 7,\n",
    "               'Wind energy' : 8}\n",
    "df_selected.loc[:,['ID_sub_category']] = df_selected['ID_sub_category'].map(dict_subcat)\n",
    "\n",
    "print(df_selected)"
   ],
   "metadata": {
    "collapsed": false,
    "pycharm": {
     "name": "#%%\n"
    }
   }
  },
  {
   "cell_type": "code",
   "execution_count": 33,
   "outputs": [
    {
     "name": "stdout",
     "output_type": "stream",
     "text": [
      "Empty DataFrame\n",
      "Columns: [postal_code, Canton_abbreviation, id_postal_code]\n",
      "Index: []\n",
      "Connected!\n",
      "the dataframe is inserted\n"
     ]
    }
   ],
   "source": [
    "# missing postal codes for import\n",
    "missing_plz_df = df[['id_postal_code','Canton_abbreviation']][df['id_postal_code'].isin(df_postal_codes[1]) == False]\n",
    "# correct column names\n",
    "missing_plz_df.rename(columns= {'id_postal_code' : 'postal_code'}, inplace=True)\n",
    "# Add primary key column\n",
    "missing_plz_df['id_postal_code'] = ''\n",
    "missing_plz_df['id_postal_code'] = [id for id in range((max(df_postal_codes[0])+1),\n",
    "                                                        ((max(df_postal_codes[0])+1) + len(missing_plz_df)))]\n",
    "\n",
    "print(missing_plz_df)\n",
    "execute_values(conn, missing_plz_df, 'Postal_codes')"
   ],
   "metadata": {
    "collapsed": false,
    "pycharm": {
     "name": "#%%\n"
    }
   }
  },
  {
   "cell_type": "code",
   "execution_count": 34,
   "outputs": [
    {
     "name": "stdout",
     "output_type": "stream",
     "text": [
      "0        NaN\n",
      "1        NaN\n",
      "3        NaN\n",
      "4        NaN\n",
      "5        NaN\n",
      "          ..\n",
      "141182   NaN\n",
      "141183   NaN\n",
      "141184   NaN\n",
      "141185   NaN\n",
      "141186   NaN\n",
      "Name: id_postal_code, Length: 87923, dtype: float64\n"
     ]
    }
   ],
   "source": [
    "#print(df_postal_codes.info())\n",
    "# Mapping\n",
    "dict_postal_codes = df_postal_codes.set_index([1]).to_dict()[0]\n",
    "#print(df_postal_codes)\n",
    "#NA values\n",
    "print(df_selected['id_postal_code'][df_selected['id_postal_code'].isna() == True])"
   ],
   "metadata": {
    "collapsed": false,
    "pycharm": {
     "name": "#%%\n"
    }
   }
  },
  {
   "cell_type": "code",
   "execution_count": 35,
   "outputs": [
    {
     "name": "stdout",
     "output_type": "stream",
     "text": [
      "        xtf_id  id_postal_code Municipality Canton_abbreviation  \\\n",
      "0        14727             NaN     Aesch BL                  BL   \n",
      "1        14728             NaN      Kaisten                  AG   \n",
      "3        10794             NaN          Oey                  BE   \n",
      "4         9476             NaN       Hinwil                  ZH   \n",
      "5        14729             NaN     Küsnacht                  ZH   \n",
      "...        ...             ...          ...                 ...   \n",
      "141182   48373             NaN   Winterthur                  ZH   \n",
      "141183   50526             NaN    Oberägeri                  ZG   \n",
      "141184   50527             NaN          Zug                  ZG   \n",
      "141185   51006             NaN  Blumenstein                  BE   \n",
      "141186   15984             NaN       Riehen                  BS   \n",
      "\n",
      "        ID_sub_category  total_power  \n",
      "0                     6        18.81  \n",
      "1                     6         5.80  \n",
      "3                     6         8.40  \n",
      "4                     6         4.80  \n",
      "5                     6        21.80  \n",
      "...                 ...          ...  \n",
      "141182                6         1.70  \n",
      "141183                6         3.00  \n",
      "141184                6         3.00  \n",
      "141185                6         1.00  \n",
      "141186                6         4.90  \n",
      "\n",
      "[87923 rows x 6 columns]\n"
     ]
    }
   ],
   "source": [
    "#Map\n",
    "df_selected.loc[:,['id_postal_code']] = df_selected['id_postal_code'].map(dict_postal_codes)\n",
    "#NA values\n",
    "print(df_selected[df_selected['id_postal_code'].isna() == True])"
   ],
   "metadata": {
    "collapsed": false,
    "pycharm": {
     "name": "#%%\n"
    }
   }
  },
  {
   "cell_type": "code",
   "execution_count": 15,
   "outputs": [
    {
     "name": "stdout",
     "output_type": "stream",
     "text": [
      "[]\n",
      "Empty DataFrame\n",
      "Columns: [xtf_id, id_postal_code, Municipality, Canton_abbreviation, BoO, MC, ID_sub_category, IP, total_power]\n",
      "Index: []\n"
     ]
    }
   ],
   "source": [
    "id_list = list(df_selected['xtf_id'][df_selected['id_postal_code'].isna() == True]) # list with id's of null values\n",
    "print(id_list)\n",
    "print(df[df['xtf_id'].isin(id_list)])"
   ],
   "metadata": {
    "collapsed": false,
    "pycharm": {
     "name": "#%%\n"
    }
   }
  },
  {
   "cell_type": "code",
   "execution_count": 16,
   "outputs": [
    {
     "data": {
      "text/plain": "[]"
     },
     "execution_count": 16,
     "metadata": {},
     "output_type": "execute_result"
    }
   ],
   "source": [
    "plz_list = list(df['id_postal_code'][df['xtf_id'].isin(id_list)])\n",
    "plz_list"
   ],
   "metadata": {
    "collapsed": false,
    "pycharm": {
     "name": "#%%\n"
    }
   }
  },
  {
   "cell_type": "code",
   "execution_count": 36,
   "outputs": [
    {
     "name": "stdout",
     "output_type": "stream",
     "text": [
      "before: 141188\n",
      "after: 141188\n"
     ]
    }
   ],
   "source": [
    "#print(df_selected['id_postal_code'].isnull())\n",
    "print('before:', len(df_selected))\n",
    "df_selected.loc[:,['id_postal_code']].dropna(axis = 0)\n",
    " #(id_postal_code)=(4147)\n",
    "print('after:', len(df_selected))\n",
    "#df_selected.loc['id_postal_code'] = df_selected['id_postal_code'].astype('int8')"
   ],
   "metadata": {
    "collapsed": false,
    "pycharm": {
     "name": "#%%\n"
    }
   }
  },
  {
   "cell_type": "code",
   "execution_count": 37,
   "outputs": [
    {
     "ename": "ValueError",
     "evalue": "Cannot convert non-finite values (NA or inf) to integer",
     "output_type": "error",
     "traceback": [
      "\u001B[1;31m---------------------------------------------------------------------------\u001B[0m",
      "\u001B[1;31mValueError\u001B[0m                                Traceback (most recent call last)",
      "\u001B[1;32m<ipython-input-37-5115d5573277>\u001B[0m in \u001B[0;36m<module>\u001B[1;34m\u001B[0m\n\u001B[1;32m----> 1\u001B[1;33m \u001B[0mprint\u001B[0m\u001B[1;33m(\u001B[0m\u001B[0mdf_selected\u001B[0m\u001B[1;33m[\u001B[0m\u001B[1;34m'id_postal_code'\u001B[0m\u001B[1;33m]\u001B[0m\u001B[1;33m.\u001B[0m\u001B[0mastype\u001B[0m\u001B[1;33m(\u001B[0m\u001B[0mint\u001B[0m\u001B[1;33m)\u001B[0m\u001B[1;33m)\u001B[0m\u001B[1;33m\u001B[0m\u001B[1;33m\u001B[0m\u001B[0m\n\u001B[0m",
      "\u001B[1;32m~\\anaconda3\\lib\\site-packages\\pandas\\core\\generic.py\u001B[0m in \u001B[0;36mastype\u001B[1;34m(self, dtype, copy, errors)\u001B[0m\n\u001B[0;32m   5875\u001B[0m         \u001B[1;32melse\u001B[0m\u001B[1;33m:\u001B[0m\u001B[1;33m\u001B[0m\u001B[1;33m\u001B[0m\u001B[0m\n\u001B[0;32m   5876\u001B[0m             \u001B[1;31m# else, only a single dtype is given\u001B[0m\u001B[1;33m\u001B[0m\u001B[1;33m\u001B[0m\u001B[1;33m\u001B[0m\u001B[0m\n\u001B[1;32m-> 5877\u001B[1;33m             \u001B[0mnew_data\u001B[0m \u001B[1;33m=\u001B[0m \u001B[0mself\u001B[0m\u001B[1;33m.\u001B[0m\u001B[0m_mgr\u001B[0m\u001B[1;33m.\u001B[0m\u001B[0mastype\u001B[0m\u001B[1;33m(\u001B[0m\u001B[0mdtype\u001B[0m\u001B[1;33m=\u001B[0m\u001B[0mdtype\u001B[0m\u001B[1;33m,\u001B[0m \u001B[0mcopy\u001B[0m\u001B[1;33m=\u001B[0m\u001B[0mcopy\u001B[0m\u001B[1;33m,\u001B[0m \u001B[0merrors\u001B[0m\u001B[1;33m=\u001B[0m\u001B[0merrors\u001B[0m\u001B[1;33m)\u001B[0m\u001B[1;33m\u001B[0m\u001B[1;33m\u001B[0m\u001B[0m\n\u001B[0m\u001B[0;32m   5878\u001B[0m             \u001B[1;32mreturn\u001B[0m \u001B[0mself\u001B[0m\u001B[1;33m.\u001B[0m\u001B[0m_constructor\u001B[0m\u001B[1;33m(\u001B[0m\u001B[0mnew_data\u001B[0m\u001B[1;33m)\u001B[0m\u001B[1;33m.\u001B[0m\u001B[0m__finalize__\u001B[0m\u001B[1;33m(\u001B[0m\u001B[0mself\u001B[0m\u001B[1;33m,\u001B[0m \u001B[0mmethod\u001B[0m\u001B[1;33m=\u001B[0m\u001B[1;34m\"astype\"\u001B[0m\u001B[1;33m)\u001B[0m\u001B[1;33m\u001B[0m\u001B[1;33m\u001B[0m\u001B[0m\n\u001B[0;32m   5879\u001B[0m \u001B[1;33m\u001B[0m\u001B[0m\n",
      "\u001B[1;32m~\\anaconda3\\lib\\site-packages\\pandas\\core\\internals\\managers.py\u001B[0m in \u001B[0;36mastype\u001B[1;34m(self, dtype, copy, errors)\u001B[0m\n\u001B[0;32m    629\u001B[0m         \u001B[0mself\u001B[0m\u001B[1;33m,\u001B[0m \u001B[0mdtype\u001B[0m\u001B[1;33m,\u001B[0m \u001B[0mcopy\u001B[0m\u001B[1;33m:\u001B[0m \u001B[0mbool\u001B[0m \u001B[1;33m=\u001B[0m \u001B[1;32mFalse\u001B[0m\u001B[1;33m,\u001B[0m \u001B[0merrors\u001B[0m\u001B[1;33m:\u001B[0m \u001B[0mstr\u001B[0m \u001B[1;33m=\u001B[0m \u001B[1;34m\"raise\"\u001B[0m\u001B[1;33m\u001B[0m\u001B[1;33m\u001B[0m\u001B[0m\n\u001B[0;32m    630\u001B[0m     ) -> \"BlockManager\":\n\u001B[1;32m--> 631\u001B[1;33m         \u001B[1;32mreturn\u001B[0m \u001B[0mself\u001B[0m\u001B[1;33m.\u001B[0m\u001B[0mapply\u001B[0m\u001B[1;33m(\u001B[0m\u001B[1;34m\"astype\"\u001B[0m\u001B[1;33m,\u001B[0m \u001B[0mdtype\u001B[0m\u001B[1;33m=\u001B[0m\u001B[0mdtype\u001B[0m\u001B[1;33m,\u001B[0m \u001B[0mcopy\u001B[0m\u001B[1;33m=\u001B[0m\u001B[0mcopy\u001B[0m\u001B[1;33m,\u001B[0m \u001B[0merrors\u001B[0m\u001B[1;33m=\u001B[0m\u001B[0merrors\u001B[0m\u001B[1;33m)\u001B[0m\u001B[1;33m\u001B[0m\u001B[1;33m\u001B[0m\u001B[0m\n\u001B[0m\u001B[0;32m    632\u001B[0m \u001B[1;33m\u001B[0m\u001B[0m\n\u001B[0;32m    633\u001B[0m     def convert(\n",
      "\u001B[1;32m~\\anaconda3\\lib\\site-packages\\pandas\\core\\internals\\managers.py\u001B[0m in \u001B[0;36mapply\u001B[1;34m(self, f, align_keys, ignore_failures, **kwargs)\u001B[0m\n\u001B[0;32m    425\u001B[0m                     \u001B[0mapplied\u001B[0m \u001B[1;33m=\u001B[0m \u001B[0mb\u001B[0m\u001B[1;33m.\u001B[0m\u001B[0mapply\u001B[0m\u001B[1;33m(\u001B[0m\u001B[0mf\u001B[0m\u001B[1;33m,\u001B[0m \u001B[1;33m**\u001B[0m\u001B[0mkwargs\u001B[0m\u001B[1;33m)\u001B[0m\u001B[1;33m\u001B[0m\u001B[1;33m\u001B[0m\u001B[0m\n\u001B[0;32m    426\u001B[0m                 \u001B[1;32melse\u001B[0m\u001B[1;33m:\u001B[0m\u001B[1;33m\u001B[0m\u001B[1;33m\u001B[0m\u001B[0m\n\u001B[1;32m--> 427\u001B[1;33m                     \u001B[0mapplied\u001B[0m \u001B[1;33m=\u001B[0m \u001B[0mgetattr\u001B[0m\u001B[1;33m(\u001B[0m\u001B[0mb\u001B[0m\u001B[1;33m,\u001B[0m \u001B[0mf\u001B[0m\u001B[1;33m)\u001B[0m\u001B[1;33m(\u001B[0m\u001B[1;33m**\u001B[0m\u001B[0mkwargs\u001B[0m\u001B[1;33m)\u001B[0m\u001B[1;33m\u001B[0m\u001B[1;33m\u001B[0m\u001B[0m\n\u001B[0m\u001B[0;32m    428\u001B[0m             \u001B[1;32mexcept\u001B[0m \u001B[1;33m(\u001B[0m\u001B[0mTypeError\u001B[0m\u001B[1;33m,\u001B[0m \u001B[0mNotImplementedError\u001B[0m\u001B[1;33m)\u001B[0m\u001B[1;33m:\u001B[0m\u001B[1;33m\u001B[0m\u001B[1;33m\u001B[0m\u001B[0m\n\u001B[0;32m    429\u001B[0m                 \u001B[1;32mif\u001B[0m \u001B[1;32mnot\u001B[0m \u001B[0mignore_failures\u001B[0m\u001B[1;33m:\u001B[0m\u001B[1;33m\u001B[0m\u001B[1;33m\u001B[0m\u001B[0m\n",
      "\u001B[1;32m~\\anaconda3\\lib\\site-packages\\pandas\\core\\internals\\blocks.py\u001B[0m in \u001B[0;36mastype\u001B[1;34m(self, dtype, copy, errors)\u001B[0m\n\u001B[0;32m    671\u001B[0m             \u001B[0mvals1d\u001B[0m \u001B[1;33m=\u001B[0m \u001B[0mvalues\u001B[0m\u001B[1;33m.\u001B[0m\u001B[0mravel\u001B[0m\u001B[1;33m(\u001B[0m\u001B[1;33m)\u001B[0m\u001B[1;33m\u001B[0m\u001B[1;33m\u001B[0m\u001B[0m\n\u001B[0;32m    672\u001B[0m             \u001B[1;32mtry\u001B[0m\u001B[1;33m:\u001B[0m\u001B[1;33m\u001B[0m\u001B[1;33m\u001B[0m\u001B[0m\n\u001B[1;32m--> 673\u001B[1;33m                 \u001B[0mvalues\u001B[0m \u001B[1;33m=\u001B[0m \u001B[0mastype_nansafe\u001B[0m\u001B[1;33m(\u001B[0m\u001B[0mvals1d\u001B[0m\u001B[1;33m,\u001B[0m \u001B[0mdtype\u001B[0m\u001B[1;33m,\u001B[0m \u001B[0mcopy\u001B[0m\u001B[1;33m=\u001B[0m\u001B[1;32mTrue\u001B[0m\u001B[1;33m)\u001B[0m\u001B[1;33m\u001B[0m\u001B[1;33m\u001B[0m\u001B[0m\n\u001B[0m\u001B[0;32m    674\u001B[0m             \u001B[1;32mexcept\u001B[0m \u001B[1;33m(\u001B[0m\u001B[0mValueError\u001B[0m\u001B[1;33m,\u001B[0m \u001B[0mTypeError\u001B[0m\u001B[1;33m)\u001B[0m\u001B[1;33m:\u001B[0m\u001B[1;33m\u001B[0m\u001B[1;33m\u001B[0m\u001B[0m\n\u001B[0;32m    675\u001B[0m                 \u001B[1;31m# e.g. astype_nansafe can fail on object-dtype of strings\u001B[0m\u001B[1;33m\u001B[0m\u001B[1;33m\u001B[0m\u001B[1;33m\u001B[0m\u001B[0m\n",
      "\u001B[1;32m~\\anaconda3\\lib\\site-packages\\pandas\\core\\dtypes\\cast.py\u001B[0m in \u001B[0;36mastype_nansafe\u001B[1;34m(arr, dtype, copy, skipna)\u001B[0m\n\u001B[0;32m   1066\u001B[0m \u001B[1;33m\u001B[0m\u001B[0m\n\u001B[0;32m   1067\u001B[0m         \u001B[1;32mif\u001B[0m \u001B[1;32mnot\u001B[0m \u001B[0mnp\u001B[0m\u001B[1;33m.\u001B[0m\u001B[0misfinite\u001B[0m\u001B[1;33m(\u001B[0m\u001B[0marr\u001B[0m\u001B[1;33m)\u001B[0m\u001B[1;33m.\u001B[0m\u001B[0mall\u001B[0m\u001B[1;33m(\u001B[0m\u001B[1;33m)\u001B[0m\u001B[1;33m:\u001B[0m\u001B[1;33m\u001B[0m\u001B[1;33m\u001B[0m\u001B[0m\n\u001B[1;32m-> 1068\u001B[1;33m             \u001B[1;32mraise\u001B[0m \u001B[0mValueError\u001B[0m\u001B[1;33m(\u001B[0m\u001B[1;34m\"Cannot convert non-finite values (NA or inf) to integer\"\u001B[0m\u001B[1;33m)\u001B[0m\u001B[1;33m\u001B[0m\u001B[1;33m\u001B[0m\u001B[0m\n\u001B[0m\u001B[0;32m   1069\u001B[0m \u001B[1;33m\u001B[0m\u001B[0m\n\u001B[0;32m   1070\u001B[0m     \u001B[1;32melif\u001B[0m \u001B[0mis_object_dtype\u001B[0m\u001B[1;33m(\u001B[0m\u001B[0marr\u001B[0m\u001B[1;33m)\u001B[0m\u001B[1;33m:\u001B[0m\u001B[1;33m\u001B[0m\u001B[1;33m\u001B[0m\u001B[0m\n",
      "\u001B[1;31mValueError\u001B[0m: Cannot convert non-finite values (NA or inf) to integer"
     ]
    }
   ],
   "source": [
    "print(df_selected['id_postal_code'].astype(int))"
   ],
   "metadata": {
    "collapsed": false,
    "pycharm": {
     "name": "#%%\n"
    }
   }
  },
  {
   "cell_type": "code",
   "execution_count": 38,
   "outputs": [
    {
     "name": "stdout",
     "output_type": "stream",
     "text": [
      "{5303: 1, 6452: 662, 8301: 3, 8707: 4, 6928: 5, 3045: 6, 4106: 7, 1215: 8, 7276: 9, 4144: 10, 5412: 11, 5210: 12, 8331: 13, 5504: 14, 9201: 15, 1288: 16, 8081: 17, 5317: 18, 8752: 19, 6657: 20, 1782: 21, 8045: 22, 1077: 23, 3672: 24, 4411: 25, 6670: 26, 7212: 27, 4613: 28, 6908: 29, 7455: 30, 3506: 31, 8842: 32, 4055: 33, 6513: 34, 8523: 35, 9471: 36, 3930: 37, 3633: 38, 7106: 39, 3602: 40, 6145: 41, 7182: 42, 8886: 43, 1899: 44, 6383: 45, 7168: 46, 4244: 47, 9475: 48, 7202: 49, 3014: 50, 5706: 51, 5636: 52, 1055: 53, 7180: 54, 1117: 55, 1607: 56, 8637: 57, 1028: 58, 8713: 59, 6804: 60, 6780: 61, 6402: 62, 5644: 63, 3036: 64, 1580: 65, 5242: 66, 4314: 67, 1996: 68, 6052: 69, 8475: 70, 8124: 71, 4304: 72, 6577: 73, 6475: 74, 1589: 75, 3792: 76, 4229: 77, 1945: 78, 1627: 79, 3600: 80, 6454: 81, 7451: 82, 5326: 83, 1377: 84, 4584: 85, 6514: 86, 9622: 87, 3904: 88, 3801: 89, 8612: 90, 8225: 91, 1724: 92, 7502: 93, 7460: 94, 4652: 95, 3071: 96, 1673: 97, 5314: 98, 8314: 99, 4463: 100, 4003: 101, 3935: 102, 1037: 103, 3556: 104, 7424: 105, 3553: 106, 1044: 107, 9243: 108, 8892: 109, 3020: 110, 1988: 111, 7243: 112, 8166: 113, 9608: 114, 6343: 115, 1986: 116, 1284: 117, 7247: 118, 4018: 119, 7050: 120, 3772: 121, 3067: 122, 4458: 123, 4464: 124, 1708: 125, 6204: 126, 8916: 127, 3967: 128, 9327: 129, 8526: 130, 7215: 131, 5732: 132, 1732: 133, 8498: 134, 3145: 135, 3297: 136, 5108: 137, 4912: 138, 4621: 139, 8402: 140, 3770: 141, 2916: 142, 3782: 143, 9542: 144, 2414: 145, 8424: 146, 5318: 147, 4117: 148, 6525: 149, 6011: 150, 6506: 151, 8034: 152, 1338: 153, 6835: 154, 6263: 155, 4005: 156, 2555: 157, 4032: 158, 1731: 159, 6981: 160, 3991: 161, 6517: 162, 2006: 163, 9204: 164, 7304: 165, 5610: 166, 8017: 167, 6333: 168, 1346: 169, 1776: 170, 7463: 171, 3976: 172, 1946: 173, 8273: 174, 2538: 175, 1025: 176, 3325: 177, 3812: 178, 3857: 179, 2208: 180, 6705: 181, 5512: 182, 1124: 183, 6682: 184, 2024: 185, 3763: 186, 1228: 187, 3007: 188, 6464: 189, 5628: 190, 1358: 191, 6914: 192, 8640: 3081, 2012: 194, 3903: 195, 8280: 196, 7742: 197, 7113: 198, 1172: 199, 8783: 200, 5632: 201, 6901: 202, 8121: 203, 8003: 204, 2947: 205, 8553: 206, 6303: 207, 6604: 208, 8925: 209, 3037: 210, 1329: 211, 6863: 212, 8194: 213, 6974: 214, 6803: 215, 1265: 216, 9515: 217, 9523: 218, 7437: 219, 6710: 220, 4417: 221, 3253: 222, 9533: 223, 1470: 224, 3428: 225, 6963: 226, 9203: 227, 1273: 228, 1144: 229, 1262: 230, 1985: 231, 3657: 232, 4442: 233, 1183: 234, 2516: 235, 8092: 236, 8405: 237, 1291: 238, 1515: 239, 6056: 240, 4552: 241, 3902: 242, 6390: 243, 9245: 244, 8127: 245, 6558: 246, 3771: 247, 9326: 248, 1312: 249, 9450: 250, 4809: 251, 2825: 252, 1020: 253, 1527: 254, 9050: 255, 3360: 256, 3622: 257, 8104: 258, 7141: 259, 1357: 260, 1345: 261, 8855: 262, 6636: 263, 5313: 264, 7200: 265, 1019: 266, 1213: 267, 2364: 268, 1136: 269, 3032: 270, 7326: 271, 6033: 272, 1083: 273, 4002: 274, 8400: 275, 4010: 276, 1092: 277, 3532: 278, 1114: 279, 6527: 280, 2052: 281, 3618: 282, 5235: 283, 1266: 284, 9016: 285, 1974: 286, 6633: 287, 3635: 288, 7128: 289, 8117: 290, 7504: 291, 2087: 292, 6144: 293, 9465: 294, 9410: 295, 4222: 296, 6152: 297, 4562: 298, 3752: 299, 1112: 300, 7186: 301, 6992: 302, 7482: 303, 8021: 304, 6694: 305, 2338: 306, 9212: 307, 1354: 308, 3367: 309, 7176: 310, 7302: 311, 3864: 312, 1027: 313, 8015: 314, 1417: 315, 8856: 316, 7517: 317, 3725: 318, 5050: 319, 8274: 320, 9100: 321, 8047: 322, 4114: 323, 4901: 324, 1429: 325, 6182: 326, 4452: 327, 6315: 328, 4243: 329, 8239: 330, 3536: 331, 3551: 332, 1824: 333, 1450: 334, 1257: 335, 3773: 336, 5432: 337, 1097: 338, 8080: 339, 1756: 340, 6720: 341, 5736: 342, 4148: 343, 6284: 344, 1486: 345, 4228: 346, 4245: 347, 3918: 348, 5082: 349, 3965: 350, 6242: 351, 1275: 352, 8132: 353, 8525: 354, 6719: 355, 8625: 356, 8049: 357, 8427: 358, 9205: 359, 3946: 360, 2037: 361, 8183: 362, 6403: 363, 6078: 364, 1416: 365, 2946: 366, 2117: 367, 7226: 368, 6673: 369, 7413: 370, 4226: 371, 2952: 372, 3052: 373, 2814: 374, 2762: 375, 1310: 376, 3920: 377, 3048: 378, 6772: 379, 3816: 380, 3961: 381, 1308: 382, 9405: 383, 3664: 384, 9562: 385, 3623: 386, 1803: 387, 8872: 388, 1552: 389, 8058: 390, 4810: 391, 1856: 392, 6524: 393, 3944: 394, 7063: 395, 2301: 396, 6865: 397, 4493: 398, 3974: 399, 3363: 400, 4009: 401, 6074: 402, 8180: 403, 7134: 404, 3046: 405, 2112: 406, 1184: 407, 1860: 408, 9126: 409, 3226: 410, 1042: 411, 3435: 412, 4017: 413, 9506: 414, 6440: 415, 6548: 416, 2537: 417, 3254: 418, 4433: 419, 4917: 420, 1307: 421, 2501: 422, 8784: 423, 1816: 424, 8878: 425, 1031: 426, 8108: 427, 1237: 428, 4402: 429, 2115: 430, 6362: 431, 6472: 432, 6277: 433, 4657: 434, 2613: 435, 3043: 436, 9526: 437, 6576: 438, 2068: 439, 1699: 440, 4112: 441, 9545: 442, 6045: 443, 3427: 444, 4118: 445, 1912: 446, 1692: 447, 1287: 448, 8415: 449, 4533: 450, 3362: 451, 4125: 452, 3423: 453, 6875: 454, 5222: 455, 5105: 456, 1095: 457, 6365: 458, 1529: 459, 4702: 460, 2510: 461, 1565: 3447, 5416: 463, 4315: 464, 3552: 465, 5225: 466, 4492: 467, 8040: 468, 4502: 469, 7516: 470, 3756: 471, 4579: 472, 2206: 473, 7082: 474, 6578: 475, 9044: 476, 5725: 477, 5464: 478, 6103: 479, 2902: 480, 4461: 481, 1678: 482, 4808: 483, 8722: 484, 6717: 485, 8589: 486, 7558: 487, 4937: 488, 8106: 489, 7155: 490, 3207: 491, 3302: 492, 1173: 493, 8126: 494, 3010: 495, 2016: 496, 2360: 497, 2722: 498, 4410: 499, 7456: 500, 1538: 501, 1189: 502, 2072: 503, 8951: 504, 3627: 505, 8501: 506, 5112: 507, 6443: 508, 3374: 509, 1148: 510, 3998: 511, 1279: 512, 3114: 513, 2714: 514, 8970: 515, 8847: 516, 3400: 517, 7411: 518, 1944: 519, 6987: 520, 1669: 521, 8200: 522, 6285: 523, 2813: 524, 2103: 525, 8772: 526, 8486: 527, 8165: 528, 6142: 529, 1424: 530, 9032: 531, 8802: 532, 5616: 533, 3931: 534, 3263: 535, 8889: 536, 1350: 537, 6294: 538, 3823: 539, 9573: 540, 7457: 541, 6010: 1199, 3206: 688, 8241: 544, 6387: 545, 4425: 546, 1440: 547, 8223: 548, 6231: 549, 3804: 550, 8606: 551, 3203: 552, 3658: 553, 6206: 554, 3706: 555, 1475: 556, 1523: 557, 6599: 558, 8260: 559, 1737: 560, 8894: 561, 9554: 562, 8322: 563, 6133: 564, 6978: 565, 6073: 566, 1794: 567, 9300: 568, 8624: 569, 3418: 570, 1874: 571, 7444: 572, 7240: 573, 8109: 574, 6027: 575, 2740: 576, 2025: 577, 8587: 578, 6210: 579, 8156: 580, 9053: 581, 8588: 582, 6318: 583, 1003: 584, 2363: 585, 8037: 586, 3475: 587, 1584: 588, 1994: 589, 1960: 590, 8572: 591, 5245: 592, 5106: 593, 3707: 594, 1374: 595, 6252: 596, 8530: 597, 1231: 598, 6196: 599, 6652: 600, 4565: 601, 2925: 602, 5505: 603, 1943: 604, 7414: 605, 7165: 606, 9054: 607, 8965: 608, 8595: 609, 6143: 610, 7112: 611, 8907: 612, 3053: 613, 7107: 614, 3202: 615, 6814: 616, 1562: 617, 8192: 618, 6810: 619, 1817: 620, 8285: 621, 1251: 622, 8401: 623, 8030: 624, 8805: 625, 1474: 626, 8857: 627, 1375: 628, 3452: 629, 9503: 630, 1866: 631, 4582: 632, 1324: 633, 9308: 634, 1452: 635, 6484: 636, 1261: 637, 3995: 638, 4620: 639, 6850: 640, 5734: 641, 3255: 642, 6340: 643, 1410: 877, 3155: 645, 4938: 646, 1115: 647, 8926: 648, 2828: 649, 8253: 650, 1707: 651, 3075: 652, 3042: 653, 7535: 654, 1256: 655, 6212: 656, 8854: 657, 8580: 658, 8412: 659, 8135: 660, 2123: 661, 1176: 663, 2000: 664, 5463: 665, 6503: 666, 1701: 667, 7004: 668, 3718: 669, 8852: 670, 1873: 671, 6821: 672, 4528: 673, 1162: 674, 4954: 675, 8603: 676, 6946: 677, 1426: 678, 3652: 679, 1868: 680, 8008: 681, 6986: 682, 5334: 683, 8376: 684, 8733: 685, 1763: 686, 7505: 687, 3029: 689, 3673: 690, 5304: 691, 9115: 692, 9035: 693, 6113: 694, 3550: 695, 8843: 696, 3616: 697, 3148: 698, 1300: 699, 5116: 700, 1011: 701, 9010: 702, 6017: 703, 8096: 704, 7402: 705, 7603: 706, 4412: 707, 7523: 708, 7188: 709, 9553: 710, 2744: 711, 2207: 712, 5724: 713, 5026: 714, 1695: 715, 8735: 716, 6377: 717, 1844: 718, 2942: 719, 6839: 720, 1415: 721, 8810: 722, 1733: 723, 1677: 724, 8073: 725, 4624: 726, 7525: 727, 1585: 728, 9401: 729, 8583: 730, 4051: 731, 6867: 732, 1203: 733, 8506: 734, 6197: 735, 6998: 736, 2001: 737, 8545: 738, 3437: 739, 3019: 740, 8312: 741, 3464: 742, 7503: 743, 1796: 744, 7313: 745, 1510: 746, 1241: 747, 3002: 748, 7174: 749, 8605: 750, 1372: 751, 3914: 752, 3912: 753, 9248: 754, 1661: 755, 8483: 756, 8614: 757, 6862: 758, 3432: 759, 1728: 760, 1681: 761, 1563: 762, 5707: 763, 6042: 764, 3257: 765, 4039: 766, 8909: 767, 8774: 768, 7557: 769, 8755: 770, 6405: 771, 8122: 772, 5454: 773, 1236: 774, 8487: 775, 2073: 776, 7412: 777, 3308: 778, 7013: 779, 6532: 780, 6702: 781, 2514: 782, 1991: 783, 3127: 784, 3018: 785, 8453: 786, 1232: 787, 6086: 788, 2823: 789, 9012: 790, 2065: 791, 1093: 792, 6131: 793, 2316: 794, 6662: 795, 7032: 796, 6942: 797, 2716: 798, 3615: 799, 3096: 800, 1202: 801, 7031: 802, 1752: 803, 6744: 804, 1078: 805, 1645: 806, 1789: 807, 5745: 808, 6217: 809, 1187: 810, 1484: 811, 6417: 812, 4432: 813, 5622: 814, 8750: 815, 1536: 816, 6415: 817, 8522: 818, 1804: 819, 8246: 820, 5522: 821, 3233: 822, 6591: 823, 2116: 824, 4503: 825, 3911: 826, 1246: 827, 6653: 828, 9058: 829, 1757: 830, 1907: 831, 6067: 832, 6438: 833, 3303: 834, 7000: 835, 1934: 836, 3705: 837, 7245: 838, 5237: 839, 6930: 840, 9036: 841, 8000: 842, 3997: 843, 7433: 844, 2340: 845, 7323: 846, 1041: 847, 6926: 848, 3377: 849, 1438: 850, 3182: 851, 3713: 852, 3966: 853, 3422: 854, 3083: 855, 2305: 856, 6592: 857, 4496: 858, 4803: 859, 1185: 860, 4103: 861, 7220: 862, 6154: 863, 1787: 2222, 3156: 865, 1568: 866, 8447: 867, 1694: 868, 6907: 869, 1792: 870, 7189: 871, 6590: 872, 8002: 873, 5077: 874, 6596: 875, 1633: 876, 9657: 878, 1772: 879, 7062: 880, 3150: 881, 7127: 882, 3537: 883, 4451: 884, 3426: 885, 7552: 886, 6469: 887, 6038: 888, 9477: 889, 4054: 890, 8345: 891, 7436: 892, 4059: 893, 8608: 894, 3419: 895, 8732: 896, 4424: 897, 6156: 898, 3123: 899, 9423: 900, 8005: 901, 8457: 902, 9305: 903, 5000: 904, 1145: 905, 3305: 906, 3784: 907, 8560: 908, 8174: 909, 2800: 910, 8134: 911, 3535: 912, 5223: 913, 4317: 914, 8626: 915, 8565: 916, 6922: 917, 3373: 918, 8888: 919, 2303: 920, 6167: 921, 5405: 922, 1800: 923, 2888: 924, 6815: 925, 2827: 1854, 8584: 927, 6528: 928, 8268: 929, 1832: 930, 9476: 931, 6674: 932, 8777: 933, 4588: 934, 1207: 935, 6678: 936, 1716: 937, 2058: 938, 8085: 939, 8702: 940, 3177: 941, 1762: 942, 8967: 943, 4030: 944, 8091: 945, 8622: 946, 8039: 947, 8919: 948, 4524: 949, 9525: 950, 8905: 951, 9453: 952, 3417: 953, 8613: 954, 4563: 955, 1220: 956, 8820: 957, 8158: 958, 3317: 959, 8775: 960, 2014: 961, 1276: 962, 2557: 963, 7023: 964, 8352: 965, 4450: 966, 3116: 967, 1647: 968, 1617: 969, 6902: 970, 5502: 971, 5737: 972, 3654: 973, 3609: 974, 5312: 975, 1908: 976, 1961: 977, 1696: 978, 2830: 979, 8908: 980, 2113: 981, 6031: 982, 3624: 983, 1953: 984, 6984: 985, 8887: 986, 6312: 987, 6491: 988, 4914: 989, 1195: 990, 8057: 991, 6461: 992, 4445: 993, 4578: 994, 6283: 995, 1795: 996, 1713: 997, 3619: 998, 5465: 999, 6243: 1000, 5703: 1001, 6713: 1002, 1892: 1003, 8254: 1004, 7144: 1005, 6354: 1006, 3082: 1007, 9508: 1008, 6562: 1009, 1719: 1010, 4655: 1011, 1962: 1012, 3272: 1013, 3513: 1014, 8107: 1015, 1880: 1016, 6721: 1017, 4564: 2403, 7408: 1019, 1906: 1020, 3942: 1021, 8243: 1022, 2616: 1023, 8546: 2725, 8964: 1025, 6114: 1026, 3213: 1027, 8555: 1028, 1058: 1029, 9062: 1030, 6802: 1031, 6083: 1032, 4617: 1033, 1818: 1034, 3949: 1035, 7415: 1036, 3943: 1037, 7610: 1038, 9411: 1039, 6598: 1040, 4057: 1041, 5054: 1042, 7213: 1043, 4583: 1044, 9057: 1045, 1736: 1046, 8462: 1047, 8033: 1048, 6025: 1049, 4011: 1050, 7006: 1051, 9547: 1052, 1311: 1053, 6993: 1054, 1635: 1055, 5034: 1056, 7078: 1057, 7158: 1058, 6637: 1059, 5013: 1060, 6631: 1061, 1208: 1062, 3926: 1063, 6234: 1064, 6020: 1065, 6883: 1066, 7542: 1067, 6715: 1068, 6632: 1069, 1853: 1070, 6864: 1071, 6685: 1072, 4712: 1073, 1785: 1074, 5426: 1075, 6102: 1076, 1015: 1077, 3714: 1078, 8162: 1079, 1463: 1080, 6518: 1081, 1973: 1082, 1166: 1083, 1526: 1084, 1298: 1085, 8586: 1086, 7208: 1087, 8762: 1088, 3932: 1089, 7422: 1090, 6943: 1091, 4252: 1092, 1867: 1093, 8213: 1094, 3716: 1095, 1423: 1096, 6656: 1097, 1147: 1098, 7270: 1099, 3806: 1100, 6146: 1101, 2042: 1102, 2013: 1103, 1783: 1104, 2074: 1105, 1427: 1106, 4952: 1107, 4313: 1108, 1128: 1109, 2605: 1110, 2036: 1111, 6386: 1112, 8575: 1113, 4605: 1114, 8214: 1115, 1545: 1116, 1525: 1117, 7132: 1118, 4913: 1119, 9556: 1120, 8362: 1121, 8726: 1122, 1222: 1123, 1355: 1124, 1660: 1125, 2503: 1126, 7146: 1127, 1299: 1128, 9249: 1129, 4426: 1130, 4421: 1131, 2935: 1132, 6163: 1133, 6363: 1134, 4915: 1135, 7419: 1136, 8305: 1137, 7492: 1138, 8715: 1139, 8607: 1140, 3282: 1141, 4014: 1142, 8532: 1143, 5425: 1144, 6542: 1145, 7260: 1146, 9043: 1147, 7447: 1148, 2540: 1149, 3937: 1150, 3454: 1151, 4431: 1152, 1687: 1153, 1168: 1154, 1663: 1155, 3818: 1156, 1267: 1157, 4460: 1158, 3913: 1159, 3665: 1160, 4618: 1161, 9107: 1162, 6966: 1163, 9033: 1164, 6039: 1165, 7500: 1166, 6760: 1167, 1022: 1168, 1666: 1169, 2747: 1170, 8152: 1171, 3629: 1172, 4033: 1173, 4716: 1174, 8231: 1175, 1730: 1176, 5324: 1177, 6828: 1178, 1473: 1179, 9658: 1180, 8615: 1181, 6213: 1182, 7514: 1183, 5325: 1184, 3416: 1185, 4324: 1186, 1227: 1187, 1626: 1188, 8494: 1189, 7320: 1190, 5623: 1191, 3854: 1192, 2314: 1193, 6085: 1194, 3090: 1195, 4587: 1196, 1537: 1197, 8173: 1198, 5423: 1200, 2843: 1201, 4040: 1202, 6053: 1203, 1811: 1204, 1657: 1205, 8112: 1206, 7744: 1207, 8918: 1208, 9116: 1209, 5200: 1210, 9403: 1211, 2933: 1212, 1373: 1213, 3473: 1214, 8738: 1215, 4323: 1216, 4325: 1217, 3910: 1218, 6373: 1219, 4124: 1220, 2105: 1221, 9469: 1222, 4466: 1223, 5113: 1224, 4441: 1225, 3455: 1226, 1890: 1227, 3122: 1228, 9437: 1229, 7303: 1230, 4105: 1231, 1167: 1232, 7423: 1233, 1306: 1234, 3024: 1235, 8143: 1236, 4703: 1237, 3940: 1238, 8962: 1239, 8444: 1240, 8468: 1241, 3613: 1242, 9123: 1243, 3807: 1244, 8932: 1245, 6982: 1246, 8460: 1247, 1325: 1248, 1610: 1249, 8753: 1250, 4004: 1251, 1039: 1252, 7524: 1253, 6006: 1254, 8806: 1255, 1353: 1256, 1951: 1257, 8632: 1258, 4116: 1259, 4453: 1260, 8304: 1261, 3628: 1262, 3262: 1263, 5035: 1264, 8912: 1265, 3472: 1266, 8004: 1267, 8123: 1268, 6541: 1269, 6433: 1270, 1814: 1271, 3307: 1272, 8502: 1273, 5445: 1274, 8496: 1275, 1468: 1276, 2803: 1277, 3314: 1278, 8512: 1279, 3978: 1280, 1631: 1281, 1277: 1282, 9242: 1283, 7533: 1284, 1715: 1285, 1418: 1286, 2405: 1287, 8914: 1288, 8514: 1289, 1317: 1290, 2886: 1291, 3951: 1292, 5084: 1293, 2552: 1294, 8335: 1295, 9467: 1296, 6582: 1297, 1441: 1298, 6432: 1299, 1649: 1300, 6289: 1301, 1723: 1302, 6947: 1303, 1690: 1304, 3858: 1305, 8739: 1306, 2533: 1307, 6900: 1308, 4625: 1309, 4305: 1310, 5032: 1311, 2953: 1312, 4801: 1313, 1263: 1314, 4718: 1315, 8874: 1316, 7438: 1317, 8267: 1318, 1968: 1319, 1809: 1320, 1930: 1321, 4900: 1322, 6468: 1323, 8600: 1324, 1443: 1325, 1283: 1326, 8353: 1327, 8930: 1328, 3555: 1329, 6353: 1330, 1984: 1331, 1076: 1332, 1316: 1333, 4942: 1334, 1637: 1335, 2562: 1336, 1294: 1337, 6064: 1338, 6826: 1339, 5028: 1340, 1413: 1341, 6836: 1342, 6265: 1343, 1630: 1344, 1337: 1345, 4332: 1346, 4145: 1347, 1524: 1348, 8751: 1349, 6905: 1350, 7084: 1351, 1489: 1352, 6952: 1353, 4944: 1354, 7425: 1355, 1270: 1356, 7493: 1357, 9011: 1358, 3608: 1359, 6967: 1360, 2856: 1361, 1805: 1362, 1330: 1363, 6414: 1364, 6418: 1365, 5315: 1366, 3128: 1367, 9501: 1368, 3295: 1369, 5103: 1370, 3993: 1371, 8505: 1372, 9029: 1373, 3855: 1374, 3453: 1375, 8476: 1376, 3715: 1377, 5404: 1378, 8343: 1379, 6043: 1380, 9063: 1381, 8454: 1382, 1026: 1383, 8890: 1384, 3124: 1385, 8410: 1386, 1094: 1387, 5604: 1388, 1704: 1389, 7560: 1390, 4133: 1391, 5306: 1392, 6676: 1393, 1684: 1394, 5212: 1395, 8411: 1396, 2906: 1397, 6436: 1398, 4413: 1399, 6016: 1400, 7152: 1401, 1903: 1402, 9535: 1403, 1212: 1404, 6924: 1405, 8737: 1406, 1053: 1407, 6147: 1408, 1863: 1409, 6677: 1410, 3283: 1411, 2615: 1412, 2577: 1413, 1052: 1414, 7026: 1415, 3724: 1416, 1882: 1417, 3825: 1418, 1209: 1419, 8883: 1420, 6106: 1421, 5643: 1422, 6345: 1423, 9548: 1424, 7122: 1425, 3924: 1426, 3236: 1427, 3758: 1428, 5733: 1429, 1966: 1430, 8618: 1431, 1925: 1432, 2007: 1433, 8413: 1434, 4437: 1435, 9656: 1436, 4414: 1437, 6319: 1438, 3324: 1439, 6534: 1440, 6423: 1441, 4653: 1442, 3645: 1443, 9642: 1444, 8090: 1445, 7405: 1446, 4538: 1447, 1665: 1448, 4542: 1449, 1514: 1450, 7138: 1451, 9200: 1452, 5043: 1453, 4805: 1454, 8862: 1455, 4935: 1456, 4025: 1457, 1642: 1458, 6374: 1459, 3901: 1460, 7484: 1461, 5001: 1462, 7324: 1463, 3157: 1464, 8634: 1465, 8142: 1466, 4500: 1467, 2882: 1468, 8840: 1469, 1871: 1470, 1947: 1471, 5085: 1472, 6538: 1473, 6646: 1474, 1773: 1475, 2046: 1476, 8833: 1477, 4919: 1478, 4715: 1479, 8547: 1480, 2019: 1481, 3040: 1482, 7605: 1483, 6648: 1484, 4576: 1485, 2713: 1486, 3775: 1487, 2565: 1488, 4444: 1489, 7431: 1490, 2416: 1491, 3030: 1492, 3415: 1493, 6613: 1494, 3401: 1495, 8885: 1496, 4091: 1497, 1432: 1498, 8450: 1499, 1072: 1500, 1302: 1501, 1096: 1502, 6742: 1503, 3916: 1504, 4435: 1505, 9113: 1506, 8360: 1507, 6014: 1508, 8272: 1509, 4812: 1510, 9443: 1511, 7235: 1512, 5062: 1513, 8261: 1514, 2608: 1515, 8175: 1516, 3077: 1517, 8598: 1518, 4532: 1519, 1269: 1520, 3322: 1521, 4115: 1522, 1528: 1523, 8904: 1524, 3210: 1525, 8036: 1526, 2943: 1527, 1252: 1528, 7426: 1529, 7224: 1530, 4856: 1531, 3632: 1532, 1852: 1533, 4468: 1534, 8212: 2786, 1938: 1536, 6346: 1537, 8061: 1538, 6773: 1539, 5401: 1540, 1012: 1541, 8863: 1542, 1815: 1543, 7164: 1544, 4663: 1545, 9215: 1546, 3508: 1547, 8597: 1548, 5624: 1549, 4523: 1550, 3753: 1551, 6545: 1552, 1036: 1553, 1018: 1554, 8421: 1555, 7494: 1556, 7147: 1557, 5702: 1558, 6068: 1559, 7175: 1560, 1727: 1561, 7241: 1562, 8046: 1563, 8824: 1564, 2556: 1565, 8585: 1566, 1534: 1825, 3988: 1568, 9524: 1569, 6692: 1570, 2544: 1571, 9425: 1572, 6463: 1573, 6634: 1574, 3456: 1575, 5080: 1576, 8269: 1577, 6126: 1578, 1700: 1579, 6573: 1580, 4436: 1581, 1034: 1582, 3863: 1583, 5015: 1584, 3803: 1585, 6161: 1586, 3270: 1587, 1428: 1588, 5234: 1589, 2905: 1590, 9313: 1591, 6203: 1592, 7606: 1593, 1174: 1594, 4123: 1595, 6999: 1596, 3762: 1597, 3510: 1598, 8548: 1599, 9466: 1600, 8467: 1601, 8479: 1602, 8717: 1603, 5642: 1604, 6655: 1605, 6976: 1606, 9052: 1607, 1175: 1608, 8706: 1609, 5420: 1610, 7306: 1611, 7029: 1612, 2720: 1613, 1659: 1614, 3274: 1615, 6565: 1616, 7745: 1617, 4557: 1618, 6647: 1619, 1121: 1620, 5611: 1621, 1126: 1622, 8849: 1623, 4633: 1624, 1595: 3287, 3256: 1626, 1033: 1627, 8006: 1628, 6834: 1629, 2852: 1630, 3927: 1631, 1142: 1632, 3512: 1633, 8636: 1634, 5503: 1635, 7403: 1636, 5102: 1637, 7458: 1638, 8428: 1639, 6474: 1640, 3110: 1641, 9112: 1642, 3144: 1643, 3970: 1644, 7222: 1645, 7077: 1646, 6301: 1647, 8623: 1648, 9472: 1649, 9512: 1650, 1754: 1651, 7116: 1652, 8315: 1653, 6988: 1654, 4334: 1655, 3412: 1656, 4000: 1657, 7550: 1658, 7748: 1659, 6776: 1660, 3250: 1661, 8582: 1662, 3987: 1663, 8917: 1664, 8808: 1665, 9463: 1666, 4419: 1667, 4626: 1668, 3457: 1669, 6645: 1670, 4604: 1671, 1245: 1672, 4015: 1673, 8581: 1674, 8038: 1675, 8635: 1676, 3063: 1677, 2829: 1678, 6572: 1679, 4554: 1680, 3038: 1681, 1788: 1682, 7450: 1683, 6763: 1684, 3268: 1685, 2505: 1686, 4609: 1687, 8140: 1688, 6356: 1689, 3717: 1690, 1971: 1691, 1905: 1692, 9565: 1693, 6595: 1694, 8867: 1695, 8031: 1696, 4600: 1697, 1509: 1698, 3380: 1699, 5243: 1700, 4586: 1701, 7430: 1702, 8184: 1703, 3907: 1704, 1454: 1705, 3115: 1706, 3986: 1707, 3992: 1708, 6302: 1709, 5244: 1710, 6490: 1711, 5073: 1712, 8071: 1713, 1292: 1714, 1201: 1715, 8813: 1716, 2889: 1717, 6276: 1718, 6781: 1719, 4034: 1720, 1807: 1721, 6037: 1722, 7404: 1723, 2832: 1724, 7183: 1725, 3945: 1726, 3781: 1727, 9027: 1728, 4515: 1729, 4943: 1730, 3973: 1731, 8196: 1732, 7157: 1733, 9214: 1734, 2536: 1735, 1689: 1736, 7057: 1737, 3439: 1738, 6919: 1739, 2535: 1740, 1188: 1741, 6912: 1742, 6382: 1743, 8063: 1744, 1205: 1745, 6664: 1746, 1430: 1747, 8902: 1748, 1983: 1749, 6160: 1750, 6391: 1751, 8499: 1752, 9230: 1753, 6557: 1754, 6833: 1755, 8910: 1756, 3174: 1757, 5075: 1758, 2553: 1759, 5070: 1760, 6047: 1761, 6822: 1762, 6055: 1763, 1002: 1764, 3184: 1765, 5727: 1766, 3158: 1767, 5444: 1768, 4247: 1769, 3860: 1770, 2912: 1771, 6416: 1772, 3474: 1773, 4207: 1774, 1043: 1775, 8564: 1776, 7210: 1777, 8074: 1778, 6583: 1779, 8524: 1780, 7530: 1781, 8896: 1782, 8259: 1783, 1774: 1784, 1285: 1785, 2612: 1786, 8495: 1787, 3934: 1788, 6775: 1789, 2854: 1790, 3856: 1791, 9555: 1792, 6957: 1793, 2826: 1794, 6915: 1795, 2354: 1796, 7545: 1797, 1278: 1798, 8181: 1799, 6837: 1800, 3963: 1801, 6501: 1802, 5647: 1803, 7315: 1804, 3153: 1805, 8570: 1806, 8234: 1807, 7242: 1808, 6216: 1809, 6563: 1810, 3087: 1811, 2950: 1812, 1609: 1813, 2603: 1814, 6388: 1815, 8730: 1816, 7015: 1817, 1955: 1818, 2712: 1819, 3041: 1820, 3285: 1821, 8704: 1822, 3813: 1823, 8340: 1824, 7074: 1826, 5330: 1827, 2718: 1828, 8193: 1829, 9613: 1830, 6622: 1831, 1977: 1832, 3908: 1833, 4020: 1834, 8113: 1835, 8594: 1836, 7537: 1837, 1802: 1838, 5620: 1839, 8216: 1840, 9607: 1841, 1885: 1842, 6441: 1843, 3173: 1844, 8754: 1845, 4536: 1846, 2932: 1847, 8408: 1848, 6295: 1849, 8879: 1850, 4622: 1851, 4223: 1852, 3035: 1853, 1088: 1855, 7443: 1856, 6515: 1857, 7464: 1858, 5300: 1859, 3365: 1860, 8155: 1861, 9225: 1862, 2806: 1863, 1165: 1864, 8471: 1865, 9213: 1866, 8219: 1867, 2742: 1868, 5037: 1869, 4019: 1870, 1846: 1871, 2545: 1872, 8311: 1873, 1268: 1874, 5617: 1875, 8210: 1876, 9001: 1877, 8633: 1878, 2812: 1879, 1014: 1880, 9127: 1881, 6410: 1882, 5040: 1883, 9602: 1884, 7512: 1885, 5083: 1886, 8901: 1887, 6002: 1888, 8952: 1889, 6105: 1890, 8326: 1891, 3309: 1892, 4322: 1893, 1656: 1894, 1437: 1895, 1045: 1896, 6774: 1897, 5621: 1898, 5246: 1899, 6764: 1900, 9630: 1901, 2520: 1902, 8266: 1903, 2518: 1904, 2807: 1905, 6170: 1906, 7148: 1907, 7166: 1908, 3271: 1909, 4232: 1910, 3099: 1911, 1125: 1912, 4911: 1913, 5430: 1914, 5436: 1915, 1963: 1916, 1744: 1917, 4142: 1918, 6476: 1919, 3626: 1920, 4333: 1921, 7314: 1922, 6543: 1923, 2400: 1924, 1281: 1925, 3425: 1926, 3050: 1927, 8404: 1928, 7110: 1929, 6431: 1930, 3323: 1931, 9314: 1932, 5018: 1933, 2004: 1934, 2560: 1935, 2149: 1936, 6944: 1937, 9231: 1938, 1297: 1939, 5605: 1940, 3906: 1941, 8477: 1942, 6684: 1943, 2873: 1944, 8133: 1945, 5107: 1946, 1439: 1947, 2353: 1948, 3072: 1949, 3765: 1950, 3065: 1951, 1551: 1952, 3159: 1953, 6997: 1954, 6465: 1955, 3982: 1956, 4203: 1957, 8426: 1958, 2114: 1959, 9532: 1960, 2903: 1961, 8255: 1962, 1080: 1963, 7115: 1964, 8355: 1965, 6174: 1966, 2884: 1967, 4601: 1968, 5525: 1969, 3402: 1970, 7028: 1971, 1352: 1972, 5060: 1973, 7151: 1974, 7442: 1975, 7162: 1976, 2336: 1977, 4416: 1978, 3815: 1979, 3068: 1980, 9620: 1981, 1658: 1982, 4632: 1983, 6460: 1984, 2515: 1985, 4303: 1986, 4415: 1987, 6743: 1988, 6874: 1989, 6026: 1990, 5213: 1991, 6248: 1992, 1024: 1993, 3413: 1994, 8906: 1995, 6132: 1996, 3204: 1997, 9404: 1998, 1255: 1999, 3267: 2000, 8300: 2001, 3001: 2002, 9320: 2003, 8042: 2004, 6462: 2005, 7543: 2006, 8497: 2007, 2746: 2008, 9650: 2009, 3703: 2010, 8018: 2011, 7076: 2012, 7244: 2013, 4224: 2014, 8164: 2015, 4075: 2016, 3313: 2017, 1164: 2018, 1929: 2019, 4104: 2020, 9633: 2021, 5400: 2022, 1290: 3183, 4704: 2024, 2027: 2025, 4953: 2026, 3661: 2027, 8451: 2028, 5333: 2029, 7454: 2030, 3012: 2031, 6916: 2032, 8248: 2033, 3368: 2034, 4036: 2035, 6809: 2036, 8765: 2037, 6032: 2038, 7111: 2039, 3504: 2040, 1616: 2041, 6605: 2042, 8302: 2043, 1941: 2044, 4853: 2045, 8103: 2046, 5004: 2047, 3783: 2048, 8240: 2049, 8201: 2050, 9430: 2051, 6030: 2052, 6968: 2053, 2900: 2054, 4955: 2055, 1797: 2056, 2564: 2057, 7452: 2058, 5413: 2059, 5408: 2060, 6949: 2061, 1725: 2062, 9651: 2063, 3636: 2064, 6512: 2065, 6654: 2066, 8759: 2067, 2923: 2068, 6556: 2069, 4147: 2070, 1745: 2071, 8442: 2072, 1532: 2073, 9502: 2074, 1061: 2075, 9442: 3129, 8627: 2077, 8154: 2078, 6287: 2079, 6036: 2080, 3979: 2081, 1775: 2082, 9435: 2083, 9621: 2084, 3237: 2085, 6072: 2086, 1356: 2087, 9023: 2088, 6927: 2089, 7710: 2090, 8325: 2091, 3711: 2092, 8458: 2093, 3214: 2094, 8172: 2095, 6341: 2096, 2857: 2097, 2015: 2098, 6034: 2099, 6084: 2100, 1948: 2101, 8303: 2102, 3463: 2103, 6344: 2104, 7453: 2105, 1869: 2106, 3366: 2107, 1688: 2108, 5524: 2109, 3315: 2110, 8464: 2111, 8344: 2112, 4108: 2113, 9015: 2114, 7019: 2115, 5600: 2116, 6979: 2117, 8461: 2118, 1967: 2119, 1674: 2120, 8041: 2121, 6574: 2122, 1085: 2123, 4710: 2124, 8197: 2125, 6597: 2126, 3989: 2127, 5012: 2128, 6482: 2129, 5023: 2130, 2525: 2131, 4234: 2132, 2512: 2133, 9514: 2134, 8263: 2135, 9014: 2136, 3656: 2137, 4246: 2138, 7427: 2139, 8536: 2140, 1535: 2141, 8354: 2142, 3006: 2143, 9108: 2144, 1801: 2145, 6707: 2146, 1697: 2147, 6473: 2148, 9105: 2149, 8236: 2150, 9464: 2151, 1648: 2152, 6718: 2153, 4102: 2154, 3179: 2155, 8712: 2156, 6215: 2157, 9473: 2158, 7154: 2159, 8725: 2160, 8032: 2161, 1224: 2162, 1141: 2163, 1793: 2164, 6644: 2165, 5646: 2166, 4497: 2167, 4495: 2168, 1305: 2169, 3938: 2170, 8064: 2171, 7448: 2172, 8185: 2173, 2604: 2174, 9240: 2175, 8247: 2176, 1522: 2177, 4923: 2178, 1296: 2179, 1555: 2180, 6612: 2181, 1735: 2182, 4719: 2183, 5705: 2184, 6938: 2185, 5406: 2186, 8590: 2187, 3755: 2188, 7184: 2189, 3066: 2190, 7104: 2191, 6018: 2192, 1000: 2193, 8048: 2194, 3293: 2195, 4932: 2196, 1936: 2197, 2067: 2198, 6917: 2199, 4422: 2200, 1420: 2201, 4800: 2202, 6013: 2203, 6523: 2204, 3436: 2205, 6807: 2206, 6044: 2207, 4806: 2208, 3049: 2209, 2738: 2210, 4143: 2211, 2053: 2212, 5276: 2213, 1923: 2214, 8022: 2215, 1612: 2216, 6936: 2217, 7513: 2218, 1734: 2219, 3954: 2220, 6173: 2221, 1010: 2223, 1624: 2224, 7608: 2225, 1081: 2226, 8882: 2227, 1483: 2228, 3476: 2229, 8060: 2230, 3826: 2231, 6035: 2232, 4227: 2233, 2944: 2234, 6535: 2235, 1320: 2236, 6434: 2237, 2502: 2238, 8835: 2239, 7126: 2240, 1686: 2241, 3933: 2242, 2108: 2243, 1702: 2244, 3225: 2245, 8027: 2246, 4514: 2247, 3084: 2248, 3238: 2249, 6000: 2250, 6749: 2251, 5417: 2252, 4423: 2253, 2362: 2254, 3004: 2255, 1131: 2256, 1898: 2257, 1870: 2258, 7432: 2259, 3777: 2260, 2350: 2261, 3928: 2262, 2563: 2263, 8023: 2264, 1343: 2265, 8087: 2266, 8406: 2267, 2063: 2268, 8088: 2269, 6280: 2270, 6980: 2271, 1180: 2272, 6530: 2273, 3538: 2274, 8052: 2275, 8604: 2276, 8602: 2277, 6933: 2278, 1001: 2279, 6247: 2280, 6015: 2281, 6130: 2282, 4457: 2283, 3152: 2284, 8025: 2285, 3251: 2286, 6959: 2287, 4058: 2288, 6995: 2289, 1940: 2290, 3814: 2291, 1847: 2292, 4494: 2293, 1964: 2294, 8593: 2295, 3306: 2296, 9008: 2297, 4566: 2298, 1922: 2299, 9612: 2300, 1485: 2301, 9007: 2302, 1453: 2303, 1260: 2304, 8242: 2305, 9246: 2306, 5467: 2307, 1007: 2308, 1412: 2309, 8050: 2310, 4101: 2311, 1651: 2312, 9604: 2313, 3044: 2314, 1942: 2315, 6162: 2316, 3754: 2317, 4936: 2318, 2406: 2319, 8864: 2320, 4204: 2321, 6672: 2322, 8758: 2323, 8409: 2324, 1721: 2325, 9103: 2326, 4302: 2327, 4053: 2328, 1264: 2329, 8098: 2330, 1914: 2331, 3027: 2332, 8573: 2333, 4001: 2334, 3088: 2335, 1718: 2336, 5044: 2337, 3900: 2338, 6376: 2339, 6024: 2340, 8740: 2341, 3054: 2342, 6955: 2343, 3376: 2344, 4852: 2345, 8425: 2346, 7325: 2347, 7145: 2348, 3985: 2349, 4208: 2350, 6540: 2351, 4254: 2352, 5712: 2353, 3008: 2354, 5443: 2355, 7743: 2356, 5233: 2357, 2022: 2358, 6866: 2359, 6264: 2360, 8873: 2361, 3625: 2362, 1433: 2363, 7228: 2364, 1009: 2365, 1226: 2366, 6937: 2367, 4628: 2368, 7551: 2369, 1957: 2370, 2057: 2371, 8803: 2372, 3078: 2373, 5058: 2374, 4585: 2375, 7434: 2376, 7536: 2377, 3183: 2378, 7083: 2379, 3235: 2380, 8416: 2381, 8877: 2382, 6066: 2383, 3147: 2384, 5017: 2385, 1445: 2386, 9055: 2387, 4233: 2388, 7232: 2389, 4656: 2390, 2009: 2391, 7515: 2392, 8577: 2393, 6953: 2394, 1926: 2395, 7746: 2396, 7407: 2397, 1030: 2398, 4446: 2399, 1714: 2400, 9000: 2401, 7001: 2402, 3013: 2404, 3702: 2405, 8024: 2406, 5277: 2407, 4107: 2408, 3925: 2409, 9534: 2410, 4665: 2411, 1063: 2412, 9615: 2413, 8800: 2414, 8001: 2415, 3312: 2416, 9428: 2417, 1274: 2418, 6430: 2419, 1919: 2420, 2610: 2421, 6855: 2422, 3638: 2423, 1902: 2424, 8913: 2425, 6313: 2426, 5607: 2427, 9543: 2428, 6693: 2429, 7204: 2430, 4924: 2431, 2325: 2432, 1720: 2433, 3176: 2434, 3722: 2435, 3086: 2436, 6424: 2437, 1218: 2438, 1062: 2439, 1132: 2440, 9652: 2441, 7534: 2442, 9217: 2443, 6232: 2444, 8232: 2445, 4814: 2446, 7149: 2447, 9527: 2448, 9478: 2449, 3375: 2450, 1746: 2451, 1066: 2452, 7003: 2453, 1822: 2454, 4537: 2455, 9013: 2456, 3047: 2457, 2924: 2458, 1303: 2459, 2735: 2460, 1918: 2461, 6286: 2462, 9470: 2463, 3764: 2464, 4253: 2465, 1992: 2466, 1323: 2467, 4146: 2468, 1808: 2469, 1623: 2470, 7417: 2471, 1567: 2472, 9552: 2473, 8203: 2474, 7563: 2475, 4522: 2476, 6830: 2477, 1406: 2478, 1225: 2479, 6208: 2480, 1090: 2481, 3723: 2482, 3017: 2483, 1196: 2484, 8503: 2485, 4013: 2486, 7205: 2487, 8317: 2488, 4447: 2489, 9504: 2490, 1435: 2491, 4012: 2492, 4658: 2493, 5603: 2494, 1644: 2495, 3003: 2496, 6233: 2497, 3955: 2498, 8542: 2499, 1965: 2500, 9427: 2501, 3234: 2502, 3178: 2503, 3948: 2504, 2822: 2505, 6192: 2506, 5612: 2507, 4089: 2508, 9462: 2509, 3080: 2510, 9024: 2511, 8834: 2512, 1530: 2513, 3089: 2514, 7142: 2515, 1304: 2516, 3824: 2517, 6516: 2518, 8342: 2519, 8646: 2520, 2710: 2521, 8955: 2522, 7007: 2523, 6716: 2524, 8226: 2525, 6990: 2526, 6274: 2527, 5746: 2528, 6872: 2529, 6546: 2530, 3414: 2531, 7167: 2532, 3205: 2533, 7522: 2534, 6331: 2535, 1893: 2536, 8616: 2537, 3704: 2538, 7277: 2539, 1436: 2540, 7075: 2541, 1680: 2542, 6262: 2543, 2035: 2544, 8307: 2545, 3939: 2546, 1896: 2547, 6918: 2548, 3653: 2549, 3805: 2550, 6009: 2551, 3917: 2552, 3252: 2553, 5507: 2554, 4134: 2555, 4717: 2556, 8853: 2557, 2748: 2558, 1122: 2559, 2054: 2560, 4654: 2561, 1219: 2562, 6526: 2563, 1820: 2564, 8418: 2565, 3296: 2566, 1679: 2567, 1625: 2568, 8956: 2569, 6467: 2570, 7249: 2571, 6904: 2572, 2824: 2573, 7747: 2574, 8356: 2575, 5619: 2576, 3421: 2577, 8844: 2578, 9125: 2579, 3996: 2580, 7056: 2581, 4031: 2582, 3424: 2583, 6703: 2584, 6487: 2585, 9038: 2586, 8714: 2587, 7230: 2588, 8815: 2589, 1613: 2590, 2922: 2591, 1040: 2592, 9536: 2593, 2883: 2594, 5030: 2595, 1272: 2596, 6661: 2597, 1464: 2598, 1806: 2599, 8884: 2600, 4916: 2601, 8543: 2602, 8508: 2603, 6945: 2604, 6112: 2605, 2517: 2606, 1214: 2607, 1958: 2608, 5630: 2609, 6832: 2610, 3776: 2611, 1608: 3258, 2028: 2613, 8576: 2614, 4028: 2615, 3216: 2616, 2717: 2617, 4312: 2618, 5618: 2619, 6659: 2620, 6925: 2621, 6805: 2622, 4140: 2623, 7018: 2624, 8093: 2625, 9424: 2626, 4056: 2627, 6048: 2628, 2513: 2629, 1634: 2630, 1586: 2631, 9021: 2632, 5615: 2633, 8105: 2634, 3097: 2635, 1163: 2636, 4571: 2637, 7526: 2638, 1675: 2639, 2802: 2640, 8051: 2641, 6584: 2642, 1895: 2643, 8554: 2644, 8870: 2645, 4933: 2646, 1482: 2647, 8500: 2648, 9028: 2649, 8599: 2650, 8617: 2651, 3462: 2652, 5274: 2653, 8610: 2654, 4455: 2655, 1113: 2656, 4509: 2657, 2534: 2658, 1667: 2659, 6485: 2660, 6663: 2661, 2863: 2662, 8330: 2663, 6218: 2664, 7440: 2665, 3534: 2666, 1421: 2667, 7477: 2668, 3172: 2669, 8204: 2670, 3073: 2671, 1217: 2672, 8881: 2673, 6253: 2674, 8195: 2675, 6060: 2676, 6965: 2677, 2954: 2678, 6873: 2679, 8215: 2680, 7602: 2681, 8953: 2682, 1553: 2683, 1169: 2684, 2864: 2685, 7265: 2686, 2023: 2687, 8911: 2688, 6683: 2689, 6635: 2690, 2904: 2691, 1709: 2692, 9056: 2693, 2318: 2694, 4052: 2695, 1653: 2696, 8865: 2697, 5024: 2698, 6748: 2699, 6022: 2700, 1248: 2701, 8233: 2702, 6125: 2703, 8816: 2704, 8756: 2705, 1242: 2706, 1344: 2707, 3125: 2708, 2855: 2709, 2842: 2710, 1186: 2711, 6260: 2712, 8920: 2713, 1628: 2714, 8118: 2715, 8252: 2716, 3757: 2717, 2733: 2718, 3647: 2719, 6960: 2720, 4630: 2721, 1654: 2722, 9315: 2723, 1741: 2724, 9004: 2726, 1407: 2727, 3085: 2728, 1682: 2729, 9020: 2730, 8403: 2731, 7064: 2732, 5201: 2733, 7445: 2734, 9312: 2735, 3662: 2736, 9323: 2737, 8208: 2738, 5232: 2739, 4634: 2740, 7109: 2741, 6747: 2742, 1932: 2743, 8235: 2744, 9037: 2745, 3778: 2746, 1786: 2747, 1928: 2748, 1271: 2749, 1588: 2750, 8507: 2751, 3533: 2752, 1753: 2753, 7173: 2754, 3112: 2755, 4581: 2756, 5462: 2757, 9426: 2758, 1409: 2759, 1676: 2760, 6600: 2761, 1004: 2762, 8102: 2763, 1135: 2764, 7459: 2765, 6854: 2766, 8942: 2767, 4126: 2768, 1587: 2769, 1997: 2770, 2908: 2771, 8880: 2772, 4310: 2773, 1143: 2774, 6983: 2775, 8645: 2776, 2745: 2777, 5078: 2778, 8535: 2779, 7554: 2780, 2907: 2781, 6275: 2782, 8620: 2783, 3968: 2784, 7428: 2785, 1872: 2787, 9104: 2788, 6977: 2789, 6575: 2790, 5614: 2791, 8484: 2792, 7472: 2793, 4534: 2794, 6618: 2795, 7421: 2796, 8630: 2797, 3034: 2798, 7556: 2799, 3853: 2800, 3039: 2801, 8370: 2802, 1685: 2803, 6934: 2804, 1204: 2805, 3433: 2806, 5322: 2807, 4615: 2808, 1023: 2809, 8125: 2810, 4456: 2811, 8782: 2812, 6549: 2813, 7187: 2814, 1541: 2815, 8544: 2816, 2523: 2817, 1211: 2818, 5506: 2819, 4611: 2820, 6571: 2821, 7172: 2822, 1254: 2823, 1937: 2824, 3852: 2825, 1038: 2826, 8954: 2827, 1073: 2828, 6222: 2829, 5613: 2830, 2915: 2831, 9220: 2832, 1982: 2833, 4434: 2834, 3971: 2835, 5735: 2836, 7130: 2837, 3612: 2838, 1823: 2839, 3284: 2840, 3298: 2841, 1865: 2842, 8520: 2843, 1243: 2844, 1911: 2845, 2732: 2846, 4577: 2847, 2043: 2848, 4070: 2849, 8845: 2850, 6777: 2851, 6906: 2852, 1583: 2853, 6962: 2854, 1442: 2855, 6611: 2856, 8059: 2857, 8182: 2858, 4418: 2859, 9223: 2860, 1200: 2861, 1927: 2862, 3977: 2863, 4573: 2864, 6950: 2865, 5064: 2866, 4616: 2867, 6372: 2868, 7310: 2869, 7233: 2870, 1921: 2871, 8804: 2872, 6004: 2873, 9102: 2874, 7532: 2875, 9114: 2876, 5275: 2877, 3266: 2878, 7527: 2879, 1638: 2880, 4807: 2881, 8708: 2882, 6602: 2883, 7553: 2884, 8217: 2885, 1239: 2886, 1993: 2887, 3956: 2888, 4127: 2889, 8310: 2890, 3154: 2891, 8309: 2892, 2504: 2893, 8207: 2894, 3952: 2895, 1059: 2896, 3972: 2897, 5063: 2898, 8228: 2899, 8372: 2900, 3273: 2901, 4316: 2902, 5074: 2903, 3631: 2904, 8727: 2905, 6370: 2906, 3604: 2907, 1854: 2908, 5057: 2909, 8086: 2910, 9216: 2911, 1070: 2912, 9517: 2913, 8807: 2914, 4813: 2915, 5726: 2916, 1008: 2917, 6028: 2918, 4574: 2919, 1972: 2920, 6806: 2921, 3095: 2922, 8592: 2923, 6019: 2924, 6317: 2925, 3543: 2926, 8218: 2927, 8478: 2928, 3646: 2929, 6991: 2930, 6722: 2931, 4242: 2932, 8509: 2933, 3005: 2934, 1875: 2935, 3601: 2936, 8841: 2937, 5608: 2938, 9064: 2939, 8700: 2940, 6746: 2941, 4225: 2942, 9468: 2943, 1006: 2944, 4035: 2945, 3905: 2946, 1969: 2947, 8115: 2948, 4153: 2949, 7473: 2950, 8866: 2951, 4448: 2952, 7058: 2953, 3429: 2954, 6827: 2955, 4614: 2956, 6012: 2957, 3785: 2958, 6005: 2959, 4469: 2960, 6207: 2961, 6723: 2962, 3999: 2963, 3671: 2964, 1614: 2965, 3503: 2966, 1566: 2967, 1521: 2968, 8561: 2969, 5442: 2970, 6061: 2971, 5723: 2972, 4539: 2973, 8639: 2974, 6007: 2975, 1446: 2976, 1462: 2977, 1513: 2978, 1401: 2979, 1933: 2980, 1891: 2981, 3438: 2982, 5708: 2983, 4922: 2984, 9244: 2985, 6724: 2986, 1046: 2987, 9322: 2988, 1258: 2989, 8773: 2990, 8482: 2991, 3780: 2992, 2056: 2993, 9631: 2994, 1047: 2995, 6544: 2996, 2075: 2997, 7562: 2998, 7012: 2999, 3957: 3000, 6956: 3001, 3185: 3002, 6935: 3003, 3607: 3004, 2743: 3005, 6696: 3006, 2853: 3007, 2345: 3008, 6838: 3009, 6877: 3010, 6913: 3011, 8510: 3012, 8716: 3013, 3212: 3014, 6852: 3015, 6062: 3016, 8933: 3017, 6442: 3018, 5625: 3019, 5637: 3020, 1683: 3021, 1434: 3022, 6422: 3023, 8068: 3024, 6593: 3025, 6823: 3026, 3286: 3027, 8734: 3028, 1864: 3029, 4802: 3030, 1149: 3031, 9400: 3032, 5046: 3033, 2333: 3034, 1543: 3035, 6714: 3036, 7214: 3037, 1313: 3038, 8540: 3039, 6404: 3040, 1564: 3041, 4202: 3042, 5704: 3043, 6166: 3044, 9606: 3045, 8836: 3046, 7163: 3047, 1981: 3048, 5323: 3049, 8363: 3050, 8332: 3051, 5053: 3052, 1884: 3053, 8621: 3054, 7223: 3055, 1082: 3056, 8465: 3057, 7278: 3058, 6616: 3059, 5627: 3060, 1341: 3061, 2500: 3062, 1740: 3063, 3132: 3064, 8463: 3065, 1091: 3066, 1978: 3067, 6023: 3068, 9436: 3069, 1845: 3070, 6808: 3071, 3186: 3072, 1110: 3073, 6690: 3074, 1084: 3075, 4934: 3076, 1975: 3077, 3434: 3078, 9452: 3079, 1253: 3080, 8136: 3082, 1791: 3083, 6939: 3084, 6695: 3085, 4543: 3086, 8265: 3087, 3700: 3088, 6579: 3089, 6371: 3090, 2887: 3091, 5272: 3092, 1348: 3093, 1833: 3094, 4465: 3095, 8044: 3096, 8452: 3097, 2805: 3098, 5027: 3099, 4714: 3100, 7317: 3101, 4016: 3102, 9402: 3103, 5466: 3104, 1722: 3105, 1342: 3106, 3264: 3107, 5273: 3108, 1234: 3109, 6903: 3110, 7559: 3111, 7307: 3112, 1632: 3113, 5072: 3114, 1170: 3115, 1295: 3116, 2124: 3117, 8893: 3118, 8868: 3119, 5415: 3120, 8718: 3121, 7143: 3122, 8858: 3123, 1197: 3124, 9306: 3125, 6533: 3126, 7246: 3127, 8012: 3128, 8072: 3130, 3111: 3131, 3531: 3132, 8157: 3133, 6330: 3134, 9546: 3135, 1636: 3136, 5402: 3137, 3922: 3138, 6300: 3139, 8422: 3140, 2606: 3141, 5645: 3142, 4950: 3143, 2715: 3144, 6235: 3145, 2532: 3146, 9030: 3147, 4024: 3148, 9413: 3149, 2885: 3150, 1240: 3151, 6816: 3152, 8537: 3153, 8357: 3154, 1747: 3155, 3674: 3156, 1318: 3157, 6951: 3158, 4501: 3159, 8224: 3160, 2322: 3161, 6246: 3162, 6745: 3163, 7252: 3164, 8202: 3165, 8026: 3166, 8957: 3167, 2017: 3168, 4612: 3169, 6314: 3170, 3126: 3171, 3175: 3172, 9122: 3173, 9614: 3174, 8723: 3175, 1247: 3176, 2558: 3177, 1717: 3178, 8832: 3179, 8757: 3180, 1315: 3181, 1035: 3182, 1897: 3184, 2003: 3185, 7027: 3186, 5033: 3187, 1216: 3188, 1512: 3189, 6003: 3190, 6537: 3191, 4512: 3192, 4467: 3193, 1611: 3194, 8940: 3195, 1643: 3196, 3766: 3197, 8596: 3198, 2575: 3199, 2304: 3200, 8011: 3201, 9479: 3202, 2576: 3203, 4713: 3204, 1405: 3205, 6511: 3206, 2736: 3207, 4041: 3208, 1950: 3209, 7418: 3210, 4553: 3211, 1652: 3212, 6281: 3213, 3074: 3214, 2554: 3215, 2300: 3216, 1127: 3217, 1376: 3218, 7435: 3219, 6466: 3220, 2002: 3221, 1422: 3222, 1244: 3223, 3822: 3224, 1134: 3225, 7203: 3226, 3372: 3227, 8070: 3228, 3994: 3229, 3098: 3230, 6332: 3231, 3923: 3232, 7014: 3233, 3000: 3234, 8638: 3235, 8846: 3236, 6614: 3237, 3617: 3238, 2543: 3239, 2723: 3240, 9301: 3241, 5742: 3242, 8897: 3243, 5022: 3244, 5025: 3245, 4206: 3246, 3507: 3247, 1400: 3248, 6493: 3249, 9643: 3250, 8245: 3251, 7231: 3252, 4525: 3253, 1404: 3254, 1431: 3255, 8153: 3256, 5301: 3257, 7153: 3259, 2572: 3260, 4629: 3261, 4513: 3262, 1784: 3263, 9500: 3264, 8574: 3265, 3292: 3266, 6063: 3267, 9655: 3268, 2926: 3269, 9006: 3270, 4438: 3271, 1976: 3272, 1146: 3273, 8262: 3274, 5728: 3275, 3614: 3276, 9026: 3277, 1322: 3278, 3983: 3279, 1920: 3280, 8556: 3281, 8308: 3282, 8053: 3283, 1619: 3284, 6205: 3285, 6818: 3286, 1670: 3288, 3208: 3289, 3800: 3290, 3960: 3291, 5626: 3292, 1738: 3293, 8966: 3294, 3321: 3295, 7156: 3296, 3011: 3297, 1068: 3298, 6245: 3299, 1554: 3300, 1123: 3301, 7741: 3302, 7604: 3303, 9444: 3304, 8055: 3305, 9247: 3306, 8489: 3307, 6958: 3308, 4462: 3309, 8130: 3310, 6954: 3311, 3215: 3312, 2914: 3313, 7114: 3314, 6825: 3315, 4132: 3316, 1712: 3317, 3929: 3318, 6375: 3319, 8566: 3320, 2542: 3321, 6021: 3322, 3947: 3323, 6658: 3324, 3975: 3325, 3663: 3326, 7016: 3327, 8187: 3328, 6948: 3329, 8934: 3330, 5076: 3331, 5236: 3332, 3033: 3333, 8099: 3334, 1032: 3335, 1321: 3336, 5452: 3337, 3655: 3338, 3232: 3339, 1116: 3340, 9507: 3341, 3015: 3342, 1742: 3343, 1913: 3344, 1326: 3345, 6929: 3346, 5305: 3347, 1054: 3348, 6211: 3349, 8703: 3350, 6244: 3351, 1748: 3352, 8264: 3353, 1233: 3354, 2127: 3355, 4558: 3356, 1862: 3357, 1544: 3358, 8466: 3359, 7185: 3360, 6932: 3361, 8558: 3362, 3603: 3363, 7462: 3364, 6853: 3365, 2607: 3366, 8767: 3367, 1904: 3368, 1542: 3369, 3557: 3370, 8492: 3371, 9042: 3372, 3953: 3373, 6236: 3374, 7017: 3375, 6288: 3376, 6221: 3377, 8472: 3378, 4443: 3379, 9304: 3380, 1286: 3381, 8915: 3382, 5014: 3383, 9422: 3384, 8488: 3385, 1615: 3386, 8825: 3387, 4640: 3388, 6994: 3389, 2010: 3390, 3294: 3391, 9445: 3392, 6153: 3393, 5722: 3394, 7312: 3395, 3862: 3396, 4021: 3397, 6817: 3398, 3280: 3399, 8898: 3400, 8474: 3401, 1098: 3402, 1533: 3403, 1749: 3404, 9451: 3405, 8350: 3406, 5634: 3407, 6964: 3408, 7546: 3409, 8374: 3410, 1223: 3411, 3634: 3412, 5453: 3413, 6989: 3414, 1347: 3415, 6601: 3416, 4535: 3417, 5036: 3418, 1618: 3419, 5042: 3420, 7137: 3421, 8493: 3422, 2126: 3423, 8895: 3424, 1029: 3425, 6921: 3426, 9601: 3427, 7206: 3428, 1408: 3429, 1206: 3430, 8320: 3431, 8150: 3432, 1425: 3433, 1182: 3434, 3465: 3435, 1726: 3436, 8222: 3437, 8371: 3438, 4556: 3439, 2034: 3440, 7159: 3441, 8114: 3442, 3984: 3443, 9325: 3444, 8459: 3445, 6594: 3446, 1293: 3448, 9034: 3449, 7272: 3450, 6500: 3451, 5332: 3452, 6675: 3453, 4007: 3454, 1646: 3455, 5606: 3456, 4623: 3457, 3802: 3458, 1987: 3459, 5056: 3460, 8306: 3461, 6123: 3462, 7250: 3463, 2088: 3464, 3326: 3465, 8552: 3466, 5079: 3467, 6214: 3468, 8010: 3469, 2302: 3470, 1691: 3471, 9434: 3472, 7416: 3473, 8455: 3474, 8414: 3475, 5316: 3476, 4042: 3477, 3113: 3478, 8903: 3479, 1005: 3480, 4130: 3481, 3919: 3482, 6122: 3483, 6110: 3484, 8766: 3485, 1071: 3486, 3076: 3487, 2875: 3500, 5224: 3503, 1705: 3492, 4603: 3519, 6996: 3516, 8238: 3522, 8035: 3512, 9414: 3518, 2874: 3520, 8079: 3521, 7135: 3523, 4008: 3524, 6342: 3525}\n"
     ]
    }
   ],
   "source": [
    "print(dict_postal_codes) # dict seems fine"
   ],
   "metadata": {
    "collapsed": false,
    "pycharm": {
     "name": "#%%\n"
    }
   }
  },
  {
   "cell_type": "code",
   "execution_count": 81,
   "outputs": [
    {
     "name": "stdout",
     "output_type": "stream",
     "text": [
      "12        61.0\n",
      "20        61.0\n",
      "45        61.0\n",
      "47        61.0\n",
      "108       16.0\n",
      "          ... \n",
      "140887    76.0\n",
      "140890    76.0\n",
      "140910    22.0\n",
      "141066    54.0\n",
      "141114    46.0\n",
      "Name: id_postal_code, Length: 4234, dtype: float64\n"
     ]
    }
   ],
   "source": [
    "print(df_selected['id_postal_code'][df_selected['id_postal_code'] <= 100]) # check for low index numbers"
   ],
   "metadata": {
    "collapsed": false,
    "pycharm": {
     "name": "#%%\n"
    }
   }
  },
  {
   "cell_type": "code",
   "execution_count": 82,
   "outputs": [
    {
     "name": "stdout",
     "output_type": "stream",
     "text": [
      "2556     NaN\n",
      "3671     NaN\n",
      "12590    NaN\n",
      "20011    NaN\n",
      "22558    NaN\n",
      "27376    NaN\n",
      "40350    NaN\n",
      "46347    NaN\n",
      "46502    NaN\n",
      "56149    NaN\n",
      "64240    NaN\n",
      "68431    NaN\n",
      "71347    NaN\n",
      "80699    NaN\n",
      "84389    NaN\n",
      "95735    NaN\n",
      "97374    NaN\n",
      "97738    NaN\n",
      "102310   NaN\n",
      "107549   NaN\n",
      "111903   NaN\n",
      "113740   NaN\n",
      "114456   NaN\n",
      "116358   NaN\n",
      "117230   NaN\n",
      "124611   NaN\n",
      "127493   NaN\n",
      "131450   NaN\n",
      "135767   NaN\n",
      "136608   NaN\n",
      "136652   NaN\n",
      "136875   NaN\n",
      "138181   NaN\n",
      "138248   NaN\n",
      "139056   NaN\n",
      "140529   NaN\n",
      "140968   NaN\n",
      "Name: id_postal_code, dtype: float64\n"
     ]
    }
   ],
   "source": [
    "print(df_selected['id_postal_code'][df_selected['id_postal_code'].isna() == True])"
   ],
   "metadata": {
    "collapsed": false,
    "pycharm": {
     "name": "#%%\n"
    }
   }
  },
  {
   "cell_type": "code",
   "execution_count": 59,
   "outputs": [
    {
     "data": {
      "text/plain": "0         2071.0\n1          349.0\n2          513.0\n3         1551.0\n4         1824.0\n           ...  \n141183     328.0\n141184    3139.0\n141185    2424.0\n141186     452.0\n141187    3360.0\nName: id_postal_code, Length: 141188, dtype: float64"
     },
     "execution_count": 59,
     "metadata": {},
     "output_type": "execute_result"
    }
   ],
   "source": [
    "df_selected['id_postal_code']"
   ],
   "metadata": {
    "collapsed": false,
    "pycharm": {
     "name": "#%%\n"
    }
   }
  },
  {
   "cell_type": "code",
   "execution_count": 4,
   "outputs": [
    {
     "data": {
      "text/plain": "   ID_sub_category\n4                6",
      "text/html": "<div>\n<style scoped>\n    .dataframe tbody tr th:only-of-type {\n        vertical-align: middle;\n    }\n\n    .dataframe tbody tr th {\n        vertical-align: top;\n    }\n\n    .dataframe thead th {\n        text-align: right;\n    }\n</style>\n<table border=\"1\" class=\"dataframe\">\n  <thead>\n    <tr style=\"text-align: right;\">\n      <th></th>\n      <th>ID_sub_category</th>\n    </tr>\n  </thead>\n  <tbody>\n    <tr>\n      <th>4</th>\n      <td>6</td>\n    </tr>\n  </tbody>\n</table>\n</div>"
     },
     "execution_count": 4,
     "metadata": {},
     "output_type": "execute_result"
    }
   ],
   "source": [
    "# Access specific row in column\n",
    "row = 4\n",
    "df_selected.loc[[row], ['ID_sub_category']]"
   ],
   "metadata": {
    "collapsed": false,
    "pycharm": {
     "name": "#%%\n"
    }
   }
  },
  {
   "cell_type": "code",
   "execution_count": null,
   "outputs": [],
   "source": [],
   "metadata": {
    "collapsed": false,
    "pycharm": {
     "name": "#%%\n"
    }
   }
  },
  {
   "cell_type": "code",
   "execution_count": null,
   "outputs": [],
   "source": [],
   "metadata": {
    "collapsed": false,
    "pycharm": {
     "name": "#%%\n"
    }
   }
  }
 ],
 "metadata": {
  "kernelspec": {
   "display_name": "Python 3",
   "language": "python",
   "name": "python3"
  },
  "language_info": {
   "codemirror_mode": {
    "name": "ipython",
    "version": 2
   },
   "file_extension": ".py",
   "mimetype": "text/x-python",
   "name": "python",
   "nbconvert_exporter": "python",
   "pygments_lexer": "ipython2",
   "version": "2.7.6"
  }
 },
 "nbformat": 4,
 "nbformat_minor": 0
}