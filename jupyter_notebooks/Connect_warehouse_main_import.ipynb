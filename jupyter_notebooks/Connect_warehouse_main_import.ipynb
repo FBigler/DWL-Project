{
 "cells": [
  {
   "cell_type": "code",
   "execution_count": 49,
   "outputs": [],
   "source": [
    "import psycopg2\n",
    "import psycopg2.extras as extras\n",
    "import config_warehouse as creds\n",
    "import config_lake as creds_lake\n",
    "import pandas as pd\n",
    "import numpy as np\n",
    "from psycopg2.extensions import register_adapter, AsIs\n",
    "\n",
    "psycopg2.extensions.register_adapter(np.int64, psycopg2._psycopg.AsIs) #allow int64 for db import"
   ],
   "metadata": {
    "collapsed": false,
    "pycharm": {
     "name": "#%%\n"
    }
   }
  },
  {
   "cell_type": "code",
   "execution_count": 50,
   "outputs": [
    {
     "name": "stdout",
     "output_type": "stream",
     "text": [
      "('measuringpointscoordinates',)\n",
      "('ZIPCode',)\n",
      "('RealTimeStatus',)\n",
      "('electriccars21',)\n",
      "('electricityproductionplants',)\n",
      "('measuringpoints',)\n",
      "('chargingstations_static',)\n",
      "('chargingstations_locations',)\n"
     ]
    }
   ],
   "source": [
    "# Show Tables\n",
    "\n",
    "def Show_tables():\n",
    "    try:\n",
    "        # DB connection\n",
    "        conn_string = \"host=\"+ creds_lake.PGHOST +\" port=\"+ \"5432\" +\" dbname=\"+ creds_lake.PGDATABASE +\" user=\" + creds_lake.PGUSER +\" password=\"+ creds_lake.PGPASSWORD\n",
    "        conn = psycopg2.connect(conn_string)\n",
    "        cur = conn.cursor()\n",
    "        # Select data\n",
    "        cur.execute(\"\"\"SELECT table_name FROM information_schema.tables\n",
    "        WHERE table_schema = 'public'\"\"\")\n",
    "        records = cur.fetchall()\n",
    "        #print(records)\n",
    "        #print(type(records[0][0]))\n",
    "        for item in records:\n",
    "            print(item)\n",
    "    except (Exception, psycopg2.DatabaseError) as error:\n",
    "        print(error)\n",
    "    finally:\n",
    "        if conn is not None:\n",
    "            conn.close()\n",
    "\n",
    "Show_tables()"
   ],
   "metadata": {
    "collapsed": false,
    "pycharm": {
     "name": "#%%\n"
    }
   }
  },
  {
   "cell_type": "code",
   "execution_count": 65,
   "outputs": [
    {
     "name": "stdout",
     "output_type": "stream",
     "text": [
      "Connected!\n",
      "Tables created\n"
     ]
    }
   ],
   "source": [
    "def create_tables():\n",
    "    \"\"\" create tables in the PostgreSQL database\"\"\"\n",
    "    commands = (\n",
    "        \"\"\"\n",
    "        CREATE TABLE IF NOT EXISTS Electric_cars_21 (\n",
    "            ID SERIAL PRIMARY KEY,\n",
    "            Vehicle_group VARCHAR(255) NOT NULL,\n",
    "            Year_of_first_registration VARCHAR(255) NOT NULL,\n",
    "            Fuel VARCHAR(255) NOT NULL,\n",
    "            Count_2021 Int NOT NULL,\n",
    "            Canton_abbreviation VARCHAR(255) NOT NULL,\n",
    "            FOREIGN KEY (Canton_abbreviation) REFERENCES regions_and_cantons(canton_abbreviation))\n",
    "        \"\"\",\n",
    "        \"\"\"\n",
    "        CREATE TABLE IF NOT EXISTS Measuring_points (\n",
    "            Nr_measuring_point Int PRIMARY KEY,\n",
    "            Point_name VARCHAR(255) NOT NULL,\n",
    "            Status VARCHAR(255) NOT NULL,\n",
    "            Type_point VARCHAR(255) NOT NULL,\n",
    "            Road VARCHAR(255) NOT NULL,\n",
    "            Canton_abbreviation CHAR(2) NOT NULL,\n",
    "            FOREIGN KEY (Canton_abbreviation) REFERENCES regions_and_cantons(canton_abbreviation))\n",
    "        \"\"\",\n",
    "        \"\"\"\n",
    "        CREATE TABLE IF NOT EXISTS Traffic_measurement_21 (\n",
    "            Nr Int PRIMARY KEY,\n",
    "            Nr_measuring_point Int NOT NULL,\n",
    "            Annual_average Int,\n",
    "            FOREIGN KEY (Nr_measuring_point) REFERENCES Measuring_points(Nr_measuring_point))\n",
    "        \"\"\",\n",
    "        \"\"\"\n",
    "        CREATE TABLE IF NOT EXISTS Measuring_points_coordinates (\n",
    "            Nr Serial PRIMARY KEY,\n",
    "            Nr_measuring_point Int NOT NULL,\n",
    "            Coordinate_east Int NOT NULL,\n",
    "            Coordinate_nord Int NOT NULL,\n",
    "            FOREIGN KEY (Nr_measuring_point) REFERENCES Measuring_points(Nr_measuring_point))\n",
    "        \"\"\",\n",
    "        \"\"\"\n",
    "        CREATE TABLE IF NOT EXISTS Main_categories_electricity_production (\n",
    "            ID_main_category Int PRIMARY KEY,\n",
    "            Name_main_category VARCHAR(255) NOT NULL)\n",
    "        \"\"\",\n",
    "        \"\"\"\n",
    "        CREATE TABLE IF NOT EXISTS Sub_categories_electricity_production (\n",
    "            ID_sub_category Int PRIMARY KEY,\n",
    "            Name_sub_category VARCHAR(255) NOT NULL,\n",
    "            ID_main_category Int NOT NULL,\n",
    "            FOREIGN KEY (ID_main_category)\n",
    "            REFERENCES Main_categories_electricity_production(ID_main_category))\n",
    "        \"\"\",\n",
    "        \"\"\"\n",
    "        CREATE TABLE IF NOT EXISTS Electricity_production_plants (\n",
    "            xtf_id Int PRIMARY KEY,\n",
    "            ID_postal_code Int NOT NULL,\n",
    "            Municipality VARCHAR(255) NOT NULL,\n",
    "            Canton_abbreviation CHAR(2) NOT NULL,\n",
    "            ID_sub_category INT NOT NULL,\n",
    "            Total_power Int NOT NULL,\n",
    "            FOREIGN KEY (ID_postal_code) REFERENCES Postal_codes(ID_postal_code),\n",
    "            FOREIGN KEY (Canton_abbreviation) REFERENCES regions_and_cantons(canton_abbreviation),\n",
    "            FOREIGN KEY (ID_sub_category)\n",
    "            REFERENCES Sub_categories_electricity_production(ID_sub_category))\n",
    "        \"\"\", #FOREIGN KEY (ID_postal_code) REFERENCES Postal_codes(ID_postal_code),\n",
    "        \"\"\"\n",
    "        CREATE TABLE IF NOT EXISTS Operators (\n",
    "            Operator_ID VARCHAR(255) PRIMARY KEY,\n",
    "            Name_operator VARCHAR(255) NOT NULL)\n",
    "        \"\"\",\n",
    "        \"\"\"\n",
    "        CREATE TABLE IF NOT EXISTS Charging_stations_occupancy (\n",
    "            Evse_ID VARCHAR(255) PRIMARY KEY,\n",
    "            Daily_occupancy INT NOT NULL,\n",
    "            Daily_kwH INT NOT NULL,\n",
    "            Daily_cars INT NOT NULL,\n",
    "            Day_id INT NOT NULL)\n",
    "        \"\"\",\n",
    "        \"\"\"\n",
    "        CREATE TABLE IF NOT EXISTS Charging_stations_static (\n",
    "            Charging_station_ID VARCHAR(255) PRIMARY KEY,\n",
    "            Operator_ID VARCHAR(255) NOT NULL,\n",
    "            Evse_ID VARCHAR(255) NOT NULL,\n",
    "            City VARCHAR(255) NOT NULL,\n",
    "            Street VARCHAR(255) NOT NULL,\n",
    "            Power INT NOT NULL,\n",
    "            ID_postal_code Int NOT NULL,\n",
    "            Canton_abbreviation CHAR(2) NOT NULL,\n",
    "            FOREIGN KEY (Operator_ID) REFERENCES Operators(Operator_ID),\n",
    "            FOREIGN KEY (Evse_ID) REFERENCES Charging_stations_occupancy(Evse_ID),\n",
    "            FOREIGN KEY (ID_postal_code) REFERENCES Postal_codes(ID_postal_code),\n",
    "            FOREIGN KEY (Canton_abbreviation) REFERENCES regions_and_cantons(canton_abbreviation))\n",
    "        \"\"\",\n",
    "        \"\"\"\n",
    "        CREATE TABLE IF NOT EXISTS Chargin_stations_location (\n",
    "            Location_ID Int PRIMARY KEY,\n",
    "            Charging_station_ID VARCHAR(255) NOT NULL,\n",
    "            Coordinate_east Int NOT NULL,\n",
    "            Coordinate_nord Int NOT NULL,\n",
    "            FOREIGN KEY (Charging_station_ID) REFERENCES Charging_stations_static(Charging_station_ID))\n",
    "        \"\"\"\n",
    "    )\n",
    "\n",
    "    #  PRIMARY KEY (Postal_code)\n",
    "\n",
    "    try:\n",
    "        # Set up a connection to the postgres server.\n",
    "        conn_string = \"host=\"+ creds.PGHOST +\" port=\"+ \"5432\" +\" dbname=\"+ creds.PGDATABASE +\" user=\" + creds.PGUSER \\\n",
    "                  +\" password=\"+ creds.PGPASSWORD\n",
    "\n",
    "        conn = psycopg2.connect(conn_string)\n",
    "        print(\"Connected!\")\n",
    "\n",
    "        # Create a cursor object\n",
    "        cursor = conn.cursor()\n",
    "\n",
    "        # Create tables\n",
    "        for command in commands:\n",
    "            cursor.execute(command)\n",
    "        print('Tables created')\n",
    "\n",
    "        # Import data from dataframe\n",
    "        #execute_values(conn, fetch_data_plz(), 'Postal_codes')\n",
    "\n",
    "        # close communication with the PostgreSQL database server\n",
    "        cursor.close()\n",
    "        # commit the changes\n",
    "        conn.commit()\n",
    "    except (Exception, psycopg2.DatabaseError) as error:\n",
    "        print(error)\n",
    "    finally:\n",
    "        if conn is not None:\n",
    "            conn.close()\n",
    "\n",
    "create_tables()"
   ],
   "metadata": {
    "collapsed": false,
    "pycharm": {
     "name": "#%%\n"
    }
   }
  },
  {
   "cell_type": "code",
   "execution_count": 52,
   "outputs": [],
   "source": [
    "# Inserting dataframe into database\n",
    "def execute_values(conn, df, table):\n",
    "    # Set up a connection to the warehouse\n",
    "    conn_string = \"host=\"+ creds.PGHOST +\" port=\"+ \"5432\" +\" dbname=\"+ creds.PGDATABASE +\" user=\" + creds.PGUSER \\\n",
    "              +\" password=\"+ creds.PGPASSWORD\n",
    "\n",
    "    conn = psycopg2.connect(conn_string)\n",
    "    print(\"Connected!\")\n",
    "\n",
    "    # Create a cursor object\n",
    "    cursor = conn.cursor()\n",
    "\n",
    "    # Set up data\n",
    "    tuples = [tuple(x) for x in df.to_numpy()]\n",
    "    cols = ','.join(list(df.columns))\n",
    "    # SQL query to execute\n",
    "    query = \"INSERT INTO %s(%s) VALUES %%s\" % (table, cols)\n",
    "    cur = conn.cursor()\n",
    "    try:\n",
    "        extras.execute_values(cur, query, tuples)\n",
    "        conn.commit()\n",
    "    except (Exception, psycopg2.DatabaseError) as error:\n",
    "        print(\"Error: %s\" % error)\n",
    "        conn.rollback()\n",
    "        cur.close()\n",
    "        return 1\n",
    "    print(\"the dataframe is inserted\")\n",
    "    cur.close()"
   ],
   "metadata": {
    "collapsed": false,
    "pycharm": {
     "name": "#%%\n"
    }
   }
  },
  {
   "cell_type": "code",
   "execution_count": 66,
   "outputs": [
    {
     "name": "stdout",
     "output_type": "stream",
     "text": [
      "['measuringpointscoordinates', 'ZIPCode', 'RealTimeStatus', 'electriccars21', 'electricityproductionplants', 'measuringpoints', 'chargingstations_static', 'chargingstations_locations']\n",
      "Connected!\n",
      "the dataframe is inserted\n",
      "Connected!\n",
      "the dataframe is inserted\n"
     ]
    },
    {
     "name": "stderr",
     "output_type": "stream",
     "text": [
      "<ipython-input-66-9b6cf2e64afb>:77: SettingWithCopyWarning: \n",
      "A value is trying to be set on a copy of a slice from a DataFrame.\n",
      "Try using .loc[row_indexer,col_indexer] = value instead\n",
      "\n",
      "See the caveats in the documentation: https://pandas.pydata.org/pandas-docs/stable/user_guide/indexing.html#returning-a-view-versus-a-copy\n",
      "  df_selected['Canton_abbreviation'] = df_selected['Canton_abbreviation'].map(dict_cantons)\n",
      "<ipython-input-66-9b6cf2e64afb>:78: SettingWithCopyWarning: \n",
      "A value is trying to be set on a copy of a slice from a DataFrame.\n",
      "Try using .loc[row_indexer,col_indexer] = value instead\n",
      "\n",
      "See the caveats in the documentation: https://pandas.pydata.org/pandas-docs/stable/user_guide/indexing.html#returning-a-view-versus-a-copy\n",
      "  df_selected['Canton_abbreviation'] = df_selected['Canton_abbreviation'].astype(str)\n"
     ]
    },
    {
     "name": "stdout",
     "output_type": "stream",
     "text": [
      "Connected!\n",
      "the dataframe is inserted\n"
     ]
    },
    {
     "name": "stderr",
     "output_type": "stream",
     "text": [
      "<ipython-input-66-9b6cf2e64afb>:121: SettingWithCopyWarning: \n",
      "A value is trying to be set on a copy of a slice from a DataFrame.\n",
      "Try using .loc[row_indexer,col_indexer] = value instead\n",
      "\n",
      "See the caveats in the documentation: https://pandas.pydata.org/pandas-docs/stable/user_guide/indexing.html#returning-a-view-versus-a-copy\n",
      "  df_selected['ID_sub_category'] = df_selected['ID_sub_category'].map(dict_subcat)\n"
     ]
    },
    {
     "name": "stdout",
     "output_type": "stream",
     "text": [
      "Warehouse connected!\n",
      "<class 'pandas.core.frame.DataFrame'>\n",
      "RangeIndex: 3488 entries, 0 to 3487\n",
      "Data columns (total 3 columns):\n",
      " #   Column  Non-Null Count  Dtype \n",
      "---  ------  --------------  ----- \n",
      " 0   0       3488 non-null   int32 \n",
      " 1   1       3488 non-null   int32 \n",
      " 2   2       3488 non-null   object\n",
      "dtypes: int32(2), object(1)\n",
      "memory usage: 54.6+ KB\n",
      "None\n",
      "before: 141188\n",
      "after: 141151\n",
      "0                 2071.0\n",
      "1                  349.0\n",
      "2                  513.0\n",
      "3                 1551.0\n",
      "4                 1824.0\n",
      "                   ...  \n",
      "141184            3139.0\n",
      "141185            2424.0\n",
      "141186             452.0\n",
      "141187            3360.0\n",
      "id_postal_code       NaN\n",
      "Name: id_postal_code, Length: 141152, dtype: float64\n"
     ]
    },
    {
     "name": "stderr",
     "output_type": "stream",
     "text": [
      "<ipython-input-66-9b6cf2e64afb>:143: SettingWithCopyWarning: \n",
      "A value is trying to be set on a copy of a slice from a DataFrame.\n",
      "Try using .loc[row_indexer,col_indexer] = value instead\n",
      "\n",
      "See the caveats in the documentation: https://pandas.pydata.org/pandas-docs/stable/user_guide/indexing.html#returning-a-view-versus-a-copy\n",
      "  df_selected['id_postal_code'] = df_selected['id_postal_code'].map(dict_postal_codes)\n",
      "<ipython-input-66-9b6cf2e64afb>:146: SettingWithCopyWarning: \n",
      "A value is trying to be set on a copy of a slice from a DataFrame\n",
      "\n",
      "See the caveats in the documentation: https://pandas.pydata.org/pandas-docs/stable/user_guide/indexing.html#returning-a-view-versus-a-copy\n",
      "  df_selected.dropna(inplace=True)\n",
      "C:\\Users\\levin\\anaconda3\\lib\\site-packages\\pandas\\core\\indexing.py:692: SettingWithCopyWarning: \n",
      "A value is trying to be set on a copy of a slice from a DataFrame\n",
      "\n",
      "See the caveats in the documentation: https://pandas.pydata.org/pandas-docs/stable/user_guide/indexing.html#returning-a-view-versus-a-copy\n",
      "  iloc._setitem_with_indexer(indexer, value, self.name)\n"
     ]
    },
    {
     "name": "stdout",
     "output_type": "stream",
     "text": [
      "Connected!\n",
      "the dataframe is inserted\n",
      "Connected!\n",
      "the dataframe is inserted\n",
      "Connected!\n",
      "Error: integer out of range\n",
      "\n"
     ]
    }
   ],
   "source": [
    "# Fetch all table's data\n",
    "\n",
    "tables_lake = ['Measuring_points_coordinates', 'postal_codes', 'charging_stations_occupancy',\n",
    "          'electric_cars_21', 'electricity_production_plants', 'measuring_points', 'charging_stations_static', 'charging_stations_locations'] #tables lake with warehouse name's!\n",
    "\n",
    "def fetch_all_data():\n",
    "    try:\n",
    "        # DB connection\n",
    "        conn_string = \"host=\"+ creds_lake.PGHOST +\" port=\"+ \"5432\" +\" dbname=\"+ creds_lake.PGDATABASE +\" user=\" + creds_lake.PGUSER +\" password=\"+ creds_lake.PGPASSWORD\n",
    "        conn = psycopg2.connect(conn_string)\n",
    "        cur = conn.cursor()\n",
    "\n",
    "        # Select table names\n",
    "        cur.execute(\"\"\"SELECT table_name FROM information_schema.tables\n",
    "        WHERE table_schema = 'public'\"\"\")\n",
    "        records = cur.fetchall()\n",
    "        records_list = []\n",
    "        for item in records:\n",
    "            item = str(item)\n",
    "            records_list.append(item[2:-3])\n",
    "        print(records_list)\n",
    "\n",
    "        # Select data\n",
    "        for table_name in range(0, len(records_list)):\n",
    "            if records_list[table_name] == 'ZIPCode' or records_list[table_name] == 'RealTimeStatus' or \\\n",
    "                records_list[table_name] == 'measuringpoints':\n",
    "                continue\n",
    "            else:\n",
    "                cur.execute((\"\"\" SELECT * FROM {}\"\"\").format(records_list[table_name])) # passing string without quotation marks\n",
    "                df_records = cur.fetchall()\n",
    "                df = pd.DataFrame(df_records)\n",
    "                #print(df)\n",
    "\n",
    "                if records_list[table_name] == 'measuringpointscoordinates':\n",
    "                    df_selected = df.copy()\n",
    "                    #Name columns\n",
    "                    df_selected.columns = ['Nr_measuring_point','Status_BGDI','Point_name',\n",
    "                                           'Canton_abbreviation','Road', 'Coordinate_East', 'Coordinate_Nord', 'Status', 'Type_Point', 'Number_of_Lanes']\n",
    "                    #Filter needed rows\n",
    "                    df_selected = df_selected.loc[df_selected['Status'] == 'in Betrieb']\n",
    "                    df_selected = df_selected.loc[df_selected['Type_Point'] != 'nur Online']\n",
    "\n",
    "                    #Dataframe Measuring_points_coordinates set up\n",
    "                    df_coordinates = df_selected[['Nr_measuring_point', 'Coordinate_East',\n",
    "                                                  'Coordinate_Nord',]]\n",
    "\n",
    "                    #Dataframe Measuring_points; Drop not needed columns\n",
    "                    df_selected.drop(['Status_BGDI','Coordinate_East','Coordinate_Nord','Number_of_Lanes'], axis=1, inplace=True)\n",
    "\n",
    "                    # import to warehouse\n",
    "                    execute_values(conn, df_selected, 'Measuring_points')\n",
    "                    execute_values(conn, df_coordinates, 'Measuring_points_coordinates')\n",
    "                    #print(df_selected)\n",
    "\n",
    "                elif records_list[table_name] == 'realtimestatus':\n",
    "                    continue\n",
    "\n",
    "                elif records_list[table_name] == 'electriccars21':\n",
    "                    #Name columns\n",
    "                    df.columns = ['id','Canton_abbreviation','Vehicle_group',\n",
    "                                           'Year_of_first_registration','Fuel', 'Count_2021']\n",
    "                    #Filter needed rows\n",
    "                    df_selected = df[(df['Canton_abbreviation'] != 'Switzerland') &\n",
    "                                     (df['Canton_abbreviation'] != 'Confederation')]\n",
    "\n",
    "                    #Map Canton names with Canton Abbreviations\n",
    "                    dict_cantons = {'Zürich' : 'ZH', 'Bern' : 'BE', 'Luzern' : 'LU', 'Uri' : 'UR',\n",
    "                                    'Schwyz' : 'SZ', 'Obwalden' : 'OW', 'Nidwalden' : 'NW',\n",
    "                                    'Glarus' : 'GL', 'Zug' : 'ZG', 'Fribourg' : 'FR',\n",
    "                                    'Solothurn' : 'SO', 'Basel-Stadt' : 'BS', 'Basel-Landschaft' : 'BL',\n",
    "                                    'Schaffhausen' : 'SH', 'Appenzell-Ausserrhoden' : 'AR',\n",
    "                                    'Appenzell-Innerrhoden' : 'AI', 'Sankt Gallen' : 'SG',\n",
    "                                    'Graubünden' : 'GR', 'Aargau' : 'AG', 'Thurgau' : 'TG',\n",
    "                                    'Ticino' : 'TI', 'Vaud' : 'VD', 'Valais' : 'VS', 'Neuchâtel' : 'NE',\n",
    "                                    'Genève' : 'GE', 'Jura' : 'JU'}\n",
    "\n",
    "                    df_selected['Canton_abbreviation'] = df_selected['Canton_abbreviation'].map(dict_cantons)\n",
    "                    df_selected['Canton_abbreviation'] = df_selected['Canton_abbreviation'].astype(str)\n",
    "                    #print(df_selected['Canton_abbreviation'])\n",
    "                    #print(df_selected.info())\n",
    "\n",
    "                    # import to warehouse\n",
    "                    execute_values(conn, df_selected, 'Electric_cars_21')\n",
    "\n",
    "                elif records_list[table_name] == 'electricityproductionplants':\n",
    "                    # DFs main/sub categories\n",
    "                    main_cat_dict = {'ID_main_category' : [1,2,3,4], 'Name_main_category' : ['Fossil fuel',\n",
    "                                                                                             'Hydroelectric power',\n",
    "                                                                                             'Nuclear energy',\n",
    "                                                                                             'Other renewable energies']}\n",
    "                    df_selected_maincat = pd.DataFrame.from_dict(main_cat_dict)\n",
    "                    sub_cat_dict = {'ID_sub_category' : [1,2,3,4,5,6,7,8], 'Name_sub_category' : ['Biomass',\n",
    "                                                                                                  'Crude oil',\n",
    "                                                                                                  'Hydroelectric power',\n",
    "                                                                                                  'Natural gas',\n",
    "                                                                                                  'Nuclear energy',\n",
    "                                                                                                  'Photovoltaic',\n",
    "                                                                                                  'Waste',\n",
    "                                                                                                  'Wind energy'],\n",
    "                                    'ID_main_category' : [4,1,2,1,3,4,4,4]}\n",
    "                    df_selected_subcat = pd.DataFrame.from_dict(sub_cat_dict)\n",
    "\n",
    "                    # DF Electricity production plants\n",
    "                    # Rename column names / select needed columns\n",
    "\n",
    "                    df.columns = ['xtf_id', 'id_postal_code', 'Municipality', 'Canton_abbreviation','BoO', 'MC',\n",
    "                                  'ID_sub_category', 'IP','total_power']\n",
    "\n",
    "\n",
    "                    df_selected = df[['xtf_id', 'id_postal_code', 'Municipality', 'Canton_abbreviation',\n",
    "                                  'ID_sub_category', 'total_power']]\n",
    "\n",
    "                    # Map subcategories\n",
    "                    dict_subcat = {'Biomass' : 1,                                                                                                'Crude oil' : 2,\n",
    "                                   'Hydroelectric power' : 3,\n",
    "                                   'Natural gas' : 4,\n",
    "                                   'Nuclear energy' : 5,\n",
    "                                   'Photovoltaic' : 6,\n",
    "                                   'Waste' : 7,\n",
    "                                   'Wind energy' : 8}\n",
    "                    df_selected['ID_sub_category'] = df_selected['ID_sub_category'].map(dict_subcat)\n",
    "\n",
    "                    # Map postal code\n",
    "                    try:\n",
    "\n",
    "                        # Set up a connection to the warehouse\n",
    "                        conn_string = \"host=\"+ creds.PGHOST +\" port=\"+ \"5432\" +\" dbname=\"+ creds.PGDATABASE +\" user=\" + creds.PGUSER \\\n",
    "                                  +\" password=\"+ creds.PGPASSWORD\n",
    "                        conn = psycopg2.connect(conn_string)\n",
    "                        print(\"Warehouse connected!\")\n",
    "\n",
    "                        # Create a cursor object\n",
    "                        cursor = conn.cursor()\n",
    "\n",
    "                        # Catch Postal Codes\n",
    "                        cursor.execute((\"\"\" SELECT * FROM Postal_codes\"\"\"))\n",
    "                        df_records = cursor.fetchall()\n",
    "                        df_postal_codes = pd.DataFrame(df_records, dtype='int')\n",
    "                        #df_postal_codes = df_postal_codes.astype(int)\n",
    "                        print(df_postal_codes.info())\n",
    "                        # Mapping\n",
    "                        dict_postal_codes = df_postal_codes.set_index([1]).to_dict()[0]\n",
    "                        df_selected['id_postal_code'] = df_selected['id_postal_code'].map(dict_postal_codes)\n",
    "                        #print(df_selected['id_postal_code'].isnull())\n",
    "                        print('before:', len(df_selected))\n",
    "                        df_selected.dropna(inplace=True)\n",
    "                         #(id_postal_code)=(4147)\n",
    "                        print('after:', len(df_selected))\n",
    "                        df_selected.loc['id_postal_code'] = df_selected['id_postal_code'].astype('int8')\n",
    "                        print(df_selected['id_postal_code'])\n",
    "\n",
    "                    except psycopg2.Error as e:\n",
    "                        print (e)\n",
    "\n",
    "                    # import to warehouse\n",
    "                    execute_values(conn, df_selected_maincat, 'Main_categories_electricity_production')\n",
    "                    execute_values(conn, df_selected_subcat, 'Sub_categories_electricity_production')\n",
    "                    execute_values(conn, df_selected, 'Electricity_production_plants')\n",
    "\n",
    "                elif records_list[table_name] == 'measuringpoints':\n",
    "                    #Keep needed columns by index\n",
    "                    df_selected = df.iloc[:,[0,1,18]]\n",
    "\n",
    "                    #Name columns\n",
    "                    df_selected.columns = ['Nr', 'Nr_measuring_point','Annual_average']\n",
    "\n",
    "                    # import to warehouse\n",
    "                    execute_values(conn, df_selected, 'Traffic_measurement_21')\n",
    "\n",
    "                elif records_list[table_name] == 'chargingstations_static':\n",
    "                    continue\n",
    "\n",
    "                elif records_list[table_name] == 'chargingstations_locations':\n",
    "                    continue\n",
    "\n",
    "                else:\n",
    "                    continue\n",
    "\n",
    "    except (Exception, psycopg2.DatabaseError) as error:\n",
    "        print(error)\n",
    "\n",
    "    finally:\n",
    "        if conn is not None:\n",
    "            conn.close()\n",
    "\n",
    "fetch_all_data()"
   ],
   "metadata": {
    "collapsed": false,
    "pycharm": {
     "name": "#%%\n"
    }
   }
  },
  {
   "cell_type": "code",
   "execution_count": 53,
   "outputs": [],
   "source": [],
   "metadata": {
    "collapsed": false,
    "pycharm": {
     "name": "#%%\n"
    }
   }
  },
  {
   "cell_type": "code",
   "execution_count": 54,
   "outputs": [
    {
     "name": "stdout",
     "output_type": "stream",
     "text": [
      "Connected!\n"
     ]
    }
   ],
   "source": [
    "# Set up a connection to the warehouse\n",
    "conn_string = \"host=\"+ creds.PGHOST +\" port=\"+ \"5432\" +\" dbname=\"+ creds.PGDATABASE +\" user=\" + creds.PGUSER \\\n",
    "          +\" password=\"+ creds.PGPASSWORD\n",
    "\n",
    "conn = psycopg2.connect(conn_string)\n",
    "print(\"Connected!\")\n",
    "\n",
    "# Create a cursor object\n",
    "cursor = conn.cursor()\n",
    "\n",
    "cursor.execute((\"\"\" SELECT * FROM Postal_codes\"\"\"))\n",
    "df_records = cursor.fetchall()\n",
    "df_postal_codes = pd.DataFrame(df_records)\n",
    "df_postal_codes\n",
    "#df_postal_codes.info()\n",
    "conn.close()"
   ],
   "metadata": {
    "collapsed": false,
    "pycharm": {
     "name": "#%%\n"
    }
   }
  },
  {
   "cell_type": "code",
   "execution_count": 55,
   "outputs": [
    {
     "data": {
      "text/plain": "         0     1   2\n3487  3488  1071  VD",
      "text/html": "<div>\n<style scoped>\n    .dataframe tbody tr th:only-of-type {\n        vertical-align: middle;\n    }\n\n    .dataframe tbody tr th {\n        vertical-align: top;\n    }\n\n    .dataframe thead th {\n        text-align: right;\n    }\n</style>\n<table border=\"1\" class=\"dataframe\">\n  <thead>\n    <tr style=\"text-align: right;\">\n      <th></th>\n      <th>0</th>\n      <th>1</th>\n      <th>2</th>\n    </tr>\n  </thead>\n  <tbody>\n    <tr>\n      <th>3487</th>\n      <td>3488</td>\n      <td>1071</td>\n      <td>VD</td>\n    </tr>\n  </tbody>\n</table>\n</div>"
     },
     "execution_count": 55,
     "metadata": {},
     "output_type": "execute_result"
    }
   ],
   "source": [
    "df_postal_codes[df_postal_codes[0] == 3488]"
   ],
   "metadata": {
    "collapsed": false,
    "pycharm": {
     "name": "#%%\n"
    }
   }
  },
  {
   "cell_type": "code",
   "execution_count": 56,
   "outputs": [
    {
     "data": {
      "text/plain": "{5303: 1,\n 6452: 662,\n 8301: 3,\n 8707: 4,\n 6928: 5,\n 3045: 6,\n 4106: 7,\n 1215: 8,\n 7276: 9,\n 5412: 10,\n 4144: 11,\n 8331: 12,\n 5210: 13,\n 5504: 14,\n 9201: 15,\n 1288: 16,\n 5317: 17,\n 8081: 18,\n 8752: 19,\n 6657: 20,\n 1782: 21,\n 8045: 22,\n 1077: 23,\n 3672: 24,\n 4411: 25,\n 6670: 26,\n 7212: 27,\n 4613: 28,\n 6908: 29,\n 7455: 30,\n 3506: 31,\n 8842: 32,\n 4055: 33,\n 6513: 34,\n 8523: 35,\n 9471: 36,\n 3930: 37,\n 3633: 38,\n 7106: 39,\n 3602: 40,\n 6145: 41,\n 7182: 42,\n 8886: 43,\n 1899: 44,\n 6383: 45,\n 7168: 46,\n 4244: 47,\n 9475: 48,\n 7202: 49,\n 3014: 50,\n 5706: 51,\n 5636: 52,\n 1055: 53,\n 7180: 54,\n 1117: 55,\n 1607: 56,\n 8637: 57,\n 1028: 58,\n 8713: 59,\n 6804: 60,\n 6780: 61,\n 6402: 62,\n 5644: 63,\n 3036: 64,\n 5242: 65,\n 1580: 66,\n 4314: 67,\n 1996: 68,\n 6052: 69,\n 8475: 70,\n 8124: 71,\n 4304: 72,\n 6577: 73,\n 6475: 74,\n 1589: 75,\n 3792: 76,\n 4229: 77,\n 1945: 78,\n 6454: 79,\n 1627: 80,\n 3600: 81,\n 7451: 82,\n 5326: 83,\n 1377: 84,\n 4584: 85,\n 6514: 86,\n 9622: 87,\n 3904: 88,\n 3801: 89,\n 8225: 90,\n 8612: 91,\n 1724: 92,\n 7460: 93,\n 7502: 94,\n 4652: 95,\n 1673: 96,\n 3071: 97,\n 8314: 98,\n 4463: 99,\n 5314: 100,\n 4003: 101,\n 3556: 102,\n 3935: 103,\n 1037: 104,\n 7424: 105,\n 3553: 106,\n 1044: 107,\n 9243: 108,\n 8892: 109,\n 3020: 110,\n 1988: 111,\n 7243: 112,\n 8166: 113,\n 9608: 114,\n 6343: 115,\n 1986: 116,\n 1284: 117,\n 7247: 118,\n 4018: 119,\n 7050: 120,\n 3772: 121,\n 3067: 122,\n 4458: 123,\n 4464: 124,\n 1708: 125,\n 6204: 126,\n 8916: 127,\n 3967: 128,\n 9327: 129,\n 8526: 130,\n 1732: 131,\n 7215: 132,\n 5732: 133,\n 8498: 134,\n 3145: 135,\n 3297: 136,\n 5108: 137,\n 8402: 138,\n 4621: 139,\n 4912: 140,\n 3770: 141,\n 2916: 142,\n 3782: 143,\n 9542: 144,\n 2414: 145,\n 8424: 146,\n 6525: 147,\n 5318: 148,\n 4117: 149,\n 6011: 150,\n 6506: 151,\n 8034: 152,\n 6263: 153,\n 1338: 154,\n 6835: 155,\n 4005: 156,\n 2555: 157,\n 4032: 158,\n 1731: 159,\n 6981: 160,\n 3991: 161,\n 2006: 162,\n 6517: 163,\n 7304: 164,\n 9204: 165,\n 5610: 166,\n 8017: 167,\n 6333: 168,\n 1346: 169,\n 1776: 170,\n 7463: 171,\n 3976: 172,\n 1946: 173,\n 8273: 174,\n 2538: 175,\n 3325: 176,\n 1025: 177,\n 3857: 178,\n 2208: 179,\n 3812: 180,\n 6705: 181,\n 1124: 182,\n 5512: 183,\n 6682: 184,\n 2024: 185,\n 3007: 186,\n 3763: 187,\n 1228: 188,\n 6464: 189,\n 5628: 190,\n 1358: 191,\n 6914: 192,\n 8640: 3082,\n 2012: 194,\n 3903: 195,\n 8280: 196,\n 7742: 197,\n 7113: 198,\n 1172: 199,\n 8783: 200,\n 5632: 201,\n 8121: 202,\n 6901: 203,\n 8003: 204,\n 2947: 205,\n 8553: 206,\n 6303: 207,\n 3037: 208,\n 6604: 209,\n 8925: 210,\n 1329: 211,\n 8194: 212,\n 6863: 213,\n 6974: 214,\n 6803: 215,\n 1265: 216,\n 9523: 217,\n 9515: 218,\n 7437: 219,\n 4417: 220,\n 6710: 221,\n 3253: 222,\n 9533: 223,\n 1470: 224,\n 3428: 225,\n 6963: 226,\n 9203: 227,\n 1273: 228,\n 1144: 229,\n 3657: 230,\n 1262: 231,\n 1985: 232,\n 4442: 233,\n 1183: 234,\n 2516: 235,\n 8092: 236,\n 1291: 237,\n 8405: 238,\n 1515: 239,\n 3902: 240,\n 6056: 241,\n 4552: 242,\n 6390: 243,\n 9245: 244,\n 8127: 245,\n 6558: 246,\n 3771: 247,\n 9326: 248,\n 1312: 249,\n 9450: 250,\n 4809: 251,\n 2825: 252,\n 1020: 253,\n 1527: 254,\n 9050: 255,\n 3360: 256,\n 8104: 257,\n 3622: 258,\n 7141: 259,\n 8855: 260,\n 6636: 261,\n 1357: 262,\n 1345: 263,\n 7200: 264,\n 5313: 265,\n 1213: 266,\n 1019: 267,\n 2364: 268,\n 1136: 269,\n 3032: 270,\n 7326: 271,\n 6033: 272,\n 1083: 273,\n 4002: 274,\n 8400: 275,\n 4010: 276,\n 1092: 277,\n 3532: 278,\n 6527: 279,\n 2052: 280,\n 1114: 281,\n 5235: 282,\n 3618: 283,\n 1266: 284,\n 9016: 285,\n 1974: 286,\n 3635: 287,\n 6633: 288,\n 7128: 289,\n 8117: 290,\n 7504: 291,\n 2087: 292,\n 6144: 293,\n 9465: 294,\n 9410: 295,\n 4222: 296,\n 6152: 297,\n 4562: 298,\n 3752: 299,\n 1112: 300,\n 7186: 301,\n 6992: 302,\n 7482: 303,\n 6694: 304,\n 8021: 305,\n 2338: 306,\n 9212: 307,\n 1354: 308,\n 3367: 309,\n 7176: 310,\n 7302: 311,\n 3864: 312,\n 1027: 313,\n 8015: 314,\n 1417: 315,\n 7517: 316,\n 8856: 317,\n 3725: 318,\n 5050: 319,\n 8274: 320,\n 9100: 321,\n 4114: 322,\n 8047: 323,\n 4901: 324,\n 1429: 325,\n 4452: 326,\n 6182: 327,\n 6315: 328,\n 4243: 329,\n 8239: 330,\n 3536: 331,\n 3551: 332,\n 1824: 333,\n 1450: 334,\n 1257: 335,\n 3773: 336,\n 5432: 337,\n 1097: 338,\n 8080: 339,\n 5736: 340,\n 1756: 341,\n 6720: 342,\n 4148: 343,\n 6284: 344,\n 1486: 345,\n 4228: 346,\n 4245: 347,\n 3918: 348,\n 5082: 349,\n 3965: 350,\n 6242: 351,\n 1275: 352,\n 8132: 353,\n 8525: 354,\n 6719: 355,\n 8625: 356,\n 8049: 357,\n 8427: 358,\n 9205: 359,\n 2037: 360,\n 3946: 361,\n 6403: 362,\n 8183: 363,\n 1416: 364,\n 6078: 365,\n 2117: 366,\n 2946: 367,\n 7226: 368,\n 6673: 369,\n 7413: 370,\n 4226: 371,\n 3052: 372,\n 2952: 373,\n 2814: 374,\n 1310: 375,\n 2762: 376,\n 3920: 377,\n 3048: 378,\n 6772: 379,\n 3816: 380,\n 1308: 381,\n 3961: 382,\n 9405: 383,\n 9562: 384,\n 3623: 385,\n 3664: 386,\n 1803: 387,\n 1552: 388,\n 8872: 389,\n 4810: 390,\n 1856: 391,\n 8058: 392,\n 6524: 393,\n 3944: 394,\n 7063: 395,\n 2301: 396,\n 6865: 397,\n 4493: 398,\n 3974: 399,\n 3363: 400,\n 4009: 401,\n 8180: 402,\n 6074: 403,\n 7134: 404,\n 3046: 405,\n 2112: 406,\n 1184: 407,\n 1860: 408,\n 9126: 409,\n 3226: 410,\n 1042: 411,\n 3435: 412,\n 4017: 413,\n 9506: 414,\n 6548: 415,\n 6440: 416,\n 3254: 417,\n 2537: 418,\n 4917: 419,\n 4433: 420,\n 2501: 421,\n 1307: 422,\n 8784: 423,\n 1816: 424,\n 8878: 425,\n 1031: 426,\n 8108: 427,\n 1237: 428,\n 4402: 429,\n 2115: 430,\n 6362: 431,\n 6277: 432,\n 4657: 433,\n 6472: 434,\n 2613: 435,\n 3043: 436,\n 9526: 437,\n 6576: 438,\n 2068: 439,\n 1699: 440,\n 4112: 441,\n 9545: 442,\n 6045: 443,\n 3427: 444,\n 1912: 445,\n 4118: 446,\n 1692: 447,\n 1287: 448,\n 8415: 449,\n 3362: 450,\n 4533: 451,\n 4125: 452,\n 3423: 453,\n 6875: 454,\n 5222: 455,\n 5105: 456,\n 1095: 457,\n 6365: 458,\n 1529: 459,\n 4702: 460,\n 1565: 3448,\n 2510: 462,\n 5416: 463,\n 4315: 464,\n 3552: 465,\n 5225: 466,\n 4492: 467,\n 8040: 468,\n 7516: 469,\n 4502: 470,\n 4579: 471,\n 3756: 472,\n 2206: 473,\n 7082: 474,\n 6578: 475,\n 9044: 476,\n 5725: 477,\n 5464: 478,\n 4461: 479,\n 1678: 480,\n 6103: 481,\n 2902: 482,\n 4808: 483,\n 8722: 484,\n 6717: 485,\n 8589: 486,\n 8106: 487,\n 7558: 488,\n 4937: 489,\n 7155: 490,\n 3207: 491,\n 3302: 492,\n 1173: 493,\n 8126: 494,\n 3010: 495,\n 2016: 496,\n 2360: 497,\n 2722: 498,\n 4410: 499,\n 1538: 500,\n 7456: 501,\n 2072: 502,\n 1189: 503,\n 8951: 504,\n 3627: 505,\n 8501: 506,\n 5112: 507,\n 6443: 508,\n 3374: 509,\n 1148: 510,\n 3998: 511,\n 1279: 512,\n 3114: 513,\n 2714: 514,\n 8970: 515,\n 8847: 516,\n 3400: 517,\n 7411: 518,\n 1944: 519,\n 6987: 520,\n 1669: 521,\n 8200: 522,\n 6285: 523,\n 2813: 524,\n 2103: 525,\n 8772: 526,\n 8486: 527,\n 8165: 528,\n 6142: 529,\n 1424: 530,\n 9032: 531,\n 8802: 532,\n 5616: 533,\n 3263: 534,\n 3931: 535,\n 8889: 536,\n 1350: 537,\n 6294: 538,\n 3823: 539,\n 9573: 540,\n 7457: 541,\n 6010: 1199,\n 3206: 688,\n 8241: 544,\n 6387: 545,\n 4425: 546,\n 1440: 547,\n 8223: 548,\n 6231: 549,\n 3804: 550,\n 8606: 551,\n 3203: 552,\n 3658: 553,\n 6206: 554,\n 1475: 555,\n 3706: 556,\n 1523: 557,\n 8260: 558,\n 6599: 559,\n 8894: 560,\n 1737: 561,\n 9554: 562,\n 8322: 563,\n 6133: 564,\n 6978: 565,\n 6073: 566,\n 1794: 567,\n 9300: 568,\n 8624: 569,\n 3418: 570,\n 7444: 571,\n 1874: 572,\n 7240: 573,\n 8109: 574,\n 6027: 575,\n 2740: 576,\n 8587: 577,\n 2025: 578,\n 8156: 579,\n 6210: 580,\n 8588: 581,\n 9053: 582,\n 6318: 583,\n 1003: 584,\n 2363: 585,\n 8037: 586,\n 3475: 587,\n 1584: 588,\n 1994: 589,\n 1960: 590,\n 8572: 591,\n 5245: 592,\n 5106: 593,\n 1374: 594,\n 3707: 595,\n 6252: 596,\n 8530: 597,\n 1231: 598,\n 6196: 599,\n 6652: 600,\n 4565: 601,\n 2925: 602,\n 5505: 603,\n 1943: 604,\n 7414: 605,\n 7165: 606,\n 8595: 607,\n 8965: 608,\n 9054: 609,\n 6143: 610,\n 7112: 611,\n 8907: 612,\n 3053: 613,\n 7107: 614,\n 3202: 615,\n 6814: 616,\n 1562: 617,\n 8192: 618,\n 1817: 619,\n 6810: 620,\n 8401: 621,\n 8285: 622,\n 1251: 623,\n 8030: 624,\n 1474: 625,\n 8805: 626,\n 8857: 627,\n 1375: 628,\n 3452: 629,\n 9503: 630,\n 1866: 631,\n 1324: 632,\n 4582: 633,\n 9308: 634,\n 1452: 635,\n 6484: 636,\n 1261: 637,\n 3995: 638,\n 4620: 639,\n 6850: 640,\n 5734: 641,\n 3255: 642,\n 6340: 643,\n 1410: 877,\n 1115: 645,\n 3155: 646,\n 4938: 647,\n 8926: 648,\n 2828: 649,\n 8253: 650,\n 1707: 651,\n 3075: 652,\n 3042: 653,\n 7535: 654,\n 1256: 655,\n 6212: 656,\n 8854: 657,\n 2123: 658,\n 8580: 659,\n 8412: 660,\n 8135: 661,\n 1176: 663,\n 2000: 664,\n 5463: 665,\n 6503: 666,\n 1701: 667,\n 7004: 668,\n 3718: 669,\n 8852: 670,\n 1873: 671,\n 6821: 672,\n 4528: 673,\n 1162: 674,\n 4954: 675,\n 8603: 676,\n 6946: 677,\n 1426: 678,\n 3652: 679,\n 1868: 680,\n 5334: 681,\n 8376: 682,\n 8008: 683,\n 6986: 684,\n 8733: 685,\n 1763: 686,\n 7505: 687,\n 3029: 689,\n 3673: 690,\n 5304: 691,\n 9115: 692,\n 9035: 693,\n 6113: 694,\n 8843: 695,\n 3550: 696,\n 3616: 697,\n 3148: 698,\n 5116: 699,\n 1011: 700,\n 1300: 701,\n 9010: 702,\n 6017: 703,\n 8096: 704,\n 7402: 705,\n 4412: 706,\n 7603: 707,\n 7523: 708,\n 7188: 709,\n 9553: 710,\n 5724: 711,\n 2744: 712,\n 2207: 713,\n 5026: 714,\n 1695: 715,\n 8735: 716,\n 6377: 717,\n 1844: 718,\n 6839: 719,\n 2942: 720,\n 1415: 721,\n 8810: 722,\n 1733: 723,\n 1677: 724,\n 4624: 725,\n 8073: 726,\n 9401: 727,\n 7525: 728,\n 1585: 729,\n 8583: 730,\n 4051: 731,\n 6867: 732,\n 8506: 733,\n 1203: 734,\n 6197: 735,\n 6998: 736,\n 2001: 737,\n 8545: 738,\n 3437: 739,\n 3019: 740,\n 8312: 741,\n 3464: 742,\n 7503: 743,\n 1796: 744,\n 7313: 745,\n 1510: 746,\n 1241: 747,\n 3002: 748,\n 7174: 749,\n 8605: 750,\n 3914: 751,\n 1372: 752,\n 3912: 753,\n 9248: 754,\n 1661: 755,\n 8483: 756,\n 8614: 757,\n 6862: 758,\n 1728: 759,\n 3432: 760,\n 1681: 761,\n 5707: 762,\n 1563: 763,\n 6042: 764,\n 3257: 765,\n 4039: 766,\n 8909: 767,\n 8774: 768,\n 7557: 769,\n 8755: 770,\n 8122: 771,\n 6405: 772,\n 5454: 773,\n 1236: 774,\n 8487: 775,\n 2073: 776,\n 7412: 777,\n 3308: 778,\n 7013: 779,\n 6532: 780,\n 6702: 781,\n 2514: 782,\n 1991: 783,\n 3127: 784,\n 3018: 785,\n 8453: 786,\n 1232: 787,\n 2823: 788,\n 6086: 789,\n 9012: 790,\n 2065: 791,\n 1093: 792,\n 6131: 793,\n 2316: 794,\n 6662: 795,\n 7032: 796,\n 6942: 797,\n 2716: 798,\n 3615: 799,\n 3096: 800,\n 1202: 801,\n 7031: 802,\n 1752: 803,\n 6744: 804,\n 1078: 805,\n 1645: 806,\n 1789: 807,\n 5745: 808,\n 6217: 809,\n 1187: 810,\n 1484: 811,\n 5622: 812,\n 6417: 813,\n 4432: 814,\n 8750: 815,\n 1536: 816,\n 6415: 817,\n 1804: 818,\n 8522: 819,\n 8246: 820,\n 5522: 821,\n 3233: 822,\n 6591: 823,\n 2116: 824,\n 4503: 825,\n 3911: 826,\n 1246: 827,\n 6653: 828,\n 1907: 829,\n 9058: 830,\n 1757: 831,\n 6067: 832,\n 6438: 833,\n 3303: 834,\n 7000: 835,\n 1934: 836,\n 3705: 837,\n 5237: 838,\n 7245: 839,\n 8000: 840,\n 6930: 841,\n 9036: 842,\n 3997: 843,\n 7433: 844,\n 2340: 845,\n 7323: 846,\n 1041: 847,\n 6926: 848,\n 3182: 849,\n 3377: 850,\n 1438: 851,\n 3083: 852,\n 3966: 853,\n 3713: 854,\n 3422: 855,\n 2305: 856,\n 6592: 857,\n 4803: 858,\n 1185: 859,\n 4496: 860,\n 4103: 861,\n 7220: 862,\n 6154: 863,\n 1787: 2223,\n 3156: 865,\n 1568: 866,\n 1694: 867,\n 8447: 868,\n 6907: 869,\n 1792: 870,\n 7189: 871,\n 6590: 872,\n 8002: 873,\n 5077: 874,\n 1633: 875,\n 6596: 876,\n 9657: 878,\n 1772: 879,\n 7062: 880,\n 3150: 881,\n 7127: 882,\n 3537: 883,\n 4451: 884,\n 3426: 885,\n 7552: 886,\n 6469: 887,\n 9477: 888,\n 6038: 889,\n 4054: 890,\n 8345: 891,\n 7436: 892,\n 4059: 893,\n 3419: 894,\n 8608: 895,\n 8732: 896,\n 4424: 897,\n 3123: 898,\n 6156: 899,\n 9423: 900,\n 8005: 901,\n 8457: 902,\n 9305: 903,\n 1145: 904,\n 5000: 905,\n 3784: 906,\n 3305: 907,\n 8560: 908,\n 8174: 909,\n 8134: 910,\n 2800: 911,\n 3535: 912,\n 5223: 913,\n 4317: 914,\n 8626: 915,\n 8565: 916,\n 6922: 917,\n 3373: 918,\n 8888: 919,\n 2303: 920,\n 6167: 921,\n 1800: 922,\n 5405: 923,\n 2888: 924,\n 6815: 925,\n 2827: 1854,\n 8584: 927,\n 8268: 928,\n 6528: 929,\n 1832: 930,\n 9476: 931,\n 6674: 932,\n 8777: 933,\n 4588: 934,\n 6678: 935,\n 1207: 936,\n 1716: 937,\n 8085: 938,\n 2058: 939,\n 8702: 940,\n 1762: 941,\n 3177: 942,\n 4030: 943,\n 8967: 944,\n 8091: 945,\n 8622: 946,\n 8039: 947,\n 8919: 948,\n 9453: 949,\n 3417: 950,\n 4524: 951,\n 9525: 952,\n 8905: 953,\n 4563: 954,\n 1220: 955,\n 8613: 956,\n 8820: 957,\n 8158: 958,\n 3317: 959,\n 2014: 960,\n 8775: 961,\n 1276: 962,\n 2557: 963,\n 7023: 964,\n 8352: 965,\n 3116: 966,\n 4450: 967,\n 1647: 968,\n 1617: 969,\n 6902: 970,\n 5502: 971,\n 5737: 972,\n 3654: 973,\n 1908: 974,\n 3609: 975,\n 5312: 976,\n 1961: 977,\n 1696: 978,\n 8908: 979,\n 2113: 980,\n 2830: 981,\n 6031: 982,\n 3624: 983,\n 1953: 984,\n 6984: 985,\n 8887: 986,\n 6312: 987,\n 6491: 988,\n 4914: 989,\n 8057: 990,\n 6461: 991,\n 1195: 992,\n 4578: 993,\n 4445: 994,\n 6283: 995,\n 1795: 996,\n 1713: 997,\n 5465: 998,\n 3619: 999,\n 6243: 1000,\n 5703: 1001,\n 6713: 1002,\n 1892: 1003,\n ...}"
     },
     "execution_count": 56,
     "metadata": {},
     "output_type": "execute_result"
    }
   ],
   "source": [
    "df_postal_codes.set_index([1]).to_dict()[0]"
   ],
   "metadata": {
    "collapsed": false,
    "pycharm": {
     "name": "#%%\n"
    }
   }
  },
  {
   "cell_type": "code",
   "execution_count": 57,
   "outputs": [],
   "source": [
    "x = pd.Series(df_postal_codes.set_index([0]).to_dict()[1])"
   ],
   "metadata": {
    "collapsed": false,
    "pycharm": {
     "name": "#%%\n"
    }
   }
  },
  {
   "cell_type": "code",
   "execution_count": 58,
   "outputs": [
    {
     "data": {
      "text/plain": "1       5303\n2       6452\n3       8301\n4       8707\n5       6928\n        ... \n3484    6122\n3485    6110\n3486    8766\n3487    3076\n3488    1071\nLength: 3488, dtype: int64"
     },
     "execution_count": 58,
     "metadata": {},
     "output_type": "execute_result"
    }
   ],
   "source": [
    "x"
   ],
   "metadata": {
    "collapsed": false,
    "pycharm": {
     "name": "#%%\n"
    }
   }
  },
  {
   "cell_type": "code",
   "execution_count": 59,
   "outputs": [
    {
     "data": {
      "text/plain": "False"
     },
     "execution_count": 59,
     "metadata": {},
     "output_type": "execute_result"
    }
   ],
   "source": [
    "x.isnull().values.any()"
   ],
   "metadata": {
    "collapsed": false,
    "pycharm": {
     "name": "#%%\n"
    }
   }
  },
  {
   "cell_type": "code",
   "execution_count": 60,
   "outputs": [
    {
     "data": {
      "text/plain": "2071    4147\ndtype: int64"
     },
     "execution_count": 60,
     "metadata": {},
     "output_type": "execute_result"
    }
   ],
   "source": [
    "x[x == 4147]"
   ],
   "metadata": {
    "collapsed": false,
    "pycharm": {
     "name": "#%%\n"
    }
   }
  },
  {
   "cell_type": "code",
   "execution_count": 60,
   "outputs": [],
   "source": [],
   "metadata": {
    "collapsed": false,
    "pycharm": {
     "name": "#%%\n"
    }
   }
  },
  {
   "cell_type": "code",
   "execution_count": 60,
   "outputs": [],
   "source": [],
   "metadata": {
    "collapsed": false,
    "pycharm": {
     "name": "#%%\n"
    }
   }
  }
 ],
 "metadata": {
  "kernelspec": {
   "display_name": "Python 3",
   "language": "python",
   "name": "python3"
  },
  "language_info": {
   "codemirror_mode": {
    "name": "ipython",
    "version": 2
   },
   "file_extension": ".py",
   "mimetype": "text/x-python",
   "name": "python",
   "nbconvert_exporter": "python",
   "pygments_lexer": "ipython2",
   "version": "2.7.6"
  }
 },
 "nbformat": 4,
 "nbformat_minor": 0
}