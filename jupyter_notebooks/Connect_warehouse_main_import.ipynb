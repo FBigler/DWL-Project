{
 "cells": [
  {
   "cell_type": "code",
   "execution_count": 1,
   "outputs": [],
   "source": [
    "import psycopg2\n",
    "import psycopg2.extras as extras\n",
    "import config_warehouse as creds\n",
    "import config_lake as creds_lake\n",
    "import pandas as pd\n",
    "import numpy as np\n",
    "from psycopg2.extensions import register_adapter, AsIs\n",
    "\n",
    "psycopg2.extensions.register_adapter(np.int64, psycopg2._psycopg.AsIs) #allow int64 for db import"
   ],
   "metadata": {
    "collapsed": false,
    "pycharm": {
     "name": "#%%\n"
    }
   }
  },
  {
   "cell_type": "code",
   "execution_count": 2,
   "outputs": [
    {
     "name": "stdout",
     "output_type": "stream",
     "text": [
      "('measuringpointscoordinates',)\n",
      "('measuringpoints',)\n",
      "('ZIPCode',)\n",
      "('RealTimeStatus',)\n",
      "('electriccars21',)\n",
      "('electricityproductionplants',)\n",
      "('chargingstations_static',)\n",
      "('chargingstations_locations',)\n"
     ]
    }
   ],
   "source": [
    "# Show Tables\n",
    "\n",
    "def Show_tables():\n",
    "    try:\n",
    "        # DB connection\n",
    "        conn_string = \"host=\"+ creds_lake.PGHOST +\" port=\"+ \"5432\" +\" dbname=\"+ creds_lake.PGDATABASE +\" user=\" + creds_lake.PGUSER +\" password=\"+ creds_lake.PGPASSWORD\n",
    "        conn = psycopg2.connect(conn_string)\n",
    "        cur = conn.cursor()\n",
    "        # Select data\n",
    "        cur.execute(\"\"\"SELECT table_name FROM information_schema.tables\n",
    "        WHERE table_schema = 'public'\"\"\")\n",
    "        records = cur.fetchall()\n",
    "        #print(records)\n",
    "        #print(type(records[0][0]))\n",
    "        for item in records:\n",
    "            print(item)\n",
    "    except (Exception, psycopg2.DatabaseError) as error:\n",
    "        print(error)\n",
    "    finally:\n",
    "        if conn is not None:\n",
    "            conn.close()\n",
    "\n",
    "Show_tables()"
   ],
   "metadata": {
    "collapsed": false,
    "pycharm": {
     "name": "#%%\n"
    }
   }
  },
  {
   "cell_type": "code",
   "execution_count": 3,
   "outputs": [
    {
     "name": "stdout",
     "output_type": "stream",
     "text": [
      "Connected!\n",
      "Tables created\n"
     ]
    }
   ],
   "source": [
    "def create_tables():\n",
    "    \"\"\" create tables in the PostgreSQL database\"\"\"\n",
    "    commands = (\n",
    "        \"\"\"\n",
    "        CREATE TABLE IF NOT EXISTS Electric_cars_21 (\n",
    "            ID SERIAL PRIMARY KEY,\n",
    "            Vehicle_group VARCHAR(255) NOT NULL,\n",
    "            Year_of_first_registration VARCHAR(255) NOT NULL,\n",
    "            Fuel VARCHAR(255) NOT NULL,\n",
    "            Count_2021 Int NOT NULL,\n",
    "            Canton_abbreviation VARCHAR(255) NOT NULL,\n",
    "            FOREIGN KEY (Canton_abbreviation) REFERENCES regions_and_cantons(canton_abbreviation))\n",
    "        \"\"\",\n",
    "        \"\"\"\n",
    "        CREATE TABLE IF NOT EXISTS Measuring_points (\n",
    "            Nr_measuring_point Int PRIMARY KEY,\n",
    "            Point_name VARCHAR(255) NOT NULL,\n",
    "            Status VARCHAR(255) NOT NULL,\n",
    "            Type_point VARCHAR(255) NOT NULL,\n",
    "            Road VARCHAR(255) NOT NULL,\n",
    "            Canton_abbreviation CHAR(2) NOT NULL,\n",
    "            FOREIGN KEY (Canton_abbreviation) REFERENCES regions_and_cantons(canton_abbreviation))\n",
    "        \"\"\",\n",
    "        \"\"\"\n",
    "        CREATE TABLE IF NOT EXISTS Traffic_measurement_21 (\n",
    "            Nr Int PRIMARY KEY,\n",
    "            Nr_measuring_point Int NOT NULL,\n",
    "            Annual_average Int,\n",
    "            FOREIGN KEY (Nr_measuring_point) REFERENCES Measuring_points(Nr_measuring_point))\n",
    "        \"\"\",\n",
    "        \"\"\"\n",
    "        CREATE TABLE IF NOT EXISTS Measuring_points_coordinates (\n",
    "            Nr Serial PRIMARY KEY,\n",
    "            Nr_measuring_point Int NOT NULL,\n",
    "            Coordinate_east Int NOT NULL,\n",
    "            Coordinate_nord Int NOT NULL,\n",
    "            FOREIGN KEY (Nr_measuring_point) REFERENCES Measuring_points(Nr_measuring_point))\n",
    "        \"\"\",\n",
    "        \"\"\"\n",
    "        CREATE TABLE IF NOT EXISTS Main_categories_electricity_production (\n",
    "            ID_main_category Int PRIMARY KEY,\n",
    "            Name_main_category VARCHAR(255) NOT NULL)\n",
    "        \"\"\",\n",
    "        \"\"\"\n",
    "        CREATE TABLE IF NOT EXISTS Sub_categories_electricity_production (\n",
    "            ID_sub_category Int PRIMARY KEY,\n",
    "            Name_sub_category VARCHAR(255) NOT NULL,\n",
    "            ID_main_category Int NOT NULL,\n",
    "            FOREIGN KEY (ID_main_category)\n",
    "            REFERENCES Main_categories_electricity_production(ID_main_category))\n",
    "        \"\"\",\n",
    "        \"\"\"\n",
    "        CREATE TABLE IF NOT EXISTS Electricity_production_plants (\n",
    "            xtf_id Int PRIMARY KEY,\n",
    "            ID_postal_code Int NOT NULL,\n",
    "            Municipality VARCHAR(255) NOT NULL,\n",
    "            Canton_abbreviation CHAR(2) NOT NULL,\n",
    "            ID_sub_category INT NOT NULL,\n",
    "            Total_power FLOAT NOT NULL,\n",
    "            Avg_monthly_production FLOAT,\n",
    "            FOREIGN KEY (ID_postal_code) REFERENCES Postal_codes(ID_postal_code),\n",
    "            FOREIGN KEY (Canton_abbreviation) REFERENCES regions_and_cantons(canton_abbreviation),\n",
    "            FOREIGN KEY (ID_sub_category)\n",
    "            REFERENCES Sub_categories_electricity_production(ID_sub_category))\n",
    "        \"\"\", #FOREIGN KEY (ID_postal_code) REFERENCES Postal_codes(ID_postal_code),\n",
    "        \"\"\"\n",
    "        CREATE TABLE IF NOT EXISTS Operators (\n",
    "            Operator_ID VARCHAR(255) PRIMARY KEY,\n",
    "            Name_operator VARCHAR(255) NOT NULL)\n",
    "        \"\"\",\n",
    "        \"\"\"\n",
    "        CREATE TABLE IF NOT EXISTS Charging_stations_static (\n",
    "            Evse_ID VARCHAR(255) PRIMARY KEY,\n",
    "            Charging_station_ID VARCHAR(255) NOT NULL,\n",
    "            Operator_ID VARCHAR(255) NOT NULL,\n",
    "            City VARCHAR(255) NOT NULL,\n",
    "            Street VARCHAR(255) NOT NULL,\n",
    "            Power INT NOT NULL,\n",
    "            ID_postal_code Int NOT NULL,\n",
    "            FOREIGN KEY (Operator_ID) REFERENCES Operators(Operator_ID),\n",
    "            FOREIGN KEY (ID_postal_code) REFERENCES Postal_codes(ID_postal_code))\n",
    "        \"\"\", #Canton_abbreviation CHAR(2) NOT NULL, FOREIGN KEY (Canton_abbreviation) REFERENCES regions_and_cantons(canton_abbreviation))\n",
    "        # ID_day Int NOT NULL,  FOREIGN KEY (ID_day) REFERENCES Charging_stations_occupancy_day(id)\n",
    "        \"\"\"\n",
    "        CREATE TABLE IF NOT EXISTS Charging_stations_occupancy (\n",
    "            Occupancy_ID SERIAL PRIMARY KEY,\n",
    "            Evse_ID VARCHAR(255) NOT NULL,\n",
    "            Daily_occupancy INT NOT NULL,\n",
    "            Daily_kwH FLOAT NOT NULL,\n",
    "            Daily_cars INT NOT NULL,\n",
    "            Day_id DATE NOT NULL,\n",
    "            FOREIGN KEY (Evse_ID) REFERENCES Charging_stations_static(Evse_ID))\n",
    "        \"\"\",\n",
    "        \"\"\"\n",
    "        CREATE TABLE IF NOT EXISTS Chargin_stations_location (\n",
    "            Location_ID Int PRIMARY KEY,\n",
    "            Evse_ID VARCHAR(255) NOT NULL,\n",
    "            Coordinate_east Int NOT NULL,\n",
    "            Coordinate_nord Int NOT NULL,\n",
    "            FOREIGN KEY (Evse_ID) REFERENCES Charging_stations_static(Evse_ID))\n",
    "        \"\"\"\n",
    "    )\n",
    "\n",
    "    #  PRIMARY KEY (Postal_code)\n",
    "\n",
    "    try:\n",
    "        # Set up a connection to the postgres server.\n",
    "        conn_string = \"host=\"+ creds.PGHOST +\" port=\"+ \"5432\" +\" dbname=\"+ creds.PGDATABASE +\" user=\" + creds.PGUSER \\\n",
    "                  +\" password=\"+ creds.PGPASSWORD\n",
    "\n",
    "        conn = psycopg2.connect(conn_string)\n",
    "        print(\"Connected!\")\n",
    "\n",
    "        # Create a cursor object\n",
    "        cursor = conn.cursor()\n",
    "\n",
    "        # Create tables\n",
    "        for command in commands:\n",
    "            cursor.execute(command)\n",
    "        print('Tables created')\n",
    "\n",
    "        # Import data from dataframe\n",
    "        #execute_values(conn, fetch_data_plz(), 'Postal_codes')\n",
    "\n",
    "        # close communication with the PostgreSQL database server\n",
    "        cursor.close()\n",
    "        # commit the changes\n",
    "        conn.commit()\n",
    "    except (Exception, psycopg2.DatabaseError) as error:\n",
    "        print(error)\n",
    "    finally:\n",
    "        if conn is not None:\n",
    "            conn.close()\n",
    "\n",
    "create_tables()"
   ],
   "metadata": {
    "collapsed": false,
    "pycharm": {
     "name": "#%%\n"
    }
   }
  },
  {
   "cell_type": "code",
   "execution_count": 4,
   "outputs": [],
   "source": [
    "# Inserting dataframe into database\n",
    "def execute_values(conn, df, table):\n",
    "    # Set up a connection to the warehouse\n",
    "    conn_string = \"host=\"+ creds.PGHOST +\" port=\"+ \"5432\" +\" dbname=\"+ creds.PGDATABASE +\" user=\" + creds.PGUSER \\\n",
    "              +\" password=\"+ creds.PGPASSWORD\n",
    "\n",
    "    conn = psycopg2.connect(conn_string)\n",
    "    print(\"Connected!\")\n",
    "\n",
    "    # Create a cursor object\n",
    "    cursor = conn.cursor()\n",
    "\n",
    "    # Set up data\n",
    "    tuples = [tuple(x) for x in df.to_numpy()]\n",
    "    cols = ','.join(list(df.columns))\n",
    "    # SQL query to execute\n",
    "    query = \"INSERT INTO %s(%s) VALUES %%s\" % (table, cols)\n",
    "    cur = conn.cursor()\n",
    "    try:\n",
    "        extras.execute_values(cur, query, tuples)\n",
    "        conn.commit()\n",
    "    except (Exception, psycopg2.DatabaseError) as error:\n",
    "        print(\"Error: %s\" % error)\n",
    "        conn.rollback()\n",
    "        cur.close()\n",
    "        return\n",
    "    print(\"the dataframe is inserted\")\n",
    "    cur.close()"
   ],
   "metadata": {
    "collapsed": false,
    "pycharm": {
     "name": "#%%\n"
    }
   }
  },
  {
   "cell_type": "code",
   "execution_count": 6,
   "outputs": [
    {
     "name": "stdout",
     "output_type": "stream",
     "text": [
      "['measuringpointscoordinates', 'measuringpoints', 'ZIPCode', 'RealTimeStatus', 'electriccars21', 'electricityproductionplants', 'chargingstations_static', 'chargingstations_locations']\n"
     ]
    },
    {
     "name": "stderr",
     "output_type": "stream",
     "text": [
      "<ipython-input-6-af6a8d674a2e>:123: SettingWithCopyWarning: \n",
      "A value is trying to be set on a copy of a slice from a DataFrame.\n",
      "Try using .loc[row_indexer,col_indexer] = value instead\n",
      "\n",
      "See the caveats in the documentation: https://pandas.pydata.org/pandas-docs/stable/user_guide/indexing.html#returning-a-view-versus-a-copy\n",
      "  df_selected['ID_sub_category'] = df_selected['ID_sub_category'].map(dict_subcat)\n"
     ]
    },
    {
     "name": "stdout",
     "output_type": "stream",
     "text": [
      "Warehouse connected!\n",
      "Empty DataFrame\n",
      "Columns: [postal_code, Canton_abbreviation]\n",
      "Index: []\n",
      "Empty DataFrame\n",
      "Columns: [postal_code, Canton_abbreviation, id_postal_code]\n",
      "Index: []\n",
      "Connected!\n",
      "the dataframe is inserted\n",
      "         0     1   2\n",
      "0        1  5303  AG\n",
      "1        2  6452  UR\n",
      "2        3  8301  ZH\n",
      "3        4  8707  ZH\n",
      "4        5  6928  TI\n",
      "...    ...   ...  ..\n",
      "3520  3521  8079  ZH\n",
      "3521  3522  8238  SH\n",
      "3522  3523  7135  GR\n",
      "3523  3524  4008  BS\n",
      "3524  3525  6342  ZG\n",
      "\n",
      "[3525 rows x 3 columns]\n",
      "                xtf_id  id_postal_code Municipality Canton_abbreviation  \\\n",
      "id_postal_code     NaN             NaN          NaN                 NaN   \n",
      "\n",
      "                ID_sub_category  total_power  \n",
      "id_postal_code              NaN          NaN  \n",
      "before: 141189\n",
      "after: 141188\n"
     ]
    },
    {
     "name": "stderr",
     "output_type": "stream",
     "text": [
      "C:\\Users\\levin\\anaconda3\\lib\\site-packages\\pandas\\core\\indexing.py:692: SettingWithCopyWarning: \n",
      "A value is trying to be set on a copy of a slice from a DataFrame\n",
      "\n",
      "See the caveats in the documentation: https://pandas.pydata.org/pandas-docs/stable/user_guide/indexing.html#returning-a-view-versus-a-copy\n",
      "  iloc._setitem_with_indexer(indexer, value, self.name)\n",
      "<ipython-input-6-af6a8d674a2e>:167: SettingWithCopyWarning: \n",
      "A value is trying to be set on a copy of a slice from a DataFrame\n",
      "\n",
      "See the caveats in the documentation: https://pandas.pydata.org/pandas-docs/stable/user_guide/indexing.html#returning-a-view-versus-a-copy\n",
      "  df_selected.dropna(inplace=True)\n",
      "C:\\Users\\levin\\anaconda3\\lib\\site-packages\\pandas\\core\\indexing.py:1597: SettingWithCopyWarning: \n",
      "A value is trying to be set on a copy of a slice from a DataFrame.\n",
      "Try using .loc[row_indexer,col_indexer] = value instead\n",
      "\n",
      "See the caveats in the documentation: https://pandas.pydata.org/pandas-docs/stable/user_guide/indexing.html#returning-a-view-versus-a-copy\n",
      "  self.obj[key] = value\n",
      "C:\\Users\\levin\\anaconda3\\lib\\site-packages\\pandas\\core\\indexing.py:1720: SettingWithCopyWarning: \n",
      "A value is trying to be set on a copy of a slice from a DataFrame.\n",
      "Try using .loc[row_indexer,col_indexer] = value instead\n",
      "\n",
      "See the caveats in the documentation: https://pandas.pydata.org/pandas-docs/stable/user_guide/indexing.html#returning-a-view-versus-a-copy\n",
      "  self._setitem_single_column(loc, value, pi)\n"
     ]
    },
    {
     "name": "stdout",
     "output_type": "stream",
     "text": [
      "Connected!\n",
      "Error: duplicate key value violates unique constraint \"main_categories_electricity_production_pkey\"\n",
      "DETAIL:  Key (id_main_category)=(1) already exists.\n",
      "\n",
      "Connected!\n",
      "Error: duplicate key value violates unique constraint \"sub_categories_electricity_production_pkey\"\n",
      "DETAIL:  Key (id_sub_category)=(1) already exists.\n",
      "\n",
      "Connected!\n",
      "Error: column \"avg_monthly_production_kwh\" of relation \"electricity_production_plants_\" does not exist\n",
      "LINE 1: ...y,Canton_abbreviation,ID_sub_category,total_power,Avg_monthl...\n",
      "                                                             ^\n",
      "\n"
     ]
    }
   ],
   "source": [
    "# Fetch all table's data\n",
    "\n",
    "tables_lake = ['Measuring_points_coordinates', 'postal_codes', 'charging_stations_occupancy',\n",
    "          'electric_cars_21', 'electricity_production_plants', 'measuring_points', 'charging_stations_static', 'charging_stations_locations'] #tables lake with warehouse name's!\n",
    "\n",
    "def fetch_all_data():\n",
    "    try:\n",
    "        # DB connection\n",
    "        conn_string = \"host=\"+ creds_lake.PGHOST +\" port=\"+ \"5432\" +\" dbname=\"+ creds_lake.PGDATABASE +\" user=\" + creds_lake.PGUSER +\" password=\"+ creds_lake.PGPASSWORD\n",
    "        conn = psycopg2.connect(conn_string)\n",
    "        cur = conn.cursor()\n",
    "\n",
    "        # Select table names\n",
    "        cur.execute(\"\"\"SELECT table_name FROM information_schema.tables\n",
    "        WHERE table_schema = 'public'\"\"\")\n",
    "        records = cur.fetchall()\n",
    "        records_list = []\n",
    "        for item in records:\n",
    "            item = str(item)\n",
    "            records_list.append(item[2:-3])\n",
    "        print(records_list)\n",
    "\n",
    "        # Select data\n",
    "        for table_name in range(0, len(records_list)):\n",
    "            if records_list[table_name] == 'ZIPCode' or records_list[table_name] == 'RealTimeStatus' or \\\n",
    "                records_list[table_name] == 'measuringpoints':\n",
    "                continue\n",
    "            # if records_list[table_name] != 'electricityproductionplants':\n",
    "            #     continue\n",
    "            else:\n",
    "                cur.execute((\"\"\" SELECT * FROM {}\"\"\").format(records_list[table_name])) # passing string without quotation marks\n",
    "                df_records = cur.fetchall()\n",
    "                df = pd.DataFrame(df_records)\n",
    "                #print(df)\n",
    "\n",
    "                if records_list[table_name] == 'measuringpointscoordinates':\n",
    "                    df_selected = df.copy()\n",
    "                    #Name columns\n",
    "                    df_selected.columns = ['Nr_measuring_point','Status_BGDI','Point_name',\n",
    "                                           'Canton_abbreviation','Road', 'Coordinate_East', 'Coordinate_Nord', 'Status', 'Type_Point', 'Number_of_Lanes']\n",
    "                    #Filter needed rows\n",
    "                    df_selected = df_selected.loc[df_selected['Status'] == 'in Betrieb']\n",
    "                    df_selected = df_selected.loc[df_selected['Type_Point'] != 'nur Online']\n",
    "\n",
    "                    #Dataframe Measuring_points_coordinates set up\n",
    "                    df_coordinates = df_selected[['Nr_measuring_point', 'Coordinate_East',\n",
    "                                                  'Coordinate_Nord',]]\n",
    "\n",
    "                    #Dataframe Measuring_points; Drop not needed columns\n",
    "                    df_selected.drop(['Status_BGDI','Coordinate_East','Coordinate_Nord','Number_of_Lanes'], axis=1, inplace=True)\n",
    "\n",
    "                    # import to warehouse\n",
    "                    execute_values(conn, df_selected, 'Measuring_points')\n",
    "                    execute_values(conn, df_coordinates, 'Measuring_points_coordinates')\n",
    "                    #print(df_selected)\n",
    "\n",
    "                elif records_list[table_name] == 'realtimestatus':\n",
    "                    continue\n",
    "\n",
    "                elif records_list[table_name] == 'electriccars21':\n",
    "                    #Name columns\n",
    "                    df.columns = ['id','Canton_abbreviation','Vehicle_group',\n",
    "                                           'Year_of_first_registration','Fuel', 'Count_2021']\n",
    "                    #Filter needed rows\n",
    "                    df_selected = df[(df['Canton_abbreviation'] != 'Switzerland') &\n",
    "                                     (df['Canton_abbreviation'] != 'Confederation')]\n",
    "\n",
    "                    #Map Canton names with Canton Abbreviations\n",
    "                    dict_cantons = {'Zürich' : 'ZH', 'Bern' : 'BE', 'Luzern' : 'LU', 'Uri' : 'UR',\n",
    "                                    'Schwyz' : 'SZ', 'Obwalden' : 'OW', 'Nidwalden' : 'NW',\n",
    "                                    'Glarus' : 'GL', 'Zug' : 'ZG', 'Fribourg' : 'FR',\n",
    "                                    'Solothurn' : 'SO', 'Basel-Stadt' : 'BS', 'Basel-Landschaft' : 'BL',\n",
    "                                    'Schaffhausen' : 'SH', 'Appenzell-Ausserrhoden' : 'AR',\n",
    "                                    'Appenzell-Innerrhoden' : 'AI', 'Sankt Gallen' : 'SG',\n",
    "                                    'Graubünden' : 'GR', 'Aargau' : 'AG', 'Thurgau' : 'TG',\n",
    "                                    'Ticino' : 'TI', 'Vaud' : 'VD', 'Valais' : 'VS', 'Neuchâtel' : 'NE',\n",
    "                                    'Genève' : 'GE', 'Jura' : 'JU'}\n",
    "\n",
    "                    df_selected['Canton_abbreviation'] = df_selected['Canton_abbreviation'].map(dict_cantons)\n",
    "                    df_selected['Canton_abbreviation'] = df_selected['Canton_abbreviation'].astype(str)\n",
    "                    #print(df_selected['Canton_abbreviation'])\n",
    "                    #print(df_selected.info())\n",
    "\n",
    "                    # import to warehouse\n",
    "                    execute_values(conn, df_selected, 'Electric_cars_21')\n",
    "\n",
    "                elif records_list[table_name] == 'electricityproductionplants':\n",
    "                    # DFs main/sub categories\n",
    "                    main_cat_dict = {'ID_main_category' : [1,2,3,4], 'Name_main_category' : ['Fossil fuel',\n",
    "                                                                                             'Hydroelectric power',\n",
    "                                                                                             'Nuclear energy',\n",
    "                                                                                             'Other renewable energies']}\n",
    "                    df_selected_maincat = pd.DataFrame.from_dict(main_cat_dict)\n",
    "                    sub_cat_dict = {'ID_sub_category' : [1,2,3,4,5,6,7,8], 'Name_sub_category' : ['Biomass',\n",
    "                                                                                                  'Crude oil',\n",
    "                                                                                                  'Hydroelectric power',\n",
    "                                                                                                  'Natural gas',\n",
    "                                                                                                  'Nuclear energy',\n",
    "                                                                                                  'Photovoltaic',\n",
    "                                                                                                  'Waste',\n",
    "                                                                                                  'Wind energy'],\n",
    "                                    'ID_main_category' : [4,1,2,1,3,4,4,4]}\n",
    "                    df_selected_subcat = pd.DataFrame.from_dict(sub_cat_dict)\n",
    "\n",
    "                    # DF Electricity production plants\n",
    "                    # Rename column names / select needed columns\n",
    "\n",
    "                    df.columns = ['xtf_id', 'id_postal_code', 'Municipality', 'Canton_abbreviation','BoO', 'MC',\n",
    "                                  'ID_sub_category', 'IP','total_power']\n",
    "\n",
    "\n",
    "                    df_selected = df[['xtf_id', 'id_postal_code', 'Municipality', 'Canton_abbreviation',\n",
    "                                  'ID_sub_category', 'total_power']]\n",
    "\n",
    "                    # Map subcategories\n",
    "                    dict_subcat = {'Biomass' : 1,                                                                                                'Crude oil' : 2,\n",
    "                                   'Hydroelectric power' : 3,\n",
    "                                   'Natural gas' : 4,\n",
    "                                   'Nuclear energy' : 5,\n",
    "                                   'Photovoltaic' : 6,\n",
    "                                   'Waste' : 7,\n",
    "                                   'Wind energy' : 8}\n",
    "                    df_selected['ID_sub_category'] = df_selected['ID_sub_category'].map(dict_subcat)\n",
    "\n",
    "                    # Map postal code\n",
    "                    try:\n",
    "\n",
    "                        # Set up a connection to the warehouse\n",
    "                        conn_string = \"host=\"+ creds.PGHOST +\" port=\"+ \"5432\" +\" dbname=\"+ creds.PGDATABASE +\" user=\" + creds.PGUSER \\\n",
    "                                  +\" password=\"+ creds.PGPASSWORD\n",
    "                        conn = psycopg2.connect(conn_string)\n",
    "                        print(\"Warehouse connected!\")\n",
    "\n",
    "                        # Create a cursor object\n",
    "                        cursor = conn.cursor()\n",
    "\n",
    "                        # # Catch Postal Codes\n",
    "                        cursor.execute((\"\"\" SELECT * FROM Postal_codes\"\"\"))\n",
    "                        df_records = cursor.fetchall()\n",
    "                        df_postal_codes = pd.DataFrame(df_records, dtype='int')\n",
    "\n",
    "\n",
    "                        # Append missing postal codes to relation postal_codes in warehouse\n",
    "                        missing_plz_df = df[['id_postal_code','Canton_abbreviation']][df['id_postal_code']\n",
    "                                                                                          .isin(df_postal_codes[1]) == False]\n",
    "                        # correct column names\n",
    "                        missing_plz_df.rename(columns= {'id_postal_code' : 'postal_code'}, inplace=True)\n",
    "                        print(missing_plz_df)\n",
    "                        # Add primary key column\n",
    "                        missing_plz_df['id_postal_code'] = pd.Series(dtype='int8')\n",
    "                        missing_plz_df['id_postal_code'] = [id for id in range(3489,(3489 + len(missing_plz_df)))]\n",
    "                        print(missing_plz_df)\n",
    "                        execute_values(conn, missing_plz_df, 'Postal_codes')\n",
    "\n",
    "                        # Catch Postal Codes AGAIN due to amendment\n",
    "                        cursor.execute((\"\"\" SELECT * FROM Postal_codes\"\"\"))\n",
    "                        df_records = cursor.fetchall()\n",
    "                        df_postal_codes = pd.DataFrame(df_records, dtype='int')\n",
    "                        print(df_postal_codes)\n",
    "\n",
    "                        # Mapping postal codes for electricity_production_plants\n",
    "                        dict_postal_codes = df_postal_codes.set_index([1]).to_dict()[0]\n",
    "                        df_selected.loc['id_postal_code'] = df_selected['id_postal_code'].map(dict_postal_codes)\n",
    "                        #Null values\n",
    "                        print(df_selected[df_selected['id_postal_code'].isnull() == True])\n",
    "                        print('before:', len(df_selected))\n",
    "                        df_selected.dropna(inplace=True)\n",
    "                         #(id_postal_code)=(4147)\n",
    "                        print('after:', len(df_selected))\n",
    "\n",
    "                        # Add column Avg_monthly_production (from kw to kwh considering average occupancy)\n",
    "                        df_selected.loc[:,'Avg_monthly_production_kwh']  = np.nan\n",
    "                        for row in range(0, len(df_selected)):\n",
    "                            if df_selected.loc[row, 'ID_sub_category'] == 3: #Hydro\n",
    "                                df_selected.loc[row, 'Avg_monthly_production_kwh']\\\n",
    "                                    = (df_selected.loc[row, 'total_power'])*24*30*0.2922\n",
    "                            elif df_selected.loc[row, 'ID_sub_category']  == 6: #Photovoltaic\n",
    "                                df_selected.loc[row, 'Avg_monthly_production_kwh'] \\\n",
    "                                    = (df_selected.loc[row, 'total_power'])*24*30*0.1005\n",
    "                            elif df_selected.loc[row, 'ID_sub_category']  == 1: #Biomass\n",
    "                                df_selected.loc[row, 'Avg_monthly_production_kwh'] \\\n",
    "                                    = (df_selected.loc[row, 'total_power'])*24*30*0.2692\n",
    "                            elif df_selected.loc[row, 'ID_sub_category']  == 8: #Wind energy\n",
    "                                df_selected.loc[row, 'Avg_monthly_production_kwh'] \\\n",
    "                                    = (df_selected.loc[row, 'total_power'])*24*30*0.1875\n",
    "                            else:\n",
    "                                continue\n",
    "\n",
    "                    except psycopg2.Error as e:\n",
    "                        print (e)\n",
    "\n",
    "                    # import to warehouse\n",
    "                    execute_values(conn, df_selected_maincat, 'Main_categories_electricity_production')\n",
    "                    execute_values(conn, df_selected_subcat, 'Sub_categories_electricity_production')\n",
    "                    execute_values(conn, df_selected, 'Electricity_production_plants_')\n",
    "\n",
    "                elif records_list[table_name] == 'measuringpoints':\n",
    "                    #Keep needed columns by index\n",
    "                    df_selected = df.iloc[:,[0,1,18]]\n",
    "\n",
    "                    #Name columns\n",
    "                    df_selected.columns = ['Nr', 'Nr_measuring_point','Annual_average']\n",
    "\n",
    "                    # import to warehouse\n",
    "                    execute_values(conn, df_selected, 'Traffic_measurement_21')\n",
    "\n",
    "                elif records_list[table_name] == 'chargingstations_static':\n",
    "                    continue\n",
    "\n",
    "                elif records_list[table_name] == 'chargingstations_locations':\n",
    "                    continue\n",
    "\n",
    "                else:\n",
    "                    continue\n",
    "\n",
    "    except (Exception, psycopg2.DatabaseError) as error:\n",
    "        print(error)\n",
    "\n",
    "    finally:\n",
    "        if conn is not None:\n",
    "            conn.close()\n",
    "\n",
    "fetch_all_data()"
   ],
   "metadata": {
    "collapsed": false,
    "pycharm": {
     "name": "#%%\n"
    }
   }
  },
  {
   "cell_type": "code",
   "execution_count": 53,
   "outputs": [],
   "source": [],
   "metadata": {
    "collapsed": false,
    "pycharm": {
     "name": "#%%\n"
    }
   }
  },
  {
   "cell_type": "code",
   "execution_count": 51,
   "outputs": [
    {
     "name": "stdout",
     "output_type": "stream",
     "text": [
      "Connected!\n"
     ]
    }
   ],
   "source": [
    "# Set up a connection to the warehouse\n",
    "conn_string = \"host=\"+ creds.PGHOST +\" port=\"+ \"5432\" +\" dbname=\"+ creds.PGDATABASE +\" user=\" + creds.PGUSER \\\n",
    "          +\" password=\"+ creds.PGPASSWORD\n",
    "\n",
    "conn = psycopg2.connect(conn_string)\n",
    "print(\"Connected!\")\n",
    "\n",
    "# Create a cursor object\n",
    "cursor = conn.cursor()\n",
    "\n",
    "cursor.execute((\"\"\" SELECT * FROM Postal_codes\"\"\"))\n",
    "df_records = cursor.fetchall()\n",
    "df_postal_codes = pd.DataFrame(df_records)\n",
    "df_postal_codes\n",
    "#df_postal_codes.info()\n",
    "conn.close()"
   ],
   "metadata": {
    "collapsed": false,
    "pycharm": {
     "name": "#%%\n"
    }
   }
  },
  {
   "cell_type": "code",
   "execution_count": 3,
   "outputs": [
    {
     "name": "stdout",
     "output_type": "stream",
     "text": [
      "        xtf_id  id_postal_code Municipality Canton_abbreviation  \\\n",
      "0        14727            4147     Aesch BL                  BL   \n",
      "1        14728            5082      Kaisten                  AG   \n",
      "2        10164            3114    Wichtrach                  BE   \n",
      "3        10794            3753          Oey                  BE   \n",
      "4         9476            8340       Hinwil                  ZH   \n",
      "...        ...             ...          ...                 ...   \n",
      "141183   50526            6315    Oberägeri                  ZG   \n",
      "141184   50527            6300          Zug                  ZG   \n",
      "141185   51006            3638  Blumenstein                  BE   \n",
      "141186   15984            4125       Riehen                  BS   \n",
      "141187   10231            1862   Les Mosses                  VD   \n",
      "\n",
      "        ID_sub_category  total_power  \n",
      "0                     6        18.81  \n",
      "1                     6         5.80  \n",
      "2                     6         3.00  \n",
      "3                     6         8.40  \n",
      "4                     6         4.80  \n",
      "...                 ...          ...  \n",
      "141183                6         3.00  \n",
      "141184                6         3.00  \n",
      "141185                6         1.00  \n",
      "141186                6         4.90  \n",
      "141187                3        40.00  \n",
      "\n",
      "[141188 rows x 6 columns]\n"
     ]
    }
   ],
   "source": [
    "# Get data from lake\n",
    "# DB connection\n",
    "conn_string = \"host=\"+ creds_lake.PGHOST +\" port=\"+ \"5432\" +\" dbname=\"+ creds_lake.PGDATABASE +\" user=\" + creds_lake.PGUSER +\" password=\"+ creds_lake.PGPASSWORD\n",
    "conn = psycopg2.connect(conn_string)\n",
    "cur = conn.cursor()\n",
    "\n",
    "# Select table names\n",
    "cur.execute(\"\"\"SELECT * FROM electricityproductionplants\"\"\")\n",
    "records = cur.fetchall()\n",
    "df = pd.DataFrame(records)\n",
    "\n",
    "# print(df)\n",
    "\n",
    "df.columns = ['xtf_id', 'id_postal_code', 'Municipality', 'Canton_abbreviation','BoO', 'MC','ID_sub_category', 'IP','total_power']\n",
    "\n",
    "\n",
    "df_selected = df.loc[:,['xtf_id', 'id_postal_code', 'Municipality', 'Canton_abbreviation','ID_sub_category', 'total_power']]\n",
    "\n",
    "# Map subcategories\n",
    "dict_subcat = {'Biomass' : 1,\n",
    "               'Crude oil' : 2,\n",
    "               'Hydroelectric power' : 3,\n",
    "               'Natural gas' : 4,\n",
    "               'Nuclear energy' : 5,\n",
    "               'Photovoltaic' : 6,\n",
    "               'Waste' : 7,\n",
    "               'Wind energy' : 8}\n",
    "df_selected.loc[:,['ID_sub_category']] = df_selected['ID_sub_category'].map(dict_subcat)\n",
    "\n",
    "print(df_selected)"
   ],
   "metadata": {
    "collapsed": false,
    "pycharm": {
     "name": "#%%\n"
    }
   }
  },
  {
   "cell_type": "code",
   "execution_count": 50,
   "outputs": [
    {
     "name": "stdout",
     "output_type": "stream",
     "text": [
      "Connected!\n",
      "the dataframe is inserted\n"
     ]
    }
   ],
   "source": [
    "# missing postal codes for import\n",
    "missing_plz_df = df[['id_postal_code','Canton_abbreviation']][df['id_postal_code'].isin(df_postal_codes[1]) == False]\n",
    "# correct column names\n",
    "missing_plz_df.rename(columns= {'id_postal_code' : 'postal_code'}, inplace=True)\n",
    "# Add primary key column\n",
    "missing_plz_df['id_postal_code'] = ''\n",
    "missing_plz_df['id_postal_code'] = [id for id in range((max(df_postal_codes[0])+1),\n",
    "                                                        ((max(df_postal_codes[0])+1) + len(missing_plz_df)))]\n",
    "execute_values(conn, missing_plz_df, 'Postal_codes')"
   ],
   "metadata": {
    "collapsed": false,
    "pycharm": {
     "name": "#%%\n"
    }
   }
  },
  {
   "cell_type": "code",
   "execution_count": 55,
   "outputs": [
    {
     "name": "stdout",
     "output_type": "stream",
     "text": [
      "Series([], Name: id_postal_code, dtype: int64)\n",
      "        xtf_id  id_postal_code Municipality Canton_abbreviation  \\\n",
      "0        14727            2071     Aesch BL                  BL   \n",
      "1        14728             349      Kaisten                  AG   \n",
      "2        10164             513    Wichtrach                  BE   \n",
      "3        10794            1551          Oey                  BE   \n",
      "4         9476            1824       Hinwil                  ZH   \n",
      "...        ...             ...          ...                 ...   \n",
      "141183   50526             328    Oberägeri                  ZG   \n",
      "141184   50527            3139          Zug                  ZG   \n",
      "141185   51006            2424  Blumenstein                  BE   \n",
      "141186   15984             452       Riehen                  BS   \n",
      "141187   10231            3360   Les Mosses                  VD   \n",
      "\n",
      "        ID_sub_category  total_power  \n",
      "0                     6        18.81  \n",
      "1                     6         5.80  \n",
      "2                     6         3.00  \n",
      "3                     6         8.40  \n",
      "4                     6         4.80  \n",
      "...                 ...          ...  \n",
      "141183                6         3.00  \n",
      "141184                6         3.00  \n",
      "141185                6         1.00  \n",
      "141186                6         4.90  \n",
      "141187                3        40.00  \n",
      "\n",
      "[141188 rows x 6 columns]\n"
     ]
    }
   ],
   "source": [
    "#print(df_postal_codes.info())\n",
    "# Mapping\n",
    "dict_postal_codes = df_postal_codes.set_index([1]).to_dict()[0]\n",
    "#print(df_postal_codes)\n",
    "#NA values\n",
    "print(df_selected['id_postal_code'][df_selected['id_postal_code'].isna() == True])"
   ],
   "metadata": {
    "collapsed": false,
    "pycharm": {
     "name": "#%%\n"
    }
   }
  },
  {
   "cell_type": "code",
   "execution_count": 53,
   "outputs": [
    {
     "name": "stdout",
     "output_type": "stream",
     "text": [
      "Empty DataFrame\n",
      "Columns: [xtf_id, id_postal_code, Municipality, Canton_abbreviation, ID_sub_category, total_power]\n",
      "Index: []\n"
     ]
    }
   ],
   "source": [
    "#Map\n",
    "df_selected.loc[:,['id_postal_code']] = df_selected['id_postal_code'].map(dict_postal_codes)\n",
    "#NA values\n",
    "print(df_selected[df_selected['id_postal_code'].isna() == True])"
   ],
   "metadata": {
    "collapsed": false,
    "pycharm": {
     "name": "#%%\n"
    }
   }
  },
  {
   "cell_type": "code",
   "execution_count": 54,
   "outputs": [
    {
     "name": "stdout",
     "output_type": "stream",
     "text": [
      "[]\n",
      "Empty DataFrame\n",
      "Columns: [xtf_id, id_postal_code, Municipality, Canton_abbreviation, BoO, MC, ID_sub_category, IP, total_power]\n",
      "Index: []\n"
     ]
    }
   ],
   "source": [
    "id_list = list(df_selected['xtf_id'][df_selected['id_postal_code'].isna() == True]) # list with id's of null values\n",
    "print(id_list)\n",
    "print(df[df['xtf_id'].isin(id_list)])"
   ],
   "metadata": {
    "collapsed": false,
    "pycharm": {
     "name": "#%%\n"
    }
   }
  },
  {
   "cell_type": "code",
   "execution_count": 103,
   "outputs": [
    {
     "data": {
      "text/plain": "[2875,\n 2875,\n 5224,\n 1705,\n 4603,\n 4603,\n 6996,\n 6996,\n 6996,\n 8238,\n 6996,\n 2875,\n 8238,\n 8238,\n 5224,\n 8238,\n 8238,\n 8238,\n 8238,\n 8238,\n 8238,\n 8238,\n 8238,\n 8035,\n 8238,\n 8238,\n 6996,\n 6996,\n 8238,\n 9414,\n 4603,\n 2874,\n 8079,\n 8238,\n 7135,\n 4008,\n 6342]"
     },
     "execution_count": 103,
     "metadata": {},
     "output_type": "execute_result"
    }
   ],
   "source": [
    "plz_list = list(df['id_postal_code'][df['xtf_id'].isin(id_list)])\n",
    "plz_list"
   ],
   "metadata": {
    "collapsed": false,
    "pycharm": {
     "name": "#%%\n"
    }
   }
  },
  {
   "cell_type": "code",
   "execution_count": null,
   "outputs": [],
   "source": [
    "#print(df_selected['id_postal_code'].isnull())\n",
    "print('before:', len(df_selected))\n",
    "df_selected.loc[:,['id_postal_code']].dropna(axis = 0)\n",
    " #(id_postal_code)=(4147)\n",
    "print('after:', len(df_selected))\n",
    "#df_selected.loc['id_postal_code'] = df_selected['id_postal_code'].astype('int8')"
   ],
   "metadata": {
    "collapsed": false,
    "pycharm": {
     "name": "#%%\n"
    }
   }
  },
  {
   "cell_type": "code",
   "execution_count": 85,
   "outputs": [
    {
     "ename": "ValueError",
     "evalue": "Cannot convert non-finite values (NA or inf) to integer",
     "output_type": "error",
     "traceback": [
      "\u001B[1;31m---------------------------------------------------------------------------\u001B[0m",
      "\u001B[1;31mValueError\u001B[0m                                Traceback (most recent call last)",
      "\u001B[1;32m<ipython-input-85-5115d5573277>\u001B[0m in \u001B[0;36m<module>\u001B[1;34m\u001B[0m\n\u001B[1;32m----> 1\u001B[1;33m \u001B[0mprint\u001B[0m\u001B[1;33m(\u001B[0m\u001B[0mdf_selected\u001B[0m\u001B[1;33m[\u001B[0m\u001B[1;34m'id_postal_code'\u001B[0m\u001B[1;33m]\u001B[0m\u001B[1;33m.\u001B[0m\u001B[0mastype\u001B[0m\u001B[1;33m(\u001B[0m\u001B[0mint\u001B[0m\u001B[1;33m)\u001B[0m\u001B[1;33m)\u001B[0m\u001B[1;33m\u001B[0m\u001B[1;33m\u001B[0m\u001B[0m\n\u001B[0m",
      "\u001B[1;32m~\\anaconda3\\lib\\site-packages\\pandas\\core\\generic.py\u001B[0m in \u001B[0;36mastype\u001B[1;34m(self, dtype, copy, errors)\u001B[0m\n\u001B[0;32m   5875\u001B[0m         \u001B[1;32melse\u001B[0m\u001B[1;33m:\u001B[0m\u001B[1;33m\u001B[0m\u001B[1;33m\u001B[0m\u001B[0m\n\u001B[0;32m   5876\u001B[0m             \u001B[1;31m# else, only a single dtype is given\u001B[0m\u001B[1;33m\u001B[0m\u001B[1;33m\u001B[0m\u001B[1;33m\u001B[0m\u001B[0m\n\u001B[1;32m-> 5877\u001B[1;33m             \u001B[0mnew_data\u001B[0m \u001B[1;33m=\u001B[0m \u001B[0mself\u001B[0m\u001B[1;33m.\u001B[0m\u001B[0m_mgr\u001B[0m\u001B[1;33m.\u001B[0m\u001B[0mastype\u001B[0m\u001B[1;33m(\u001B[0m\u001B[0mdtype\u001B[0m\u001B[1;33m=\u001B[0m\u001B[0mdtype\u001B[0m\u001B[1;33m,\u001B[0m \u001B[0mcopy\u001B[0m\u001B[1;33m=\u001B[0m\u001B[0mcopy\u001B[0m\u001B[1;33m,\u001B[0m \u001B[0merrors\u001B[0m\u001B[1;33m=\u001B[0m\u001B[0merrors\u001B[0m\u001B[1;33m)\u001B[0m\u001B[1;33m\u001B[0m\u001B[1;33m\u001B[0m\u001B[0m\n\u001B[0m\u001B[0;32m   5878\u001B[0m             \u001B[1;32mreturn\u001B[0m \u001B[0mself\u001B[0m\u001B[1;33m.\u001B[0m\u001B[0m_constructor\u001B[0m\u001B[1;33m(\u001B[0m\u001B[0mnew_data\u001B[0m\u001B[1;33m)\u001B[0m\u001B[1;33m.\u001B[0m\u001B[0m__finalize__\u001B[0m\u001B[1;33m(\u001B[0m\u001B[0mself\u001B[0m\u001B[1;33m,\u001B[0m \u001B[0mmethod\u001B[0m\u001B[1;33m=\u001B[0m\u001B[1;34m\"astype\"\u001B[0m\u001B[1;33m)\u001B[0m\u001B[1;33m\u001B[0m\u001B[1;33m\u001B[0m\u001B[0m\n\u001B[0;32m   5879\u001B[0m \u001B[1;33m\u001B[0m\u001B[0m\n",
      "\u001B[1;32m~\\anaconda3\\lib\\site-packages\\pandas\\core\\internals\\managers.py\u001B[0m in \u001B[0;36mastype\u001B[1;34m(self, dtype, copy, errors)\u001B[0m\n\u001B[0;32m    629\u001B[0m         \u001B[0mself\u001B[0m\u001B[1;33m,\u001B[0m \u001B[0mdtype\u001B[0m\u001B[1;33m,\u001B[0m \u001B[0mcopy\u001B[0m\u001B[1;33m:\u001B[0m \u001B[0mbool\u001B[0m \u001B[1;33m=\u001B[0m \u001B[1;32mFalse\u001B[0m\u001B[1;33m,\u001B[0m \u001B[0merrors\u001B[0m\u001B[1;33m:\u001B[0m \u001B[0mstr\u001B[0m \u001B[1;33m=\u001B[0m \u001B[1;34m\"raise\"\u001B[0m\u001B[1;33m\u001B[0m\u001B[1;33m\u001B[0m\u001B[0m\n\u001B[0;32m    630\u001B[0m     ) -> \"BlockManager\":\n\u001B[1;32m--> 631\u001B[1;33m         \u001B[1;32mreturn\u001B[0m \u001B[0mself\u001B[0m\u001B[1;33m.\u001B[0m\u001B[0mapply\u001B[0m\u001B[1;33m(\u001B[0m\u001B[1;34m\"astype\"\u001B[0m\u001B[1;33m,\u001B[0m \u001B[0mdtype\u001B[0m\u001B[1;33m=\u001B[0m\u001B[0mdtype\u001B[0m\u001B[1;33m,\u001B[0m \u001B[0mcopy\u001B[0m\u001B[1;33m=\u001B[0m\u001B[0mcopy\u001B[0m\u001B[1;33m,\u001B[0m \u001B[0merrors\u001B[0m\u001B[1;33m=\u001B[0m\u001B[0merrors\u001B[0m\u001B[1;33m)\u001B[0m\u001B[1;33m\u001B[0m\u001B[1;33m\u001B[0m\u001B[0m\n\u001B[0m\u001B[0;32m    632\u001B[0m \u001B[1;33m\u001B[0m\u001B[0m\n\u001B[0;32m    633\u001B[0m     def convert(\n",
      "\u001B[1;32m~\\anaconda3\\lib\\site-packages\\pandas\\core\\internals\\managers.py\u001B[0m in \u001B[0;36mapply\u001B[1;34m(self, f, align_keys, ignore_failures, **kwargs)\u001B[0m\n\u001B[0;32m    425\u001B[0m                     \u001B[0mapplied\u001B[0m \u001B[1;33m=\u001B[0m \u001B[0mb\u001B[0m\u001B[1;33m.\u001B[0m\u001B[0mapply\u001B[0m\u001B[1;33m(\u001B[0m\u001B[0mf\u001B[0m\u001B[1;33m,\u001B[0m \u001B[1;33m**\u001B[0m\u001B[0mkwargs\u001B[0m\u001B[1;33m)\u001B[0m\u001B[1;33m\u001B[0m\u001B[1;33m\u001B[0m\u001B[0m\n\u001B[0;32m    426\u001B[0m                 \u001B[1;32melse\u001B[0m\u001B[1;33m:\u001B[0m\u001B[1;33m\u001B[0m\u001B[1;33m\u001B[0m\u001B[0m\n\u001B[1;32m--> 427\u001B[1;33m                     \u001B[0mapplied\u001B[0m \u001B[1;33m=\u001B[0m \u001B[0mgetattr\u001B[0m\u001B[1;33m(\u001B[0m\u001B[0mb\u001B[0m\u001B[1;33m,\u001B[0m \u001B[0mf\u001B[0m\u001B[1;33m)\u001B[0m\u001B[1;33m(\u001B[0m\u001B[1;33m**\u001B[0m\u001B[0mkwargs\u001B[0m\u001B[1;33m)\u001B[0m\u001B[1;33m\u001B[0m\u001B[1;33m\u001B[0m\u001B[0m\n\u001B[0m\u001B[0;32m    428\u001B[0m             \u001B[1;32mexcept\u001B[0m \u001B[1;33m(\u001B[0m\u001B[0mTypeError\u001B[0m\u001B[1;33m,\u001B[0m \u001B[0mNotImplementedError\u001B[0m\u001B[1;33m)\u001B[0m\u001B[1;33m:\u001B[0m\u001B[1;33m\u001B[0m\u001B[1;33m\u001B[0m\u001B[0m\n\u001B[0;32m    429\u001B[0m                 \u001B[1;32mif\u001B[0m \u001B[1;32mnot\u001B[0m \u001B[0mignore_failures\u001B[0m\u001B[1;33m:\u001B[0m\u001B[1;33m\u001B[0m\u001B[1;33m\u001B[0m\u001B[0m\n",
      "\u001B[1;32m~\\anaconda3\\lib\\site-packages\\pandas\\core\\internals\\blocks.py\u001B[0m in \u001B[0;36mastype\u001B[1;34m(self, dtype, copy, errors)\u001B[0m\n\u001B[0;32m    671\u001B[0m             \u001B[0mvals1d\u001B[0m \u001B[1;33m=\u001B[0m \u001B[0mvalues\u001B[0m\u001B[1;33m.\u001B[0m\u001B[0mravel\u001B[0m\u001B[1;33m(\u001B[0m\u001B[1;33m)\u001B[0m\u001B[1;33m\u001B[0m\u001B[1;33m\u001B[0m\u001B[0m\n\u001B[0;32m    672\u001B[0m             \u001B[1;32mtry\u001B[0m\u001B[1;33m:\u001B[0m\u001B[1;33m\u001B[0m\u001B[1;33m\u001B[0m\u001B[0m\n\u001B[1;32m--> 673\u001B[1;33m                 \u001B[0mvalues\u001B[0m \u001B[1;33m=\u001B[0m \u001B[0mastype_nansafe\u001B[0m\u001B[1;33m(\u001B[0m\u001B[0mvals1d\u001B[0m\u001B[1;33m,\u001B[0m \u001B[0mdtype\u001B[0m\u001B[1;33m,\u001B[0m \u001B[0mcopy\u001B[0m\u001B[1;33m=\u001B[0m\u001B[1;32mTrue\u001B[0m\u001B[1;33m)\u001B[0m\u001B[1;33m\u001B[0m\u001B[1;33m\u001B[0m\u001B[0m\n\u001B[0m\u001B[0;32m    674\u001B[0m             \u001B[1;32mexcept\u001B[0m \u001B[1;33m(\u001B[0m\u001B[0mValueError\u001B[0m\u001B[1;33m,\u001B[0m \u001B[0mTypeError\u001B[0m\u001B[1;33m)\u001B[0m\u001B[1;33m:\u001B[0m\u001B[1;33m\u001B[0m\u001B[1;33m\u001B[0m\u001B[0m\n\u001B[0;32m    675\u001B[0m                 \u001B[1;31m# e.g. astype_nansafe can fail on object-dtype of strings\u001B[0m\u001B[1;33m\u001B[0m\u001B[1;33m\u001B[0m\u001B[1;33m\u001B[0m\u001B[0m\n",
      "\u001B[1;32m~\\anaconda3\\lib\\site-packages\\pandas\\core\\dtypes\\cast.py\u001B[0m in \u001B[0;36mastype_nansafe\u001B[1;34m(arr, dtype, copy, skipna)\u001B[0m\n\u001B[0;32m   1066\u001B[0m \u001B[1;33m\u001B[0m\u001B[0m\n\u001B[0;32m   1067\u001B[0m         \u001B[1;32mif\u001B[0m \u001B[1;32mnot\u001B[0m \u001B[0mnp\u001B[0m\u001B[1;33m.\u001B[0m\u001B[0misfinite\u001B[0m\u001B[1;33m(\u001B[0m\u001B[0marr\u001B[0m\u001B[1;33m)\u001B[0m\u001B[1;33m.\u001B[0m\u001B[0mall\u001B[0m\u001B[1;33m(\u001B[0m\u001B[1;33m)\u001B[0m\u001B[1;33m:\u001B[0m\u001B[1;33m\u001B[0m\u001B[1;33m\u001B[0m\u001B[0m\n\u001B[1;32m-> 1068\u001B[1;33m             \u001B[1;32mraise\u001B[0m \u001B[0mValueError\u001B[0m\u001B[1;33m(\u001B[0m\u001B[1;34m\"Cannot convert non-finite values (NA or inf) to integer\"\u001B[0m\u001B[1;33m)\u001B[0m\u001B[1;33m\u001B[0m\u001B[1;33m\u001B[0m\u001B[0m\n\u001B[0m\u001B[0;32m   1069\u001B[0m \u001B[1;33m\u001B[0m\u001B[0m\n\u001B[0;32m   1070\u001B[0m     \u001B[1;32melif\u001B[0m \u001B[0mis_object_dtype\u001B[0m\u001B[1;33m(\u001B[0m\u001B[0marr\u001B[0m\u001B[1;33m)\u001B[0m\u001B[1;33m:\u001B[0m\u001B[1;33m\u001B[0m\u001B[1;33m\u001B[0m\u001B[0m\n",
      "\u001B[1;31mValueError\u001B[0m: Cannot convert non-finite values (NA or inf) to integer"
     ]
    }
   ],
   "source": [
    "print(df_selected['id_postal_code'].astype(int))"
   ],
   "metadata": {
    "collapsed": false,
    "pycharm": {
     "name": "#%%\n"
    }
   }
  },
  {
   "cell_type": "code",
   "execution_count": 80,
   "outputs": [
    {
     "name": "stdout",
     "output_type": "stream",
     "text": [
      "{5303: 1, 6452: 662, 8301: 3, 8707: 4, 6928: 5, 3045: 6, 4106: 7, 1215: 8, 7276: 9, 5412: 10, 4144: 11, 8331: 12, 5210: 13, 5504: 14, 9201: 15, 1288: 16, 5317: 17, 8081: 18, 8752: 19, 6657: 20, 1782: 21, 8045: 22, 1077: 23, 3672: 24, 4411: 25, 6670: 26, 7212: 27, 4613: 28, 6908: 29, 7455: 30, 3506: 31, 8842: 32, 4055: 33, 6513: 34, 8523: 35, 9471: 36, 3930: 37, 3633: 38, 7106: 39, 3602: 40, 6145: 41, 7182: 42, 8886: 43, 1899: 44, 6383: 45, 7168: 46, 4244: 47, 9475: 48, 7202: 49, 3014: 50, 5706: 51, 5636: 52, 1055: 53, 7180: 54, 1117: 55, 1607: 56, 8637: 57, 1028: 58, 8713: 59, 6804: 60, 6780: 61, 6402: 62, 5644: 63, 3036: 64, 5242: 65, 1580: 66, 4314: 67, 1996: 68, 6052: 69, 8475: 70, 8124: 71, 4304: 72, 6577: 73, 6475: 74, 1589: 75, 3792: 76, 4229: 77, 1945: 78, 6454: 79, 1627: 80, 3600: 81, 7451: 82, 5326: 83, 1377: 84, 4584: 85, 6514: 86, 9622: 87, 3904: 88, 3801: 89, 8225: 90, 8612: 91, 1724: 92, 7460: 93, 7502: 94, 4652: 95, 1673: 96, 3071: 97, 8314: 98, 4463: 99, 5314: 100, 4003: 101, 3556: 102, 3935: 103, 1037: 104, 7424: 105, 3553: 106, 1044: 107, 9243: 108, 8892: 109, 3020: 110, 1988: 111, 7243: 112, 8166: 113, 9608: 114, 6343: 115, 1986: 116, 1284: 117, 7247: 118, 4018: 119, 7050: 120, 3772: 121, 3067: 122, 4458: 123, 4464: 124, 1708: 125, 6204: 126, 8916: 127, 3967: 128, 9327: 129, 8526: 130, 1732: 131, 7215: 132, 5732: 133, 8498: 134, 3145: 135, 3297: 136, 5108: 137, 8402: 138, 4621: 139, 4912: 140, 3770: 141, 2916: 142, 3782: 143, 9542: 144, 2414: 145, 8424: 146, 6525: 147, 5318: 148, 4117: 149, 6011: 150, 6506: 151, 8034: 152, 6263: 153, 1338: 154, 6835: 155, 4005: 156, 2555: 157, 4032: 158, 1731: 159, 6981: 160, 3991: 161, 2006: 162, 6517: 163, 7304: 164, 9204: 165, 5610: 166, 8017: 167, 6333: 168, 1346: 169, 1776: 170, 7463: 171, 3976: 172, 1946: 173, 8273: 174, 2538: 175, 3325: 176, 1025: 177, 3857: 178, 2208: 179, 3812: 180, 6705: 181, 1124: 182, 5512: 183, 6682: 184, 2024: 185, 3007: 186, 3763: 187, 1228: 188, 6464: 189, 5628: 190, 1358: 191, 6914: 192, 8640: 3082, 2012: 194, 3903: 195, 8280: 196, 7742: 197, 7113: 198, 1172: 199, 8783: 200, 5632: 201, 8121: 202, 6901: 203, 8003: 204, 2947: 205, 8553: 206, 6303: 207, 3037: 208, 6604: 209, 8925: 210, 1329: 211, 8194: 212, 6863: 213, 6974: 214, 6803: 215, 1265: 216, 9523: 217, 9515: 218, 7437: 219, 4417: 220, 6710: 221, 3253: 222, 9533: 223, 1470: 224, 3428: 225, 6963: 226, 9203: 227, 1273: 228, 1144: 229, 3657: 230, 1262: 231, 1985: 232, 4442: 233, 1183: 234, 2516: 235, 8092: 236, 1291: 237, 8405: 238, 1515: 239, 3902: 240, 6056: 241, 4552: 242, 6390: 243, 9245: 244, 8127: 245, 6558: 246, 3771: 247, 9326: 248, 1312: 249, 9450: 250, 4809: 251, 2825: 252, 1020: 253, 1527: 254, 9050: 255, 3360: 256, 8104: 257, 3622: 258, 7141: 259, 8855: 260, 6636: 261, 1357: 262, 1345: 263, 7200: 264, 5313: 265, 1213: 266, 1019: 267, 2364: 268, 1136: 269, 3032: 270, 7326: 271, 6033: 272, 1083: 273, 4002: 274, 8400: 275, 4010: 276, 1092: 277, 3532: 278, 6527: 279, 2052: 280, 1114: 281, 5235: 282, 3618: 283, 1266: 284, 9016: 285, 1974: 286, 3635: 287, 6633: 288, 7128: 289, 8117: 290, 7504: 291, 2087: 292, 6144: 293, 9465: 294, 9410: 295, 4222: 296, 6152: 297, 4562: 298, 3752: 299, 1112: 300, 7186: 301, 6992: 302, 7482: 303, 6694: 304, 8021: 305, 2338: 306, 9212: 307, 1354: 308, 3367: 309, 7176: 310, 7302: 311, 3864: 312, 1027: 313, 8015: 314, 1417: 315, 7517: 316, 8856: 317, 3725: 318, 5050: 319, 8274: 320, 9100: 321, 4114: 322, 8047: 323, 4901: 324, 1429: 325, 4452: 326, 6182: 327, 6315: 328, 4243: 329, 8239: 330, 3536: 331, 3551: 332, 1824: 333, 1450: 334, 1257: 335, 3773: 336, 5432: 337, 1097: 338, 8080: 339, 5736: 340, 1756: 341, 6720: 342, 4148: 343, 6284: 344, 1486: 345, 4228: 346, 4245: 347, 3918: 348, 5082: 349, 3965: 350, 6242: 351, 1275: 352, 8132: 353, 8525: 354, 6719: 355, 8625: 356, 8049: 357, 8427: 358, 9205: 359, 2037: 360, 3946: 361, 6403: 362, 8183: 363, 1416: 364, 6078: 365, 2117: 366, 2946: 367, 7226: 368, 6673: 369, 7413: 370, 4226: 371, 3052: 372, 2952: 373, 2814: 374, 1310: 375, 2762: 376, 3920: 377, 3048: 378, 6772: 379, 3816: 380, 1308: 381, 3961: 382, 9405: 383, 9562: 384, 3623: 385, 3664: 386, 1803: 387, 1552: 388, 8872: 389, 4810: 390, 1856: 391, 8058: 392, 6524: 393, 3944: 394, 7063: 395, 2301: 396, 6865: 397, 4493: 398, 3974: 399, 3363: 400, 4009: 401, 8180: 402, 6074: 403, 7134: 404, 3046: 405, 2112: 406, 1184: 407, 1860: 408, 9126: 409, 3226: 410, 1042: 411, 3435: 412, 4017: 413, 9506: 414, 6548: 415, 6440: 416, 3254: 417, 2537: 418, 4917: 419, 4433: 420, 2501: 421, 1307: 422, 8784: 423, 1816: 424, 8878: 425, 1031: 426, 8108: 427, 1237: 428, 4402: 429, 2115: 430, 6362: 431, 6277: 432, 4657: 433, 6472: 434, 2613: 435, 3043: 436, 9526: 437, 6576: 438, 2068: 439, 1699: 440, 4112: 441, 9545: 442, 6045: 443, 3427: 444, 1912: 445, 4118: 446, 1692: 447, 1287: 448, 8415: 449, 3362: 450, 4533: 451, 4125: 452, 3423: 453, 6875: 454, 5222: 455, 5105: 456, 1095: 457, 6365: 458, 1529: 459, 4702: 460, 1565: 3448, 2510: 462, 5416: 463, 4315: 464, 3552: 465, 5225: 466, 4492: 467, 8040: 468, 7516: 469, 4502: 470, 4579: 471, 3756: 472, 2206: 473, 7082: 474, 6578: 475, 9044: 476, 5725: 477, 5464: 478, 4461: 479, 1678: 480, 6103: 481, 2902: 482, 4808: 483, 8722: 484, 6717: 485, 8589: 486, 8106: 487, 7558: 488, 4937: 489, 7155: 490, 3207: 491, 3302: 492, 1173: 493, 8126: 494, 3010: 495, 2016: 496, 2360: 497, 2722: 498, 4410: 499, 1538: 500, 7456: 501, 2072: 502, 1189: 503, 8951: 504, 3627: 505, 8501: 506, 5112: 507, 6443: 508, 3374: 509, 1148: 510, 3998: 511, 1279: 512, 3114: 513, 2714: 514, 8970: 515, 8847: 516, 3400: 517, 7411: 518, 1944: 519, 6987: 520, 1669: 521, 8200: 522, 6285: 523, 2813: 524, 2103: 525, 8772: 526, 8486: 527, 8165: 528, 6142: 529, 1424: 530, 9032: 531, 8802: 532, 5616: 533, 3263: 534, 3931: 535, 8889: 536, 1350: 537, 6294: 538, 3823: 539, 9573: 540, 7457: 541, 6010: 1199, 3206: 688, 8241: 544, 6387: 545, 4425: 546, 1440: 547, 8223: 548, 6231: 549, 3804: 550, 8606: 551, 3203: 552, 3658: 553, 6206: 554, 1475: 555, 3706: 556, 1523: 557, 8260: 558, 6599: 559, 8894: 560, 1737: 561, 9554: 562, 8322: 563, 6133: 564, 6978: 565, 6073: 566, 1794: 567, 9300: 568, 8624: 569, 3418: 570, 7444: 571, 1874: 572, 7240: 573, 8109: 574, 6027: 575, 2740: 576, 8587: 577, 2025: 578, 8156: 579, 6210: 580, 8588: 581, 9053: 582, 6318: 583, 1003: 584, 2363: 585, 8037: 586, 3475: 587, 1584: 588, 1994: 589, 1960: 590, 8572: 591, 5245: 592, 5106: 593, 1374: 594, 3707: 595, 6252: 596, 8530: 597, 1231: 598, 6196: 599, 6652: 600, 4565: 601, 2925: 602, 5505: 603, 1943: 604, 7414: 605, 7165: 606, 8595: 607, 8965: 608, 9054: 609, 6143: 610, 7112: 611, 8907: 612, 3053: 613, 7107: 614, 3202: 615, 6814: 616, 1562: 617, 8192: 618, 1817: 619, 6810: 620, 8401: 621, 8285: 622, 1251: 623, 8030: 624, 1474: 625, 8805: 626, 8857: 627, 1375: 628, 3452: 629, 9503: 630, 1866: 631, 1324: 632, 4582: 633, 9308: 634, 1452: 635, 6484: 636, 1261: 637, 3995: 638, 4620: 639, 6850: 640, 5734: 641, 3255: 642, 6340: 643, 1410: 877, 1115: 645, 3155: 646, 4938: 647, 8926: 648, 2828: 649, 8253: 650, 1707: 651, 3075: 652, 3042: 653, 7535: 654, 1256: 655, 6212: 656, 8854: 657, 2123: 658, 8580: 659, 8412: 660, 8135: 661, 1176: 663, 2000: 664, 5463: 665, 6503: 666, 1701: 667, 7004: 668, 3718: 669, 8852: 670, 1873: 671, 6821: 672, 4528: 673, 1162: 674, 4954: 675, 8603: 676, 6946: 677, 1426: 678, 3652: 679, 1868: 680, 5334: 681, 8376: 682, 8008: 683, 6986: 684, 8733: 685, 1763: 686, 7505: 687, 3029: 689, 3673: 690, 5304: 691, 9115: 692, 9035: 693, 6113: 694, 8843: 695, 3550: 696, 3616: 697, 3148: 698, 5116: 699, 1011: 700, 1300: 701, 9010: 702, 6017: 703, 8096: 704, 7402: 705, 4412: 706, 7603: 707, 7523: 708, 7188: 709, 9553: 710, 5724: 711, 2744: 712, 2207: 713, 5026: 714, 1695: 715, 8735: 716, 6377: 717, 1844: 718, 6839: 719, 2942: 720, 1415: 721, 8810: 722, 1733: 723, 1677: 724, 4624: 725, 8073: 726, 9401: 727, 7525: 728, 1585: 729, 8583: 730, 4051: 731, 6867: 732, 8506: 733, 1203: 734, 6197: 735, 6998: 736, 2001: 737, 8545: 738, 3437: 739, 3019: 740, 8312: 741, 3464: 742, 7503: 743, 1796: 744, 7313: 745, 1510: 746, 1241: 747, 3002: 748, 7174: 749, 8605: 750, 3914: 751, 1372: 752, 3912: 753, 9248: 754, 1661: 755, 8483: 756, 8614: 757, 6862: 758, 1728: 759, 3432: 760, 1681: 761, 5707: 762, 1563: 763, 6042: 764, 3257: 765, 4039: 766, 8909: 767, 8774: 768, 7557: 769, 8755: 770, 8122: 771, 6405: 772, 5454: 773, 1236: 774, 8487: 775, 2073: 776, 7412: 777, 3308: 778, 7013: 779, 6532: 780, 6702: 781, 2514: 782, 1991: 783, 3127: 784, 3018: 785, 8453: 786, 1232: 787, 2823: 788, 6086: 789, 9012: 790, 2065: 791, 1093: 792, 6131: 793, 2316: 794, 6662: 795, 7032: 796, 6942: 797, 2716: 798, 3615: 799, 3096: 800, 1202: 801, 7031: 802, 1752: 803, 6744: 804, 1078: 805, 1645: 806, 1789: 807, 5745: 808, 6217: 809, 1187: 810, 1484: 811, 5622: 812, 6417: 813, 4432: 814, 8750: 815, 1536: 816, 6415: 817, 1804: 818, 8522: 819, 8246: 820, 5522: 821, 3233: 822, 6591: 823, 2116: 824, 4503: 825, 3911: 826, 1246: 827, 6653: 828, 1907: 829, 9058: 830, 1757: 831, 6067: 832, 6438: 833, 3303: 834, 7000: 835, 1934: 836, 3705: 837, 5237: 838, 7245: 839, 8000: 840, 6930: 841, 9036: 842, 3997: 843, 7433: 844, 2340: 845, 7323: 846, 1041: 847, 6926: 848, 3182: 849, 3377: 850, 1438: 851, 3083: 852, 3966: 853, 3713: 854, 3422: 855, 2305: 856, 6592: 857, 4803: 858, 1185: 859, 4496: 860, 4103: 861, 7220: 862, 6154: 863, 1787: 2223, 3156: 865, 1568: 866, 1694: 867, 8447: 868, 6907: 869, 1792: 870, 7189: 871, 6590: 872, 8002: 873, 5077: 874, 1633: 875, 6596: 876, 9657: 878, 1772: 879, 7062: 880, 3150: 881, 7127: 882, 3537: 883, 4451: 884, 3426: 885, 7552: 886, 6469: 887, 9477: 888, 6038: 889, 4054: 890, 8345: 891, 7436: 892, 4059: 893, 3419: 894, 8608: 895, 8732: 896, 4424: 897, 3123: 898, 6156: 899, 9423: 900, 8005: 901, 8457: 902, 9305: 903, 1145: 904, 5000: 905, 3784: 906, 3305: 907, 8560: 908, 8174: 909, 8134: 910, 2800: 911, 3535: 912, 5223: 913, 4317: 914, 8626: 915, 8565: 916, 6922: 917, 3373: 918, 8888: 919, 2303: 920, 6167: 921, 1800: 922, 5405: 923, 2888: 924, 6815: 925, 2827: 1854, 8584: 927, 8268: 928, 6528: 929, 1832: 930, 9476: 931, 6674: 932, 8777: 933, 4588: 934, 6678: 935, 1207: 936, 1716: 937, 8085: 938, 2058: 939, 8702: 940, 1762: 941, 3177: 942, 4030: 943, 8967: 944, 8091: 945, 8622: 946, 8039: 947, 8919: 948, 9453: 949, 3417: 950, 4524: 951, 9525: 952, 8905: 953, 4563: 954, 1220: 955, 8613: 956, 8820: 957, 8158: 958, 3317: 959, 2014: 960, 8775: 961, 1276: 962, 2557: 963, 7023: 964, 8352: 965, 3116: 966, 4450: 967, 1647: 968, 1617: 969, 6902: 970, 5502: 971, 5737: 972, 3654: 973, 1908: 974, 3609: 975, 5312: 976, 1961: 977, 1696: 978, 8908: 979, 2113: 980, 2830: 981, 6031: 982, 3624: 983, 1953: 984, 6984: 985, 8887: 986, 6312: 987, 6491: 988, 4914: 989, 8057: 990, 6461: 991, 1195: 992, 4578: 993, 4445: 994, 6283: 995, 1795: 996, 1713: 997, 5465: 998, 3619: 999, 6243: 1000, 5703: 1001, 6713: 1002, 1892: 1003, 8254: 1004, 7144: 1005, 6354: 1006, 3082: 1007, 9508: 1008, 6562: 1009, 1719: 1010, 1962: 1011, 4655: 1012, 3272: 1013, 8107: 1014, 3513: 1015, 1880: 1016, 6721: 1017, 7408: 1018, 4564: 2403, 1906: 1020, 3942: 1021, 8243: 1022, 2616: 1023, 8546: 2726, 8964: 1025, 6114: 1026, 3213: 1027, 8555: 1028, 1058: 1029, 9062: 1030, 6083: 1031, 6802: 1032, 4617: 1033, 1818: 1034, 7415: 1035, 3949: 1036, 3943: 1037, 7610: 1038, 9411: 1039, 6598: 1040, 4057: 1041, 5054: 1042, 7213: 1043, 4583: 1044, 9057: 1045, 1736: 1046, 8462: 1047, 8033: 1048, 7006: 1049, 6025: 1050, 4011: 1051, 9547: 1052, 5034: 1053, 1311: 1054, 6993: 1055, 1635: 1056, 7158: 1057, 6637: 1058, 5013: 1059, 7078: 1060, 6631: 1061, 1208: 1062, 3926: 1063, 6234: 1064, 6020: 1065, 6883: 1066, 6715: 1067, 7542: 1068, 6632: 1069, 1853: 1070, 6864: 1071, 6685: 1072, 4712: 1073, 1785: 1074, 5426: 1075, 6102: 1076, 8162: 1077, 3714: 1078, 1015: 1079, 1463: 1080, 6518: 1081, 1973: 1082, 1166: 1083, 1526: 1084, 1298: 1085, 8586: 1086, 7208: 1087, 8762: 1088, 7422: 1089, 3932: 1090, 6943: 1091, 4252: 1092, 8213: 1093, 1867: 1094, 3716: 1095, 1423: 1096, 6656: 1097, 1147: 1098, 3806: 1099, 7270: 1100, 6146: 1101, 2042: 1102, 2013: 1103, 1783: 1104, 2074: 1105, 1427: 1106, 4952: 1107, 4313: 1108, 1128: 1109, 2605: 1110, 2036: 1111, 6386: 1112, 8575: 1113, 4605: 1114, 8214: 1115, 7132: 1116, 1545: 1117, 1525: 1118, 4913: 1119, 9556: 1120, 8362: 1121, 8726: 1122, 1355: 1123, 1222: 1124, 1660: 1125, 2503: 1126, 7146: 1127, 1299: 1128, 9249: 1129, 6163: 1130, 4426: 1131, 4421: 1132, 2935: 1133, 4915: 1134, 6363: 1135, 8305: 1136, 7419: 1137, 8715: 1138, 7492: 1139, 8607: 1140, 4014: 1141, 3282: 1142, 8532: 1143, 5425: 1144, 6542: 1145, 9043: 1146, 7260: 1147, 7447: 1148, 2540: 1149, 3454: 1150, 3937: 1151, 4431: 1152, 1687: 1153, 1168: 1154, 1663: 1155, 1267: 1156, 3818: 1157, 4460: 1158, 3665: 1159, 3913: 1160, 4618: 1161, 9107: 1162, 6966: 1163, 9033: 1164, 6039: 1165, 7500: 1166, 6760: 1167, 1022: 1168, 2747: 1169, 1666: 1170, 3629: 1171, 8152: 1172, 4033: 1173, 4716: 1174, 8231: 1175, 1730: 1176, 5324: 1177, 6828: 1178, 1473: 1179, 6213: 1180, 9658: 1181, 8615: 1182, 7514: 1183, 5325: 1184, 3416: 1185, 4324: 1186, 1227: 1187, 1626: 1188, 8494: 1189, 7320: 1190, 5623: 1191, 3854: 1192, 2314: 1193, 6085: 1194, 3090: 1195, 4587: 1196, 1537: 1197, 8173: 1198, 5423: 1200, 2843: 1201, 4040: 1202, 6053: 1203, 1811: 1204, 7744: 1205, 1657: 1206, 8112: 1207, 8918: 1208, 9116: 1209, 5200: 1210, 2933: 1211, 9403: 1212, 1373: 1213, 3473: 1214, 8738: 1215, 4323: 1216, 6373: 1217, 4325: 1218, 3910: 1219, 4124: 1220, 2105: 1221, 3455: 1222, 9469: 1223, 4466: 1224, 5113: 1225, 4441: 1226, 1890: 1227, 9437: 1228, 3122: 1229, 7303: 1230, 4105: 1231, 1167: 1232, 7423: 1233, 1306: 1234, 3024: 1235, 8143: 1236, 4703: 1237, 3940: 1238, 8962: 1239, 8444: 1240, 8468: 1241, 3613: 1242, 9123: 1243, 3807: 1244, 8932: 1245, 6982: 1246, 8460: 1247, 1325: 1248, 1610: 1249, 8753: 1250, 1039: 1251, 4004: 1252, 7524: 1253, 6006: 1254, 8806: 1255, 1353: 1256, 1951: 1257, 8632: 1258, 4116: 1259, 3628: 1260, 4453: 1261, 8304: 1262, 3262: 1263, 5035: 1264, 8004: 1265, 8912: 1266, 3472: 1267, 8123: 1268, 6541: 1269, 1814: 1270, 6433: 1271, 8502: 1272, 3307: 1273, 5445: 1274, 8496: 1275, 1468: 1276, 2803: 1277, 3314: 1278, 8512: 1279, 3978: 1280, 9242: 1281, 1277: 1282, 1631: 1283, 7533: 1284, 1715: 1285, 1418: 1286, 2405: 1287, 8914: 1288, 8514: 1289, 1317: 1290, 5084: 1291, 2886: 1292, 3951: 1293, 2552: 1294, 8335: 1295, 9467: 1296, 6582: 1297, 1441: 1298, 6432: 1299, 1649: 1300, 6289: 1301, 1723: 1302, 6947: 1303, 1690: 1304, 3858: 1305, 8739: 1306, 6900: 1307, 2533: 1308, 4625: 1309, 4305: 1310, 5032: 1311, 2953: 1312, 4801: 1313, 1263: 1314, 4718: 1315, 7438: 1316, 8874: 1317, 8267: 1318, 1968: 1319, 1809: 1320, 1930: 1321, 6468: 1322, 4900: 1323, 1443: 1324, 8600: 1325, 1283: 1326, 8353: 1327, 8930: 1328, 3555: 1329, 1984: 1330, 6353: 1331, 1076: 1332, 4942: 1333, 1316: 1334, 1637: 1335, 2562: 1336, 6064: 1337, 1294: 1338, 6826: 1339, 1413: 1340, 5028: 1341, 6836: 1342, 6265: 1343, 1630: 1344, 4332: 1345, 1337: 1346, 4145: 1347, 1524: 1348, 8751: 1349, 6905: 1350, 7084: 1351, 1489: 1352, 6952: 1353, 4944: 1354, 7425: 1355, 1270: 1356, 7493: 1357, 9011: 1358, 6967: 1359, 3608: 1360, 2856: 1361, 1805: 1362, 1330: 1363, 6414: 1364, 6418: 1365, 5315: 1366, 3128: 1367, 9501: 1368, 3295: 1369, 5103: 1370, 3993: 1371, 8505: 1372, 9029: 1373, 3855: 1374, 3453: 1375, 8476: 1376, 5404: 1377, 3715: 1378, 8343: 1379, 6043: 1380, 9063: 1381, 8454: 1382, 1026: 1383, 8890: 1384, 3124: 1385, 8410: 1386, 1094: 1387, 5604: 1388, 1704: 1389, 7560: 1390, 5306: 1391, 4133: 1392, 6676: 1393, 5212: 1394, 1684: 1395, 8411: 1396, 2906: 1397, 4413: 1398, 6436: 1399, 6016: 1400, 7152: 1401, 1903: 1402, 9535: 1403, 1212: 1404, 6924: 1405, 8737: 1406, 1053: 1407, 6147: 1408, 1863: 1409, 6677: 1410, 3283: 1411, 2615: 1412, 2577: 1413, 1052: 1414, 7026: 1415, 3724: 1416, 1882: 1417, 3825: 1418, 1209: 1419, 6106: 1420, 8883: 1421, 5643: 1422, 9548: 1423, 6345: 1424, 7122: 1425, 3924: 1426, 3236: 1427, 3758: 1428, 5733: 1429, 1966: 1430, 8618: 1431, 2007: 1432, 1925: 1433, 8413: 1434, 4437: 1435, 9656: 1436, 4414: 1437, 6319: 1438, 3324: 1439, 6534: 1440, 9642: 1441, 8090: 1442, 6423: 1443, 4653: 1444, 3645: 1445, 1665: 1446, 7405: 1447, 4538: 1448, 4542: 1449, 1514: 1450, 7138: 1451, 9200: 1452, 5043: 1453, 4805: 1454, 8862: 1455, 4935: 1456, 4025: 1457, 1642: 1458, 3901: 1459, 6374: 1460, 7484: 1461, 5001: 1462, 7324: 1463, 3157: 1464, 8634: 1465, 8142: 1466, 4500: 1467, 2882: 1468, 8840: 1469, 1871: 1470, 1947: 1471, 5085: 1472, 6538: 1473, 6646: 1474, 1773: 1475, 2046: 1476, 8833: 1477, 4919: 1478, 3040: 1479, 4715: 1480, 8547: 1481, 2019: 1482, 7605: 1483, 2713: 1484, 6648: 1485, 4576: 1486, 4444: 1487, 3775: 1488, 2565: 1489, 7431: 1490, 2416: 1491, 3030: 1492, 3415: 1493, 6613: 1494, 3401: 1495, 8885: 1496, 4091: 1497, 1432: 1498, 8450: 1499, 1072: 1500, 1302: 1501, 1096: 1502, 6742: 1503, 3916: 1504, 8360: 1505, 9113: 1506, 4435: 1507, 6014: 1508, 8272: 1509, 9443: 1510, 4812: 1511, 8261: 1512, 7235: 1513, 5062: 1514, 2608: 1515, 8175: 1516, 3077: 1517, 4532: 1518, 1269: 1519, 8598: 1520, 3322: 1521, 4115: 1522, 1528: 1523, 8904: 1524, 3210: 1525, 2943: 1526, 8036: 1527, 1252: 1528, 7426: 1529, 4856: 1530, 7224: 1531, 3632: 1532, 1852: 1533, 8212: 2787, 1938: 1535, 4468: 1536, 6346: 1537, 8061: 1538, 6773: 1539, 5401: 1540, 1012: 1541, 1815: 1542, 8863: 1543, 7164: 1544, 4663: 1545, 9215: 1546, 3508: 1547, 8597: 1548, 5624: 1549, 4523: 1550, 3753: 1551, 1036: 1552, 6545: 1553, 1018: 1554, 8421: 1555, 7494: 1556, 7147: 1557, 5702: 1558, 6068: 1559, 7175: 1560, 1727: 1561, 7241: 1562, 8046: 1563, 8824: 1564, 2556: 1565, 8585: 1566, 3988: 1567, 1534: 1825, 9524: 1569, 2544: 1570, 6692: 1571, 9425: 1572, 3456: 1573, 6463: 1574, 6634: 1575, 8269: 1576, 5080: 1577, 6126: 1578, 1700: 1579, 6573: 1580, 4436: 1581, 3863: 1582, 1034: 1583, 5015: 1584, 3803: 1585, 6161: 1586, 1428: 1587, 3270: 1588, 9313: 1589, 5234: 1590, 2905: 1591, 6203: 1592, 1174: 1593, 7606: 1594, 4123: 1595, 6999: 1596, 3762: 1597, 3510: 1598, 8548: 1599, 9466: 1600, 8467: 1601, 8479: 1602, 8717: 1603, 6655: 1604, 5642: 1605, 6976: 1606, 9052: 1607, 1175: 1608, 5420: 1609, 8706: 1610, 7306: 1611, 7029: 1612, 2720: 1613, 1659: 1614, 3274: 1615, 6565: 1616, 7745: 1617, 4557: 1618, 6647: 1619, 1121: 1620, 5611: 1621, 1126: 1622, 8849: 1623, 4633: 1624, 1595: 3287, 3256: 1626, 1033: 1627, 8006: 1628, 6834: 1629, 2852: 1630, 3927: 1631, 1142: 1632, 5503: 1633, 8636: 1634, 3512: 1635, 7403: 1636, 5102: 1637, 7458: 1638, 8428: 1639, 6474: 1640, 3110: 1641, 9112: 1642, 3144: 1643, 3970: 1644, 7222: 1645, 7077: 1646, 6301: 1647, 8623: 1648, 9472: 1649, 1754: 1650, 9512: 1651, 7116: 1652, 8315: 1653, 6988: 1654, 4334: 1655, 3412: 1656, 4000: 1657, 7550: 1658, 7748: 1659, 6776: 1660, 3250: 1661, 8917: 1662, 8582: 1663, 3987: 1664, 9463: 1665, 8808: 1666, 4419: 1667, 4626: 1668, 3457: 1669, 6645: 1670, 4015: 1671, 4604: 1672, 1245: 1673, 8581: 1674, 8038: 1675, 8635: 1676, 3063: 1677, 2829: 1678, 6572: 1679, 4554: 1680, 3038: 1681, 1788: 1682, 3268: 1683, 7450: 1684, 6763: 1685, 4609: 1686, 2505: 1687, 8140: 1688, 3717: 1689, 6356: 1690, 1971: 1691, 9565: 1692, 1905: 1693, 8867: 1694, 6595: 1695, 8031: 1696, 4600: 1697, 3380: 1698, 1509: 1699, 4586: 1700, 5243: 1701, 7430: 1702, 8184: 1703, 3907: 1704, 1454: 1705, 3115: 1706, 3986: 1707, 3992: 1708, 6302: 1709, 5244: 1710, 6490: 1711, 5073: 1712, 8071: 1713, 1292: 1714, 1201: 1715, 8813: 1716, 2889: 1717, 6781: 1718, 6276: 1719, 4034: 1720, 1807: 1721, 6037: 1722, 7404: 1723, 2832: 1724, 7183: 1725, 3945: 1726, 3781: 1727, 9027: 1728, 4515: 1729, 4943: 1730, 3973: 1731, 8196: 1732, 9214: 1733, 7157: 1734, 2536: 1735, 7057: 1736, 1689: 1737, 6919: 1738, 3439: 1739, 2535: 1740, 1188: 1741, 6912: 1742, 6382: 1743, 8063: 1744, 1205: 1745, 6664: 1746, 1430: 1747, 8902: 1748, 1983: 1749, 6160: 1750, 6391: 1751, 8499: 1752, 9230: 1753, 6557: 1754, 6833: 1755, 8910: 1756, 3174: 1757, 5075: 1758, 5070: 1759, 2553: 1760, 6047: 1761, 6822: 1762, 6055: 1763, 1002: 1764, 3184: 1765, 5727: 1766, 3158: 1767, 5444: 1768, 6416: 1769, 4247: 1770, 3860: 1771, 2912: 1772, 3474: 1773, 4207: 1774, 1043: 1775, 8564: 1776, 7210: 1777, 8074: 1778, 6583: 1779, 7530: 1780, 8524: 1781, 8896: 1782, 8259: 1783, 1285: 1784, 1774: 1785, 2612: 1786, 8495: 1787, 6775: 1788, 3934: 1789, 3856: 1790, 2854: 1791, 9555: 1792, 6957: 1793, 6915: 1794, 2826: 1795, 2354: 1796, 7545: 1797, 1278: 1798, 8181: 1799, 6837: 1800, 3963: 1801, 6501: 1802, 5647: 1803, 7315: 1804, 3153: 1805, 8570: 1806, 8234: 1807, 7242: 1808, 6216: 1809, 2950: 1810, 6563: 1811, 3087: 1812, 1609: 1813, 2603: 1814, 6388: 1815, 8730: 1816, 7015: 1817, 1955: 1818, 2712: 1819, 3041: 1820, 3285: 1821, 8704: 1822, 3813: 1823, 8340: 1824, 7074: 1826, 5330: 1827, 2718: 1828, 8193: 1829, 9613: 1830, 6622: 1831, 1977: 1832, 3908: 1833, 4020: 1834, 8594: 1835, 7537: 1836, 8113: 1837, 1802: 1838, 5620: 1839, 8216: 1840, 9607: 1841, 6441: 1842, 1885: 1843, 3173: 1844, 8754: 1845, 8408: 1846, 6295: 1847, 4536: 1848, 2932: 1849, 8879: 1850, 4622: 1851, 4223: 1852, 3035: 1853, 1088: 1855, 7443: 1856, 7464: 1857, 6515: 1858, 5300: 1859, 3365: 1860, 8155: 1861, 2806: 1862, 9225: 1863, 1165: 1864, 8471: 1865, 9213: 1866, 8219: 1867, 2742: 1868, 5037: 1869, 4019: 1870, 1846: 1871, 2545: 1872, 8311: 1873, 1268: 1874, 5617: 1875, 9001: 1876, 8210: 1877, 8633: 1878, 2812: 1879, 1014: 1880, 9127: 1881, 6410: 1882, 5040: 1883, 9602: 1884, 5083: 1885, 7512: 1886, 8901: 1887, 6002: 1888, 8326: 1889, 8952: 1890, 6105: 1891, 4322: 1892, 3309: 1893, 1656: 1894, 1437: 1895, 1045: 1896, 5246: 1897, 6774: 1898, 5621: 1899, 6764: 1900, 9630: 1901, 2520: 1902, 8266: 1903, 2518: 1904, 2807: 1905, 6170: 1906, 7148: 1907, 4232: 1908, 7166: 1909, 3271: 1910, 3099: 1911, 1125: 1912, 5430: 1913, 4911: 1914, 5436: 1915, 1963: 1916, 4142: 1917, 1744: 1918, 6476: 1919, 3626: 1920, 7314: 1921, 4333: 1922, 6543: 1923, 2400: 1924, 1281: 1925, 3425: 1926, 3050: 1927, 8404: 1928, 7110: 1929, 6431: 1930, 3323: 1931, 9314: 1932, 5018: 1933, 2004: 1934, 6944: 1935, 2560: 1936, 2149: 1937, 3906: 1938, 9231: 1939, 1297: 1940, 5605: 1941, 8477: 1942, 6684: 1943, 2873: 1944, 5107: 1945, 1439: 1946, 8133: 1947, 3072: 1948, 2353: 1949, 3765: 1950, 3065: 1951, 1551: 1952, 3159: 1953, 6997: 1954, 6465: 1955, 3982: 1956, 4203: 1957, 8426: 1958, 2114: 1959, 9532: 1960, 2903: 1961, 8255: 1962, 1080: 1963, 7115: 1964, 8355: 1965, 4601: 1966, 6174: 1967, 2884: 1968, 5525: 1969, 3402: 1970, 7028: 1971, 5060: 1972, 7151: 1973, 1352: 1974, 7442: 1975, 7162: 1976, 2336: 1977, 4416: 1978, 3815: 1979, 3068: 1980, 9620: 1981, 1658: 1982, 4632: 1983, 6460: 1984, 2515: 1985, 4303: 1986, 4415: 1987, 6743: 1988, 6874: 1989, 6026: 1990, 5213: 1991, 6248: 1992, 1024: 1993, 8906: 1994, 3605: 1995, 3413: 1996, 6132: 1997, 3204: 1998, 1255: 1999, 9404: 2000, 3267: 2001, 8300: 2002, 3001: 2003, 9320: 2004, 8042: 2005, 6462: 2006, 7543: 2007, 8497: 2008, 9650: 2009, 2746: 2010, 3703: 2011, 8018: 2012, 7076: 2013, 7244: 2014, 4224: 2015, 8164: 2016, 4075: 2017, 3313: 2018, 1164: 2019, 1929: 2020, 4104: 2021, 9633: 2022, 2027: 2023, 1290: 3184, 4704: 2025, 5400: 2026, 4953: 2027, 8451: 2028, 5333: 2029, 3661: 2030, 3012: 2031, 7454: 2032, 6916: 2033, 8248: 2034, 3368: 2035, 6809: 2036, 4036: 2037, 8765: 2038, 6032: 2039, 7111: 2040, 3504: 2041, 1616: 2042, 6605: 2043, 8302: 2044, 1941: 2045, 4853: 2046, 8103: 2047, 5004: 2048, 8201: 2049, 8240: 2050, 3783: 2051, 9430: 2052, 6030: 2053, 6968: 2054, 2900: 2055, 4955: 2056, 1797: 2057, 2564: 2058, 7452: 2059, 5413: 2060, 5408: 2061, 9651: 2062, 3636: 2063, 6949: 2064, 1725: 2065, 6512: 2066, 6654: 2067, 2923: 2068, 8759: 2069, 6556: 2070, 4147: 2071, 8442: 2072, 1745: 2073, 1532: 2074, 9502: 2075, 1061: 2076, 8627: 2077, 8154: 2078, 9442: 3130, 6036: 2080, 6287: 2081, 3979: 2082, 1775: 2083, 9621: 2084, 9435: 2085, 3237: 2086, 6072: 2087, 1356: 2088, 9023: 2089, 6927: 2090, 7710: 2091, 8325: 2092, 3711: 2093, 8458: 2094, 3214: 2095, 6341: 2096, 2857: 2097, 8172: 2098, 2015: 2099, 6034: 2100, 6084: 2101, 1948: 2102, 8303: 2103, 3463: 2104, 6344: 2105, 7453: 2106, 1869: 2107, 3366: 2108, 5524: 2109, 1688: 2110, 3315: 2111, 8464: 2112, 8344: 2113, 4108: 2114, 9015: 2115, 7019: 2116, 5600: 2117, 6979: 2118, 1674: 2119, 8461: 2120, 1967: 2121, 8041: 2122, 6574: 2123, 1085: 2124, 4710: 2125, 8197: 2126, 6597: 2127, 3989: 2128, 5012: 2129, 6482: 2130, 5023: 2131, 2525: 2132, 4234: 2133, 9514: 2134, 2512: 2135, 8263: 2136, 9014: 2137, 3656: 2138, 4246: 2139, 7427: 2140, 8536: 2141, 1535: 2142, 8354: 2143, 3006: 2144, 6707: 2145, 9108: 2146, 1801: 2147, 1697: 2148, 6473: 2149, 9105: 2150, 8236: 2151, 9464: 2152, 1648: 2153, 6718: 2154, 4102: 2155, 3179: 2156, 6215: 2157, 8712: 2158, 9473: 2159, 7154: 2160, 8725: 2161, 8032: 2162, 1141: 2163, 1224: 2164, 1793: 2165, 6644: 2166, 5646: 2167, 4497: 2168, 1305: 2169, 4495: 2170, 3938: 2171, 8064: 2172, 8185: 2173, 7448: 2174, 2604: 2175, 9240: 2176, 8247: 2177, 1522: 2178, 4923: 2179, 1296: 2180, 4719: 2181, 1555: 2182, 6612: 2183, 1735: 2184, 5705: 2185, 6938: 2186, 8590: 2187, 5406: 2188, 3755: 2189, 7184: 2190, 7104: 2191, 3066: 2192, 6018: 2193, 1000: 2194, 3293: 2195, 8048: 2196, 4932: 2197, 1936: 2198, 2067: 2199, 6917: 2200, 4422: 2201, 1420: 2202, 4800: 2203, 6013: 2204, 6523: 2205, 3436: 2206, 6807: 2207, 6044: 2208, 4806: 2209, 3049: 2210, 2738: 2211, 4143: 2212, 2053: 2213, 5276: 2214, 1923: 2215, 8022: 2216, 1612: 2217, 6936: 2218, 7513: 2219, 1734: 2220, 3954: 2221, 6173: 2222, 1624: 2224, 1010: 2225, 7608: 2226, 1081: 2227, 3476: 2228, 8882: 2229, 1483: 2230, 8060: 2231, 6035: 2232, 3826: 2233, 4227: 2234, 2944: 2235, 6535: 2236, 6434: 2237, 1320: 2238, 2502: 2239, 8835: 2240, 7126: 2241, 1686: 2242, 2108: 2243, 3933: 2244, 3225: 2245, 1702: 2246, 8027: 2247, 3084: 2248, 4514: 2249, 6000: 2250, 3238: 2251, 6749: 2252, 5417: 2253, 4423: 2254, 2362: 2255, 3004: 2256, 1131: 2257, 1898: 2258, 1870: 2259, 7432: 2260, 3777: 2261, 2350: 2262, 2563: 2263, 3928: 2264, 8023: 2265, 1343: 2266, 8406: 2267, 8087: 2268, 2063: 2269, 8088: 2270, 6280: 2271, 6980: 2272, 1180: 2273, 6530: 2274, 3538: 2275, 8052: 2276, 8604: 2277, 8602: 2278, 6933: 2279, 6247: 2280, 1001: 2281, 6015: 2282, 6130: 2283, 8025: 2284, 3251: 2285, 4457: 2286, 3152: 2287, 6959: 2288, 4058: 2289, 6995: 2290, 1940: 2291, 3814: 2292, 1847: 2293, 4494: 2294, 1964: 2295, 8593: 2296, 3306: 2297, 9008: 2298, 4566: 2299, 1922: 2300, 9612: 2301, 1485: 2302, 9007: 2303, 1453: 2304, 1260: 2305, 8242: 2306, 9246: 2307, 5467: 2308, 4101: 2309, 1007: 2310, 8050: 2311, 1412: 2312, 1651: 2313, 3044: 2314, 9604: 2315, 1942: 2316, 6162: 2317, 3754: 2318, 4936: 2319, 2406: 2320, 8864: 2321, 4204: 2322, 8758: 2323, 6672: 2324, 1721: 2325, 8409: 2326, 4302: 2327, 9103: 2328, 8098: 2329, 1914: 2330, 4053: 2331, 1264: 2332, 3027: 2333, 8573: 2334, 4001: 2335, 3088: 2336, 1718: 2337, 5044: 2338, 3900: 2339, 6376: 2340, 6024: 2341, 8740: 2342, 3054: 2343, 3376: 2344, 6955: 2345, 4852: 2346, 8425: 2347, 7325: 2348, 7145: 2349, 3985: 2350, 4208: 2351, 4254: 2352, 6540: 2353, 5443: 2354, 5712: 2355, 3008: 2356, 7743: 2357, 5233: 2358, 2022: 2359, 6866: 2360, 6264: 2361, 8873: 2362, 3625: 2363, 1433: 2364, 1226: 2365, 7228: 2366, 1009: 2367, 6937: 2368, 4628: 2369, 1957: 2370, 7551: 2371, 2057: 2372, 8803: 2373, 3078: 2374, 5058: 2375, 4585: 2376, 7434: 2377, 7083: 2378, 7536: 2379, 3183: 2380, 3235: 2381, 8416: 2382, 8877: 2383, 5017: 2384, 6066: 2385, 3147: 2386, 1445: 2387, 9055: 2388, 4233: 2389, 7232: 2390, 4656: 2391, 2009: 2392, 7746: 2393, 7515: 2394, 8577: 2395, 6953: 2396, 1926: 2397, 7407: 2398, 1030: 2399, 4446: 2400, 1714: 2401, 9000: 2402, 7001: 2404, 3013: 2405, 3702: 2406, 5277: 2407, 8024: 2408, 3925: 2409, 4107: 2410, 4665: 2411, 9534: 2412, 1063: 2413, 9615: 2414, 8001: 2415, 8800: 2416, 3312: 2417, 1274: 2418, 9428: 2419, 6430: 2420, 1919: 2421, 2610: 2422, 6855: 2423, 3638: 2424, 1902: 2425, 8913: 2426, 6313: 2427, 5607: 2428, 7204: 2429, 4924: 2430, 9543: 2431, 6693: 2432, 2325: 2433, 1720: 2434, 3176: 2435, 3722: 2436, 6424: 2437, 3086: 2438, 1062: 2439, 1218: 2440, 1132: 2441, 9652: 2442, 7534: 2443, 9217: 2444, 6232: 2445, 8232: 2446, 4814: 2447, 7149: 2448, 9527: 2449, 9478: 2450, 3375: 2451, 1746: 2452, 1066: 2453, 7003: 2454, 4537: 2455, 1822: 2456, 3047: 2457, 2924: 2458, 1303: 2459, 9013: 2460, 2735: 2461, 1918: 2462, 3764: 2463, 6286: 2464, 9470: 2465, 4253: 2466, 1992: 2467, 4146: 2468, 1323: 2469, 1808: 2470, 1623: 2471, 7417: 2472, 1567: 2473, 9552: 2474, 8203: 2475, 4522: 2476, 7563: 2477, 1406: 2478, 6830: 2479, 1225: 2480, 6208: 2481, 1090: 2482, 3723: 2483, 3017: 2484, 1196: 2485, 7205: 2486, 8503: 2487, 4013: 2488, 8317: 2489, 9504: 2490, 1435: 2491, 4447: 2492, 4012: 2493, 4658: 2494, 6233: 2495, 5603: 2496, 1644: 2497, 3003: 2498, 3955: 2499, 8542: 2500, 1965: 2501, 9427: 2502, 3234: 2503, 3178: 2504, 3948: 2505, 2822: 2506, 6192: 2507, 5612: 2508, 4089: 2509, 9462: 2510, 3080: 2511, 9024: 2512, 8834: 2513, 1530: 2514, 7142: 2515, 3089: 2516, 1304: 2517, 3824: 2518, 6516: 2519, 8342: 2520, 8646: 2521, 8955: 2522, 2710: 2523, 7007: 2524, 6716: 2525, 8226: 2526, 6990: 2527, 5746: 2528, 6274: 2529, 6872: 2530, 6546: 2531, 7167: 2532, 3414: 2533, 3205: 2534, 6331: 2535, 7522: 2536, 1893: 2537, 1436: 2538, 8616: 2539, 3704: 2540, 7277: 2541, 1680: 2542, 7075: 2543, 6262: 2544, 2035: 2545, 8307: 2546, 3939: 2547, 1896: 2548, 6918: 2549, 3653: 2550, 3805: 2551, 6009: 2552, 3917: 2553, 3252: 2554, 5507: 2555, 4134: 2556, 4717: 2557, 8853: 2558, 2748: 2559, 1122: 2560, 2054: 2561, 4654: 2562, 1219: 2563, 6526: 2564, 1820: 2565, 8418: 2566, 3296: 2567, 1679: 2568, 1625: 2569, 6467: 2570, 8956: 2571, 7249: 2572, 6904: 2573, 2824: 2574, 7747: 2575, 8356: 2576, 3421: 2577, 5619: 2578, 8844: 2579, 9125: 2580, 3996: 2581, 7056: 2582, 4031: 2583, 6703: 2584, 3424: 2585, 6487: 2586, 8714: 2587, 9038: 2588, 7230: 2589, 8815: 2590, 2922: 2591, 1613: 2592, 9536: 2593, 1040: 2594, 2883: 2595, 5030: 2596, 1272: 2597, 6661: 2598, 1464: 2599, 1806: 2600, 8884: 2601, 4916: 2602, 8543: 2603, 8508: 2604, 6945: 2605, 6112: 2606, 2517: 2607, 1214: 2608, 1958: 2609, 5630: 2610, 6832: 2611, 3776: 2612, 1608: 3259, 2028: 2614, 8576: 2615, 4028: 2616, 3216: 2617, 4312: 2618, 2717: 2619, 5618: 2620, 6659: 2621, 6805: 2622, 4140: 2623, 6925: 2624, 7018: 2625, 8093: 2626, 9424: 2627, 4056: 2628, 6048: 2629, 2513: 2630, 1634: 2631, 1586: 2632, 9021: 2633, 5615: 2634, 8105: 2635, 3097: 2636, 4571: 2637, 1163: 2638, 7526: 2639, 1675: 2640, 2802: 2641, 8051: 2642, 6584: 2643, 1895: 2644, 8554: 2645, 8870: 2646, 4933: 2647, 1482: 2648, 8500: 2649, 8599: 2650, 9028: 2651, 5274: 2652, 8617: 2653, 3462: 2654, 8610: 2655, 4455: 2656, 1113: 2657, 4509: 2658, 2534: 2659, 1667: 2660, 6485: 2661, 2863: 2662, 6663: 2663, 8330: 2664, 6218: 2665, 7440: 2666, 3534: 2667, 1421: 2668, 7477: 2669, 3172: 2670, 8204: 2671, 3073: 2672, 1217: 2673, 8195: 2674, 8881: 2675, 6253: 2676, 6060: 2677, 6965: 2678, 2954: 2679, 6873: 2680, 8215: 2681, 7602: 2682, 8953: 2683, 1169: 2684, 1553: 2685, 2864: 2686, 7265: 2687, 2023: 2688, 8911: 2689, 6683: 2690, 6635: 2691, 2904: 2692, 1709: 2693, 9056: 2694, 2318: 2695, 1653: 2696, 4052: 2697, 6748: 2698, 8865: 2699, 5024: 2700, 1248: 2701, 6022: 2702, 8233: 2703, 6125: 2704, 8816: 2705, 8756: 2706, 1242: 2707, 1344: 2708, 3125: 2709, 2855: 2710, 2842: 2711, 1186: 2712, 6260: 2713, 8920: 2714, 1628: 2715, 8118: 2716, 3757: 2717, 8252: 2718, 6960: 2719, 2733: 2720, 3647: 2721, 4630: 2722, 1654: 2723, 9315: 2724, 1741: 2725, 9004: 2727, 1407: 2728, 3085: 2729, 1682: 2730, 9020: 2731, 8403: 2732, 5201: 2733, 7064: 2734, 9312: 2735, 7445: 2736, 3662: 2737, 9323: 2738, 8208: 2739, 5232: 2740, 4634: 2741, 7109: 2742, 1932: 2743, 6747: 2744, 8235: 2745, 9037: 2746, 3778: 2747, 1786: 2748, 1928: 2749, 1271: 2750, 1588: 2751, 1753: 2752, 8507: 2753, 3533: 2754, 7173: 2755, 3112: 2756, 4581: 2757, 9426: 2758, 5462: 2759, 1409: 2760, 1676: 2761, 6600: 2762, 1004: 2763, 8102: 2764, 1135: 2765, 7459: 2766, 6854: 2767, 8942: 2768, 4126: 2769, 1587: 2770, 1997: 2771, 4310: 2772, 2908: 2773, 8880: 2774, 1143: 2775, 6983: 2776, 2745: 2777, 8645: 2778, 5078: 2779, 7554: 2780, 2907: 2781, 8535: 2782, 6275: 2783, 3968: 2784, 8620: 2785, 7428: 2786, 1872: 2788, 9104: 2789, 6977: 2790, 5614: 2791, 6575: 2792, 7472: 2793, 8484: 2794, 4534: 2795, 6618: 2796, 7421: 2797, 8630: 2798, 3034: 2799, 7556: 2800, 3853: 2801, 1685: 2802, 3039: 2803, 8370: 2804, 6934: 2805, 1204: 2806, 3433: 2807, 5322: 2808, 4615: 2809, 8125: 2810, 1023: 2811, 8782: 2812, 4456: 2813, 6549: 2814, 7187: 2815, 1541: 2816, 2523: 2817, 8544: 2818, 1211: 2819, 4611: 2820, 6571: 2821, 5506: 2822, 1254: 2823, 7172: 2824, 1937: 2825, 3852: 2826, 8954: 2827, 1038: 2828, 1073: 2829, 6222: 2830, 5613: 2831, 2915: 2832, 9220: 2833, 1982: 2834, 4434: 2835, 3971: 2836, 5735: 2837, 3612: 2838, 7130: 2839, 3284: 2840, 1823: 2841, 3298: 2842, 1865: 2843, 8520: 2844, 1243: 2845, 1911: 2846, 4577: 2847, 2732: 2848, 2043: 2849, 6906: 2850, 1583: 2851, 4070: 2852, 8845: 2853, 6777: 2854, 1442: 2855, 6962: 2856, 6611: 2857, 8059: 2858, 8182: 2859, 4418: 2860, 9223: 2861, 1200: 2862, 3977: 2863, 1927: 2864, 4573: 2865, 6950: 2866, 5064: 2867, 4616: 2868, 7310: 2869, 6372: 2870, 7233: 2871, 9102: 2872, 1921: 2873, 8804: 2874, 6004: 2875, 7532: 2876, 9114: 2877, 5275: 2878, 3266: 2879, 1638: 2880, 7527: 2881, 4807: 2882, 8708: 2883, 6602: 2884, 7553: 2885, 8217: 2886, 1993: 2887, 1239: 2888, 3956: 2889, 4127: 2890, 3154: 2891, 8310: 2892, 8309: 2893, 2504: 2894, 8207: 2895, 3952: 2896, 1059: 2897, 3972: 2898, 5063: 2899, 8228: 2900, 3273: 2901, 8372: 2902, 4316: 2903, 5074: 2904, 3631: 2905, 3604: 2906, 1854: 2907, 8727: 2908, 6370: 2909, 5057: 2910, 8086: 2911, 9216: 2912, 9517: 2913, 1070: 2914, 8807: 2915, 5726: 2916, 4813: 2917, 1008: 2918, 6028: 2919, 4574: 2920, 1972: 2921, 6806: 2922, 3095: 2923, 8592: 2924, 6019: 2925, 6317: 2926, 3543: 2927, 8218: 2928, 8478: 2929, 3646: 2930, 6722: 2931, 6991: 2932, 4242: 2933, 8509: 2934, 1875: 2935, 3005: 2936, 3601: 2937, 8841: 2938, 5608: 2939, 8700: 2940, 9064: 2941, 6746: 2942, 9468: 2943, 4225: 2944, 1006: 2945, 4035: 2946, 3905: 2947, 1969: 2948, 8115: 2949, 4153: 2950, 8866: 2951, 7473: 2952, 4448: 2953, 7058: 2954, 3429: 2955, 6827: 2956, 4614: 2957, 6012: 2958, 3785: 2959, 6005: 2960, 4469: 2961, 6207: 2962, 3999: 2963, 6723: 2964, 1614: 2965, 3671: 2966, 3503: 2967, 1566: 2968, 1521: 2969, 8561: 2970, 6061: 2971, 5442: 2972, 5723: 2973, 4539: 2974, 8639: 2975, 6007: 2976, 1446: 2977, 1462: 2978, 1513: 2979, 1933: 2980, 1401: 2981, 1891: 2982, 3438: 2983, 4922: 2984, 5708: 2985, 9244: 2986, 6724: 2987, 9322: 2988, 1258: 2989, 1046: 2990, 8773: 2991, 3780: 2992, 2056: 2993, 8482: 2994, 9631: 2995, 1047: 2996, 6544: 2997, 7012: 2998, 2075: 2999, 7562: 3000, 3957: 3001, 6956: 3002, 6935: 3003, 3185: 3004, 2743: 3005, 3607: 3006, 6696: 3007, 2853: 3008, 2345: 3009, 6838: 3010, 6877: 3011, 6913: 3012, 8510: 3013, 8716: 3014, 3212: 3015, 6852: 3016, 6062: 3017, 6442: 3018, 8933: 3019, 5637: 3020, 5625: 3021, 1683: 3022, 1434: 3023, 6422: 3024, 6593: 3025, 8068: 3026, 6823: 3027, 3286: 3028, 8734: 3029, 4802: 3030, 1864: 3031, 1149: 3032, 2333: 3033, 9400: 3034, 5046: 3035, 1543: 3036, 6714: 3037, 7214: 3038, 1313: 3039, 6404: 3040, 1564: 3041, 8540: 3042, 4202: 3043, 5704: 3044, 6166: 3045, 9606: 3046, 7163: 3047, 8836: 3048, 1981: 3049, 5323: 3050, 8363: 3051, 8332: 3052, 5053: 3053, 1884: 3054, 8621: 3055, 7223: 3056, 1082: 3057, 8465: 3058, 7278: 3059, 1341: 3060, 6616: 3061, 5627: 3062, 1740: 3063, 2500: 3064, 3132: 3065, 8463: 3066, 1091: 3067, 1978: 3068, 6023: 3069, 1845: 3070, 9436: 3071, 6808: 3072, 3186: 3073, 1110: 3074, 6690: 3075, 1084: 3076, 4934: 3077, 1975: 3078, 3434: 3079, 9452: 3080, 1253: 3081, 8136: 3083, 1791: 3084, 6939: 3085, 6695: 3086, 4543: 3087, 8265: 3088, 3700: 3089, 6579: 3090, 2887: 3091, 6371: 3092, 1348: 3093, 5272: 3094, 1833: 3095, 4465: 3096, 2805: 3097, 8044: 3098, 8452: 3099, 5027: 3100, 4714: 3101, 7317: 3102, 4016: 3103, 1722: 3104, 9402: 3105, 5466: 3106, 1342: 3107, 3264: 3108, 1234: 3109, 5273: 3110, 6903: 3111, 7559: 3112, 7307: 3113, 1632: 3114, 2124: 3115, 1295: 3116, 5072: 3117, 1170: 3118, 8893: 3119, 8868: 3120, 5415: 3121, 8718: 3122, 7143: 3123, 8858: 3124, 9306: 3125, 1197: 3126, 6533: 3127, 7246: 3128, 8012: 3129, 8072: 3131, 3531: 3132, 3111: 3133, 8157: 3134, 9546: 3135, 6330: 3136, 1636: 3137, 5402: 3138, 6300: 3139, 3922: 3140, 8422: 3141, 5645: 3142, 2606: 3143, 4950: 3144, 2715: 3145, 9030: 3146, 6235: 3147, 2532: 3148, 4024: 3149, 9413: 3150, 2885: 3151, 1240: 3152, 6816: 3153, 8537: 3154, 1747: 3155, 8357: 3156, 3674: 3157, 1318: 3158, 6951: 3159, 4501: 3160, 2322: 3161, 8224: 3162, 6246: 3163, 6745: 3164, 7252: 3165, 8026: 3166, 8202: 3167, 8957: 3168, 2017: 3169, 4612: 3170, 3126: 3171, 6314: 3172, 3175: 3173, 9614: 3174, 9122: 3175, 8723: 3176, 1247: 3177, 1717: 3178, 2558: 3179, 8832: 3180, 8757: 3181, 1315: 3182, 1035: 3183, 1897: 3185, 5033: 3186, 7027: 3187, 2003: 3188, 1216: 3189, 1512: 3190, 6003: 3191, 6537: 3192, 4467: 3193, 4512: 3194, 1611: 3195, 8940: 3196, 1643: 3197, 3766: 3198, 8596: 3199, 2575: 3200, 8011: 3201, 2576: 3202, 2304: 3203, 9479: 3204, 4713: 3205, 1405: 3206, 4041: 3207, 6511: 3208, 2736: 3209, 1950: 3210, 7418: 3211, 4553: 3212, 1652: 3213, 6281: 3214, 3074: 3215, 2554: 3216, 2300: 3217, 1127: 3218, 1376: 3219, 7435: 3220, 6466: 3221, 2002: 3222, 1422: 3223, 1244: 3224, 3822: 3225, 3372: 3226, 1134: 3227, 7203: 3228, 8070: 3229, 3994: 3230, 3098: 3231, 6332: 3232, 3923: 3233, 7014: 3234, 3000: 3235, 8846: 3236, 6614: 3237, 8638: 3238, 2723: 3239, 2543: 3240, 3617: 3241, 9301: 3242, 5742: 3243, 5022: 3244, 8897: 3245, 5025: 3246, 4206: 3247, 3507: 3248, 1400: 3249, 6493: 3250, 9643: 3251, 8245: 3252, 7231: 3253, 4525: 3254, 1404: 3255, 8153: 3256, 1431: 3257, 5301: 3258, 7153: 3260, 2572: 3261, 4629: 3262, 4513: 3263, 1784: 3264, 9500: 3265, 8574: 3266, 6063: 3267, 3292: 3268, 9655: 3269, 2926: 3270, 9006: 3271, 4438: 3272, 1976: 3273, 1146: 3274, 9026: 3275, 8262: 3276, 5728: 3277, 3614: 3278, 1322: 3279, 3983: 3280, 1920: 3281, 8308: 3282, 8053: 3283, 8556: 3284, 1619: 3285, 6818: 3286, 6205: 3288, 1670: 3289, 3208: 3290, 3800: 3291, 3960: 3292, 1738: 3293, 5626: 3294, 8966: 3295, 3321: 3296, 7156: 3297, 3011: 3298, 1554: 3299, 1068: 3300, 6245: 3301, 7604: 3302, 1123: 3303, 7741: 3304, 4462: 3305, 9444: 3306, 8055: 3307, 6958: 3308, 8489: 3309, 9247: 3310, 8130: 3311, 6954: 3312, 3215: 3313, 2914: 3314, 7114: 3315, 6825: 3316, 4132: 3317, 1712: 3318, 6375: 3319, 3929: 3320, 8566: 3321, 2542: 3322, 6021: 3323, 3947: 3324, 3975: 3325, 6658: 3326, 3663: 3327, 7016: 3328, 8187: 3329, 6948: 3330, 8934: 3331, 3033: 3332, 5076: 3333, 5236: 3334, 8099: 3335, 1032: 3336, 1321: 3337, 5452: 3338, 3655: 3339, 3232: 3340, 9507: 3341, 3015: 3342, 1116: 3343, 1742: 3344, 1913: 3345, 1326: 3346, 5305: 3347, 1054: 3348, 6929: 3349, 6211: 3350, 8703: 3351, 6244: 3352, 1748: 3353, 8264: 3354, 1233: 3355, 2127: 3356, 4558: 3357, 8466: 3358, 7185: 3359, 1862: 3360, 1544: 3361, 6932: 3362, 8558: 3363, 3603: 3364, 7462: 3365, 8767: 3366, 6853: 3367, 2607: 3368, 1904: 3369, 1542: 3370, 3557: 3371, 8492: 3372, 6236: 3373, 9042: 3374, 3953: 3375, 7017: 3376, 6288: 3377, 4443: 3378, 8472: 3379, 6221: 3380, 9304: 3381, 1286: 3382, 8915: 3383, 5014: 3384, 8488: 3385, 9422: 3386, 1615: 3387, 8825: 3388, 4640: 3389, 6994: 3390, 2010: 3391, 3294: 3392, 9445: 3393, 6153: 3394, 5722: 3395, 7312: 3396, 3862: 3397, 4021: 3398, 6817: 3399, 3280: 3400, 8898: 3401, 1098: 3402, 8474: 3403, 1749: 3404, 1533: 3405, 9451: 3406, 8350: 3407, 5634: 3408, 6964: 3409, 7546: 3410, 8374: 3411, 1223: 3412, 3634: 3413, 6989: 3414, 1347: 3415, 5453: 3416, 6601: 3417, 4535: 3418, 1618: 3419, 5036: 3420, 7137: 3421, 5042: 3422, 8493: 3423, 2126: 3424, 8895: 3425, 1029: 3426, 6921: 3427, 9601: 3428, 7206: 3429, 1408: 3430, 8150: 3431, 1206: 3432, 8320: 3433, 1425: 3434, 1182: 3435, 3465: 3436, 1726: 3437, 8222: 3438, 8371: 3439, 4556: 3440, 2034: 3441, 8114: 3442, 7159: 3443, 3984: 3444, 8459: 3445, 9325: 3446, 6594: 3447, 1293: 3449, 9034: 3450, 7272: 3451, 6500: 3452, 5332: 3453, 6675: 3454, 4007: 3455, 1646: 3456, 3802: 3457, 1987: 3458, 5606: 3459, 4623: 3460, 5056: 3461, 6123: 3462, 8306: 3463, 7250: 3464, 2088: 3465, 3326: 3466, 8552: 3467, 5079: 3468, 6214: 3469, 2302: 3470, 8010: 3471, 1691: 3472, 9434: 3473, 7416: 3474, 8455: 3475, 8414: 3476, 5316: 3477, 4042: 3478, 3113: 3479, 8903: 3480, 1005: 3481, 4130: 3482, 3919: 3483, 6122: 3484, 6110: 3485, 8766: 3486, 3076: 3487, 1071: 3488}\n"
     ]
    }
   ],
   "source": [
    "print(dict_postal_codes) # dict seems fine"
   ],
   "metadata": {
    "collapsed": false,
    "pycharm": {
     "name": "#%%\n"
    }
   }
  },
  {
   "cell_type": "code",
   "execution_count": 81,
   "outputs": [
    {
     "name": "stdout",
     "output_type": "stream",
     "text": [
      "12        61.0\n",
      "20        61.0\n",
      "45        61.0\n",
      "47        61.0\n",
      "108       16.0\n",
      "          ... \n",
      "140887    76.0\n",
      "140890    76.0\n",
      "140910    22.0\n",
      "141066    54.0\n",
      "141114    46.0\n",
      "Name: id_postal_code, Length: 4234, dtype: float64\n"
     ]
    }
   ],
   "source": [
    "print(df_selected['id_postal_code'][df_selected['id_postal_code'] <= 100]) # check for low index numbers"
   ],
   "metadata": {
    "collapsed": false,
    "pycharm": {
     "name": "#%%\n"
    }
   }
  },
  {
   "cell_type": "code",
   "execution_count": 82,
   "outputs": [
    {
     "name": "stdout",
     "output_type": "stream",
     "text": [
      "2556     NaN\n",
      "3671     NaN\n",
      "12590    NaN\n",
      "20011    NaN\n",
      "22558    NaN\n",
      "27376    NaN\n",
      "40350    NaN\n",
      "46347    NaN\n",
      "46502    NaN\n",
      "56149    NaN\n",
      "64240    NaN\n",
      "68431    NaN\n",
      "71347    NaN\n",
      "80699    NaN\n",
      "84389    NaN\n",
      "95735    NaN\n",
      "97374    NaN\n",
      "97738    NaN\n",
      "102310   NaN\n",
      "107549   NaN\n",
      "111903   NaN\n",
      "113740   NaN\n",
      "114456   NaN\n",
      "116358   NaN\n",
      "117230   NaN\n",
      "124611   NaN\n",
      "127493   NaN\n",
      "131450   NaN\n",
      "135767   NaN\n",
      "136608   NaN\n",
      "136652   NaN\n",
      "136875   NaN\n",
      "138181   NaN\n",
      "138248   NaN\n",
      "139056   NaN\n",
      "140529   NaN\n",
      "140968   NaN\n",
      "Name: id_postal_code, dtype: float64\n"
     ]
    }
   ],
   "source": [
    "print(df_selected['id_postal_code'][df_selected['id_postal_code'].isna() == True])"
   ],
   "metadata": {
    "collapsed": false,
    "pycharm": {
     "name": "#%%\n"
    }
   }
  },
  {
   "cell_type": "code",
   "execution_count": 59,
   "outputs": [
    {
     "data": {
      "text/plain": "0         2071.0\n1          349.0\n2          513.0\n3         1551.0\n4         1824.0\n           ...  \n141183     328.0\n141184    3139.0\n141185    2424.0\n141186     452.0\n141187    3360.0\nName: id_postal_code, Length: 141188, dtype: float64"
     },
     "execution_count": 59,
     "metadata": {},
     "output_type": "execute_result"
    }
   ],
   "source": [
    "df_selected['id_postal_code']"
   ],
   "metadata": {
    "collapsed": false,
    "pycharm": {
     "name": "#%%\n"
    }
   }
  },
  {
   "cell_type": "code",
   "execution_count": 4,
   "outputs": [
    {
     "data": {
      "text/plain": "   ID_sub_category\n4                6",
      "text/html": "<div>\n<style scoped>\n    .dataframe tbody tr th:only-of-type {\n        vertical-align: middle;\n    }\n\n    .dataframe tbody tr th {\n        vertical-align: top;\n    }\n\n    .dataframe thead th {\n        text-align: right;\n    }\n</style>\n<table border=\"1\" class=\"dataframe\">\n  <thead>\n    <tr style=\"text-align: right;\">\n      <th></th>\n      <th>ID_sub_category</th>\n    </tr>\n  </thead>\n  <tbody>\n    <tr>\n      <th>4</th>\n      <td>6</td>\n    </tr>\n  </tbody>\n</table>\n</div>"
     },
     "execution_count": 4,
     "metadata": {},
     "output_type": "execute_result"
    }
   ],
   "source": [
    "# Access specific row in column\n",
    "row = 4\n",
    "df_selected.loc[[row], ['ID_sub_category']]"
   ],
   "metadata": {
    "collapsed": false,
    "pycharm": {
     "name": "#%%\n"
    }
   }
  },
  {
   "cell_type": "code",
   "execution_count": null,
   "outputs": [],
   "source": [],
   "metadata": {
    "collapsed": false,
    "pycharm": {
     "name": "#%%\n"
    }
   }
  },
  {
   "cell_type": "code",
   "execution_count": null,
   "outputs": [],
   "source": [],
   "metadata": {
    "collapsed": false,
    "pycharm": {
     "name": "#%%\n"
    }
   }
  }
 ],
 "metadata": {
  "kernelspec": {
   "display_name": "Python 3",
   "language": "python",
   "name": "python3"
  },
  "language_info": {
   "codemirror_mode": {
    "name": "ipython",
    "version": 2
   },
   "file_extension": ".py",
   "mimetype": "text/x-python",
   "name": "python",
   "nbconvert_exporter": "python",
   "pygments_lexer": "ipython2",
   "version": "2.7.6"
  }
 },
 "nbformat": 4,
 "nbformat_minor": 0
}