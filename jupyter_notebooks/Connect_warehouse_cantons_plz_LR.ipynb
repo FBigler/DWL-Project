{
 "cells": [
  {
   "cell_type": "code",
   "execution_count": 21,
   "outputs": [],
   "source": [
    "import psycopg2\n",
    "import psycopg2.extras as extras\n",
    "import config_warehouse as creds\n",
    "import config_lake as creds_lake\n",
    "import pandas as pd"
   ],
   "metadata": {
    "collapsed": false,
    "pycharm": {
     "name": "#%%\n"
    }
   }
  },
  {
   "cell_type": "code",
   "execution_count": 22,
   "outputs": [
    {
     "name": "stdout",
     "output_type": "stream",
     "text": [
      "('measuringpointscoordinates',)\n",
      "('measuringpoints',)\n",
      "('ZIPCode',)\n",
      "('RealTimeStatus',)\n",
      "('electriccars21',)\n",
      "('electricityproductionplants',)\n",
      "('chargingstations_static',)\n",
      "('chargingstations_locations',)\n"
     ]
    }
   ],
   "source": [
    "# Show Tables\n",
    "\n",
    "def Show_tables():\n",
    "    try:\n",
    "        # DB connection\n",
    "        conn_string = \"host=\"+ creds_lake.PGHOST +\" port=\"+ \"5432\" +\" dbname=\"+ creds_lake.PGDATABASE +\" user=\" + creds_lake.PGUSER +\" password=\"+ creds_lake.PGPASSWORD\n",
    "        conn = psycopg2.connect(conn_string)\n",
    "        cur = conn.cursor()\n",
    "        # Select data\n",
    "        cur.execute(\"\"\"SELECT table_name FROM information_schema.tables\n",
    "        WHERE table_schema = 'public'\"\"\")\n",
    "        records = cur.fetchall()\n",
    "        for item in records:\n",
    "            print(item)\n",
    "    except (Exception, psycopg2.DatabaseError) as error:\n",
    "        print(error)\n",
    "    finally:\n",
    "        if conn is not None:\n",
    "            conn.close()\n",
    "\n",
    "Show_tables()"
   ],
   "metadata": {
    "collapsed": false,
    "pycharm": {
     "name": "#%%\n"
    }
   }
  },
  {
   "cell_type": "code",
   "execution_count": 23,
   "outputs": [],
   "source": [
    "# Connection to Warehouse\n",
    "def connect():\n",
    "\n",
    "    # Set up a connection to the postgres server.\n",
    "    conn_string = \"host=\"+ creds.PGHOST +\" port=\"+ \"5432\" +\" dbname=\"+ creds.PGDATABASE +\" user=\" + creds.PGUSER \\\n",
    "                  +\" password=\"+ creds.PGPASSWORD\n",
    "\n",
    "    conn = psycopg2.connect(conn_string)\n",
    "    print(\"Connected!\")\n",
    "\n",
    "    # Create a cursor object\n",
    "    cursor = conn.cursor()\n",
    "\n",
    "    return conn, cursor"
   ],
   "metadata": {
    "collapsed": false,
    "pycharm": {
     "name": "#%%\n"
    }
   }
  },
  {
   "cell_type": "code",
   "execution_count": 24,
   "outputs": [
    {
     "name": "stdout",
     "output_type": "stream",
     "text": [
      "Connected!\n"
     ]
    },
    {
     "data": {
      "text/plain": "(<connection object at 0x000001CCD6076260; dsn: 'user=TeamX password=xxx dbname=postgres host=warehouserds.czuthh2ifupq.us-east-1.rds.amazonaws.com port=5432', closed: 0>,\n <cursor object at 0x000001CCD5C83C80; closed: 0>)"
     },
     "execution_count": 24,
     "metadata": {},
     "output_type": "execute_result"
    }
   ],
   "source": [
    "connect()"
   ],
   "metadata": {
    "collapsed": false,
    "pycharm": {
     "name": "#%%\n"
    }
   }
  },
  {
   "cell_type": "code",
   "execution_count": 25,
   "outputs": [],
   "source": [
    "# Create Table Grossregionen / Kantone\n",
    "\n",
    "def create_table_regions():\n",
    "    \"\"\" create tables in the PostgreSQL database\"\"\"\n",
    "    commands = (\n",
    "        \"\"\"\n",
    "        CREATE TABLE IF NOT EXISTS Regions_and_cantons (\n",
    "            Canton_abbreviation CHAR(2) PRIMARY KEY,\n",
    "            Canton_name VARCHAR(255) NOT NULL,\n",
    "            Region_name VARCHAR(255) NOT NULL\n",
    "            )\n",
    "        \"\"\",\n",
    "        \"\"\" INSERT INTO Regions_and_cantons(Canton_abbreviation, Canton_name, Region_name)\n",
    "            VALUES\n",
    "            ('GE', 'Geneva', 'Lake Geneva region'),\n",
    "            ('VD', 'Vaud', 'Lake Geneva region'),\n",
    "            ('VS', 'Valais', 'Lake Geneva region'),\n",
    "\n",
    "            ('BE','Bern', 'Espace Mitteland'),\n",
    "            ('SO', 'Solothurn', 'Espace Mitteland'),\n",
    "            ('FR', 'Fribourg', 'Espace Mitteland'),\n",
    "            ('NE', 'Neuchatel', 'Espace Mitteland'),\n",
    "            ('JU', 'Jura', 'Espace Mitteland'),\n",
    "\n",
    "            ('SG', 'St. Gallen', 'Eastern Switzerland'),\n",
    "            ('TG', 'Thurgau', 'Eastern Switzerland'),\n",
    "            ('AI', 'Appenzell Innerrhoden', 'Eastern Switzerland'),\n",
    "            ('AR', 'Appenzell Ausserrhoden', 'Eastern Switzerland'),\n",
    "            ('GL', 'Glarus', 'Eastern Switzerland'),\n",
    "            ('SH', 'Schaffhausen', 'Eastern Switzerland'),\n",
    "            ('GR', 'Graubünden', 'Eastern Switzerland'),\n",
    "\n",
    "            ('UR', 'Uri', 'Central Switzerland'),\n",
    "            ('SZ', 'Schwyz', 'Central Switzerland'),\n",
    "            ('OW', 'Obwalden', 'Central Switzerland'),\n",
    "            ('NW', 'Nidwalden', 'Central Switzerland'),\n",
    "            ('LU', 'Lucerne', 'Central Switzerland'),\n",
    "            ('ZG', 'Zug', 'Central Switzerland'),\n",
    "\n",
    "            ('BS', 'Basel-Stadt', 'Northwestern Switzerland'),\n",
    "            ('BL', 'Basel-Landschaft', 'Northwestern Switzerland'),\n",
    "            ('AG', 'Aargau', 'Northwestern Switzerland'),\n",
    "\n",
    "            ('ZH', 'Zurich', 'Zurich'),\n",
    "\n",
    "            ('TI', 'Ticino', 'Ticino')\n",
    "        \"\"\"\n",
    "    )\n",
    "    try:\n",
    "        # Set up a connection to the postgres server.\n",
    "        conn_string = \"host=\"+ creds.PGHOST +\" port=\"+ \"5432\" +\" dbname=\"+ creds.PGDATABASE +\" user=\" + creds.PGUSER \\\n",
    "                  +\" password=\"+ creds.PGPASSWORD\n",
    "\n",
    "        conn = psycopg2.connect(conn_string)\n",
    "        print(\"Connected!\")\n",
    "\n",
    "        # Create a cursor object\n",
    "        cursor = conn.cursor()\n",
    "        # Create tables\n",
    "        for command in commands:\n",
    "            cursor.execute(command)\n",
    "        print('Tables created')\n",
    "        # close communication with the PostgreSQL database server\n",
    "        cursor.close()\n",
    "        # commit the changes\n",
    "        conn.commit()\n",
    "    except (Exception, psycopg2.DatabaseError) as error:\n",
    "        print(error)\n",
    "    finally:\n",
    "        if conn is not None:\n",
    "            conn.close()"
   ],
   "metadata": {
    "collapsed": false,
    "pycharm": {
     "name": "#%%\n"
    }
   }
  },
  {
   "cell_type": "code",
   "execution_count": 26,
   "outputs": [
    {
     "name": "stdout",
     "output_type": "stream",
     "text": [
      "Connected!\n",
      "Tables created\n"
     ]
    }
   ],
   "source": [
    "create_table_regions()"
   ],
   "metadata": {
    "collapsed": false,
    "pycharm": {
     "name": "#%%\n"
    }
   }
  },
  {
   "cell_type": "code",
   "execution_count": 27,
   "outputs": [],
   "source": [
    "# Dict Grossregionen\n",
    "regions_dict =  {'Lake Geneva region' : {'GE' : 'Geneva' , 'VD' : 'Vaud', 'VS' : 'Valais'}, \\\n",
    "                 'Espace Mitteland' : {'BE' : 'Bern', 'SO' : 'Solothurn', 'FR' : 'Fribourg',\n",
    "                                       'NE' : 'Neuchatel', 'JU' : 'Jura'}, \\\n",
    "                 'Eastern Switzerland' : {'SG' : 'St. Gallen', 'TG' : 'Thurgau',\n",
    "                                          'AI' : 'Appenzell Innerrhoden', 'AR' : 'Appenzell Ausserrhoden',\n",
    "                                          'GL' : 'Glarus', 'SH' : 'Schaffhausen', 'GR' : 'Graubünden'}, \\\n",
    "                 'Zurich' : {'ZH' : 'Zurich'}, \\\n",
    "                 'Central Switzerland' : {'UR' : 'Uri', 'SZ' : 'Schwyz', 'OW' : 'Obwalden',\n",
    "                                          'NW' : 'Nidwalden', 'LU' : 'Lucerne', 'ZG' : 'Zug'}, \\\n",
    "                 'Northwestern Switzerland' : {'BS' : 'Basel-Stadt', 'BL' : 'Basel-Landschaft',\n",
    "                                               'AG' : 'Aargau'}, \\\n",
    "                 'Ticino' : {'TI' : 'Ticino'}}"
   ],
   "metadata": {
    "collapsed": false,
    "pycharm": {
     "name": "#%%\n"
    }
   }
  },
  {
   "cell_type": "code",
   "execution_count": 28,
   "outputs": [
    {
     "name": "stdout",
     "output_type": "stream",
     "text": [
      "<class 'pandas.core.frame.DataFrame'>\n",
      "RangeIndex: 3488 entries, 0 to 3487\n",
      "Data columns (total 2 columns):\n",
      " #   Column               Non-Null Count  Dtype \n",
      "---  ------               --------------  ----- \n",
      " 0   postal_code          3488 non-null   int64 \n",
      " 1   canton_abbreviation  3488 non-null   object\n",
      "dtypes: int64(1), object(1)\n",
      "memory usage: 54.6+ KB\n",
      "None\n",
      "Empty DataFrame\n",
      "Columns: [postal_code, canton_abbreviation]\n",
      "Index: []\n"
     ]
    },
    {
     "data": {
      "text/plain": "      postal_code canton_abbreviation\n0            5303                  AG\n1            6452                  UR\n2            8301                  ZH\n3            8707                  ZH\n4            6928                  TI\n...           ...                 ...\n3483         6122                  LU\n3484         6110                  LU\n3485         8766                  GL\n3486         3076                  BE\n3487         1071                  VD\n\n[3488 rows x 2 columns]",
      "text/html": "<div>\n<style scoped>\n    .dataframe tbody tr th:only-of-type {\n        vertical-align: middle;\n    }\n\n    .dataframe tbody tr th {\n        vertical-align: top;\n    }\n\n    .dataframe thead th {\n        text-align: right;\n    }\n</style>\n<table border=\"1\" class=\"dataframe\">\n  <thead>\n    <tr style=\"text-align: right;\">\n      <th></th>\n      <th>postal_code</th>\n      <th>canton_abbreviation</th>\n    </tr>\n  </thead>\n  <tbody>\n    <tr>\n      <th>0</th>\n      <td>5303</td>\n      <td>AG</td>\n    </tr>\n    <tr>\n      <th>1</th>\n      <td>6452</td>\n      <td>UR</td>\n    </tr>\n    <tr>\n      <th>2</th>\n      <td>8301</td>\n      <td>ZH</td>\n    </tr>\n    <tr>\n      <th>3</th>\n      <td>8707</td>\n      <td>ZH</td>\n    </tr>\n    <tr>\n      <th>4</th>\n      <td>6928</td>\n      <td>TI</td>\n    </tr>\n    <tr>\n      <th>...</th>\n      <td>...</td>\n      <td>...</td>\n    </tr>\n    <tr>\n      <th>3483</th>\n      <td>6122</td>\n      <td>LU</td>\n    </tr>\n    <tr>\n      <th>3484</th>\n      <td>6110</td>\n      <td>LU</td>\n    </tr>\n    <tr>\n      <th>3485</th>\n      <td>8766</td>\n      <td>GL</td>\n    </tr>\n    <tr>\n      <th>3486</th>\n      <td>3076</td>\n      <td>BE</td>\n    </tr>\n    <tr>\n      <th>3487</th>\n      <td>1071</td>\n      <td>VD</td>\n    </tr>\n  </tbody>\n</table>\n<p>3488 rows × 2 columns</p>\n</div>"
     },
     "execution_count": 28,
     "metadata": {},
     "output_type": "execute_result"
    }
   ],
   "source": [
    "# Fetch Table plz\n",
    "\n",
    "def fetch_data_plz():\n",
    "    try:\n",
    "        # DB connection\n",
    "        conn_string = \"host=\"+ creds_lake.PGHOST +\" port=\"+ \"5432\" +\" dbname=\"+ creds_lake.PGDATABASE +\" user=\" + creds_lake.PGUSER +\" password=\"+ creds_lake.PGPASSWORD\n",
    "        conn = psycopg2.connect(conn_string)\n",
    "        cur = conn.cursor()\n",
    "        # Select data\n",
    "        cur.execute(\"\"\" SELECT DISTINCT postleitzahl, kanton FROM public.\"ZIPCode\" where kanton not in ('FL', 'DE', 'IT')\"\"\") # plz can occur twice with different cantons\n",
    "        # cur.execute(\"\"\" SELECT DISTINCT postleitzahl, kanton FROM public.\"ZIPCode\" where kanton not in ('FL', 'DE', 'IT') GROUP BY postleitzahl, kanton HAVING COUNT(postleitzahl) = 1;\"\"\")\n",
    "        df_records = cur.fetchall()\n",
    "        df = pd.DataFrame(df_records, columns = ['postal_code', 'canton_abbreviation'])\n",
    "        print(df.info())\n",
    "        print(df[df.duplicated()==True]) # check for duplicates\n",
    "        #df.drop_duplicates(subset=['postalcode'], keep='last', inplace=True)\n",
    "        return df\n",
    "\n",
    "    except (Exception, psycopg2.DatabaseError) as error:\n",
    "        print(error)\n",
    "\n",
    "    finally:\n",
    "        if conn is not None:\n",
    "            conn.close()\n",
    "\n",
    "fetch_data_plz()"
   ],
   "metadata": {
    "collapsed": false,
    "pycharm": {
     "name": "#%%\n"
    }
   }
  },
  {
   "cell_type": "code",
   "execution_count": 28,
   "outputs": [],
   "source": [],
   "metadata": {
    "collapsed": false,
    "pycharm": {
     "name": "#%%\n"
    }
   }
  },
  {
   "cell_type": "code",
   "execution_count": 29,
   "outputs": [],
   "source": [
    "# Inserting dataframe into database\n",
    "def execute_values(conn, df, table):\n",
    "    tuples = [tuple(x) for x in df.to_numpy()]\n",
    "    cols = ','.join(list(df.columns))\n",
    "    # SQL query to execute\n",
    "    query = \"INSERT INTO %s(%s) VALUES %%s\" % (table, cols)\n",
    "    cur = conn.cursor()\n",
    "    try:\n",
    "        extras.execute_values(cur, query, tuples)\n",
    "        conn.commit()\n",
    "    except (Exception, psycopg2.DatabaseError) as error:\n",
    "        print(\"Error: %s\" % error)\n",
    "        conn.rollback()\n",
    "        cur.close()\n",
    "        return 1\n",
    "    print(\"the dataframe is inserted\")\n",
    "    cur.close()"
   ],
   "metadata": {
    "collapsed": false,
    "pycharm": {
     "name": "#%%\n"
    }
   }
  },
  {
   "cell_type": "code",
   "execution_count": 30,
   "outputs": [
    {
     "name": "stdout",
     "output_type": "stream",
     "text": [
      "Connected!\n",
      "Tables created\n",
      "<class 'pandas.core.frame.DataFrame'>\n",
      "RangeIndex: 3488 entries, 0 to 3487\n",
      "Data columns (total 2 columns):\n",
      " #   Column               Non-Null Count  Dtype \n",
      "---  ------               --------------  ----- \n",
      " 0   postal_code          3488 non-null   int64 \n",
      " 1   canton_abbreviation  3488 non-null   object\n",
      "dtypes: int64(1), object(1)\n",
      "memory usage: 54.6+ KB\n",
      "None\n",
      "Empty DataFrame\n",
      "Columns: [postal_code, canton_abbreviation]\n",
      "Index: []\n",
      "the dataframe is inserted\n"
     ]
    }
   ],
   "source": [
    "def create_table_plz():\n",
    "    \"\"\" create tables in the PostgreSQL database\"\"\"\n",
    "    commands = (\n",
    "        \"\"\"\n",
    "        CREATE TABLE IF NOT EXISTS Postal_codes (\n",
    "            ID_postal_code SERIAL PRIMARY KEY,\n",
    "            Postal_code INT NOT NULL,\n",
    "            Canton_abbreviation CHAR(2) NOT NULL,\n",
    "            FOREIGN KEY (Canton_abbreviation) REFERENCES regions_and_cantons(canton_abbreviation))\n",
    "        \"\"\"\n",
    "    )\n",
    "\n",
    "    #  PRIMARY KEY (Postal_code)\n",
    "\n",
    "    try:\n",
    "        # Set up a connection to the postgres server.\n",
    "        conn_string = \"host=\"+ creds.PGHOST +\" port=\"+ \"5432\" +\" dbname=\"+ creds.PGDATABASE +\" user=\" + creds.PGUSER \\\n",
    "                  +\" password=\"+ creds.PGPASSWORD\n",
    "\n",
    "        conn = psycopg2.connect(conn_string)\n",
    "        print(\"Connected!\")\n",
    "\n",
    "        # Create a cursor object\n",
    "        cursor = conn.cursor()\n",
    "\n",
    "        # Create tables\n",
    "        #for command in commands:\n",
    "        cursor.execute(commands)\n",
    "        print('Tables created')\n",
    "\n",
    "        # Import data from dataframe\n",
    "        execute_values(conn, fetch_data_plz(), 'Postal_codes')\n",
    "\n",
    "        # close communication with the PostgreSQL database server\n",
    "        cursor.close()\n",
    "        # commit the changes\n",
    "        conn.commit()\n",
    "    except (Exception, psycopg2.DatabaseError) as error:\n",
    "        print(error)\n",
    "    finally:\n",
    "        if conn is not None:\n",
    "            conn.close()\n",
    "\n",
    "create_table_plz()"
   ],
   "metadata": {
    "collapsed": false,
    "pycharm": {
     "name": "#%%\n"
    }
   }
  },
  {
   "cell_type": "code",
   "execution_count": 30,
   "outputs": [],
   "source": [],
   "metadata": {
    "collapsed": false,
    "pycharm": {
     "name": "#%%\n"
    }
   }
  },
  {
   "cell_type": "code",
   "execution_count": 30,
   "outputs": [],
   "source": [],
   "metadata": {
    "collapsed": false,
    "pycharm": {
     "name": "#%%\n"
    }
   }
  },
  {
   "cell_type": "code",
   "execution_count": 30,
   "outputs": [],
   "source": [],
   "metadata": {
    "collapsed": false,
    "pycharm": {
     "name": "#%%\n"
    }
   }
  },
  {
   "cell_type": "code",
   "execution_count": 30,
   "outputs": [],
   "source": [],
   "metadata": {
    "collapsed": false,
    "pycharm": {
     "name": "#%%\n"
    }
   }
  }
 ],
 "metadata": {
  "kernelspec": {
   "display_name": "Python 3",
   "language": "python",
   "name": "python3"
  },
  "language_info": {
   "codemirror_mode": {
    "name": "ipython",
    "version": 2
   },
   "file_extension": ".py",
   "mimetype": "text/x-python",
   "name": "python",
   "nbconvert_exporter": "python",
   "pygments_lexer": "ipython2",
   "version": "2.7.6"
  }
 },
 "nbformat": 4,
 "nbformat_minor": 0
}